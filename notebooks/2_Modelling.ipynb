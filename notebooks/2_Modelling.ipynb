{
 "cells": [
  {
   "cell_type": "markdown",
   "metadata": {},
   "source": [
    "## Modelling"
   ]
  },
  {
   "cell_type": "markdown",
   "metadata": {},
   "source": [
    "**using this there is no need to reload your packages every time when you will make any improvement to them**"
   ]
  },
  {
   "cell_type": "code",
   "execution_count": 1,
   "metadata": {},
   "outputs": [],
   "source": [
    "%load_ext autoreload"
   ]
  },
  {
   "cell_type": "code",
   "execution_count": 2,
   "metadata": {},
   "outputs": [],
   "source": [
    "autoreload 2"
   ]
  },
  {
   "cell_type": "markdown",
   "metadata": {},
   "source": [
    "**import necessary libraries**"
   ]
  },
  {
   "cell_type": "code",
   "execution_count": 3,
   "metadata": {},
   "outputs": [],
   "source": [
    "import matplotlib.pyplot as plt\n",
    "import numpy as np\n",
    "import pandas as pd \n",
    "import sys\n",
    "import warnings"
   ]
  },
  {
   "cell_type": "markdown",
   "metadata": {},
   "source": [
    "**set warnings options**"
   ]
  },
  {
   "cell_type": "code",
   "execution_count": 4,
   "metadata": {},
   "outputs": [],
   "source": [
    "warnings.filterwarnings('ignore')"
   ]
  },
  {
   "cell_type": "markdown",
   "metadata": {},
   "source": [
    "#### to have ease in importing modules"
   ]
  },
  {
   "cell_type": "code",
   "execution_count": 5,
   "metadata": {},
   "outputs": [],
   "source": [
    "sys.path.insert(0, '/Users/mjasiecz/PycharmProjects/new_offer_success_predictor/src')"
   ]
  },
  {
   "cell_type": "markdown",
   "metadata": {},
   "source": [
    "**set pandas options**"
   ]
  },
  {
   "cell_type": "code",
   "execution_count": 6,
   "metadata": {},
   "outputs": [],
   "source": [
    "pd.options.display.max_rows = None\n",
    "pd.options.display.max_columns = None\n",
    "pd.options.display.max_colwidth = 200"
   ]
  },
  {
   "cell_type": "markdown",
   "metadata": {},
   "source": [
    "**balancing dataset**"
   ]
  },
  {
   "cell_type": "code",
   "execution_count": 7,
   "metadata": {},
   "outputs": [],
   "source": [
    "# from imblearn.over_sampling import SMOTE\n",
    "# from imblearn.combine import SMOTEENN"
   ]
  },
  {
   "cell_type": "markdown",
   "metadata": {},
   "source": [
    "**import packages for manage and preprocess data**"
   ]
  },
  {
   "cell_type": "code",
   "execution_count": 8,
   "metadata": {},
   "outputs": [
    {
     "name": "stderr",
     "output_type": "stream",
     "text": [
      "Using TensorFlow backend.\n"
     ]
    }
   ],
   "source": [
    "from data.data_manager import DataManager\n",
    "from data.data_processor import DataProcessor, TestDataProcessor\n",
    "from ml_preprocessing.categorical_encoders import LeaveOneOutEncoder\n",
    "from ml_preprocessing.encoding_helpers import LOOGridSearchCV"
   ]
  },
  {
   "cell_type": "markdown",
   "metadata": {},
   "source": [
    "**import scores function**"
   ]
  },
  {
   "cell_type": "code",
   "execution_count": 9,
   "metadata": {},
   "outputs": [],
   "source": [
    "from utils.scores_function import scores_function"
   ]
  },
  {
   "cell_type": "markdown",
   "metadata": {},
   "source": [
    "**load data pipeline**"
   ]
  },
  {
   "cell_type": "code",
   "execution_count": 10,
   "metadata": {},
   "outputs": [],
   "source": [
    "DM = DataManager()\n",
    "train_df, test_df = DM.load_train_test()"
   ]
  },
  {
   "cell_type": "markdown",
   "metadata": {},
   "source": [
    "**ml data preprocessing**"
   ]
  },
  {
   "cell_type": "code",
   "execution_count": 11,
   "metadata": {},
   "outputs": [
    {
     "name": "stdout",
     "output_type": "stream",
     "text": [
      "Imputing row 1/1031 with 1 missing, elapsed time: 0.248\n",
      "Imputing row 1/1289 with 0 missing, elapsed time: 0.375\n",
      "Imputing row 1033/1289 with 0 missing, elapsed time: 0.377\n"
     ]
    }
   ],
   "source": [
    "DP = DataProcessor(train_df=train_df)\n",
    "processed_train_df = DP.perform_initial_features_engineering()\n",
    "TDP = TestDataProcessor(not_processed_train_df=train_df,\n",
    "                        processed_train_df=processed_train_df,\n",
    "                        test_df=test_df,\n",
    "                        sneaky_peaky=True)\n",
    "processed_test_df = TDP.perform_initial_features_engineering()"
   ]
  },
  {
   "cell_type": "code",
   "execution_count": 12,
   "metadata": {},
   "outputs": [
    {
     "data": {
      "text/html": [
       "<div>\n",
       "<style scoped>\n",
       "    .dataframe tbody tr th:only-of-type {\n",
       "        vertical-align: middle;\n",
       "    }\n",
       "\n",
       "    .dataframe tbody tr th {\n",
       "        vertical-align: top;\n",
       "    }\n",
       "\n",
       "    .dataframe thead th {\n",
       "        text-align: right;\n",
       "    }\n",
       "</style>\n",
       "<table border=\"1\" class=\"dataframe\">\n",
       "  <thead>\n",
       "    <tr style=\"text-align: right;\">\n",
       "      <th></th>\n",
       "      <th>cc_len</th>\n",
       "      <th>cc_startswith</th>\n",
       "      <th>log_salary</th>\n",
       "      <th>log_age_knn</th>\n",
       "      <th>log_estimated_expenses_knn</th>\n",
       "      <th>log_offer_value_knn</th>\n",
       "      <th>scaled_salary</th>\n",
       "      <th>scaled_age_knn</th>\n",
       "      <th>scaled_estimated_expenses_knn</th>\n",
       "      <th>scaled_offer_value_knn</th>\n",
       "      <th>nan_age</th>\n",
       "      <th>not_nan_age</th>\n",
       "      <th>target</th>\n",
       "      <th>offer_class</th>\n",
       "      <th>gender</th>\n",
       "      <th>age</th>\n",
       "      <th>phone_calls</th>\n",
       "      <th>emails</th>\n",
       "      <th>salary</th>\n",
       "      <th>customer_type</th>\n",
       "      <th>center</th>\n",
       "      <th>age_knn</th>\n",
       "      <th>estimated_expenses_knn</th>\n",
       "      <th>offer_value_knn</th>\n",
       "    </tr>\n",
       "    <tr>\n",
       "      <th>name</th>\n",
       "      <th></th>\n",
       "      <th></th>\n",
       "      <th></th>\n",
       "      <th></th>\n",
       "      <th></th>\n",
       "      <th></th>\n",
       "      <th></th>\n",
       "      <th></th>\n",
       "      <th></th>\n",
       "      <th></th>\n",
       "      <th></th>\n",
       "      <th></th>\n",
       "      <th></th>\n",
       "      <th></th>\n",
       "      <th></th>\n",
       "      <th></th>\n",
       "      <th></th>\n",
       "      <th></th>\n",
       "      <th></th>\n",
       "      <th></th>\n",
       "      <th></th>\n",
       "      <th></th>\n",
       "      <th></th>\n",
       "      <th></th>\n",
       "    </tr>\n",
       "  </thead>\n",
       "  <tbody>\n",
       "    <tr>\n",
       "      <th>8550AB469CB2445</th>\n",
       "      <td>ELSE</td>\n",
       "      <td>ELSE</td>\n",
       "      <td>7.329474</td>\n",
       "      <td>3.401259</td>\n",
       "      <td>8.882808</td>\n",
       "      <td>5.716940</td>\n",
       "      <td>-0.345530</td>\n",
       "      <td>-0.297159</td>\n",
       "      <td>1.362250</td>\n",
       "      <td>3.035567</td>\n",
       "      <td>True</td>\n",
       "      <td>False</td>\n",
       "      <td>False</td>\n",
       "      <td>Premium</td>\n",
       "      <td>female</td>\n",
       "      <td>NaN</td>\n",
       "      <td>1</td>\n",
       "      <td>2</td>\n",
       "      <td>1524.58</td>\n",
       "      <td>C</td>\n",
       "      <td>B</td>\n",
       "      <td>30.001848</td>\n",
       "      <td>7207.0</td>\n",
       "      <td>303.973257</td>\n",
       "    </tr>\n",
       "    <tr>\n",
       "      <th>07355EE27DD1493</th>\n",
       "      <td>ELSE</td>\n",
       "      <td>ELSE</td>\n",
       "      <td>7.170120</td>\n",
       "      <td>3.465736</td>\n",
       "      <td>8.209308</td>\n",
       "      <td>4.160055</td>\n",
       "      <td>-0.389281</td>\n",
       "      <td>-0.111655</td>\n",
       "      <td>-0.492006</td>\n",
       "      <td>-1.109564</td>\n",
       "      <td>False</td>\n",
       "      <td>True</td>\n",
       "      <td>False</td>\n",
       "      <td>High</td>\n",
       "      <td>male</td>\n",
       "      <td>32.0</td>\n",
       "      <td>0</td>\n",
       "      <td>0</td>\n",
       "      <td>1300.00</td>\n",
       "      <td>S</td>\n",
       "      <td>A</td>\n",
       "      <td>32.000000</td>\n",
       "      <td>3675.0</td>\n",
       "      <td>64.075055</td>\n",
       "    </tr>\n",
       "    <tr>\n",
       "      <th>034E73A251554F0</th>\n",
       "      <td>ELSE</td>\n",
       "      <td>ELSE</td>\n",
       "      <td>7.346010</td>\n",
       "      <td>3.177471</td>\n",
       "      <td>8.465900</td>\n",
       "      <td>4.687503</td>\n",
       "      <td>-0.340578</td>\n",
       "      <td>-0.855654</td>\n",
       "      <td>0.072355</td>\n",
       "      <td>-0.340546</td>\n",
       "      <td>True</td>\n",
       "      <td>False</td>\n",
       "      <td>True</td>\n",
       "      <td>Premium</td>\n",
       "      <td>female</td>\n",
       "      <td>NaN</td>\n",
       "      <td>1</td>\n",
       "      <td>1</td>\n",
       "      <td>1550.00</td>\n",
       "      <td>Q</td>\n",
       "      <td>B</td>\n",
       "      <td>23.986022</td>\n",
       "      <td>4750.0</td>\n",
       "      <td>108.581750</td>\n",
       "    </tr>\n",
       "    <tr>\n",
       "      <th>0AF961B4AC7A439</th>\n",
       "      <td>ELSE</td>\n",
       "      <td>ELSE</td>\n",
       "      <td>6.583299</td>\n",
       "      <td>3.323884</td>\n",
       "      <td>7.244942</td>\n",
       "      <td>5.046620</td>\n",
       "      <td>-0.501704</td>\n",
       "      <td>-0.504546</td>\n",
       "      <td>-1.685828</td>\n",
       "      <td>0.470071</td>\n",
       "      <td>True</td>\n",
       "      <td>False</td>\n",
       "      <td>False</td>\n",
       "      <td>Premium</td>\n",
       "      <td>male</td>\n",
       "      <td>NaN</td>\n",
       "      <td>0</td>\n",
       "      <td>1</td>\n",
       "      <td>722.92</td>\n",
       "      <td>C</td>\n",
       "      <td>A</td>\n",
       "      <td>27.767979</td>\n",
       "      <td>1401.0</td>\n",
       "      <td>155.495957</td>\n",
       "    </tr>\n",
       "    <tr>\n",
       "      <th>8535BBCA690A4AE</th>\n",
       "      <td>ELSE</td>\n",
       "      <td>ELSE</td>\n",
       "      <td>8.639336</td>\n",
       "      <td>3.405772</td>\n",
       "      <td>7.652546</td>\n",
       "      <td>4.798852</td>\n",
       "      <td>0.458072</td>\n",
       "      <td>-0.284561</td>\n",
       "      <td>-1.315712</td>\n",
       "      <td>-0.119564</td>\n",
       "      <td>True</td>\n",
       "      <td>False</td>\n",
       "      <td>True</td>\n",
       "      <td>Premium</td>\n",
       "      <td>male</td>\n",
       "      <td>NaN</td>\n",
       "      <td>0</td>\n",
       "      <td>1</td>\n",
       "      <td>5649.58</td>\n",
       "      <td>S</td>\n",
       "      <td>B</td>\n",
       "      <td>30.137541</td>\n",
       "      <td>2106.0</td>\n",
       "      <td>121.371033</td>\n",
       "    </tr>\n",
       "  </tbody>\n",
       "</table>\n",
       "</div>"
      ],
      "text/plain": [
       "                cc_len cc_startswith  log_salary  log_age_knn  \\\n",
       "name                                                            \n",
       "8550AB469CB2445   ELSE          ELSE    7.329474     3.401259   \n",
       "07355EE27DD1493   ELSE          ELSE    7.170120     3.465736   \n",
       "034E73A251554F0   ELSE          ELSE    7.346010     3.177471   \n",
       "0AF961B4AC7A439   ELSE          ELSE    6.583299     3.323884   \n",
       "8535BBCA690A4AE   ELSE          ELSE    8.639336     3.405772   \n",
       "\n",
       "                 log_estimated_expenses_knn  log_offer_value_knn  \\\n",
       "name                                                               \n",
       "8550AB469CB2445                    8.882808             5.716940   \n",
       "07355EE27DD1493                    8.209308             4.160055   \n",
       "034E73A251554F0                    8.465900             4.687503   \n",
       "0AF961B4AC7A439                    7.244942             5.046620   \n",
       "8535BBCA690A4AE                    7.652546             4.798852   \n",
       "\n",
       "                 scaled_salary  scaled_age_knn  scaled_estimated_expenses_knn  \\\n",
       "name                                                                            \n",
       "8550AB469CB2445      -0.345530       -0.297159                       1.362250   \n",
       "07355EE27DD1493      -0.389281       -0.111655                      -0.492006   \n",
       "034E73A251554F0      -0.340578       -0.855654                       0.072355   \n",
       "0AF961B4AC7A439      -0.501704       -0.504546                      -1.685828   \n",
       "8535BBCA690A4AE       0.458072       -0.284561                      -1.315712   \n",
       "\n",
       "                 scaled_offer_value_knn  nan_age  not_nan_age  target  \\\n",
       "name                                                                    \n",
       "8550AB469CB2445                3.035567     True        False   False   \n",
       "07355EE27DD1493               -1.109564    False         True   False   \n",
       "034E73A251554F0               -0.340546     True        False    True   \n",
       "0AF961B4AC7A439                0.470071     True        False   False   \n",
       "8535BBCA690A4AE               -0.119564     True        False    True   \n",
       "\n",
       "                offer_class  gender   age phone_calls emails   salary  \\\n",
       "name                                                                    \n",
       "8550AB469CB2445     Premium  female   NaN           1      2  1524.58   \n",
       "07355EE27DD1493        High    male  32.0           0      0  1300.00   \n",
       "034E73A251554F0     Premium  female   NaN           1      1  1550.00   \n",
       "0AF961B4AC7A439     Premium    male   NaN           0      1   722.92   \n",
       "8535BBCA690A4AE     Premium    male   NaN           0      1  5649.58   \n",
       "\n",
       "                customer_type center    age_knn  estimated_expenses_knn  \\\n",
       "name                                                                      \n",
       "8550AB469CB2445             C      B  30.001848                  7207.0   \n",
       "07355EE27DD1493             S      A  32.000000                  3675.0   \n",
       "034E73A251554F0             Q      B  23.986022                  4750.0   \n",
       "0AF961B4AC7A439             C      A  27.767979                  1401.0   \n",
       "8535BBCA690A4AE             S      B  30.137541                  2106.0   \n",
       "\n",
       "                 offer_value_knn  \n",
       "name                              \n",
       "8550AB469CB2445       303.973257  \n",
       "07355EE27DD1493        64.075055  \n",
       "034E73A251554F0       108.581750  \n",
       "0AF961B4AC7A439       155.495957  \n",
       "8535BBCA690A4AE       121.371033  "
      ]
     },
     "execution_count": 12,
     "metadata": {},
     "output_type": "execute_result"
    }
   ],
   "source": [
    "processed_train_df.head()"
   ]
  },
  {
   "cell_type": "code",
   "execution_count": 13,
   "metadata": {},
   "outputs": [
    {
     "data": {
      "text/html": [
       "<div>\n",
       "<style scoped>\n",
       "    .dataframe tbody tr th:only-of-type {\n",
       "        vertical-align: middle;\n",
       "    }\n",
       "\n",
       "    .dataframe tbody tr th {\n",
       "        vertical-align: top;\n",
       "    }\n",
       "\n",
       "    .dataframe thead th {\n",
       "        text-align: right;\n",
       "    }\n",
       "</style>\n",
       "<table border=\"1\" class=\"dataframe\">\n",
       "  <thead>\n",
       "    <tr style=\"text-align: right;\">\n",
       "      <th></th>\n",
       "      <th>cc_len</th>\n",
       "      <th>cc_startswith</th>\n",
       "      <th>log_salary</th>\n",
       "      <th>log_age_knn</th>\n",
       "      <th>log_estimated_expenses_knn</th>\n",
       "      <th>log_offer_value_knn</th>\n",
       "      <th>scaled_salary</th>\n",
       "      <th>scaled_age_knn</th>\n",
       "      <th>scaled_estimated_expenses_knn</th>\n",
       "      <th>scaled_offer_value_knn</th>\n",
       "      <th>nan_age</th>\n",
       "      <th>not_nan_age</th>\n",
       "      <th>target</th>\n",
       "      <th>age</th>\n",
       "      <th>center</th>\n",
       "      <th>customer_type</th>\n",
       "      <th>emails</th>\n",
       "      <th>gender</th>\n",
       "      <th>offer_class</th>\n",
       "      <th>phone_calls</th>\n",
       "      <th>salary</th>\n",
       "      <th>age_knn</th>\n",
       "      <th>estimated_expenses_knn</th>\n",
       "      <th>offer_value_knn</th>\n",
       "    </tr>\n",
       "    <tr>\n",
       "      <th>name</th>\n",
       "      <th></th>\n",
       "      <th></th>\n",
       "      <th></th>\n",
       "      <th></th>\n",
       "      <th></th>\n",
       "      <th></th>\n",
       "      <th></th>\n",
       "      <th></th>\n",
       "      <th></th>\n",
       "      <th></th>\n",
       "      <th></th>\n",
       "      <th></th>\n",
       "      <th></th>\n",
       "      <th></th>\n",
       "      <th></th>\n",
       "      <th></th>\n",
       "      <th></th>\n",
       "      <th></th>\n",
       "      <th></th>\n",
       "      <th></th>\n",
       "      <th></th>\n",
       "      <th></th>\n",
       "      <th></th>\n",
       "      <th></th>\n",
       "    </tr>\n",
       "  </thead>\n",
       "  <tbody>\n",
       "    <tr>\n",
       "      <th>DA3BAEB8BF604EB</th>\n",
       "      <td>ELSE</td>\n",
       "      <td>ELSE</td>\n",
       "      <td>6.594755</td>\n",
       "      <td>3.489576</td>\n",
       "      <td>8.940891</td>\n",
       "      <td>4.963600</td>\n",
       "      <td>-0.501839</td>\n",
       "      <td>-0.035049</td>\n",
       "      <td>1.603528</td>\n",
       "      <td>0.246935</td>\n",
       "      <td>True</td>\n",
       "      <td>False</td>\n",
       "      <td>False</td>\n",
       "      <td>NaN</td>\n",
       "      <td>A</td>\n",
       "      <td>S</td>\n",
       "      <td>1</td>\n",
       "      <td>male</td>\n",
       "      <td>Premium</td>\n",
       "      <td>0</td>\n",
       "      <td>731.25</td>\n",
       "      <td>32.772049</td>\n",
       "      <td>7638.0</td>\n",
       "      <td>143.108044</td>\n",
       "    </tr>\n",
       "    <tr>\n",
       "      <th>AEF3DE08DFED4E0</th>\n",
       "      <td>ELSE</td>\n",
       "      <td>ELSE</td>\n",
       "      <td>6.656084</td>\n",
       "      <td>3.433987</td>\n",
       "      <td>8.662851</td>\n",
       "      <td>4.153202</td>\n",
       "      <td>-0.492946</td>\n",
       "      <td>-0.197055</td>\n",
       "      <td>0.631794</td>\n",
       "      <td>-1.130746</td>\n",
       "      <td>False</td>\n",
       "      <td>True</td>\n",
       "      <td>False</td>\n",
       "      <td>31.0</td>\n",
       "      <td>A</td>\n",
       "      <td>S</td>\n",
       "      <td>0</td>\n",
       "      <td>male</td>\n",
       "      <td>Premium</td>\n",
       "      <td>0</td>\n",
       "      <td>777.50</td>\n",
       "      <td>31.000000</td>\n",
       "      <td>5784.0</td>\n",
       "      <td>63.637416</td>\n",
       "    </tr>\n",
       "    <tr>\n",
       "      <th>B621BB29484E46D</th>\n",
       "      <td>ELSE</td>\n",
       "      <td>ELSE</td>\n",
       "      <td>6.671501</td>\n",
       "      <td>3.218876</td>\n",
       "      <td>8.434898</td>\n",
       "      <td>5.348081</td>\n",
       "      <td>-0.490623</td>\n",
       "      <td>-0.745594</td>\n",
       "      <td>0.013846</td>\n",
       "      <td>1.410101</td>\n",
       "      <td>False</td>\n",
       "      <td>True</td>\n",
       "      <td>False</td>\n",
       "      <td>25.0</td>\n",
       "      <td>B</td>\n",
       "      <td>S</td>\n",
       "      <td>1</td>\n",
       "      <td>male</td>\n",
       "      <td>Premium</td>\n",
       "      <td>0</td>\n",
       "      <td>789.58</td>\n",
       "      <td>25.000000</td>\n",
       "      <td>4605.0</td>\n",
       "      <td>210.204552</td>\n",
       "    </tr>\n",
       "    <tr>\n",
       "      <th>2D0945802F92423</th>\n",
       "      <td>ELSE</td>\n",
       "      <td>ELSE</td>\n",
       "      <td>6.514713</td>\n",
       "      <td>2.890372</td>\n",
       "      <td>8.402680</td>\n",
       "      <td>4.876044</td>\n",
       "      <td>-0.512654</td>\n",
       "      <td>-1.385557</td>\n",
       "      <td>-0.062677</td>\n",
       "      <td>0.038956</td>\n",
       "      <td>False</td>\n",
       "      <td>True</td>\n",
       "      <td>False</td>\n",
       "      <td>18.0</td>\n",
       "      <td>B</td>\n",
       "      <td>Q</td>\n",
       "      <td>1</td>\n",
       "      <td>female</td>\n",
       "      <td>Premium</td>\n",
       "      <td>0</td>\n",
       "      <td>675.00</td>\n",
       "      <td>18.000000</td>\n",
       "      <td>4459.0</td>\n",
       "      <td>131.110924</td>\n",
       "    </tr>\n",
       "    <tr>\n",
       "      <th>640ABFC7E49B403</th>\n",
       "      <td>58</td>\n",
       "      <td>ELSE</td>\n",
       "      <td>8.029296</td>\n",
       "      <td>4.025352</td>\n",
       "      <td>8.388450</td>\n",
       "      <td>5.193064</td>\n",
       "      <td>-0.052226</td>\n",
       "      <td>2.088525</td>\n",
       "      <td>-0.095697</td>\n",
       "      <td>0.886816</td>\n",
       "      <td>False</td>\n",
       "      <td>True</td>\n",
       "      <td>False</td>\n",
       "      <td>56.0</td>\n",
       "      <td>B</td>\n",
       "      <td>C</td>\n",
       "      <td>1</td>\n",
       "      <td>male</td>\n",
       "      <td>Medium</td>\n",
       "      <td>0</td>\n",
       "      <td>3069.58</td>\n",
       "      <td>56.000000</td>\n",
       "      <td>4396.0</td>\n",
       "      <td>180.019199</td>\n",
       "    </tr>\n",
       "  </tbody>\n",
       "</table>\n",
       "</div>"
      ],
      "text/plain": [
       "                cc_len cc_startswith  log_salary  log_age_knn  \\\n",
       "name                                                            \n",
       "DA3BAEB8BF604EB   ELSE          ELSE    6.594755     3.489576   \n",
       "AEF3DE08DFED4E0   ELSE          ELSE    6.656084     3.433987   \n",
       "B621BB29484E46D   ELSE          ELSE    6.671501     3.218876   \n",
       "2D0945802F92423   ELSE          ELSE    6.514713     2.890372   \n",
       "640ABFC7E49B403     58          ELSE    8.029296     4.025352   \n",
       "\n",
       "                 log_estimated_expenses_knn  log_offer_value_knn  \\\n",
       "name                                                               \n",
       "DA3BAEB8BF604EB                    8.940891             4.963600   \n",
       "AEF3DE08DFED4E0                    8.662851             4.153202   \n",
       "B621BB29484E46D                    8.434898             5.348081   \n",
       "2D0945802F92423                    8.402680             4.876044   \n",
       "640ABFC7E49B403                    8.388450             5.193064   \n",
       "\n",
       "                 scaled_salary  scaled_age_knn  scaled_estimated_expenses_knn  \\\n",
       "name                                                                            \n",
       "DA3BAEB8BF604EB      -0.501839       -0.035049                       1.603528   \n",
       "AEF3DE08DFED4E0      -0.492946       -0.197055                       0.631794   \n",
       "B621BB29484E46D      -0.490623       -0.745594                       0.013846   \n",
       "2D0945802F92423      -0.512654       -1.385557                      -0.062677   \n",
       "640ABFC7E49B403      -0.052226        2.088525                      -0.095697   \n",
       "\n",
       "                 scaled_offer_value_knn  nan_age  not_nan_age  target   age  \\\n",
       "name                                                                          \n",
       "DA3BAEB8BF604EB                0.246935     True        False   False   NaN   \n",
       "AEF3DE08DFED4E0               -1.130746    False         True   False  31.0   \n",
       "B621BB29484E46D                1.410101    False         True   False  25.0   \n",
       "2D0945802F92423                0.038956    False         True   False  18.0   \n",
       "640ABFC7E49B403                0.886816    False         True   False  56.0   \n",
       "\n",
       "                center customer_type emails  gender offer_class phone_calls  \\\n",
       "name                                                                          \n",
       "DA3BAEB8BF604EB      A             S      1    male     Premium           0   \n",
       "AEF3DE08DFED4E0      A             S      0    male     Premium           0   \n",
       "B621BB29484E46D      B             S      1    male     Premium           0   \n",
       "2D0945802F92423      B             Q      1  female     Premium           0   \n",
       "640ABFC7E49B403      B             C      1    male      Medium           0   \n",
       "\n",
       "                  salary    age_knn  estimated_expenses_knn  offer_value_knn  \n",
       "name                                                                          \n",
       "DA3BAEB8BF604EB   731.25  32.772049                  7638.0       143.108044  \n",
       "AEF3DE08DFED4E0   777.50  31.000000                  5784.0        63.637416  \n",
       "B621BB29484E46D   789.58  25.000000                  4605.0       210.204552  \n",
       "2D0945802F92423   675.00  18.000000                  4459.0       131.110924  \n",
       "640ABFC7E49B403  3069.58  56.000000                  4396.0       180.019199  "
      ]
     },
     "execution_count": 13,
     "metadata": {},
     "output_type": "execute_result"
    }
   ],
   "source": [
    "processed_test_df.head()"
   ]
  },
  {
   "cell_type": "markdown",
   "metadata": {},
   "source": [
    "**verify if there is no mistake during preprocessing**"
   ]
  },
  {
   "cell_type": "code",
   "execution_count": 14,
   "metadata": {},
   "outputs": [],
   "source": [
    "assert not set(processed_train_df.index).intersection(set(processed_test_df.index))"
   ]
  },
  {
   "cell_type": "markdown",
   "metadata": {},
   "source": [
    "**sklearn modelling**"
   ]
  },
  {
   "cell_type": "code",
   "execution_count": 15,
   "metadata": {},
   "outputs": [],
   "source": [
    "from sklearn.model_selection import GridSearchCV\n",
    "from sklearn.model_selection import cross_val_score, KFold\n",
    "from sklearn.metrics import accuracy_score, confusion_matrix, precision_score, recall_score, roc_auc_score, make_scorer"
   ]
  },
  {
   "cell_type": "markdown",
   "metadata": {},
   "source": [
    "**sklearn models which have predict_proba method**"
   ]
  },
  {
   "cell_type": "code",
   "execution_count": 16,
   "metadata": {},
   "outputs": [
    {
     "name": "stderr",
     "output_type": "stream",
     "text": [
      "/Users/mjasiecz/anaconda3/envs/new_offer_predictor/lib/python3.6/site-packages/sklearn/externals/joblib/__init__.py:15: DeprecationWarning: sklearn.externals.joblib is deprecated in 0.21 and will be removed in 0.23. Please import this functionality directly from joblib, which can be installed with: pip install joblib. If this warning is raised when loading pickled models, you may need to re-serialize those models with scikit-learn 0.21+.\n",
      "  warnings.warn(msg, category=DeprecationWarning)\n"
     ]
    },
    {
     "name": "stdout",
     "output_type": "stream",
     "text": [
      "AdaBoostClassifier\n",
      "BaggingClassifier\n",
      "BayesianGaussianMixture\n",
      "BernoulliNB\n",
      "CalibratedClassifierCV\n",
      "ClassifierChain\n",
      "ComplementNB\n",
      "DecisionTreeClassifier\n",
      "DummyClassifier\n",
      "ExtraTreeClassifier\n",
      "ExtraTreesClassifier\n",
      "GaussianMixture\n",
      "GaussianNB\n",
      "GaussianProcessClassifier\n",
      "GradientBoostingClassifier\n",
      "GridSearchCV\n",
      "HistGradientBoostingClassifier\n",
      "KNeighborsClassifier\n",
      "LabelPropagation\n",
      "LabelSpreading\n",
      "LinearDiscriminantAnalysis\n",
      "LogisticRegression\n",
      "LogisticRegressionCV\n",
      "MLPClassifier\n",
      "MultiOutputClassifier\n",
      "MultinomialNB\n",
      "NuSVC\n",
      "OneVsRestClassifier\n",
      "Pipeline\n",
      "QuadraticDiscriminantAnalysis\n",
      "RFE\n",
      "RFECV\n",
      "RandomForestClassifier\n",
      "RandomizedSearchCV\n",
      "SGDClassifier\n",
      "SVC\n",
      "VotingClassifier\n",
      "_BinaryGaussianProcessClassifierLaplace\n",
      "_ConstantPredictor\n"
     ]
    },
    {
     "name": "stderr",
     "output_type": "stream",
     "text": [
      "/Users/mjasiecz/anaconda3/envs/new_offer_predictor/lib/python3.6/site-packages/sklearn/utils/linear_assignment_.py:21: DeprecationWarning: The linear_assignment_ module is deprecated in 0.21 and will be removed from 0.23. Use scipy.optimize.linear_sum_assignment instead.\n",
      "  DeprecationWarning)\n"
     ]
    }
   ],
   "source": [
    "from sklearn.utils.testing import all_estimators\n",
    "\n",
    "estimators = all_estimators()\n",
    "\n",
    "for name, class_ in estimators:\n",
    "    if hasattr(class_, 'predict_proba'):\n",
    "        print(name)"
   ]
  },
  {
   "cell_type": "code",
   "execution_count": 17,
   "metadata": {},
   "outputs": [],
   "source": [
    "columns_to_encode = ['offer_class', 'gender', 'customer_type', 'center', 'phone_calls', 'cc_len', 'cc_startswith']"
   ]
  },
  {
   "cell_type": "code",
   "execution_count": 18,
   "metadata": {},
   "outputs": [],
   "source": [
    "enc = LeaveOneOutEncoder(train_df=processed_train_df,\n",
    "                         test_df=processed_test_df,\n",
    "                         columns_to_encode=columns_to_encode,\n",
    "                         target_column='target',\n",
    "                         random_state=42,\n",
    "                         mean=1,\n",
    "                         std=0.05)"
   ]
  },
  {
   "cell_type": "code",
   "execution_count": 19,
   "metadata": {},
   "outputs": [],
   "source": [
    "_, test_df_encoded = enc.fit()"
   ]
  },
  {
   "cell_type": "code",
   "execution_count": 20,
   "metadata": {},
   "outputs": [],
   "source": [
    "X_test = test_df_encoded.reset_index().drop(columns=['target'])\n",
    "y_test = test_df_encoded.reset_index()[['target']]"
   ]
  },
  {
   "cell_type": "code",
   "execution_count": 21,
   "metadata": {},
   "outputs": [],
   "source": [
    "y_train = processed_train_df[['target']].reset_index().drop(columns=['name'])"
   ]
  },
  {
   "cell_type": "code",
   "execution_count": 22,
   "metadata": {},
   "outputs": [
    {
     "name": "stdout",
     "output_type": "stream",
     "text": [
      "['cc_len' 'cc_startswith' 'log_salary' 'log_age_knn'\n",
      " 'log_estimated_expenses_knn' 'log_offer_value_knn' 'scaled_salary'\n",
      " 'scaled_age_knn' 'scaled_estimated_expenses_knn' 'scaled_offer_value_knn'\n",
      " 'nan_age' 'not_nan_age' 'target' 'offer_class' 'gender' 'age'\n",
      " 'phone_calls' 'emails' 'salary' 'customer_type' 'center' 'age_knn'\n",
      " 'estimated_expenses_knn' 'offer_value_knn']\n"
     ]
    }
   ],
   "source": [
    "print(processed_train_df.columns.values)"
   ]
  },
  {
   "cell_type": "code",
   "execution_count": 23,
   "metadata": {},
   "outputs": [],
   "source": [
    "all_train_features = processed_train_df.columns.values"
   ]
  },
  {
   "cell_type": "markdown",
   "metadata": {},
   "source": [
    "#### estimators"
   ]
  },
  {
   "cell_type": "code",
   "execution_count": 24,
   "metadata": {},
   "outputs": [],
   "source": [
    "from sklearn.neighbors import KNeighborsClassifier\n",
    "from sklearn.ensemble import RandomForestClassifier\n",
    "from sklearn.linear_model import LogisticRegression\n",
    "from sklearn.tree import DecisionTreeClassifier"
   ]
  },
  {
   "cell_type": "code",
   "execution_count": 25,
   "metadata": {},
   "outputs": [],
   "source": [
    "knn_clf = KNeighborsClassifier()\n",
    "dt_clf = DecisionTreeClassifier()\n",
    "rf_clf = RandomForestClassifier()\n",
    "log_clf = LogisticRegression()"
   ]
  },
  {
   "cell_type": "code",
   "execution_count": 26,
   "metadata": {},
   "outputs": [],
   "source": [
    "knn_param_grid = {'n_neighbors': list(np.linspace(2, 20, 10, endpoint=True).astype(int)),\n",
    "                  'weights': ['uniform', 'distance'],\n",
    "                  'metric': ['minkowski'],\n",
    "                  'p': list(np.linspace(1, 4, 4, endpoint=True).astype(int))}"
   ]
  },
  {
   "cell_type": "code",
   "execution_count": 27,
   "metadata": {},
   "outputs": [],
   "source": [
    "dt_param_grid = {'max_depth': list(np.linspace(2, 20, 10, endpoint=True).astype(int)),\n",
    "                 'min_samples_split': list(np.linspace(0.1, 1, 10, endpoint=True)),\n",
    "                 'max_features': list(np.linspace(2, 8, 4, endpoint=True).astype(int)),\n",
    "                 'min_samples_leaf': list(np.linspace(0.1, 0.5, 5, endpoint=True)),\n",
    "                 'random_state': [42]}"
   ]
  },
  {
   "cell_type": "code",
   "execution_count": 28,
   "metadata": {},
   "outputs": [],
   "source": [
    "rf_param_grid = {'n_estimators': [4, 8, 10, 20, 30, 50, 70, 90, 100, 200],\n",
    "                 'max_depth': list(np.linspace(2, 10 , 5, endpoint=True).astype(int)),\n",
    "                 'max_features': list(np.linspace(2, 8, 4, endpoint=True).astype(int)),\n",
    "                 'random_state': [42]}"
   ]
  },
  {
   "cell_type": "code",
   "execution_count": 29,
   "metadata": {},
   "outputs": [],
   "source": [
    "log_param_grid = {'C': [0.01, 0.05, 0.1, 0.2, 0.5, 0.6, 0.7, 0.8, 1, 2, 5, 10],\n",
    "                  'random_state': [42]}"
   ]
  },
  {
   "cell_type": "markdown",
   "metadata": {},
   "source": [
    "**first set of chosen features**"
   ]
  },
  {
   "cell_type": "code",
   "execution_count": 30,
   "metadata": {},
   "outputs": [],
   "source": [
    "columns_to_drop_from_training1 = ['salary', 'scaled_salary','scaled_age_knn', 'scaled_estimated_expenses_knn',\n",
    "                                  'scaled_offer_value_knn', 'estimated_expenses_knn', 'offer_value_knn',\n",
    "                                  'age_knn', 'log_age_knn', 'age']"
   ]
  },
  {
   "cell_type": "code",
   "execution_count": 31,
   "metadata": {},
   "outputs": [
    {
     "data": {
      "text/plain": [
       "{'cc_len',\n",
       " 'cc_startswith',\n",
       " 'center',\n",
       " 'customer_type',\n",
       " 'emails',\n",
       " 'gender',\n",
       " 'log_estimated_expenses_knn',\n",
       " 'log_offer_value_knn',\n",
       " 'log_salary',\n",
       " 'nan_age',\n",
       " 'not_nan_age',\n",
       " 'offer_class',\n",
       " 'phone_calls',\n",
       " 'target'}"
      ]
     },
     "execution_count": 31,
     "metadata": {},
     "output_type": "execute_result"
    }
   ],
   "source": [
    "set(all_train_features).difference(set(columns_to_drop_from_training1))"
   ]
  },
  {
   "cell_type": "code",
   "execution_count": 32,
   "metadata": {},
   "outputs": [],
   "source": [
    "test_df_encoded_ohemails = test_df_encoded.copy(deep=True)\n",
    "email_ohe_names = {0: '0_emails',\n",
    "                   1: '1_email',\n",
    "                   2: '2_emails',\n",
    "                   3: '3_emails',\n",
    "                   4: '4_emails',\n",
    "                   5: '5_emails'}\n",
    "\n",
    "test_df_encoded_ohemails = (pd.concat([test_df_encoded_ohemails, pd.get_dummies(test_df_encoded_ohemails['emails'])],\n",
    "                                      axis=1).rename(columns=email_ohe_names)).drop(columns=['emails'])"
   ]
  },
  {
   "cell_type": "code",
   "execution_count": 33,
   "metadata": {},
   "outputs": [],
   "source": [
    "test_df_encoded_numemails = test_df_encoded.copy(deep=True)\n",
    "test_df_encoded_numemails['emails'] = test_df_encoded_numemails['emails'].astype(int)"
   ]
  },
  {
   "cell_type": "code",
   "execution_count": 34,
   "metadata": {},
   "outputs": [],
   "source": [
    "LOOGS1_knn = LOOGridSearchCV(train_df=processed_train_df, model=knn_clf, params_grid=knn_param_grid, \n",
    "                        columns_to_encode=columns_to_encode,\n",
    "                        columns_to_drop_from_training=columns_to_drop_from_training1)"
   ]
  },
  {
   "cell_type": "code",
   "execution_count": 35,
   "metadata": {},
   "outputs": [],
   "source": [
    "knn1_roc_auc = LOOGS1_knn.grid_search()"
   ]
  },
  {
   "cell_type": "code",
   "execution_count": 36,
   "metadata": {},
   "outputs": [],
   "source": [
    "test1 = test_df_encoded_ohemails[LOOGS1_knn.processed_train().columns.values]"
   ]
  },
  {
   "cell_type": "code",
   "execution_count": 37,
   "metadata": {},
   "outputs": [],
   "source": [
    "train1 = LOOGS1_knn.processed_train()"
   ]
  },
  {
   "cell_type": "code",
   "execution_count": 38,
   "metadata": {},
   "outputs": [
    {
     "name": "stdout",
     "output_type": "stream",
     "text": [
      "0.7094290390318794\n"
     ]
    }
   ],
   "source": [
    "print(max(knn1_roc_auc))"
   ]
  },
  {
   "cell_type": "code",
   "execution_count": 39,
   "metadata": {},
   "outputs": [],
   "source": [
    "LOOGS1_dt = LOOGridSearchCV(train_df=processed_train_df, model=dt_clf, params_grid=dt_param_grid, \n",
    "                        columns_to_encode=columns_to_encode,\n",
    "                        columns_to_drop_from_training=columns_to_drop_from_training1, \n",
    "                        Xs_train=LOOGS1_knn.Xs_train,\n",
    "                        ys_train=LOOGS1_knn.ys_train,\n",
    "                        Xs_val=LOOGS1_knn.Xs_val,\n",
    "                        ys_val=LOOGS1_knn.ys_val,\n",
    "                        encoded_df=LOOGS1_knn.encoded_df_)"
   ]
  },
  {
   "cell_type": "code",
   "execution_count": 40,
   "metadata": {},
   "outputs": [],
   "source": [
    "dt1_roc_auc = LOOGS1_dt.grid_search()"
   ]
  },
  {
   "cell_type": "code",
   "execution_count": 41,
   "metadata": {},
   "outputs": [
    {
     "name": "stdout",
     "output_type": "stream",
     "text": [
      "0.711391678946292\n"
     ]
    }
   ],
   "source": [
    "print(max(dt1_roc_auc))"
   ]
  },
  {
   "cell_type": "code",
   "execution_count": 42,
   "metadata": {},
   "outputs": [],
   "source": [
    "LOOGS1_rf = LOOGridSearchCV(train_df=processed_train_df, model=rf_clf, params_grid=rf_param_grid, \n",
    "                        columns_to_encode=columns_to_encode,\n",
    "                        columns_to_drop_from_training=columns_to_drop_from_training1, \n",
    "                        Xs_train=LOOGS1_knn.Xs_train,\n",
    "                        ys_train=LOOGS1_knn.ys_train,\n",
    "                        Xs_val=LOOGS1_knn.Xs_val,\n",
    "                        ys_val=LOOGS1_knn.ys_val,\n",
    "                        encoded_df=LOOGS1_knn.encoded_df_)"
   ]
  },
  {
   "cell_type": "code",
   "execution_count": 43,
   "metadata": {},
   "outputs": [],
   "source": [
    "rf1_roc_auc = LOOGS1_rf.grid_search()"
   ]
  },
  {
   "cell_type": "code",
   "execution_count": 44,
   "metadata": {},
   "outputs": [
    {
     "name": "stdout",
     "output_type": "stream",
     "text": [
      "0.7728714678462344\n"
     ]
    }
   ],
   "source": [
    "print(max(rf1_roc_auc))"
   ]
  },
  {
   "cell_type": "code",
   "execution_count": 45,
   "metadata": {},
   "outputs": [
    {
     "name": "stdout",
     "output_type": "stream",
     "text": [
      "generalization error: 0.005235259864815434\n",
      "roc_auc_score: 0.7602678571428573\n",
      "recall_score: 0.7142857142857143\n",
      "accuracy_score: 0.7713178294573644\n",
      "precision_score: 0.693069306930693\n",
      "confusion_matrix: \n",
      "\n",
      "[[129  31]\n",
      " [ 28  70]]\n"
     ]
    }
   ],
   "source": [
    "scores_function(model=LOOGS1_rf, X_train=train1 , X_test=test1, y_train=y_train , y_test=y_test, mode='loo')"
   ]
  },
  {
   "cell_type": "code",
   "execution_count": 46,
   "metadata": {},
   "outputs": [],
   "source": [
    "LOOGS1_log = LOOGridSearchCV(train_df=processed_train_df, model=log_clf, params_grid=log_param_grid, \n",
    "                        columns_to_encode=columns_to_encode,\n",
    "                        columns_to_drop_from_training=columns_to_drop_from_training1, \n",
    "                        Xs_train=LOOGS1_knn.Xs_train,\n",
    "                        ys_train=LOOGS1_knn.ys_train,\n",
    "                        Xs_val=LOOGS1_knn.Xs_val,\n",
    "                        ys_val=LOOGS1_knn.ys_val,\n",
    "                        encoded_df=LOOGS1_knn.encoded_df_)"
   ]
  },
  {
   "cell_type": "code",
   "execution_count": 47,
   "metadata": {},
   "outputs": [],
   "source": [
    "log1_roc_auc = LOOGS1_log.grid_search()"
   ]
  },
  {
   "cell_type": "code",
   "execution_count": 48,
   "metadata": {},
   "outputs": [
    {
     "name": "stdout",
     "output_type": "stream",
     "text": [
      "0.7623847758862055\n"
     ]
    }
   ],
   "source": [
    "print(max(log1_roc_auc))"
   ]
  },
  {
   "cell_type": "code",
   "execution_count": 49,
   "metadata": {},
   "outputs": [
    {
     "name": "stdout",
     "output_type": "stream",
     "text": [
      "generalization error: 0.016438382418184627\n",
      "roc_auc_score: 0.7469387755102042\n",
      "recall_score: 0.6938775510204082\n",
      "accuracy_score: 0.7596899224806202\n",
      "precision_score: 0.68\n",
      "confusion_matrix: \n",
      "\n",
      "[[128  32]\n",
      " [ 30  68]]\n"
     ]
    }
   ],
   "source": [
    "scores_function(model=LOOGS1_log, X_train=train1 , X_test=test1, y_train=y_train , y_test=y_test, mode='loo')"
   ]
  },
  {
   "cell_type": "markdown",
   "metadata": {},
   "source": [
    "**second set of chosen features**"
   ]
  },
  {
   "cell_type": "code",
   "execution_count": 50,
   "metadata": {},
   "outputs": [],
   "source": [
    "columns_to_drop_from_training2 = ['salary', 'age_knn', 'log_age_knn', 'age', 'estimated_expenses_knn', \n",
    "                                  'offer_value_knn', 'log_estimated_expenses_knn', 'log_offer_value_knn',\n",
    "                                  'log_salary', 'scaled_age_knn']"
   ]
  },
  {
   "cell_type": "code",
   "execution_count": 51,
   "metadata": {},
   "outputs": [
    {
     "data": {
      "text/plain": [
       "{'cc_len',\n",
       " 'cc_startswith',\n",
       " 'center',\n",
       " 'customer_type',\n",
       " 'emails',\n",
       " 'gender',\n",
       " 'nan_age',\n",
       " 'not_nan_age',\n",
       " 'offer_class',\n",
       " 'phone_calls',\n",
       " 'scaled_estimated_expenses_knn',\n",
       " 'scaled_offer_value_knn',\n",
       " 'scaled_salary',\n",
       " 'target'}"
      ]
     },
     "execution_count": 51,
     "metadata": {},
     "output_type": "execute_result"
    }
   ],
   "source": [
    "set(all_train_features).difference(set(columns_to_drop_from_training2))"
   ]
  },
  {
   "cell_type": "code",
   "execution_count": 52,
   "metadata": {},
   "outputs": [],
   "source": [
    "LOOGS2_knn = LOOGridSearchCV(train_df=processed_train_df, model=knn_clf, params_grid=knn_param_grid, \n",
    "                        columns_to_encode=columns_to_encode,\n",
    "                        columns_to_drop_from_training=columns_to_drop_from_training2)"
   ]
  },
  {
   "cell_type": "code",
   "execution_count": 53,
   "metadata": {},
   "outputs": [],
   "source": [
    "knn2_roc_auc = LOOGS2_knn.grid_search()"
   ]
  },
  {
   "cell_type": "code",
   "execution_count": 54,
   "metadata": {},
   "outputs": [],
   "source": [
    "test2 = test_df_encoded_ohemails[LOOGS2_knn.processed_train().columns.values]"
   ]
  },
  {
   "cell_type": "code",
   "execution_count": 55,
   "metadata": {},
   "outputs": [],
   "source": [
    "train2 = LOOGS2_knn.processed_train()"
   ]
  },
  {
   "cell_type": "code",
   "execution_count": 56,
   "metadata": {},
   "outputs": [
    {
     "name": "stdout",
     "output_type": "stream",
     "text": [
      "0.6735844092208465\n"
     ]
    }
   ],
   "source": [
    "print(max(knn2_roc_auc))"
   ]
  },
  {
   "cell_type": "code",
   "execution_count": 57,
   "metadata": {},
   "outputs": [],
   "source": [
    "LOOGS2_dt = LOOGridSearchCV(train_df=processed_train_df, model=dt_clf, params_grid=dt_param_grid, \n",
    "                        columns_to_encode=columns_to_encode,\n",
    "                        columns_to_drop_from_training=columns_to_drop_from_training2, \n",
    "                        Xs_train=LOOGS2_knn.Xs_train,\n",
    "                        ys_train=LOOGS2_knn.ys_train,\n",
    "                        Xs_val=LOOGS2_knn.Xs_val,\n",
    "                        ys_val=LOOGS2_knn.ys_val,\n",
    "                        encoded_df=LOOGS2_knn.encoded_df_)"
   ]
  },
  {
   "cell_type": "code",
   "execution_count": 58,
   "metadata": {},
   "outputs": [],
   "source": [
    "dt2_roc_auc = LOOGS2_dt.grid_search()"
   ]
  },
  {
   "cell_type": "code",
   "execution_count": 59,
   "metadata": {},
   "outputs": [
    {
     "name": "stdout",
     "output_type": "stream",
     "text": [
      "0.711391678946292\n"
     ]
    }
   ],
   "source": [
    "print(max(dt2_roc_auc))"
   ]
  },
  {
   "cell_type": "code",
   "execution_count": 60,
   "metadata": {},
   "outputs": [],
   "source": [
    "LOOGS2_rf = LOOGridSearchCV(train_df=processed_train_df, model=rf_clf, params_grid=rf_param_grid, \n",
    "                        columns_to_encode=columns_to_encode,\n",
    "                        columns_to_drop_from_training=columns_to_drop_from_training2, \n",
    "                        Xs_train=LOOGS2_knn.Xs_train,\n",
    "                        ys_train=LOOGS2_knn.ys_train,\n",
    "                        Xs_val=LOOGS2_knn.Xs_val,\n",
    "                        ys_val=LOOGS2_knn.ys_val,\n",
    "                        encoded_df=LOOGS2_knn.encoded_df_)"
   ]
  },
  {
   "cell_type": "code",
   "execution_count": 61,
   "metadata": {},
   "outputs": [],
   "source": [
    "rf2_roc_auc = LOOGS2_rf.grid_search()"
   ]
  },
  {
   "cell_type": "code",
   "execution_count": 62,
   "metadata": {},
   "outputs": [
    {
     "name": "stdout",
     "output_type": "stream",
     "text": [
      "0.7728870676399151\n"
     ]
    }
   ],
   "source": [
    "print(max(rf2_roc_auc))"
   ]
  },
  {
   "cell_type": "code",
   "execution_count": 63,
   "metadata": {},
   "outputs": [
    {
     "name": "stdout",
     "output_type": "stream",
     "text": [
      "generalization error: 0.06879917727960749\n",
      "roc_auc_score: 0.7489158163265306\n",
      "recall_score: 0.7040816326530612\n",
      "accuracy_score: 0.7596899224806202\n",
      "precision_score: 0.6764705882352942\n",
      "confusion_matrix: \n",
      "\n",
      "[[127  33]\n",
      " [ 29  69]]\n"
     ]
    }
   ],
   "source": [
    "scores_function(model=LOOGS2_rf, X_train=train2, X_test=test2, y_train=y_train , y_test=y_test,  mode='loo')"
   ]
  },
  {
   "cell_type": "code",
   "execution_count": 64,
   "metadata": {},
   "outputs": [],
   "source": [
    "LOOGS2_log = LOOGridSearchCV(train_df=processed_train_df, model=log_clf, params_grid=log_param_grid, \n",
    "                        columns_to_encode=columns_to_encode,\n",
    "                        columns_to_drop_from_training=columns_to_drop_from_training2, \n",
    "                        Xs_train=LOOGS2_knn.Xs_train,\n",
    "                        ys_train=LOOGS2_knn.ys_train,\n",
    "                        Xs_val=LOOGS2_knn.Xs_val,\n",
    "                        ys_val=LOOGS2_knn.ys_val,\n",
    "                        encoded_df=LOOGS2_knn.encoded_df_)"
   ]
  },
  {
   "cell_type": "code",
   "execution_count": 65,
   "metadata": {},
   "outputs": [],
   "source": [
    "log2_roc_auc = LOOGS2_log.grid_search()"
   ]
  },
  {
   "cell_type": "code",
   "execution_count": 66,
   "metadata": {},
   "outputs": [
    {
     "name": "stdout",
     "output_type": "stream",
     "text": [
      "0.7608821854533825\n"
     ]
    }
   ],
   "source": [
    "print(max(log2_roc_auc))"
   ]
  },
  {
   "cell_type": "code",
   "execution_count": 67,
   "metadata": {},
   "outputs": [
    {
     "name": "stdout",
     "output_type": "stream",
     "text": [
      "generalization error: 0.005073292904118176\n",
      "roc_auc_score: 0.7563137755102041\n",
      "recall_score: 0.6938775510204082\n",
      "accuracy_score: 0.7713178294573644\n",
      "precision_score: 0.7010309278350515\n",
      "confusion_matrix: \n",
      "\n",
      "[[131  29]\n",
      " [ 30  68]]\n"
     ]
    }
   ],
   "source": [
    "scores_function(model=LOOGS2_log, X_train=train2, X_test=test2, y_train=y_train , y_test=y_test,  mode='loo')"
   ]
  },
  {
   "cell_type": "markdown",
   "metadata": {},
   "source": [
    "**third set of chosen features**"
   ]
  },
  {
   "cell_type": "code",
   "execution_count": 68,
   "metadata": {},
   "outputs": [],
   "source": [
    "original_numerical = ['salary', 'estimated_expenses_knn', 'offer_value_knn', 'age_knn']"
   ]
  },
  {
   "cell_type": "code",
   "execution_count": 69,
   "metadata": {},
   "outputs": [
    {
     "data": {
      "text/plain": [
       "salary                    2.637465e+07\n",
       "estimated_expenses_knn    3.631811e+06\n",
       "offer_value_knn           3.352732e+03\n",
       "age_knn                   1.161376e+02\n",
       "dtype: float64"
      ]
     },
     "execution_count": 69,
     "metadata": {},
     "output_type": "execute_result"
    }
   ],
   "source": [
    "processed_train_df[original_numerical].var()"
   ]
  },
  {
   "cell_type": "code",
   "execution_count": 70,
   "metadata": {},
   "outputs": [],
   "source": [
    "columns_to_drop_from_training3 = ['salary', 'age_knn', 'log_age_knn', 'age', 'estimated_expenses_knn', \n",
    "                                  'offer_value_knn', 'scaled_estimated_expenses_knn', 'log_offer_value_knn',\n",
    "                                  'scaled_salary', 'scaled_age_knn']"
   ]
  },
  {
   "cell_type": "code",
   "execution_count": 71,
   "metadata": {},
   "outputs": [
    {
     "data": {
      "text/plain": [
       "{'cc_len',\n",
       " 'cc_startswith',\n",
       " 'center',\n",
       " 'customer_type',\n",
       " 'emails',\n",
       " 'gender',\n",
       " 'log_estimated_expenses_knn',\n",
       " 'log_salary',\n",
       " 'nan_age',\n",
       " 'not_nan_age',\n",
       " 'offer_class',\n",
       " 'phone_calls',\n",
       " 'scaled_offer_value_knn',\n",
       " 'target'}"
      ]
     },
     "execution_count": 71,
     "metadata": {},
     "output_type": "execute_result"
    }
   ],
   "source": [
    "set(all_train_features).difference(set(columns_to_drop_from_training3))"
   ]
  },
  {
   "cell_type": "code",
   "execution_count": 72,
   "metadata": {},
   "outputs": [],
   "source": [
    "LOOGS3_knn = LOOGridSearchCV(train_df=processed_train_df, model=knn_clf, params_grid=knn_param_grid, \n",
    "                        columns_to_encode=columns_to_encode,\n",
    "                        columns_to_drop_from_training=columns_to_drop_from_training3)"
   ]
  },
  {
   "cell_type": "code",
   "execution_count": 73,
   "metadata": {},
   "outputs": [],
   "source": [
    "knn3_roc_auc = LOOGS3_knn.grid_search()"
   ]
  },
  {
   "cell_type": "code",
   "execution_count": 74,
   "metadata": {},
   "outputs": [],
   "source": [
    "test3 = test_df_encoded_ohemails[LOOGS3_knn.processed_train().columns.values]"
   ]
  },
  {
   "cell_type": "code",
   "execution_count": 75,
   "metadata": {},
   "outputs": [],
   "source": [
    "train3 = LOOGS3_knn.processed_train()"
   ]
  },
  {
   "cell_type": "code",
   "execution_count": 76,
   "metadata": {},
   "outputs": [
    {
     "name": "stdout",
     "output_type": "stream",
     "text": [
      "0.6975377845364383\n"
     ]
    }
   ],
   "source": [
    "print(max(knn3_roc_auc))"
   ]
  },
  {
   "cell_type": "code",
   "execution_count": 77,
   "metadata": {},
   "outputs": [],
   "source": [
    "LOOGS3_dt = LOOGridSearchCV(train_df=processed_train_df, model=dt_clf, params_grid=dt_param_grid, \n",
    "                        columns_to_encode=columns_to_encode,\n",
    "                        columns_to_drop_from_training=columns_to_drop_from_training3, \n",
    "                        Xs_train=LOOGS3_knn.Xs_train,\n",
    "                        ys_train=LOOGS3_knn.ys_train,\n",
    "                        Xs_val=LOOGS3_knn.Xs_val,\n",
    "                        ys_val=LOOGS3_knn.ys_val,\n",
    "                        encoded_df=LOOGS3_knn.encoded_df_)"
   ]
  },
  {
   "cell_type": "code",
   "execution_count": 78,
   "metadata": {},
   "outputs": [],
   "source": [
    "dt3_roc_auc = LOOGS3_dt.grid_search()"
   ]
  },
  {
   "cell_type": "code",
   "execution_count": 79,
   "metadata": {},
   "outputs": [
    {
     "name": "stdout",
     "output_type": "stream",
     "text": [
      "0.711391678946292\n"
     ]
    }
   ],
   "source": [
    "print(max(dt3_roc_auc))"
   ]
  },
  {
   "cell_type": "code",
   "execution_count": 80,
   "metadata": {},
   "outputs": [],
   "source": [
    "LOOGS3_rf = LOOGridSearchCV(train_df=processed_train_df, model=rf_clf, params_grid=rf_param_grid, \n",
    "                        columns_to_encode=columns_to_encode,\n",
    "                        columns_to_drop_from_training=columns_to_drop_from_training3, \n",
    "                        Xs_train=LOOGS3_knn.Xs_train,\n",
    "                        ys_train=LOOGS3_knn.ys_train,\n",
    "                        Xs_val=LOOGS3_knn.Xs_val,\n",
    "                        ys_val=LOOGS3_knn.ys_val,\n",
    "                        encoded_df=LOOGS3_knn.encoded_df_)"
   ]
  },
  {
   "cell_type": "code",
   "execution_count": 81,
   "metadata": {},
   "outputs": [],
   "source": [
    "rf3_roc_auc = LOOGS3_rf.grid_search()"
   ]
  },
  {
   "cell_type": "code",
   "execution_count": 82,
   "metadata": {},
   "outputs": [
    {
     "name": "stdout",
     "output_type": "stream",
     "text": [
      "0.7728870676399151\n"
     ]
    }
   ],
   "source": [
    "print(max(rf3_roc_auc))"
   ]
  },
  {
   "cell_type": "code",
   "execution_count": 83,
   "metadata": {},
   "outputs": [
    {
     "name": "stdout",
     "output_type": "stream",
     "text": [
      "generalization error: 0.06879917727960749\n",
      "roc_auc_score: 0.7489158163265306\n",
      "recall_score: 0.7040816326530612\n",
      "accuracy_score: 0.7596899224806202\n",
      "precision_score: 0.6764705882352942\n",
      "confusion_matrix: \n",
      "\n",
      "[[127  33]\n",
      " [ 29  69]]\n"
     ]
    }
   ],
   "source": [
    "scores_function(model=LOOGS3_rf, X_train=train3, X_test=test3, y_train=y_train , y_test=y_test, mode='loo')"
   ]
  },
  {
   "cell_type": "code",
   "execution_count": 84,
   "metadata": {},
   "outputs": [],
   "source": [
    "LOOGS3_log = LOOGridSearchCV(train_df=processed_train_df, model=log_clf, params_grid=log_param_grid, \n",
    "                        columns_to_encode=columns_to_encode,\n",
    "                        columns_to_drop_from_training=columns_to_drop_from_training3, \n",
    "                        Xs_train=LOOGS3_knn.Xs_train,\n",
    "                        ys_train=LOOGS3_knn.ys_train,\n",
    "                        Xs_val=LOOGS3_knn.Xs_val,\n",
    "                        ys_val=LOOGS3_knn.ys_val,\n",
    "                        encoded_df=LOOGS3_knn.encoded_df_)"
   ]
  },
  {
   "cell_type": "code",
   "execution_count": 85,
   "metadata": {},
   "outputs": [],
   "source": [
    "log3_roc_auc = LOOGS3_log.grid_search()"
   ]
  },
  {
   "cell_type": "code",
   "execution_count": 86,
   "metadata": {},
   "outputs": [
    {
     "name": "stdout",
     "output_type": "stream",
     "text": [
      "0.7644200466144924\n"
     ]
    }
   ],
   "source": [
    "print(max(log3_roc_auc))"
   ]
  },
  {
   "cell_type": "code",
   "execution_count": 87,
   "metadata": {},
   "outputs": [
    {
     "name": "stdout",
     "output_type": "stream",
     "text": [
      "generalization error: 0.008778796844824965\n",
      "roc_auc_score: 0.7551658163265306\n",
      "recall_score: 0.7040816326530612\n",
      "accuracy_score: 0.7674418604651163\n",
      "precision_score: 0.69\n",
      "confusion_matrix: \n",
      "\n",
      "[[129  31]\n",
      " [ 29  69]]\n"
     ]
    }
   ],
   "source": [
    "scores_function(model=LOOGS3_log, X_train=train3, X_test=test3, y_train=y_train , y_test=y_test, mode='loo')"
   ]
  },
  {
   "cell_type": "markdown",
   "metadata": {},
   "source": [
    "**forth set of chosen features**"
   ]
  },
  {
   "cell_type": "code",
   "execution_count": 88,
   "metadata": {},
   "outputs": [
    {
     "data": {
      "text/plain": [
       "array(['cc_len', 'cc_startswith', 'log_salary', 'log_age_knn',\n",
       "       'log_estimated_expenses_knn', 'log_offer_value_knn',\n",
       "       'scaled_salary', 'scaled_age_knn', 'scaled_estimated_expenses_knn',\n",
       "       'scaled_offer_value_knn', 'nan_age', 'not_nan_age', 'target',\n",
       "       'offer_class', 'gender', 'age', 'phone_calls', 'emails', 'salary',\n",
       "       'customer_type', 'center', 'age_knn', 'estimated_expenses_knn',\n",
       "       'offer_value_knn'], dtype=object)"
      ]
     },
     "execution_count": 88,
     "metadata": {},
     "output_type": "execute_result"
    }
   ],
   "source": [
    "all_train_features"
   ]
  },
  {
   "cell_type": "code",
   "execution_count": 89,
   "metadata": {},
   "outputs": [],
   "source": [
    "columns_to_encode.remove('center')"
   ]
  },
  {
   "cell_type": "code",
   "execution_count": 90,
   "metadata": {},
   "outputs": [],
   "source": [
    "columns_to_drop_from_training4 = ['salary', 'age', 'center', 'age_knn', 'estimated_expenses_knn', 'offer_value_knn', \n",
    "                                  'log_age_knn', 'log_estimated_expenses_knn', 'log_offer_value_knn', 'log_salary',\n",
    "                                  'nan_age', 'not_nan_age']"
   ]
  },
  {
   "cell_type": "code",
   "execution_count": 91,
   "metadata": {},
   "outputs": [
    {
     "data": {
      "text/plain": [
       "{'cc_len',\n",
       " 'cc_startswith',\n",
       " 'customer_type',\n",
       " 'emails',\n",
       " 'gender',\n",
       " 'offer_class',\n",
       " 'phone_calls',\n",
       " 'scaled_age_knn',\n",
       " 'scaled_estimated_expenses_knn',\n",
       " 'scaled_offer_value_knn',\n",
       " 'scaled_salary',\n",
       " 'target'}"
      ]
     },
     "execution_count": 91,
     "metadata": {},
     "output_type": "execute_result"
    }
   ],
   "source": [
    "set(all_train_features).difference(set(columns_to_drop_from_training4))"
   ]
  },
  {
   "cell_type": "code",
   "execution_count": 92,
   "metadata": {},
   "outputs": [],
   "source": [
    "LOOGS4_knn = LOOGridSearchCV(train_df=processed_train_df, model=knn_clf, params_grid=knn_param_grid, \n",
    "                        columns_to_encode=columns_to_encode,\n",
    "                        columns_to_drop_from_training=columns_to_drop_from_training4)"
   ]
  },
  {
   "cell_type": "code",
   "execution_count": 93,
   "metadata": {},
   "outputs": [],
   "source": [
    "knn4_roc_auc = LOOGS4_knn.grid_search()"
   ]
  },
  {
   "cell_type": "code",
   "execution_count": 94,
   "metadata": {},
   "outputs": [],
   "source": [
    "test4 = test_df_encoded_ohemails[LOOGS4_knn.processed_train().columns.values]"
   ]
  },
  {
   "cell_type": "code",
   "execution_count": 95,
   "metadata": {},
   "outputs": [],
   "source": [
    "train4 = LOOGS4_knn.processed_train()"
   ]
  },
  {
   "cell_type": "code",
   "execution_count": 96,
   "metadata": {},
   "outputs": [
    {
     "name": "stdout",
     "output_type": "stream",
     "text": [
      "0.6551277692792656\n"
     ]
    }
   ],
   "source": [
    "print(max(knn4_roc_auc))"
   ]
  },
  {
   "cell_type": "code",
   "execution_count": 97,
   "metadata": {},
   "outputs": [],
   "source": [
    "LOOGS4_dt = LOOGridSearchCV(train_df=processed_train_df, model=dt_clf, params_grid=dt_param_grid, \n",
    "                        columns_to_encode=columns_to_encode,\n",
    "                        columns_to_drop_from_training=columns_to_drop_from_training4, \n",
    "                        Xs_train=LOOGS4_knn.Xs_train,\n",
    "                        ys_train=LOOGS4_knn.ys_train,\n",
    "                        Xs_val=LOOGS4_knn.Xs_val,\n",
    "                        ys_val=LOOGS4_knn.ys_val,\n",
    "                        encoded_df=LOOGS4_knn.encoded_df_)"
   ]
  },
  {
   "cell_type": "code",
   "execution_count": 98,
   "metadata": {},
   "outputs": [],
   "source": [
    "dt4_roc_auc = LOOGS4_dt.grid_search()"
   ]
  },
  {
   "cell_type": "code",
   "execution_count": 99,
   "metadata": {},
   "outputs": [
    {
     "name": "stdout",
     "output_type": "stream",
     "text": [
      "0.7584170776445248\n"
     ]
    }
   ],
   "source": [
    "print(max(dt4_roc_auc))"
   ]
  },
  {
   "cell_type": "code",
   "execution_count": 100,
   "metadata": {},
   "outputs": [
    {
     "name": "stdout",
     "output_type": "stream",
     "text": [
      "generalization error: -0.009129072824782147\n",
      "roc_auc_score: 0.762563775510204\n",
      "recall_score: 0.6938775510204082\n",
      "accuracy_score: 0.7790697674418605\n",
      "precision_score: 0.7157894736842105\n",
      "confusion_matrix: \n",
      "\n",
      "[[133  27]\n",
      " [ 30  68]]\n"
     ]
    }
   ],
   "source": [
    "scores_function(model=LOOGS4_dt, X_train=train4, X_test=test4, y_train=y_train , y_test=y_test, mode='loo')"
   ]
  },
  {
   "cell_type": "code",
   "execution_count": 101,
   "metadata": {},
   "outputs": [],
   "source": [
    "LOOGS4_rf = LOOGridSearchCV(train_df=processed_train_df, model=rf_clf, params_grid=rf_param_grid, \n",
    "                        columns_to_encode=columns_to_encode,\n",
    "                        columns_to_drop_from_training=columns_to_drop_from_training4, \n",
    "                        Xs_train=LOOGS4_knn.Xs_train,\n",
    "                        ys_train=LOOGS4_knn.ys_train,\n",
    "                        Xs_val=LOOGS4_knn.Xs_val,\n",
    "                        ys_val=LOOGS4_knn.ys_val,\n",
    "                        encoded_df=LOOGS4_knn.encoded_df_)"
   ]
  },
  {
   "cell_type": "code",
   "execution_count": 102,
   "metadata": {},
   "outputs": [],
   "source": [
    "rf4_roc_auc = LOOGS4_rf.grid_search()"
   ]
  },
  {
   "cell_type": "code",
   "execution_count": 103,
   "metadata": {},
   "outputs": [
    {
     "name": "stdout",
     "output_type": "stream",
     "text": [
      "0.7724817315738017\n"
     ]
    }
   ],
   "source": [
    "print(max(rf4_roc_auc))"
   ]
  },
  {
   "cell_type": "code",
   "execution_count": 104,
   "metadata": {},
   "outputs": [
    {
     "name": "stdout",
     "output_type": "stream",
     "text": [
      "generalization error: 0.02083815863301841\n",
      "roc_auc_score: 0.7656887755102041\n",
      "recall_score: 0.6938775510204082\n",
      "accuracy_score: 0.7829457364341085\n",
      "precision_score: 0.723404255319149\n",
      "confusion_matrix: \n",
      "\n",
      "[[134  26]\n",
      " [ 30  68]]\n"
     ]
    }
   ],
   "source": [
    "scores_function(model=LOOGS4_rf, X_train=train4, X_test=test4, y_train=y_train , y_test=y_test, mode='loo')"
   ]
  },
  {
   "cell_type": "code",
   "execution_count": 105,
   "metadata": {},
   "outputs": [],
   "source": [
    "LOOGS4_log = LOOGridSearchCV(train_df=processed_train_df, model=log_clf, params_grid=log_param_grid, \n",
    "                        columns_to_encode=columns_to_encode,\n",
    "                        columns_to_drop_from_training=columns_to_drop_from_training4, \n",
    "                        Xs_train=LOOGS4_knn.Xs_train,\n",
    "                        ys_train=LOOGS4_knn.ys_train,\n",
    "                        Xs_val=LOOGS4_knn.Xs_val,\n",
    "                        ys_val=LOOGS4_knn.ys_val,\n",
    "                        encoded_df=LOOGS4_knn.encoded_df_)"
   ]
  },
  {
   "cell_type": "code",
   "execution_count": 106,
   "metadata": {},
   "outputs": [],
   "source": [
    "log4_roc_auc = LOOGS4_log.grid_search()"
   ]
  },
  {
   "cell_type": "code",
   "execution_count": 107,
   "metadata": {},
   "outputs": [
    {
     "name": "stdout",
     "output_type": "stream",
     "text": [
      "0.7651390877477777\n"
     ]
    }
   ],
   "source": [
    "print(max(log4_roc_auc))"
   ]
  },
  {
   "cell_type": "code",
   "execution_count": 108,
   "metadata": {},
   "outputs": [
    {
     "name": "stdout",
     "output_type": "stream",
     "text": [
      "generalization error: 0.003157132418184716\n",
      "roc_auc_score: 0.7656887755102041\n",
      "recall_score: 0.6938775510204082\n",
      "accuracy_score: 0.7829457364341085\n",
      "precision_score: 0.723404255319149\n",
      "confusion_matrix: \n",
      "\n",
      "[[134  26]\n",
      " [ 30  68]]\n"
     ]
    }
   ],
   "source": [
    "scores_function(model=LOOGS4_log, X_train=train4, X_test=test4, y_train=y_train , y_test=y_test, mode='loo')"
   ]
  },
  {
   "cell_type": "markdown",
   "metadata": {},
   "source": [
    "**fifth set of chosen features**"
   ]
  },
  {
   "cell_type": "code",
   "execution_count": 109,
   "metadata": {},
   "outputs": [],
   "source": [
    "columns_to_drop_from_training5 = ['salary', 'age', 'center', 'age_knn', 'estimated_expenses_knn', 'offer_value_knn', \n",
    "                                  'log_age_knn', 'log_estimated_expenses_knn', 'log_offer_value_knn', 'log_salary',\n",
    "                                  'nan_age', 'not_nan_age', 'cc_len', 'cc_startswith']"
   ]
  },
  {
   "cell_type": "code",
   "execution_count": 110,
   "metadata": {},
   "outputs": [],
   "source": [
    "columns_to_encode.remove('cc_len')"
   ]
  },
  {
   "cell_type": "code",
   "execution_count": 111,
   "metadata": {},
   "outputs": [],
   "source": [
    "columns_to_encode.remove('cc_startswith')"
   ]
  },
  {
   "cell_type": "code",
   "execution_count": 112,
   "metadata": {},
   "outputs": [
    {
     "data": {
      "text/plain": [
       "{'customer_type',\n",
       " 'emails',\n",
       " 'gender',\n",
       " 'offer_class',\n",
       " 'phone_calls',\n",
       " 'scaled_age_knn',\n",
       " 'scaled_estimated_expenses_knn',\n",
       " 'scaled_offer_value_knn',\n",
       " 'scaled_salary',\n",
       " 'target'}"
      ]
     },
     "execution_count": 112,
     "metadata": {},
     "output_type": "execute_result"
    }
   ],
   "source": [
    "set(all_train_features).difference(set(columns_to_drop_from_training5))"
   ]
  },
  {
   "cell_type": "code",
   "execution_count": 113,
   "metadata": {},
   "outputs": [],
   "source": [
    "LOOGS5_knn = LOOGridSearchCV(train_df=processed_train_df, model=knn_clf, params_grid=knn_param_grid, \n",
    "                        columns_to_encode=columns_to_encode,\n",
    "                        columns_to_drop_from_training=columns_to_drop_from_training5)"
   ]
  },
  {
   "cell_type": "code",
   "execution_count": 114,
   "metadata": {},
   "outputs": [],
   "source": [
    "knn5_roc_auc = LOOGS5_knn.grid_search()"
   ]
  },
  {
   "cell_type": "code",
   "execution_count": 115,
   "metadata": {},
   "outputs": [],
   "source": [
    "test5 = test_df_encoded_ohemails[LOOGS5_knn.processed_train().columns.values]"
   ]
  },
  {
   "cell_type": "code",
   "execution_count": 116,
   "metadata": {},
   "outputs": [],
   "source": [
    "train5 = LOOGS5_knn.processed_train()"
   ]
  },
  {
   "cell_type": "code",
   "execution_count": 117,
   "metadata": {},
   "outputs": [
    {
     "name": "stdout",
     "output_type": "stream",
     "text": [
      "0.6598613283201422\n"
     ]
    }
   ],
   "source": [
    "print(max(knn5_roc_auc))"
   ]
  },
  {
   "cell_type": "code",
   "execution_count": 118,
   "metadata": {},
   "outputs": [],
   "source": [
    "LOOGS5_dt = LOOGridSearchCV(train_df=processed_train_df, model=dt_clf, params_grid=dt_param_grid, \n",
    "                        columns_to_encode=columns_to_encode,\n",
    "                        columns_to_drop_from_training=columns_to_drop_from_training5, \n",
    "                        Xs_train=LOOGS5_knn.Xs_train,\n",
    "                        ys_train=LOOGS5_knn.ys_train,\n",
    "                        Xs_val=LOOGS5_knn.Xs_val,\n",
    "                        ys_val=LOOGS5_knn.ys_val,\n",
    "                        encoded_df=LOOGS5_knn.encoded_df_)"
   ]
  },
  {
   "cell_type": "code",
   "execution_count": 119,
   "metadata": {},
   "outputs": [],
   "source": [
    "dt5_roc_auc = LOOGS5_dt.grid_search()"
   ]
  },
  {
   "cell_type": "code",
   "execution_count": 120,
   "metadata": {},
   "outputs": [
    {
     "name": "stdout",
     "output_type": "stream",
     "text": [
      "0.7584170776445248\n"
     ]
    }
   ],
   "source": [
    "print(max(dt5_roc_auc))"
   ]
  },
  {
   "cell_type": "code",
   "execution_count": 121,
   "metadata": {},
   "outputs": [],
   "source": [
    "LOOGS5_rf = LOOGridSearchCV(train_df=processed_train_df, model=rf_clf, params_grid=rf_param_grid, \n",
    "                        columns_to_encode=columns_to_encode,\n",
    "                        columns_to_drop_from_training=columns_to_drop_from_training5, \n",
    "                        Xs_train=LOOGS5_knn.Xs_train,\n",
    "                        ys_train=LOOGS5_knn.ys_train,\n",
    "                        Xs_val=LOOGS5_knn.Xs_val,\n",
    "                        ys_val=LOOGS5_knn.ys_val,\n",
    "                        encoded_df=LOOGS5_knn.encoded_df_)"
   ]
  },
  {
   "cell_type": "code",
   "execution_count": 122,
   "metadata": {},
   "outputs": [],
   "source": [
    "rf5_roc_auc = LOOGS5_rf.grid_search()"
   ]
  },
  {
   "cell_type": "code",
   "execution_count": 123,
   "metadata": {},
   "outputs": [
    {
     "name": "stdout",
     "output_type": "stream",
     "text": [
      "0.7776453425093461\n"
     ]
    }
   ],
   "source": [
    "print(max(rf5_roc_auc))"
   ]
  },
  {
   "cell_type": "code",
   "execution_count": 124,
   "metadata": {},
   "outputs": [
    {
     "name": "stdout",
     "output_type": "stream",
     "text": [
      "generalization error: -0.0003994532595645861\n",
      "roc_auc_score: 0.771938775510204\n",
      "recall_score: 0.6938775510204082\n",
      "accuracy_score: 0.7906976744186046\n",
      "precision_score: 0.7391304347826086\n",
      "confusion_matrix: \n",
      "\n",
      "[[136  24]\n",
      " [ 30  68]]\n"
     ]
    }
   ],
   "source": [
    "scores_function(model=LOOGS5_rf, X_train=train5, X_test=test5, y_train=y_train , y_test=y_test, mode='loo')"
   ]
  },
  {
   "cell_type": "code",
   "execution_count": 125,
   "metadata": {},
   "outputs": [],
   "source": [
    "LOOGS5_log = LOOGridSearchCV(train_df=processed_train_df, model=log_clf, params_grid=log_param_grid, \n",
    "                        columns_to_encode=columns_to_encode,\n",
    "                        columns_to_drop_from_training=columns_to_drop_from_training5, \n",
    "                        Xs_train=LOOGS5_knn.Xs_train,\n",
    "                        ys_train=LOOGS5_knn.ys_train,\n",
    "                        Xs_val=LOOGS5_knn.Xs_val,\n",
    "                        ys_val=LOOGS5_knn.ys_val,\n",
    "                        encoded_df=LOOGS5_knn.encoded_df_)"
   ]
  },
  {
   "cell_type": "code",
   "execution_count": 126,
   "metadata": {},
   "outputs": [],
   "source": [
    "log5_roc_auc = LOOGS5_log.grid_search()"
   ]
  },
  {
   "cell_type": "code",
   "execution_count": 127,
   "metadata": {},
   "outputs": [
    {
     "name": "stdout",
     "output_type": "stream",
     "text": [
      "0.7627804463891363\n"
     ]
    }
   ],
   "source": [
    "print(max(log5_roc_auc))"
   ]
  },
  {
   "cell_type": "code",
   "execution_count": 128,
   "metadata": {},
   "outputs": [
    {
     "name": "stdout",
     "output_type": "stream",
     "text": [
      "generalization error: 0.0026726587374078514\n",
      "roc_auc_score: 0.7707908163265307\n",
      "recall_score: 0.7040816326530612\n",
      "accuracy_score: 0.7868217054263565\n",
      "precision_score: 0.7263157894736842\n",
      "confusion_matrix: \n",
      "\n",
      "[[134  26]\n",
      " [ 29  69]]\n"
     ]
    }
   ],
   "source": [
    "scores_function(model=LOOGS5_log, X_train=train5, X_test=test5, y_train=y_train , y_test=y_test, mode='loo')"
   ]
  },
  {
   "cell_type": "markdown",
   "metadata": {},
   "source": [
    "**sixth set of chosen features**"
   ]
  },
  {
   "cell_type": "code",
   "execution_count": 129,
   "metadata": {},
   "outputs": [],
   "source": [
    "columns_to_drop_from_training6 = ['salary', 'age', 'center', 'age_knn', 'estimated_expenses_knn', 'offer_value_knn', \n",
    "                                  'log_age_knn', 'log_estimated_expenses_knn', 'log_offer_value_knn', 'log_salary',\n",
    "                                  'nan_age', 'not_nan_age', 'cc_len', 'cc_startswith']"
   ]
  },
  {
   "cell_type": "code",
   "execution_count": 130,
   "metadata": {},
   "outputs": [
    {
     "data": {
      "text/plain": [
       "{'customer_type',\n",
       " 'emails',\n",
       " 'gender',\n",
       " 'offer_class',\n",
       " 'phone_calls',\n",
       " 'scaled_age_knn',\n",
       " 'scaled_estimated_expenses_knn',\n",
       " 'scaled_offer_value_knn',\n",
       " 'scaled_salary',\n",
       " 'target'}"
      ]
     },
     "execution_count": 130,
     "metadata": {},
     "output_type": "execute_result"
    }
   ],
   "source": [
    "set(all_train_features).difference(set(columns_to_drop_from_training6))"
   ]
  },
  {
   "cell_type": "code",
   "execution_count": 131,
   "metadata": {},
   "outputs": [],
   "source": [
    "columns_to_encode.remove('phone_calls')"
   ]
  },
  {
   "cell_type": "markdown",
   "metadata": {},
   "source": [
    "convert back phone_calls and emails to numerical"
   ]
  },
  {
   "cell_type": "code",
   "execution_count": 132,
   "metadata": {},
   "outputs": [],
   "source": [
    "num_processed_train_df = processed_train_df.copy(deep=True)"
   ]
  },
  {
   "cell_type": "code",
   "execution_count": 133,
   "metadata": {},
   "outputs": [],
   "source": [
    "num_processed_train_df['phone_calls'] = num_processed_train_df['phone_calls'].astype(int)\n",
    "num_processed_train_df['emails'] = num_processed_train_df['emails'].astype(int)"
   ]
  },
  {
   "cell_type": "code",
   "execution_count": 134,
   "metadata": {},
   "outputs": [],
   "source": [
    "LOOGS6_knn = LOOGridSearchCV(train_df=num_processed_train_df, model=knn_clf, params_grid=knn_param_grid, \n",
    "                        columns_to_encode=columns_to_encode,\n",
    "                        columns_to_drop_from_training=columns_to_drop_from_training6,\n",
    "                        ohe_emails=False)"
   ]
  },
  {
   "cell_type": "code",
   "execution_count": 135,
   "metadata": {},
   "outputs": [],
   "source": [
    "knn6_roc_auc = LOOGS6_knn.grid_search()"
   ]
  },
  {
   "cell_type": "code",
   "execution_count": 136,
   "metadata": {},
   "outputs": [],
   "source": [
    "test6 = test_df_encoded_numemails[LOOGS6_knn.processed_train().columns.values]"
   ]
  },
  {
   "cell_type": "code",
   "execution_count": 137,
   "metadata": {},
   "outputs": [],
   "source": [
    "test6['phone_calls'] = test6['phone_calls'].astype(int)"
   ]
  },
  {
   "cell_type": "code",
   "execution_count": 138,
   "metadata": {},
   "outputs": [],
   "source": [
    "train6 = LOOGS6_knn.processed_train()"
   ]
  },
  {
   "cell_type": "code",
   "execution_count": 139,
   "metadata": {},
   "outputs": [
    {
     "name": "stdout",
     "output_type": "stream",
     "text": [
      "0.6707671928402009\n"
     ]
    }
   ],
   "source": [
    "print(max(knn6_roc_auc))"
   ]
  },
  {
   "cell_type": "code",
   "execution_count": 140,
   "metadata": {},
   "outputs": [],
   "source": [
    "LOOGS6_dt = LOOGridSearchCV(train_df=num_processed_train_df, model=dt_clf, params_grid=dt_param_grid, \n",
    "                        columns_to_encode=columns_to_encode,\n",
    "                        columns_to_drop_from_training=columns_to_drop_from_training6, \n",
    "                        Xs_train=LOOGS6_knn.Xs_train,\n",
    "                        ys_train=LOOGS6_knn.ys_train,\n",
    "                        Xs_val=LOOGS6_knn.Xs_val,\n",
    "                        ys_val=LOOGS6_knn.ys_val,\n",
    "                        encoded_df=LOOGS6_knn.encoded_df_,\n",
    "                        ohe_emails=False)"
   ]
  },
  {
   "cell_type": "code",
   "execution_count": 141,
   "metadata": {},
   "outputs": [],
   "source": [
    "dt6_roc_auc = LOOGS6_dt.grid_search()"
   ]
  },
  {
   "cell_type": "code",
   "execution_count": 142,
   "metadata": {},
   "outputs": [
    {
     "name": "stdout",
     "output_type": "stream",
     "text": [
      "0.7584170776445248\n"
     ]
    }
   ],
   "source": [
    "print(max(dt6_roc_auc))"
   ]
  },
  {
   "cell_type": "code",
   "execution_count": 143,
   "metadata": {},
   "outputs": [
    {
     "name": "stdout",
     "output_type": "stream",
     "text": [
      "generalization error: -0.009129072824782147\n",
      "roc_auc_score: 0.762563775510204\n",
      "recall_score: 0.6938775510204082\n",
      "accuracy_score: 0.7790697674418605\n",
      "precision_score: 0.7157894736842105\n",
      "confusion_matrix: \n",
      "\n",
      "[[133  27]\n",
      " [ 30  68]]\n"
     ]
    }
   ],
   "source": [
    "scores_function(model=LOOGS6_dt, X_train=train6, X_test=test6, y_train=y_train , y_test=y_test, mode='loo')"
   ]
  },
  {
   "cell_type": "code",
   "execution_count": 144,
   "metadata": {},
   "outputs": [],
   "source": [
    "LOOGS6_rf = LOOGridSearchCV(train_df=num_processed_train_df, model=rf_clf, params_grid=rf_param_grid, \n",
    "                        columns_to_encode=columns_to_encode,\n",
    "                        columns_to_drop_from_training=columns_to_drop_from_training6, \n",
    "                        Xs_train=LOOGS6_knn.Xs_train,\n",
    "                        ys_train=LOOGS6_knn.ys_train,\n",
    "                        Xs_val=LOOGS6_knn.Xs_val,\n",
    "                        ys_val=LOOGS6_knn.ys_val,\n",
    "                        encoded_df=LOOGS6_knn.encoded_df_,\n",
    "                        ohe_emails=False)"
   ]
  },
  {
   "cell_type": "code",
   "execution_count": 145,
   "metadata": {},
   "outputs": [],
   "source": [
    "rf6_roc_auc = LOOGS6_rf.grid_search()"
   ]
  },
  {
   "cell_type": "code",
   "execution_count": 146,
   "metadata": {},
   "outputs": [
    {
     "name": "stdout",
     "output_type": "stream",
     "text": [
      "0.7750538175130245\n"
     ]
    }
   ],
   "source": [
    "print(max(rf6_roc_auc))"
   ]
  },
  {
   "cell_type": "code",
   "execution_count": 147,
   "metadata": {},
   "outputs": [
    {
     "name": "stdout",
     "output_type": "stream",
     "text": [
      "generalization error: 0.08376868410407645\n",
      "roc_auc_score: 0.7730867346938776\n",
      "recall_score: 0.6836734693877551\n",
      "accuracy_score: 0.7945736434108527\n",
      "precision_score: 0.7528089887640449\n",
      "confusion_matrix: \n",
      "\n",
      "[[138  22]\n",
      " [ 31  67]]\n"
     ]
    }
   ],
   "source": [
    "scores_function(model=LOOGS6_rf, X_train=train6, X_test=test6, y_train=y_train , y_test=y_test, mode='loo')"
   ]
  },
  {
   "cell_type": "code",
   "execution_count": 148,
   "metadata": {},
   "outputs": [],
   "source": [
    "LOOGS6_log = LOOGridSearchCV(train_df=num_processed_train_df, model=log_clf, params_grid=log_param_grid, \n",
    "                        columns_to_encode=columns_to_encode,\n",
    "                        columns_to_drop_from_training=columns_to_drop_from_training6, \n",
    "                        Xs_train=LOOGS6_knn.Xs_train,\n",
    "                        ys_train=LOOGS6_knn.ys_train,\n",
    "                        Xs_val=LOOGS6_knn.Xs_val,\n",
    "                        ys_val=LOOGS6_knn.ys_val,\n",
    "                        encoded_df=LOOGS6_knn.encoded_df_,\n",
    "                        ohe_emails=False)"
   ]
  },
  {
   "cell_type": "code",
   "execution_count": 149,
   "metadata": {},
   "outputs": [],
   "source": [
    "log6_roc_auc = LOOGS6_log.grid_search()"
   ]
  },
  {
   "cell_type": "code",
   "execution_count": 150,
   "metadata": {},
   "outputs": [
    {
     "name": "stdout",
     "output_type": "stream",
     "text": [
      "0.7632253025639057\n"
     ]
    }
   ],
   "source": [
    "print(max(log6_roc_auc))"
   ]
  },
  {
   "cell_type": "code",
   "execution_count": 151,
   "metadata": {},
   "outputs": [
    {
     "name": "stdout",
     "output_type": "stream",
     "text": [
      "generalization error: 0.0034278113419280443\n",
      "roc_auc_score: 0.7574617346938776\n",
      "recall_score: 0.6836734693877551\n",
      "accuracy_score: 0.7751937984496124\n",
      "precision_score: 0.7127659574468085\n",
      "confusion_matrix: \n",
      "\n",
      "[[133  27]\n",
      " [ 31  67]]\n"
     ]
    }
   ],
   "source": [
    "scores_function(model=LOOGS6_log, X_train=train6, X_test=test6, y_train=y_train , y_test=y_test, mode='loo')"
   ]
  },
  {
   "cell_type": "markdown",
   "metadata": {},
   "source": [
    "**seventh set of chosen features**"
   ]
  },
  {
   "cell_type": "code",
   "execution_count": 152,
   "metadata": {},
   "outputs": [],
   "source": [
    "columns_to_use_for_training7 = ['customer_type', 'gender', 'emails', 'phone_calls', 'cc_startswith', 'cc_len',\n",
    "                                'scaled_salary', 'offer_class']"
   ]
  },
  {
   "cell_type": "code",
   "execution_count": 153,
   "metadata": {},
   "outputs": [],
   "source": [
    "features_set_seventh = processed_train_df[columns_to_use_for_training7]"
   ]
  },
  {
   "cell_type": "code",
   "execution_count": 154,
   "metadata": {},
   "outputs": [],
   "source": [
    "test7 = processed_test_df[columns_to_use_for_training7]"
   ]
  },
  {
   "cell_type": "code",
   "execution_count": 155,
   "metadata": {},
   "outputs": [],
   "source": [
    "features_set_seventh['phone_calls'] = features_set_seventh['phone_calls'].astype(int)\n",
    "features_set_seventh['emails'] = features_set_seventh['emails'].astype(int)"
   ]
  },
  {
   "cell_type": "code",
   "execution_count": 156,
   "metadata": {},
   "outputs": [],
   "source": [
    "test7['phone_calls'] = test7['phone_calls'].astype(int)\n",
    "test7['emails'] = test7['emails'].astype(int)"
   ]
  },
  {
   "cell_type": "markdown",
   "metadata": {},
   "source": [
    "convert back phone_calls and emails to numerical, one hot encoding on categoricals columns"
   ]
  },
  {
   "cell_type": "code",
   "execution_count": 157,
   "metadata": {},
   "outputs": [],
   "source": [
    "test7 = pd.get_dummies(test7)"
   ]
  },
  {
   "cell_type": "code",
   "execution_count": 158,
   "metadata": {},
   "outputs": [],
   "source": [
    "features_set_seventh = pd.get_dummies(features_set_seventh)"
   ]
  },
  {
   "cell_type": "code",
   "execution_count": 159,
   "metadata": {},
   "outputs": [],
   "source": [
    "roc_auc_scorer = make_scorer(roc_auc_score)"
   ]
  },
  {
   "cell_type": "code",
   "execution_count": 160,
   "metadata": {},
   "outputs": [],
   "source": [
    "knn7 = GridSearchCV(estimator=knn_clf, param_grid= knn_param_grid, cv=5, scoring=roc_auc_scorer)"
   ]
  },
  {
   "cell_type": "code",
   "execution_count": 161,
   "metadata": {},
   "outputs": [
    {
     "data": {
      "text/plain": [
       "GridSearchCV(cv=5, error_score='raise-deprecating',\n",
       "             estimator=KNeighborsClassifier(algorithm='auto', leaf_size=30,\n",
       "                                            metric='minkowski',\n",
       "                                            metric_params=None, n_jobs=None,\n",
       "                                            n_neighbors=5, p=2,\n",
       "                                            weights='uniform'),\n",
       "             iid='warn', n_jobs=None,\n",
       "             param_grid={'metric': ['minkowski'],\n",
       "                         'n_neighbors': [2, 4, 6, 8, 10, 12, 14, 16, 18, 20],\n",
       "                         'p': [1, 2, 3, 4],\n",
       "                         'weights': ['uniform', 'distance']},\n",
       "             pre_dispatch='2*n_jobs', refit=True, return_train_score=False,\n",
       "             scoring=make_scorer(roc_auc_score), verbose=0)"
      ]
     },
     "execution_count": 161,
     "metadata": {},
     "output_type": "execute_result"
    }
   ],
   "source": [
    "knn7.fit(features_set_seventh, y_train)"
   ]
  },
  {
   "cell_type": "code",
   "execution_count": 162,
   "metadata": {},
   "outputs": [
    {
     "data": {
      "text/plain": [
       "0.7491887805028064"
      ]
     },
     "execution_count": 162,
     "metadata": {},
     "output_type": "execute_result"
    }
   ],
   "source": [
    "max(knn7.cv_results_['mean_test_score'])"
   ]
  },
  {
   "cell_type": "code",
   "execution_count": 163,
   "metadata": {},
   "outputs": [
    {
     "name": "stdout",
     "output_type": "stream",
     "text": [
      "generalization error: 0.16847455014614532\n",
      "roc_auc_score: 0.7477678571428572\n",
      "recall_score: 0.7142857142857143\n",
      "accuracy_score: 0.7558139534883721\n",
      "precision_score: 0.6666666666666666\n",
      "confusion_matrix: \n",
      "\n",
      "[[125  35]\n",
      " [ 28  70]]\n"
     ]
    }
   ],
   "source": [
    "scores_function(model=knn7, X_train=features_set_seventh, X_test=test7, y_train=y_train, y_test=y_test, mode='skl')"
   ]
  },
  {
   "cell_type": "code",
   "execution_count": 164,
   "metadata": {},
   "outputs": [],
   "source": [
    "dt7 = GridSearchCV(estimator=dt_clf, param_grid= dt_param_grid, cv=5, scoring=roc_auc_scorer)"
   ]
  },
  {
   "cell_type": "code",
   "execution_count": 165,
   "metadata": {},
   "outputs": [
    {
     "data": {
      "text/plain": [
       "GridSearchCV(cv=5, error_score='raise-deprecating',\n",
       "             estimator=DecisionTreeClassifier(class_weight=None,\n",
       "                                              criterion='gini', max_depth=None,\n",
       "                                              max_features=None,\n",
       "                                              max_leaf_nodes=None,\n",
       "                                              min_impurity_decrease=0.0,\n",
       "                                              min_impurity_split=None,\n",
       "                                              min_samples_leaf=1,\n",
       "                                              min_samples_split=2,\n",
       "                                              min_weight_fraction_leaf=0.0,\n",
       "                                              presort=False, random_state=None,\n",
       "                                              splitter='best'),\n",
       "             iid='warn', n...\n",
       "             param_grid={'max_depth': [2, 4, 6, 8, 10, 12, 14, 16, 18, 20],\n",
       "                         'max_features': [2, 4, 6, 8],\n",
       "                         'min_samples_leaf': [0.1, 0.2, 0.30000000000000004,\n",
       "                                              0.4, 0.5],\n",
       "                         'min_samples_split': [0.1, 0.2, 0.30000000000000004,\n",
       "                                               0.4, 0.5, 0.6,\n",
       "                                               0.7000000000000001, 0.8, 0.9,\n",
       "                                               1.0],\n",
       "                         'random_state': [42]},\n",
       "             pre_dispatch='2*n_jobs', refit=True, return_train_score=False,\n",
       "             scoring=make_scorer(roc_auc_score), verbose=0)"
      ]
     },
     "execution_count": 165,
     "metadata": {},
     "output_type": "execute_result"
    }
   ],
   "source": [
    "dt7.fit(features_set_seventh, y_train)"
   ]
  },
  {
   "cell_type": "code",
   "execution_count": 166,
   "metadata": {},
   "outputs": [
    {
     "data": {
      "text/plain": [
       "0.7581682977014718"
      ]
     },
     "execution_count": 166,
     "metadata": {},
     "output_type": "execute_result"
    }
   ],
   "source": [
    "max(dt7.cv_results_['mean_test_score'])"
   ]
  },
  {
   "cell_type": "code",
   "execution_count": 167,
   "metadata": {},
   "outputs": [
    {
     "name": "stdout",
     "output_type": "stream",
     "text": [
      "generalization error: -0.004371639960331852\n",
      "roc_auc_score: 0.762563775510204\n",
      "recall_score: 0.6938775510204082\n",
      "accuracy_score: 0.7790697674418605\n",
      "precision_score: 0.7157894736842105\n",
      "confusion_matrix: \n",
      "\n",
      "[[133  27]\n",
      " [ 30  68]]\n"
     ]
    }
   ],
   "source": [
    "scores_function(model=dt7, X_train=features_set_seventh, X_test=test7, y_train=y_train, y_test=y_test, mode='skl')"
   ]
  },
  {
   "cell_type": "code",
   "execution_count": 168,
   "metadata": {},
   "outputs": [],
   "source": [
    "rf7 = GridSearchCV(estimator=rf_clf, param_grid= rf_param_grid, cv=5, scoring=roc_auc_scorer)"
   ]
  },
  {
   "cell_type": "code",
   "execution_count": 169,
   "metadata": {},
   "outputs": [
    {
     "data": {
      "text/plain": [
       "GridSearchCV(cv=5, error_score='raise-deprecating',\n",
       "             estimator=RandomForestClassifier(bootstrap=True, class_weight=None,\n",
       "                                              criterion='gini', max_depth=None,\n",
       "                                              max_features='auto',\n",
       "                                              max_leaf_nodes=None,\n",
       "                                              min_impurity_decrease=0.0,\n",
       "                                              min_impurity_split=None,\n",
       "                                              min_samples_leaf=1,\n",
       "                                              min_samples_split=2,\n",
       "                                              min_weight_fraction_leaf=0.0,\n",
       "                                              n_estimators='warn', n_jobs=None,\n",
       "                                              oob_score=False,\n",
       "                                              random_state=None, verbose=0,\n",
       "                                              warm_start=False),\n",
       "             iid='warn', n_jobs=None,\n",
       "             param_grid={'max_depth': [2, 4, 6, 8, 10],\n",
       "                         'max_features': [2, 4, 6, 8],\n",
       "                         'n_estimators': [4, 8, 10, 20, 30, 50, 70, 90, 100,\n",
       "                                          200],\n",
       "                         'random_state': [42]},\n",
       "             pre_dispatch='2*n_jobs', refit=True, return_train_score=False,\n",
       "             scoring=make_scorer(roc_auc_score), verbose=0)"
      ]
     },
     "execution_count": 169,
     "metadata": {},
     "output_type": "execute_result"
    }
   ],
   "source": [
    "rf7.fit(features_set_seventh, y_train)"
   ]
  },
  {
   "cell_type": "code",
   "execution_count": 170,
   "metadata": {},
   "outputs": [
    {
     "data": {
      "text/plain": [
       "0.784362322962206"
      ]
     },
     "execution_count": 170,
     "metadata": {},
     "output_type": "execute_result"
    }
   ],
   "source": [
    "max(rf7.cv_results_['mean_test_score'])"
   ]
  },
  {
   "cell_type": "code",
   "execution_count": 171,
   "metadata": {},
   "outputs": [
    {
     "name": "stdout",
     "output_type": "stream",
     "text": [
      "generalization error: 0.05817113530194695\n",
      "roc_auc_score: 0.7785076530612245\n",
      "recall_score: 0.6632653061224489\n",
      "accuracy_score: 0.8062015503875969\n",
      "precision_score: 0.7926829268292683\n",
      "confusion_matrix: \n",
      "\n",
      "[[143  17]\n",
      " [ 33  65]]\n"
     ]
    }
   ],
   "source": [
    "scores_function(model=rf7, X_train=features_set_seventh, X_test=test7, y_train=y_train, y_test=y_test, mode='skl')"
   ]
  },
  {
   "cell_type": "code",
   "execution_count": 172,
   "metadata": {},
   "outputs": [],
   "source": [
    "log7 = GridSearchCV(estimator=log_clf, param_grid= log_param_grid, cv=5, scoring=roc_auc_scorer)"
   ]
  },
  {
   "cell_type": "code",
   "execution_count": 173,
   "metadata": {},
   "outputs": [
    {
     "data": {
      "text/plain": [
       "GridSearchCV(cv=5, error_score='raise-deprecating',\n",
       "             estimator=LogisticRegression(C=1.0, class_weight=None, dual=False,\n",
       "                                          fit_intercept=True,\n",
       "                                          intercept_scaling=1, l1_ratio=None,\n",
       "                                          max_iter=100, multi_class='warn',\n",
       "                                          n_jobs=None, penalty='l2',\n",
       "                                          random_state=None, solver='warn',\n",
       "                                          tol=0.0001, verbose=0,\n",
       "                                          warm_start=False),\n",
       "             iid='warn', n_jobs=None,\n",
       "             param_grid={'C': [0.01, 0.05, 0.1, 0.2, 0.5, 0.6, 0.7, 0.8, 1, 2,\n",
       "                               5, 10],\n",
       "                         'random_state': [42]},\n",
       "             pre_dispatch='2*n_jobs', refit=True, return_train_score=False,\n",
       "             scoring=make_scorer(roc_auc_score), verbose=0)"
      ]
     },
     "execution_count": 173,
     "metadata": {},
     "output_type": "execute_result"
    }
   ],
   "source": [
    "log7.fit(features_set_seventh, y_train)"
   ]
  },
  {
   "cell_type": "code",
   "execution_count": 174,
   "metadata": {},
   "outputs": [
    {
     "data": {
      "text/plain": [
       "0.7658254188911985"
      ]
     },
     "execution_count": 174,
     "metadata": {},
     "output_type": "execute_result"
    }
   ],
   "source": [
    "max(log7.cv_results_['mean_test_score'])"
   ]
  },
  {
   "cell_type": "code",
   "execution_count": 175,
   "metadata": {},
   "outputs": [
    {
     "name": "stdout",
     "output_type": "stream",
     "text": [
      "generalization error: 0.01564807988412764\n",
      "roc_auc_score: 0.7574617346938776\n",
      "recall_score: 0.6836734693877551\n",
      "accuracy_score: 0.7751937984496124\n",
      "precision_score: 0.7127659574468085\n",
      "confusion_matrix: \n",
      "\n",
      "[[133  27]\n",
      " [ 31  67]]\n"
     ]
    }
   ],
   "source": [
    "scores_function(model=log7, X_train=features_set_seventh, X_test=test7, y_train=y_train, y_test=y_test, mode='skl')"
   ]
  },
  {
   "cell_type": "markdown",
   "metadata": {},
   "source": [
    "**eighth set of chosen features**"
   ]
  },
  {
   "cell_type": "markdown",
   "metadata": {},
   "source": [
    "convert back phone_calls and emails to numerical, one hot encoding on categoricals columns"
   ]
  },
  {
   "cell_type": "code",
   "execution_count": 176,
   "metadata": {},
   "outputs": [],
   "source": [
    "columns_to_use_for_training8 = ['customer_type',  'emails', 'phone_calls', 'scaled_salary', 'gender', 'scaled_offer_value_knn']"
   ]
  },
  {
   "cell_type": "code",
   "execution_count": 177,
   "metadata": {},
   "outputs": [],
   "source": [
    "features_set_eighth = num_processed_train_df[columns_to_use_for_training8]"
   ]
  },
  {
   "cell_type": "code",
   "execution_count": 178,
   "metadata": {},
   "outputs": [],
   "source": [
    "features_set_eighth['phone_calls'] = features_set_eighth['phone_calls'].astype(int)\n",
    "features_set_eighth['emails'] = features_set_eighth['emails'].astype(int)"
   ]
  },
  {
   "cell_type": "code",
   "execution_count": 179,
   "metadata": {},
   "outputs": [],
   "source": [
    "test8 = processed_test_df[columns_to_use_for_training8]"
   ]
  },
  {
   "cell_type": "code",
   "execution_count": 180,
   "metadata": {},
   "outputs": [],
   "source": [
    "test8['phone_calls'] = test8['phone_calls'].astype(int)\n",
    "test8['emails'] = test8['emails'].astype(int)"
   ]
  },
  {
   "cell_type": "code",
   "execution_count": 181,
   "metadata": {},
   "outputs": [],
   "source": [
    "features_set_eighth = pd.get_dummies(features_set_eighth)"
   ]
  },
  {
   "cell_type": "code",
   "execution_count": 182,
   "metadata": {},
   "outputs": [],
   "source": [
    "test8 = pd.get_dummies(test8)"
   ]
  },
  {
   "cell_type": "code",
   "execution_count": 183,
   "metadata": {},
   "outputs": [],
   "source": [
    "knn8 = GridSearchCV(estimator=knn_clf, param_grid= knn_param_grid, cv=5, scoring=roc_auc_scorer)"
   ]
  },
  {
   "cell_type": "code",
   "execution_count": 184,
   "metadata": {},
   "outputs": [
    {
     "data": {
      "text/plain": [
       "GridSearchCV(cv=5, error_score='raise-deprecating',\n",
       "             estimator=KNeighborsClassifier(algorithm='auto', leaf_size=30,\n",
       "                                            metric='minkowski',\n",
       "                                            metric_params=None, n_jobs=None,\n",
       "                                            n_neighbors=5, p=2,\n",
       "                                            weights='uniform'),\n",
       "             iid='warn', n_jobs=None,\n",
       "             param_grid={'metric': ['minkowski'],\n",
       "                         'n_neighbors': [2, 4, 6, 8, 10, 12, 14, 16, 18, 20],\n",
       "                         'p': [1, 2, 3, 4],\n",
       "                         'weights': ['uniform', 'distance']},\n",
       "             pre_dispatch='2*n_jobs', refit=True, return_train_score=False,\n",
       "             scoring=make_scorer(roc_auc_score), verbose=0)"
      ]
     },
     "execution_count": 184,
     "metadata": {},
     "output_type": "execute_result"
    }
   ],
   "source": [
    "knn8.fit(features_set_eighth, y_train)"
   ]
  },
  {
   "cell_type": "code",
   "execution_count": 185,
   "metadata": {},
   "outputs": [
    {
     "data": {
      "text/plain": [
       "0.7630050669685231"
      ]
     },
     "execution_count": 185,
     "metadata": {},
     "output_type": "execute_result"
    }
   ],
   "source": [
    "max(knn8.cv_results_['mean_test_score'])"
   ]
  },
  {
   "cell_type": "code",
   "execution_count": 186,
   "metadata": {},
   "outputs": [
    {
     "name": "stdout",
     "output_type": "stream",
     "text": [
      "generalization error: 0.2617984693877551\n",
      "roc_auc_score: 0.7382015306122449\n",
      "recall_score: 0.6326530612244898\n",
      "accuracy_score: 0.7635658914728682\n",
      "precision_score: 0.7126436781609196\n",
      "confusion_matrix: \n",
      "\n",
      "[[135  25]\n",
      " [ 36  62]]\n"
     ]
    }
   ],
   "source": [
    "scores_function(model=knn8, X_train=features_set_eighth, X_test=test8, y_train=y_train, y_test=y_test, mode='skl')"
   ]
  },
  {
   "cell_type": "code",
   "execution_count": 187,
   "metadata": {},
   "outputs": [],
   "source": [
    "dt8 = GridSearchCV(estimator=dt_clf, param_grid= dt_param_grid, cv=5, scoring=roc_auc_scorer)"
   ]
  },
  {
   "cell_type": "code",
   "execution_count": 188,
   "metadata": {},
   "outputs": [
    {
     "data": {
      "text/plain": [
       "GridSearchCV(cv=5, error_score='raise-deprecating',\n",
       "             estimator=DecisionTreeClassifier(class_weight=None,\n",
       "                                              criterion='gini', max_depth=None,\n",
       "                                              max_features=None,\n",
       "                                              max_leaf_nodes=None,\n",
       "                                              min_impurity_decrease=0.0,\n",
       "                                              min_impurity_split=None,\n",
       "                                              min_samples_leaf=1,\n",
       "                                              min_samples_split=2,\n",
       "                                              min_weight_fraction_leaf=0.0,\n",
       "                                              presort=False, random_state=None,\n",
       "                                              splitter='best'),\n",
       "             iid='warn', n...\n",
       "             param_grid={'max_depth': [2, 4, 6, 8, 10, 12, 14, 16, 18, 20],\n",
       "                         'max_features': [2, 4, 6, 8],\n",
       "                         'min_samples_leaf': [0.1, 0.2, 0.30000000000000004,\n",
       "                                              0.4, 0.5],\n",
       "                         'min_samples_split': [0.1, 0.2, 0.30000000000000004,\n",
       "                                               0.4, 0.5, 0.6,\n",
       "                                               0.7000000000000001, 0.8, 0.9,\n",
       "                                               1.0],\n",
       "                         'random_state': [42]},\n",
       "             pre_dispatch='2*n_jobs', refit=True, return_train_score=False,\n",
       "             scoring=make_scorer(roc_auc_score), verbose=0)"
      ]
     },
     "execution_count": 188,
     "metadata": {},
     "output_type": "execute_result"
    }
   ],
   "source": [
    "dt8.fit(features_set_eighth, y_train)"
   ]
  },
  {
   "cell_type": "code",
   "execution_count": 189,
   "metadata": {},
   "outputs": [
    {
     "data": {
      "text/plain": [
       "0.7581682977014718"
      ]
     },
     "execution_count": 189,
     "metadata": {},
     "output_type": "execute_result"
    }
   ],
   "source": [
    "max(dt8.cv_results_['mean_test_score'])"
   ]
  },
  {
   "cell_type": "code",
   "execution_count": 190,
   "metadata": {},
   "outputs": [
    {
     "name": "stdout",
     "output_type": "stream",
     "text": [
      "generalization error: -0.004371639960331852\n",
      "roc_auc_score: 0.762563775510204\n",
      "recall_score: 0.6938775510204082\n",
      "accuracy_score: 0.7790697674418605\n",
      "precision_score: 0.7157894736842105\n",
      "confusion_matrix: \n",
      "\n",
      "[[133  27]\n",
      " [ 30  68]]\n"
     ]
    }
   ],
   "source": [
    "scores_function(model=dt8, X_train=features_set_eighth, X_test=test8, y_train=y_train, y_test=y_test, mode='skl')"
   ]
  },
  {
   "cell_type": "code",
   "execution_count": 191,
   "metadata": {},
   "outputs": [],
   "source": [
    "rf8 = GridSearchCV(estimator=rf_clf, param_grid= rf_param_grid, cv=5, scoring=roc_auc_scorer)"
   ]
  },
  {
   "cell_type": "code",
   "execution_count": 192,
   "metadata": {},
   "outputs": [
    {
     "data": {
      "text/plain": [
       "GridSearchCV(cv=5, error_score='raise-deprecating',\n",
       "             estimator=RandomForestClassifier(bootstrap=True, class_weight=None,\n",
       "                                              criterion='gini', max_depth=None,\n",
       "                                              max_features='auto',\n",
       "                                              max_leaf_nodes=None,\n",
       "                                              min_impurity_decrease=0.0,\n",
       "                                              min_impurity_split=None,\n",
       "                                              min_samples_leaf=1,\n",
       "                                              min_samples_split=2,\n",
       "                                              min_weight_fraction_leaf=0.0,\n",
       "                                              n_estimators='warn', n_jobs=None,\n",
       "                                              oob_score=False,\n",
       "                                              random_state=None, verbose=0,\n",
       "                                              warm_start=False),\n",
       "             iid='warn', n_jobs=None,\n",
       "             param_grid={'max_depth': [2, 4, 6, 8, 10],\n",
       "                         'max_features': [2, 4, 6, 8],\n",
       "                         'n_estimators': [4, 8, 10, 20, 30, 50, 70, 90, 100,\n",
       "                                          200],\n",
       "                         'random_state': [42]},\n",
       "             pre_dispatch='2*n_jobs', refit=True, return_train_score=False,\n",
       "             scoring=make_scorer(roc_auc_score), verbose=0)"
      ]
     },
     "execution_count": 192,
     "metadata": {},
     "output_type": "execute_result"
    }
   ],
   "source": [
    "rf8.fit(features_set_eighth, y_train)"
   ]
  },
  {
   "cell_type": "code",
   "execution_count": 193,
   "metadata": {},
   "outputs": [
    {
     "data": {
      "text/plain": [
       "0.7649902405697634"
      ]
     },
     "execution_count": 193,
     "metadata": {},
     "output_type": "execute_result"
    }
   ],
   "source": [
    "max(rf8.cv_results_['mean_test_score'])"
   ]
  },
  {
   "cell_type": "code",
   "execution_count": 194,
   "metadata": {},
   "outputs": [
    {
     "name": "stdout",
     "output_type": "stream",
     "text": [
      "generalization error: 0.011537087661151468\n",
      "roc_auc_score: 0.762563775510204\n",
      "recall_score: 0.6938775510204082\n",
      "accuracy_score: 0.7790697674418605\n",
      "precision_score: 0.7157894736842105\n",
      "confusion_matrix: \n",
      "\n",
      "[[133  27]\n",
      " [ 30  68]]\n"
     ]
    }
   ],
   "source": [
    "scores_function(model=rf8, X_train=features_set_eighth, X_test=test8, y_train=y_train, y_test=y_test, mode='skl')"
   ]
  },
  {
   "cell_type": "code",
   "execution_count": 195,
   "metadata": {},
   "outputs": [],
   "source": [
    "log8 = GridSearchCV(estimator=log_clf, param_grid= log_param_grid, cv=5, scoring=roc_auc_scorer)"
   ]
  },
  {
   "cell_type": "code",
   "execution_count": 196,
   "metadata": {},
   "outputs": [
    {
     "data": {
      "text/plain": [
       "GridSearchCV(cv=5, error_score='raise-deprecating',\n",
       "             estimator=LogisticRegression(C=1.0, class_weight=None, dual=False,\n",
       "                                          fit_intercept=True,\n",
       "                                          intercept_scaling=1, l1_ratio=None,\n",
       "                                          max_iter=100, multi_class='warn',\n",
       "                                          n_jobs=None, penalty='l2',\n",
       "                                          random_state=None, solver='warn',\n",
       "                                          tol=0.0001, verbose=0,\n",
       "                                          warm_start=False),\n",
       "             iid='warn', n_jobs=None,\n",
       "             param_grid={'C': [0.01, 0.05, 0.1, 0.2, 0.5, 0.6, 0.7, 0.8, 1, 2,\n",
       "                               5, 10],\n",
       "                         'random_state': [42]},\n",
       "             pre_dispatch='2*n_jobs', refit=True, return_train_score=False,\n",
       "             scoring=make_scorer(roc_auc_score), verbose=0)"
      ]
     },
     "execution_count": 196,
     "metadata": {},
     "output_type": "execute_result"
    }
   ],
   "source": [
    "log8.fit(features_set_eighth, y_train)"
   ]
  },
  {
   "cell_type": "code",
   "execution_count": 197,
   "metadata": {},
   "outputs": [
    {
     "data": {
      "text/plain": [
       "0.7651927278663604"
      ]
     },
     "execution_count": 197,
     "metadata": {},
     "output_type": "execute_result"
    }
   ],
   "source": [
    "max(log8.cv_results_['mean_test_score'])"
   ]
  },
  {
   "cell_type": "code",
   "execution_count": 198,
   "metadata": {},
   "outputs": [
    {
     "name": "stdout",
     "output_type": "stream",
     "text": [
      "generalization error: 0.0075478560989613586\n",
      "roc_auc_score: 0.7543367346938775\n",
      "recall_score: 0.6836734693877551\n",
      "accuracy_score: 0.7713178294573644\n",
      "precision_score: 0.7052631578947368\n",
      "confusion_matrix: \n",
      "\n",
      "[[132  28]\n",
      " [ 31  67]]\n"
     ]
    }
   ],
   "source": [
    "scores_function(model=log8, X_train=features_set_eighth, X_test=test8, y_train=y_train, y_test=y_test, mode='skl')"
   ]
  },
  {
   "cell_type": "raw",
   "metadata": {},
   "source": [
    "#### SUMMARY: Final model"
   ]
  },
  {
   "cell_type": "raw",
   "metadata": {},
   "source": [
    "import pickle\n",
    "\n",
    "from pathlib import Path"
   ]
  },
  {
   "cell_type": "raw",
   "metadata": {},
   "source": [
    "models_path = Path('/Users/mjasiecz/PycharmProjects/new_offer_success_predictor/models/final_model.pickle')"
   ]
  },
  {
   "cell_type": "raw",
   "metadata": {},
   "source": [
    "if models_path.exists():\n",
    "    print('the best model is already pickled.')\n",
    "else:\n",
    "    with  open(models_path, 'wb') as f:\n",
    "        pickle.dump(LOOGS1_rf.best_roc_auc_estimator, f)"
   ]
  },
  {
   "cell_type": "raw",
   "metadata": {},
   "source": [
    "final_model = pickle.load(open(models_path, 'rb'))"
   ]
  },
  {
   "cell_type": "raw",
   "metadata": {},
   "source": [
    "final_model"
   ]
  },
  {
   "cell_type": "raw",
   "metadata": {},
   "source": [
    "scores_function(model=final_model, X_train=train1 , X_test=test1, y_train=y_train , y_test=y_test, mode='pickle')"
   ]
  },
  {
   "cell_type": "raw",
   "metadata": {},
   "source": [
    "customer_names = test1.reset_index()[['name']]"
   ]
  },
  {
   "cell_type": "raw",
   "metadata": {},
   "source": [
    "probabilities = pd.DataFrame({'probability': final_model.predict_proba(test1)[:, 1]})"
   ]
  },
  {
   "cell_type": "raw",
   "metadata": {},
   "source": [
    "final_list_of_probabilities = pd.merge(customer_names, probabilities, how='inner', on=customer_names.index)"
   ]
  },
  {
   "cell_type": "raw",
   "metadata": {},
   "source": [
    "final_list_of_probabilities = final_list_of_probabilities[['name', 'probability']]"
   ]
  },
  {
   "cell_type": "raw",
   "metadata": {},
   "source": [
    "final_list_of_probabilities.head()"
   ]
  },
  {
   "cell_type": "raw",
   "metadata": {},
   "source": [
    "#### Factors impacting classification results"
   ]
  },
  {
   "cell_type": "raw",
   "metadata": {},
   "source": [
    "import shap"
   ]
  },
  {
   "cell_type": "raw",
   "metadata": {},
   "source": [
    "explainer = shap.TreeExplainer(final_model)"
   ]
  },
  {
   "cell_type": "raw",
   "metadata": {},
   "source": [
    "shap_values = explainer.shap_values(test1)"
   ]
  },
  {
   "cell_type": "raw",
   "metadata": {},
   "source": [
    "test1.head()# <- look at during presentation preparation <- it should contain many valuable information on how to interpet shap value"
   ]
  },
  {
   "cell_type": "raw",
   "metadata": {},
   "source": [
    "shap.summary_plot(shap_values[1], test1)"
   ]
  },
  {
   "cell_type": "raw",
   "metadata": {},
   "source": [
    "in classification problems, there are separate array of SHAP values for each possible outcome. In this case, we use 1 as an index to get the SHAP values for the prediction of True (i.e. which features and how had the most impact on being assessed as a person, who will accept new offer)"
   ]
  },
  {
   "cell_type": "raw",
   "metadata": {},
   "source": [
    "#### one extra model approach: using outcome of shap value plot"
   ]
  },
  {
   "cell_type": "raw",
   "metadata": {},
   "source": [
    "columns_to_drop_from_training_add = ['center', 'salary',\n",
    "                                     'age', 'age_knn', 'scaled_age_knn', 'log_offer_value_knn', 'offer_value_knn',\n",
    "                                     'estimated_expenses_knn', 'log_age_knn', 'log_estimated_expenses_knn',\n",
    "                                     'scaled_salary', 'nan_age', 'not_nan_age',\n",
    "                                     'scaled_offer_value_knn', 'scaled_estimated_expenses_knn']"
   ]
  },
  {
   "cell_type": "raw",
   "metadata": {},
   "source": [
    "rf_add_param_grid = {'n_estimators': [4, 8, 10, 20, 30, 50, 70, 90, 100, 200],\n",
    "                 'max_depth': list(np.linspace(2, 10 , 5, endpoint=True).astype(int)),\n",
    "                 'max_features': list(np.linspace(2, 6, 3, endpoint=True).astype(int)),\n",
    "                 'max_leaf_nodes': [2,4,6],\n",
    "                 'random_state': [42]}"
   ]
  },
  {
   "cell_type": "raw",
   "metadata": {},
   "source": [
    "new_columns_to_encode = ['gender', 'cc_len', 'cc_startswith', 'offer_class', 'customer_type', 'phone_calls']"
   ]
  },
  {
   "cell_type": "raw",
   "metadata": {},
   "source": [
    "set(all_train_features).difference(set(columns_to_drop_from_training_add))"
   ]
  },
  {
   "cell_type": "raw",
   "metadata": {},
   "source": [
    "add_processed_train_df = processed_train_df.copy(deep=True)"
   ]
  },
  {
   "cell_type": "raw",
   "metadata": {},
   "source": [
    "add_processed_train_df['emails'] = add_processed_train_df['emails'].astype(int)"
   ]
  },
  {
   "cell_type": "raw",
   "metadata": {},
   "source": [
    "add_rf = LOOGridSearchCV(train_df=add_processed_train_df, model=rf_clf, params_grid=rf_add_param_grid, \n",
    "                        columns_to_encode=new_columns_to_encode,\n",
    "                        columns_to_drop_from_training=columns_to_drop_from_training_add, ohe_emails=False)"
   ]
  },
  {
   "cell_type": "raw",
   "metadata": {},
   "source": [
    "add_rf_roc_auc = add_rf.grid_search()"
   ]
  },
  {
   "cell_type": "raw",
   "metadata": {},
   "source": [
    "train_add = add_rf.processed_train()"
   ]
  },
  {
   "cell_type": "raw",
   "metadata": {},
   "source": [
    "test_add = test_df_encoded_numemails[add_rf.processed_train().columns.values]"
   ]
  },
  {
   "cell_type": "raw",
   "metadata": {},
   "source": [
    "print(max(add_rf_roc_auc))"
   ]
  },
  {
   "cell_type": "raw",
   "metadata": {},
   "source": [
    "scores_function(model=add_rf, X_train=train_add , X_test=test_add, y_train=y_train , y_test=y_test, mode='loo')"
   ]
  }
 ],
 "metadata": {
  "kernelspec": {
   "display_name": "Python 3",
   "language": "python",
   "name": "python3"
  },
  "language_info": {
   "codemirror_mode": {
    "name": "ipython",
    "version": 3
   },
   "file_extension": ".py",
   "mimetype": "text/x-python",
   "name": "python",
   "nbconvert_exporter": "python",
   "pygments_lexer": "ipython3",
   "version": "3.6.9"
  }
 },
 "nbformat": 4,
 "nbformat_minor": 4
}
