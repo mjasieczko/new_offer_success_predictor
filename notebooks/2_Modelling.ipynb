{
 "cells": [
  {
   "cell_type": "markdown",
   "metadata": {},
   "source": [
    "**using this there is no need to reload your packages every time when you will make any improvement to them**"
   ]
  },
  {
   "cell_type": "code",
   "execution_count": 597,
   "metadata": {},
   "outputs": [
    {
     "name": "stdout",
     "output_type": "stream",
     "text": [
      "The autoreload extension is already loaded. To reload it, use:\n",
      "  %reload_ext autoreload\n"
     ]
    }
   ],
   "source": [
    "%load_ext autoreload"
   ]
  },
  {
   "cell_type": "code",
   "execution_count": 598,
   "metadata": {},
   "outputs": [],
   "source": [
    "autoreload 2"
   ]
  },
  {
   "cell_type": "markdown",
   "metadata": {},
   "source": [
    "**import necessary libraries**"
   ]
  },
  {
   "cell_type": "code",
   "execution_count": 599,
   "metadata": {},
   "outputs": [],
   "source": [
    "import numpy as np\n",
    "import pandas as pd \n",
    "import sys\n",
    "import warnings"
   ]
  },
  {
   "cell_type": "markdown",
   "metadata": {},
   "source": [
    "**set warnings options**"
   ]
  },
  {
   "cell_type": "code",
   "execution_count": 600,
   "metadata": {},
   "outputs": [],
   "source": [
    "warnings.filterwarnings('ignore')"
   ]
  },
  {
   "cell_type": "markdown",
   "metadata": {},
   "source": [
    "#### to have ease in importing modules"
   ]
  },
  {
   "cell_type": "code",
   "execution_count": 601,
   "metadata": {},
   "outputs": [],
   "source": [
    "sys.path.insert(0, '/Users/mjasiecz/PycharmProjects/new_offer_success_predictor/src')"
   ]
  },
  {
   "cell_type": "markdown",
   "metadata": {},
   "source": [
    "**set pandas options**"
   ]
  },
  {
   "cell_type": "code",
   "execution_count": 602,
   "metadata": {},
   "outputs": [],
   "source": [
    "pd.options.display.max_rows = None\n",
    "pd.options.display.max_columns = None\n",
    "pd.options.display.max_colwidth = 200"
   ]
  },
  {
   "cell_type": "markdown",
   "metadata": {},
   "source": [
    "**balancing dataset**"
   ]
  },
  {
   "cell_type": "code",
   "execution_count": 603,
   "metadata": {},
   "outputs": [],
   "source": [
    "from imblearn.over_sampling import SMOTE\n",
    "from imblearn.combine import SMOTEENN"
   ]
  },
  {
   "cell_type": "markdown",
   "metadata": {},
   "source": [
    "**import packages for manage and preprocess data**"
   ]
  },
  {
   "cell_type": "code",
   "execution_count": 604,
   "metadata": {},
   "outputs": [],
   "source": [
    "from data.data_manager import DataManager\n",
    "from data.data_processor import DataProcessor, TestDataProcessor\n",
    "from ml_preprocessing.categorical_encoders import LeaveOneOutEncoder"
   ]
  },
  {
   "cell_type": "markdown",
   "metadata": {},
   "source": [
    "**load data pipeline**"
   ]
  },
  {
   "cell_type": "code",
   "execution_count": 605,
   "metadata": {},
   "outputs": [],
   "source": [
    "DM = DataManager()\n",
    "train_df, test_df = DM.load_train_test()"
   ]
  },
  {
   "cell_type": "code",
   "execution_count": 606,
   "metadata": {},
   "outputs": [
    {
     "data": {
      "text/html": [
       "<div>\n",
       "<style scoped>\n",
       "    .dataframe tbody tr th:only-of-type {\n",
       "        vertical-align: middle;\n",
       "    }\n",
       "\n",
       "    .dataframe tbody tr th {\n",
       "        vertical-align: top;\n",
       "    }\n",
       "\n",
       "    .dataframe thead th {\n",
       "        text-align: right;\n",
       "    }\n",
       "</style>\n",
       "<table border=\"1\" class=\"dataframe\">\n",
       "  <thead>\n",
       "    <tr style=\"text-align: right;\">\n",
       "      <th></th>\n",
       "      <th>accepted</th>\n",
       "      <th>offer_class</th>\n",
       "      <th>gender</th>\n",
       "      <th>age</th>\n",
       "      <th>phone_calls</th>\n",
       "      <th>emails</th>\n",
       "      <th>customer_code</th>\n",
       "      <th>salary</th>\n",
       "      <th>offer_code</th>\n",
       "      <th>customer_type</th>\n",
       "      <th>number</th>\n",
       "      <th>offer_value</th>\n",
       "      <th>estimated_expenses</th>\n",
       "      <th>center</th>\n",
       "    </tr>\n",
       "    <tr>\n",
       "      <th>name</th>\n",
       "      <th></th>\n",
       "      <th></th>\n",
       "      <th></th>\n",
       "      <th></th>\n",
       "      <th></th>\n",
       "      <th></th>\n",
       "      <th></th>\n",
       "      <th></th>\n",
       "      <th></th>\n",
       "      <th></th>\n",
       "      <th></th>\n",
       "      <th></th>\n",
       "      <th></th>\n",
       "      <th></th>\n",
       "    </tr>\n",
       "  </thead>\n",
       "  <tbody>\n",
       "    <tr>\n",
       "      <th>8550AB469CB2445</th>\n",
       "      <td>no</td>\n",
       "      <td>Premium</td>\n",
       "      <td>female</td>\n",
       "      <td>NaN</td>\n",
       "      <td>1.0</td>\n",
       "      <td>2.0</td>\n",
       "      <td>2678</td>\n",
       "      <td>1524.58</td>\n",
       "      <td>8CA</td>\n",
       "      <td>C</td>\n",
       "      <td>0F2A2</td>\n",
       "      <td>303.973257</td>\n",
       "      <td>7207.0</td>\n",
       "      <td>B</td>\n",
       "    </tr>\n",
       "    <tr>\n",
       "      <th>07355EE27DD1493</th>\n",
       "      <td>no</td>\n",
       "      <td>High</td>\n",
       "      <td>male</td>\n",
       "      <td>32.0</td>\n",
       "      <td>0.0</td>\n",
       "      <td>0.0</td>\n",
       "      <td>244360</td>\n",
       "      <td>1300.00</td>\n",
       "      <td>9DD</td>\n",
       "      <td>S</td>\n",
       "      <td>5F15A</td>\n",
       "      <td>64.075055</td>\n",
       "      <td>3675.0</td>\n",
       "      <td>A</td>\n",
       "    </tr>\n",
       "    <tr>\n",
       "      <th>034E73A251554F0</th>\n",
       "      <td>yes</td>\n",
       "      <td>Premium</td>\n",
       "      <td>female</td>\n",
       "      <td>NaN</td>\n",
       "      <td>1.0</td>\n",
       "      <td>1.0</td>\n",
       "      <td>370365</td>\n",
       "      <td>1550.00</td>\n",
       "      <td>517</td>\n",
       "      <td>Q</td>\n",
       "      <td>AC578</td>\n",
       "      <td>108.581750</td>\n",
       "      <td>4750.0</td>\n",
       "      <td>B</td>\n",
       "    </tr>\n",
       "    <tr>\n",
       "      <th>0AF961B4AC7A439</th>\n",
       "      <td>no</td>\n",
       "      <td>Premium</td>\n",
       "      <td>male</td>\n",
       "      <td>NaN</td>\n",
       "      <td>0.0</td>\n",
       "      <td>1.0</td>\n",
       "      <td>2652</td>\n",
       "      <td>722.92</td>\n",
       "      <td>9CB</td>\n",
       "      <td>C</td>\n",
       "      <td>8A8CC</td>\n",
       "      <td>155.495957</td>\n",
       "      <td>1401.0</td>\n",
       "      <td>A</td>\n",
       "    </tr>\n",
       "    <tr>\n",
       "      <th>8535BBCA690A4AE</th>\n",
       "      <td>yes</td>\n",
       "      <td>Premium</td>\n",
       "      <td>male</td>\n",
       "      <td>NaN</td>\n",
       "      <td>0.0</td>\n",
       "      <td>1.0</td>\n",
       "      <td>1601</td>\n",
       "      <td>5649.58</td>\n",
       "      <td>6FF</td>\n",
       "      <td>S</td>\n",
       "      <td>42EFB</td>\n",
       "      <td>121.371033</td>\n",
       "      <td>2106.0</td>\n",
       "      <td>B</td>\n",
       "    </tr>\n",
       "  </tbody>\n",
       "</table>\n",
       "</div>"
      ],
      "text/plain": [
       "                accepted offer_class  gender   age  phone_calls  emails  \\\n",
       "name                                                                      \n",
       "8550AB469CB2445       no     Premium  female   NaN          1.0     2.0   \n",
       "07355EE27DD1493       no        High    male  32.0          0.0     0.0   \n",
       "034E73A251554F0      yes     Premium  female   NaN          1.0     1.0   \n",
       "0AF961B4AC7A439       no     Premium    male   NaN          0.0     1.0   \n",
       "8535BBCA690A4AE      yes     Premium    male   NaN          0.0     1.0   \n",
       "\n",
       "                customer_code   salary offer_code customer_type number  \\\n",
       "name                                                                     \n",
       "8550AB469CB2445          2678  1524.58        8CA             C  0F2A2   \n",
       "07355EE27DD1493        244360  1300.00        9DD             S  5F15A   \n",
       "034E73A251554F0        370365  1550.00        517             Q  AC578   \n",
       "0AF961B4AC7A439          2652   722.92        9CB             C  8A8CC   \n",
       "8535BBCA690A4AE          1601  5649.58        6FF             S  42EFB   \n",
       "\n",
       "                 offer_value  estimated_expenses center  \n",
       "name                                                     \n",
       "8550AB469CB2445   303.973257              7207.0      B  \n",
       "07355EE27DD1493    64.075055              3675.0      A  \n",
       "034E73A251554F0   108.581750              4750.0      B  \n",
       "0AF961B4AC7A439   155.495957              1401.0      A  \n",
       "8535BBCA690A4AE   121.371033              2106.0      B  "
      ]
     },
     "execution_count": 606,
     "metadata": {},
     "output_type": "execute_result"
    }
   ],
   "source": [
    "train_df.head()"
   ]
  },
  {
   "cell_type": "code",
   "execution_count": 607,
   "metadata": {},
   "outputs": [
    {
     "data": {
      "text/plain": [
       "(1031, 14)"
      ]
     },
     "execution_count": 607,
     "metadata": {},
     "output_type": "execute_result"
    }
   ],
   "source": [
    "train_df.shape"
   ]
  },
  {
   "cell_type": "code",
   "execution_count": 608,
   "metadata": {},
   "outputs": [
    {
     "data": {
      "text/html": [
       "<div>\n",
       "<style scoped>\n",
       "    .dataframe tbody tr th:only-of-type {\n",
       "        vertical-align: middle;\n",
       "    }\n",
       "\n",
       "    .dataframe tbody tr th {\n",
       "        vertical-align: top;\n",
       "    }\n",
       "\n",
       "    .dataframe thead th {\n",
       "        text-align: right;\n",
       "    }\n",
       "</style>\n",
       "<table border=\"1\" class=\"dataframe\">\n",
       "  <thead>\n",
       "    <tr style=\"text-align: right;\">\n",
       "      <th></th>\n",
       "      <th>accepted</th>\n",
       "      <th>offer_class</th>\n",
       "      <th>gender</th>\n",
       "      <th>age</th>\n",
       "      <th>phone_calls</th>\n",
       "      <th>emails</th>\n",
       "      <th>customer_code</th>\n",
       "      <th>salary</th>\n",
       "      <th>offer_code</th>\n",
       "      <th>customer_type</th>\n",
       "      <th>number</th>\n",
       "      <th>offer_value</th>\n",
       "      <th>estimated_expenses</th>\n",
       "      <th>center</th>\n",
       "    </tr>\n",
       "    <tr>\n",
       "      <th>name</th>\n",
       "      <th></th>\n",
       "      <th></th>\n",
       "      <th></th>\n",
       "      <th></th>\n",
       "      <th></th>\n",
       "      <th></th>\n",
       "      <th></th>\n",
       "      <th></th>\n",
       "      <th></th>\n",
       "      <th></th>\n",
       "      <th></th>\n",
       "      <th></th>\n",
       "      <th></th>\n",
       "      <th></th>\n",
       "    </tr>\n",
       "  </thead>\n",
       "  <tbody>\n",
       "    <tr>\n",
       "      <th>DA3BAEB8BF604EB</th>\n",
       "      <td>no</td>\n",
       "      <td>Premium</td>\n",
       "      <td>male</td>\n",
       "      <td>NaN</td>\n",
       "      <td>0.0</td>\n",
       "      <td>1.0</td>\n",
       "      <td>Fa 265302</td>\n",
       "      <td>731.25</td>\n",
       "      <td>99F</td>\n",
       "      <td>S</td>\n",
       "      <td>D6706</td>\n",
       "      <td>143.108044</td>\n",
       "      <td>7638.0</td>\n",
       "      <td>A</td>\n",
       "    </tr>\n",
       "    <tr>\n",
       "      <th>AEF3DE08DFED4E0</th>\n",
       "      <td>no</td>\n",
       "      <td>Premium</td>\n",
       "      <td>male</td>\n",
       "      <td>31.0</td>\n",
       "      <td>0.0</td>\n",
       "      <td>0.0</td>\n",
       "      <td>347063</td>\n",
       "      <td>777.50</td>\n",
       "      <td>405</td>\n",
       "      <td>S</td>\n",
       "      <td>NaN</td>\n",
       "      <td>63.637416</td>\n",
       "      <td>5784.0</td>\n",
       "      <td>A</td>\n",
       "    </tr>\n",
       "    <tr>\n",
       "      <th>B621BB29484E46D</th>\n",
       "      <td>no</td>\n",
       "      <td>Premium</td>\n",
       "      <td>male</td>\n",
       "      <td>25.0</td>\n",
       "      <td>0.0</td>\n",
       "      <td>1.0</td>\n",
       "      <td>349250</td>\n",
       "      <td>789.58</td>\n",
       "      <td>954</td>\n",
       "      <td>S</td>\n",
       "      <td>7E9CB</td>\n",
       "      <td>210.204552</td>\n",
       "      <td>4605.0</td>\n",
       "      <td>B</td>\n",
       "    </tr>\n",
       "    <tr>\n",
       "      <th>2D0945802F92423</th>\n",
       "      <td>no</td>\n",
       "      <td>Premium</td>\n",
       "      <td>female</td>\n",
       "      <td>18.0</td>\n",
       "      <td>0.0</td>\n",
       "      <td>1.0</td>\n",
       "      <td>365226</td>\n",
       "      <td>675.00</td>\n",
       "      <td>D7D</td>\n",
       "      <td>Q</td>\n",
       "      <td>6361F</td>\n",
       "      <td>131.110924</td>\n",
       "      <td>4459.0</td>\n",
       "      <td>B</td>\n",
       "    </tr>\n",
       "    <tr>\n",
       "      <th>640ABFC7E49B403</th>\n",
       "      <td>no</td>\n",
       "      <td>Medium</td>\n",
       "      <td>male</td>\n",
       "      <td>56.0</td>\n",
       "      <td>0.0</td>\n",
       "      <td>1.0</td>\n",
       "      <td>17764</td>\n",
       "      <td>3069.58</td>\n",
       "      <td>BAF</td>\n",
       "      <td>C</td>\n",
       "      <td>63C3B</td>\n",
       "      <td>180.019199</td>\n",
       "      <td>4396.0</td>\n",
       "      <td>B</td>\n",
       "    </tr>\n",
       "  </tbody>\n",
       "</table>\n",
       "</div>"
      ],
      "text/plain": [
       "                accepted offer_class  gender   age  phone_calls  emails  \\\n",
       "name                                                                      \n",
       "DA3BAEB8BF604EB       no     Premium    male   NaN          0.0     1.0   \n",
       "AEF3DE08DFED4E0       no     Premium    male  31.0          0.0     0.0   \n",
       "B621BB29484E46D       no     Premium    male  25.0          0.0     1.0   \n",
       "2D0945802F92423       no     Premium  female  18.0          0.0     1.0   \n",
       "640ABFC7E49B403       no      Medium    male  56.0          0.0     1.0   \n",
       "\n",
       "                customer_code   salary offer_code customer_type number  \\\n",
       "name                                                                     \n",
       "DA3BAEB8BF604EB     Fa 265302   731.25        99F             S  D6706   \n",
       "AEF3DE08DFED4E0        347063   777.50        405             S    NaN   \n",
       "B621BB29484E46D        349250   789.58        954             S  7E9CB   \n",
       "2D0945802F92423        365226   675.00        D7D             Q  6361F   \n",
       "640ABFC7E49B403         17764  3069.58        BAF             C  63C3B   \n",
       "\n",
       "                 offer_value  estimated_expenses center  \n",
       "name                                                     \n",
       "DA3BAEB8BF604EB   143.108044              7638.0      A  \n",
       "AEF3DE08DFED4E0    63.637416              5784.0      A  \n",
       "B621BB29484E46D   210.204552              4605.0      B  \n",
       "2D0945802F92423   131.110924              4459.0      B  \n",
       "640ABFC7E49B403   180.019199              4396.0      B  "
      ]
     },
     "execution_count": 608,
     "metadata": {},
     "output_type": "execute_result"
    }
   ],
   "source": [
    "test_df.head()"
   ]
  },
  {
   "cell_type": "code",
   "execution_count": 609,
   "metadata": {},
   "outputs": [
    {
     "data": {
      "text/plain": [
       "(258, 14)"
      ]
     },
     "execution_count": 609,
     "metadata": {},
     "output_type": "execute_result"
    }
   ],
   "source": [
    "test_df.shape"
   ]
  },
  {
   "cell_type": "markdown",
   "metadata": {},
   "source": [
    "**ml data preprocessing**"
   ]
  },
  {
   "cell_type": "code",
   "execution_count": 610,
   "metadata": {},
   "outputs": [
    {
     "name": "stdout",
     "output_type": "stream",
     "text": [
      "Imputing row 1/1031 with 1 missing, elapsed time: 0.241\n",
      "Imputing row 1/1289 with 0 missing, elapsed time: 0.336\n",
      "Imputing row 1033/1289 with 0 missing, elapsed time: 0.338\n"
     ]
    }
   ],
   "source": [
    "DP = DataProcessor(train_df=train_df)\n",
    "processed_train_df = DP.perform_initial_features_engineering()\n",
    "TDP = TestDataProcessor(not_processed_train_df=train_df,\n",
    "                        processed_train_df=processed_train_df,\n",
    "                        test_df=test_df,\n",
    "                        sneaky_peaky=True)\n",
    "processed_test_df = TDP.perform_initial_features_engineering()"
   ]
  },
  {
   "cell_type": "code",
   "execution_count": 611,
   "metadata": {},
   "outputs": [
    {
     "data": {
      "text/html": [
       "<div>\n",
       "<style scoped>\n",
       "    .dataframe tbody tr th:only-of-type {\n",
       "        vertical-align: middle;\n",
       "    }\n",
       "\n",
       "    .dataframe tbody tr th {\n",
       "        vertical-align: top;\n",
       "    }\n",
       "\n",
       "    .dataframe thead th {\n",
       "        text-align: right;\n",
       "    }\n",
       "</style>\n",
       "<table border=\"1\" class=\"dataframe\">\n",
       "  <thead>\n",
       "    <tr style=\"text-align: right;\">\n",
       "      <th></th>\n",
       "      <th>cc_len</th>\n",
       "      <th>cc_startswith</th>\n",
       "      <th>log_salary</th>\n",
       "      <th>log_age_knn</th>\n",
       "      <th>log_estimated_expenses_knn</th>\n",
       "      <th>log_offer_value_knn</th>\n",
       "      <th>scaled_salary</th>\n",
       "      <th>scaled_age_knn</th>\n",
       "      <th>scaled_estimated_expenses_knn</th>\n",
       "      <th>scaled_offer_value_knn</th>\n",
       "      <th>nan_age</th>\n",
       "      <th>not_nan_age</th>\n",
       "      <th>target</th>\n",
       "      <th>offer_class</th>\n",
       "      <th>gender</th>\n",
       "      <th>age</th>\n",
       "      <th>phone_calls</th>\n",
       "      <th>emails</th>\n",
       "      <th>salary</th>\n",
       "      <th>customer_type</th>\n",
       "      <th>center</th>\n",
       "      <th>age_knn</th>\n",
       "      <th>estimated_expenses_knn</th>\n",
       "      <th>offer_value_knn</th>\n",
       "    </tr>\n",
       "    <tr>\n",
       "      <th>name</th>\n",
       "      <th></th>\n",
       "      <th></th>\n",
       "      <th></th>\n",
       "      <th></th>\n",
       "      <th></th>\n",
       "      <th></th>\n",
       "      <th></th>\n",
       "      <th></th>\n",
       "      <th></th>\n",
       "      <th></th>\n",
       "      <th></th>\n",
       "      <th></th>\n",
       "      <th></th>\n",
       "      <th></th>\n",
       "      <th></th>\n",
       "      <th></th>\n",
       "      <th></th>\n",
       "      <th></th>\n",
       "      <th></th>\n",
       "      <th></th>\n",
       "      <th></th>\n",
       "      <th></th>\n",
       "      <th></th>\n",
       "      <th></th>\n",
       "    </tr>\n",
       "  </thead>\n",
       "  <tbody>\n",
       "    <tr>\n",
       "      <th>8550AB469CB2445</th>\n",
       "      <td>ELSE</td>\n",
       "      <td>ELSE</td>\n",
       "      <td>7.329474</td>\n",
       "      <td>3.401259</td>\n",
       "      <td>8.882808</td>\n",
       "      <td>5.716940</td>\n",
       "      <td>-0.345530</td>\n",
       "      <td>-0.297159</td>\n",
       "      <td>1.362250</td>\n",
       "      <td>3.035567</td>\n",
       "      <td>True</td>\n",
       "      <td>False</td>\n",
       "      <td>False</td>\n",
       "      <td>Premium</td>\n",
       "      <td>female</td>\n",
       "      <td>NaN</td>\n",
       "      <td>1</td>\n",
       "      <td>2</td>\n",
       "      <td>1524.58</td>\n",
       "      <td>C</td>\n",
       "      <td>B</td>\n",
       "      <td>30.001848</td>\n",
       "      <td>7207.0</td>\n",
       "      <td>303.973257</td>\n",
       "    </tr>\n",
       "    <tr>\n",
       "      <th>07355EE27DD1493</th>\n",
       "      <td>ELSE</td>\n",
       "      <td>ELSE</td>\n",
       "      <td>7.170120</td>\n",
       "      <td>3.465736</td>\n",
       "      <td>8.209308</td>\n",
       "      <td>4.160055</td>\n",
       "      <td>-0.389281</td>\n",
       "      <td>-0.111655</td>\n",
       "      <td>-0.492006</td>\n",
       "      <td>-1.109564</td>\n",
       "      <td>False</td>\n",
       "      <td>True</td>\n",
       "      <td>False</td>\n",
       "      <td>High</td>\n",
       "      <td>male</td>\n",
       "      <td>32.0</td>\n",
       "      <td>0</td>\n",
       "      <td>0</td>\n",
       "      <td>1300.00</td>\n",
       "      <td>S</td>\n",
       "      <td>A</td>\n",
       "      <td>32.000000</td>\n",
       "      <td>3675.0</td>\n",
       "      <td>64.075055</td>\n",
       "    </tr>\n",
       "    <tr>\n",
       "      <th>034E73A251554F0</th>\n",
       "      <td>ELSE</td>\n",
       "      <td>ELSE</td>\n",
       "      <td>7.346010</td>\n",
       "      <td>3.177471</td>\n",
       "      <td>8.465900</td>\n",
       "      <td>4.687503</td>\n",
       "      <td>-0.340578</td>\n",
       "      <td>-0.855654</td>\n",
       "      <td>0.072355</td>\n",
       "      <td>-0.340546</td>\n",
       "      <td>True</td>\n",
       "      <td>False</td>\n",
       "      <td>True</td>\n",
       "      <td>Premium</td>\n",
       "      <td>female</td>\n",
       "      <td>NaN</td>\n",
       "      <td>1</td>\n",
       "      <td>1</td>\n",
       "      <td>1550.00</td>\n",
       "      <td>Q</td>\n",
       "      <td>B</td>\n",
       "      <td>23.986022</td>\n",
       "      <td>4750.0</td>\n",
       "      <td>108.581750</td>\n",
       "    </tr>\n",
       "    <tr>\n",
       "      <th>0AF961B4AC7A439</th>\n",
       "      <td>ELSE</td>\n",
       "      <td>ELSE</td>\n",
       "      <td>6.583299</td>\n",
       "      <td>3.323884</td>\n",
       "      <td>7.244942</td>\n",
       "      <td>5.046620</td>\n",
       "      <td>-0.501704</td>\n",
       "      <td>-0.504546</td>\n",
       "      <td>-1.685828</td>\n",
       "      <td>0.470071</td>\n",
       "      <td>True</td>\n",
       "      <td>False</td>\n",
       "      <td>False</td>\n",
       "      <td>Premium</td>\n",
       "      <td>male</td>\n",
       "      <td>NaN</td>\n",
       "      <td>0</td>\n",
       "      <td>1</td>\n",
       "      <td>722.92</td>\n",
       "      <td>C</td>\n",
       "      <td>A</td>\n",
       "      <td>27.767979</td>\n",
       "      <td>1401.0</td>\n",
       "      <td>155.495957</td>\n",
       "    </tr>\n",
       "    <tr>\n",
       "      <th>8535BBCA690A4AE</th>\n",
       "      <td>ELSE</td>\n",
       "      <td>ELSE</td>\n",
       "      <td>8.639336</td>\n",
       "      <td>3.405772</td>\n",
       "      <td>7.652546</td>\n",
       "      <td>4.798852</td>\n",
       "      <td>0.458072</td>\n",
       "      <td>-0.284561</td>\n",
       "      <td>-1.315712</td>\n",
       "      <td>-0.119564</td>\n",
       "      <td>True</td>\n",
       "      <td>False</td>\n",
       "      <td>True</td>\n",
       "      <td>Premium</td>\n",
       "      <td>male</td>\n",
       "      <td>NaN</td>\n",
       "      <td>0</td>\n",
       "      <td>1</td>\n",
       "      <td>5649.58</td>\n",
       "      <td>S</td>\n",
       "      <td>B</td>\n",
       "      <td>30.137541</td>\n",
       "      <td>2106.0</td>\n",
       "      <td>121.371033</td>\n",
       "    </tr>\n",
       "  </tbody>\n",
       "</table>\n",
       "</div>"
      ],
      "text/plain": [
       "                cc_len cc_startswith  log_salary  log_age_knn  \\\n",
       "name                                                            \n",
       "8550AB469CB2445   ELSE          ELSE    7.329474     3.401259   \n",
       "07355EE27DD1493   ELSE          ELSE    7.170120     3.465736   \n",
       "034E73A251554F0   ELSE          ELSE    7.346010     3.177471   \n",
       "0AF961B4AC7A439   ELSE          ELSE    6.583299     3.323884   \n",
       "8535BBCA690A4AE   ELSE          ELSE    8.639336     3.405772   \n",
       "\n",
       "                 log_estimated_expenses_knn  log_offer_value_knn  \\\n",
       "name                                                               \n",
       "8550AB469CB2445                    8.882808             5.716940   \n",
       "07355EE27DD1493                    8.209308             4.160055   \n",
       "034E73A251554F0                    8.465900             4.687503   \n",
       "0AF961B4AC7A439                    7.244942             5.046620   \n",
       "8535BBCA690A4AE                    7.652546             4.798852   \n",
       "\n",
       "                 scaled_salary  scaled_age_knn  scaled_estimated_expenses_knn  \\\n",
       "name                                                                            \n",
       "8550AB469CB2445      -0.345530       -0.297159                       1.362250   \n",
       "07355EE27DD1493      -0.389281       -0.111655                      -0.492006   \n",
       "034E73A251554F0      -0.340578       -0.855654                       0.072355   \n",
       "0AF961B4AC7A439      -0.501704       -0.504546                      -1.685828   \n",
       "8535BBCA690A4AE       0.458072       -0.284561                      -1.315712   \n",
       "\n",
       "                 scaled_offer_value_knn  nan_age  not_nan_age  target  \\\n",
       "name                                                                    \n",
       "8550AB469CB2445                3.035567     True        False   False   \n",
       "07355EE27DD1493               -1.109564    False         True   False   \n",
       "034E73A251554F0               -0.340546     True        False    True   \n",
       "0AF961B4AC7A439                0.470071     True        False   False   \n",
       "8535BBCA690A4AE               -0.119564     True        False    True   \n",
       "\n",
       "                offer_class  gender   age phone_calls emails   salary  \\\n",
       "name                                                                    \n",
       "8550AB469CB2445     Premium  female   NaN           1      2  1524.58   \n",
       "07355EE27DD1493        High    male  32.0           0      0  1300.00   \n",
       "034E73A251554F0     Premium  female   NaN           1      1  1550.00   \n",
       "0AF961B4AC7A439     Premium    male   NaN           0      1   722.92   \n",
       "8535BBCA690A4AE     Premium    male   NaN           0      1  5649.58   \n",
       "\n",
       "                customer_type center    age_knn  estimated_expenses_knn  \\\n",
       "name                                                                      \n",
       "8550AB469CB2445             C      B  30.001848                  7207.0   \n",
       "07355EE27DD1493             S      A  32.000000                  3675.0   \n",
       "034E73A251554F0             Q      B  23.986022                  4750.0   \n",
       "0AF961B4AC7A439             C      A  27.767979                  1401.0   \n",
       "8535BBCA690A4AE             S      B  30.137541                  2106.0   \n",
       "\n",
       "                 offer_value_knn  \n",
       "name                              \n",
       "8550AB469CB2445       303.973257  \n",
       "07355EE27DD1493        64.075055  \n",
       "034E73A251554F0       108.581750  \n",
       "0AF961B4AC7A439       155.495957  \n",
       "8535BBCA690A4AE       121.371033  "
      ]
     },
     "execution_count": 611,
     "metadata": {},
     "output_type": "execute_result"
    }
   ],
   "source": [
    "processed_train_df.head()"
   ]
  },
  {
   "cell_type": "code",
   "execution_count": 612,
   "metadata": {},
   "outputs": [
    {
     "data": {
      "text/html": [
       "<div>\n",
       "<style scoped>\n",
       "    .dataframe tbody tr th:only-of-type {\n",
       "        vertical-align: middle;\n",
       "    }\n",
       "\n",
       "    .dataframe tbody tr th {\n",
       "        vertical-align: top;\n",
       "    }\n",
       "\n",
       "    .dataframe thead th {\n",
       "        text-align: right;\n",
       "    }\n",
       "</style>\n",
       "<table border=\"1\" class=\"dataframe\">\n",
       "  <thead>\n",
       "    <tr style=\"text-align: right;\">\n",
       "      <th></th>\n",
       "      <th>cc_len</th>\n",
       "      <th>cc_startswith</th>\n",
       "      <th>log_salary</th>\n",
       "      <th>log_age_knn</th>\n",
       "      <th>log_estimated_expenses_knn</th>\n",
       "      <th>log_offer_value_knn</th>\n",
       "      <th>scaled_salary</th>\n",
       "      <th>scaled_age_knn</th>\n",
       "      <th>scaled_estimated_expenses_knn</th>\n",
       "      <th>scaled_offer_value_knn</th>\n",
       "      <th>nan_age</th>\n",
       "      <th>not_nan_age</th>\n",
       "      <th>target</th>\n",
       "      <th>age</th>\n",
       "      <th>center</th>\n",
       "      <th>customer_type</th>\n",
       "      <th>emails</th>\n",
       "      <th>gender</th>\n",
       "      <th>offer_class</th>\n",
       "      <th>phone_calls</th>\n",
       "      <th>salary</th>\n",
       "      <th>age_knn</th>\n",
       "      <th>estimated_expenses_knn</th>\n",
       "      <th>offer_value_knn</th>\n",
       "    </tr>\n",
       "    <tr>\n",
       "      <th>name</th>\n",
       "      <th></th>\n",
       "      <th></th>\n",
       "      <th></th>\n",
       "      <th></th>\n",
       "      <th></th>\n",
       "      <th></th>\n",
       "      <th></th>\n",
       "      <th></th>\n",
       "      <th></th>\n",
       "      <th></th>\n",
       "      <th></th>\n",
       "      <th></th>\n",
       "      <th></th>\n",
       "      <th></th>\n",
       "      <th></th>\n",
       "      <th></th>\n",
       "      <th></th>\n",
       "      <th></th>\n",
       "      <th></th>\n",
       "      <th></th>\n",
       "      <th></th>\n",
       "      <th></th>\n",
       "      <th></th>\n",
       "      <th></th>\n",
       "    </tr>\n",
       "  </thead>\n",
       "  <tbody>\n",
       "    <tr>\n",
       "      <th>DA3BAEB8BF604EB</th>\n",
       "      <td>ELSE</td>\n",
       "      <td>ELSE</td>\n",
       "      <td>6.594755</td>\n",
       "      <td>3.489576</td>\n",
       "      <td>8.940891</td>\n",
       "      <td>4.963600</td>\n",
       "      <td>-0.501839</td>\n",
       "      <td>-0.035049</td>\n",
       "      <td>1.603528</td>\n",
       "      <td>0.246935</td>\n",
       "      <td>True</td>\n",
       "      <td>False</td>\n",
       "      <td>False</td>\n",
       "      <td>NaN</td>\n",
       "      <td>A</td>\n",
       "      <td>S</td>\n",
       "      <td>1</td>\n",
       "      <td>male</td>\n",
       "      <td>Premium</td>\n",
       "      <td>0</td>\n",
       "      <td>731.25</td>\n",
       "      <td>32.772049</td>\n",
       "      <td>7638.0</td>\n",
       "      <td>143.108044</td>\n",
       "    </tr>\n",
       "    <tr>\n",
       "      <th>AEF3DE08DFED4E0</th>\n",
       "      <td>ELSE</td>\n",
       "      <td>ELSE</td>\n",
       "      <td>6.656084</td>\n",
       "      <td>3.433987</td>\n",
       "      <td>8.662851</td>\n",
       "      <td>4.153202</td>\n",
       "      <td>-0.492946</td>\n",
       "      <td>-0.197055</td>\n",
       "      <td>0.631794</td>\n",
       "      <td>-1.130746</td>\n",
       "      <td>False</td>\n",
       "      <td>True</td>\n",
       "      <td>False</td>\n",
       "      <td>31.0</td>\n",
       "      <td>A</td>\n",
       "      <td>S</td>\n",
       "      <td>0</td>\n",
       "      <td>male</td>\n",
       "      <td>Premium</td>\n",
       "      <td>0</td>\n",
       "      <td>777.50</td>\n",
       "      <td>31.000000</td>\n",
       "      <td>5784.0</td>\n",
       "      <td>63.637416</td>\n",
       "    </tr>\n",
       "    <tr>\n",
       "      <th>B621BB29484E46D</th>\n",
       "      <td>ELSE</td>\n",
       "      <td>ELSE</td>\n",
       "      <td>6.671501</td>\n",
       "      <td>3.218876</td>\n",
       "      <td>8.434898</td>\n",
       "      <td>5.348081</td>\n",
       "      <td>-0.490623</td>\n",
       "      <td>-0.745594</td>\n",
       "      <td>0.013846</td>\n",
       "      <td>1.410101</td>\n",
       "      <td>False</td>\n",
       "      <td>True</td>\n",
       "      <td>False</td>\n",
       "      <td>25.0</td>\n",
       "      <td>B</td>\n",
       "      <td>S</td>\n",
       "      <td>1</td>\n",
       "      <td>male</td>\n",
       "      <td>Premium</td>\n",
       "      <td>0</td>\n",
       "      <td>789.58</td>\n",
       "      <td>25.000000</td>\n",
       "      <td>4605.0</td>\n",
       "      <td>210.204552</td>\n",
       "    </tr>\n",
       "    <tr>\n",
       "      <th>2D0945802F92423</th>\n",
       "      <td>ELSE</td>\n",
       "      <td>ELSE</td>\n",
       "      <td>6.514713</td>\n",
       "      <td>2.890372</td>\n",
       "      <td>8.402680</td>\n",
       "      <td>4.876044</td>\n",
       "      <td>-0.512654</td>\n",
       "      <td>-1.385557</td>\n",
       "      <td>-0.062677</td>\n",
       "      <td>0.038956</td>\n",
       "      <td>False</td>\n",
       "      <td>True</td>\n",
       "      <td>False</td>\n",
       "      <td>18.0</td>\n",
       "      <td>B</td>\n",
       "      <td>Q</td>\n",
       "      <td>1</td>\n",
       "      <td>female</td>\n",
       "      <td>Premium</td>\n",
       "      <td>0</td>\n",
       "      <td>675.00</td>\n",
       "      <td>18.000000</td>\n",
       "      <td>4459.0</td>\n",
       "      <td>131.110924</td>\n",
       "    </tr>\n",
       "    <tr>\n",
       "      <th>640ABFC7E49B403</th>\n",
       "      <td>58</td>\n",
       "      <td>ELSE</td>\n",
       "      <td>8.029296</td>\n",
       "      <td>4.025352</td>\n",
       "      <td>8.388450</td>\n",
       "      <td>5.193064</td>\n",
       "      <td>-0.052226</td>\n",
       "      <td>2.088525</td>\n",
       "      <td>-0.095697</td>\n",
       "      <td>0.886816</td>\n",
       "      <td>False</td>\n",
       "      <td>True</td>\n",
       "      <td>False</td>\n",
       "      <td>56.0</td>\n",
       "      <td>B</td>\n",
       "      <td>C</td>\n",
       "      <td>1</td>\n",
       "      <td>male</td>\n",
       "      <td>Medium</td>\n",
       "      <td>0</td>\n",
       "      <td>3069.58</td>\n",
       "      <td>56.000000</td>\n",
       "      <td>4396.0</td>\n",
       "      <td>180.019199</td>\n",
       "    </tr>\n",
       "  </tbody>\n",
       "</table>\n",
       "</div>"
      ],
      "text/plain": [
       "                cc_len cc_startswith  log_salary  log_age_knn  \\\n",
       "name                                                            \n",
       "DA3BAEB8BF604EB   ELSE          ELSE    6.594755     3.489576   \n",
       "AEF3DE08DFED4E0   ELSE          ELSE    6.656084     3.433987   \n",
       "B621BB29484E46D   ELSE          ELSE    6.671501     3.218876   \n",
       "2D0945802F92423   ELSE          ELSE    6.514713     2.890372   \n",
       "640ABFC7E49B403     58          ELSE    8.029296     4.025352   \n",
       "\n",
       "                 log_estimated_expenses_knn  log_offer_value_knn  \\\n",
       "name                                                               \n",
       "DA3BAEB8BF604EB                    8.940891             4.963600   \n",
       "AEF3DE08DFED4E0                    8.662851             4.153202   \n",
       "B621BB29484E46D                    8.434898             5.348081   \n",
       "2D0945802F92423                    8.402680             4.876044   \n",
       "640ABFC7E49B403                    8.388450             5.193064   \n",
       "\n",
       "                 scaled_salary  scaled_age_knn  scaled_estimated_expenses_knn  \\\n",
       "name                                                                            \n",
       "DA3BAEB8BF604EB      -0.501839       -0.035049                       1.603528   \n",
       "AEF3DE08DFED4E0      -0.492946       -0.197055                       0.631794   \n",
       "B621BB29484E46D      -0.490623       -0.745594                       0.013846   \n",
       "2D0945802F92423      -0.512654       -1.385557                      -0.062677   \n",
       "640ABFC7E49B403      -0.052226        2.088525                      -0.095697   \n",
       "\n",
       "                 scaled_offer_value_knn  nan_age  not_nan_age  target   age  \\\n",
       "name                                                                          \n",
       "DA3BAEB8BF604EB                0.246935     True        False   False   NaN   \n",
       "AEF3DE08DFED4E0               -1.130746    False         True   False  31.0   \n",
       "B621BB29484E46D                1.410101    False         True   False  25.0   \n",
       "2D0945802F92423                0.038956    False         True   False  18.0   \n",
       "640ABFC7E49B403                0.886816    False         True   False  56.0   \n",
       "\n",
       "                center customer_type emails  gender offer_class phone_calls  \\\n",
       "name                                                                          \n",
       "DA3BAEB8BF604EB      A             S      1    male     Premium           0   \n",
       "AEF3DE08DFED4E0      A             S      0    male     Premium           0   \n",
       "B621BB29484E46D      B             S      1    male     Premium           0   \n",
       "2D0945802F92423      B             Q      1  female     Premium           0   \n",
       "640ABFC7E49B403      B             C      1    male      Medium           0   \n",
       "\n",
       "                  salary    age_knn  estimated_expenses_knn  offer_value_knn  \n",
       "name                                                                          \n",
       "DA3BAEB8BF604EB   731.25  32.772049                  7638.0       143.108044  \n",
       "AEF3DE08DFED4E0   777.50  31.000000                  5784.0        63.637416  \n",
       "B621BB29484E46D   789.58  25.000000                  4605.0       210.204552  \n",
       "2D0945802F92423   675.00  18.000000                  4459.0       131.110924  \n",
       "640ABFC7E49B403  3069.58  56.000000                  4396.0       180.019199  "
      ]
     },
     "execution_count": 612,
     "metadata": {},
     "output_type": "execute_result"
    }
   ],
   "source": [
    "processed_test_df.head()"
   ]
  },
  {
   "cell_type": "markdown",
   "metadata": {},
   "source": [
    "**verify if there is no mistake during preprocessing**"
   ]
  },
  {
   "cell_type": "code",
   "execution_count": 613,
   "metadata": {},
   "outputs": [],
   "source": [
    "assert not set(processed_train_df.index).intersection(set(processed_test_df.index))"
   ]
  },
  {
   "cell_type": "markdown",
   "metadata": {},
   "source": [
    "**left to process: categoricalencoding and age binning approach**"
   ]
  },
  {
   "cell_type": "code",
   "execution_count": 614,
   "metadata": {},
   "outputs": [
    {
     "name": "stdout",
     "output_type": "stream",
     "text": [
      "<class 'pandas.core.frame.DataFrame'>\n",
      "Index: 1031 entries, 8550AB469CB2445 to 358EEC4160A4478\n",
      "Data columns (total 24 columns):\n",
      "cc_len                           1031 non-null object\n",
      "cc_startswith                    1031 non-null object\n",
      "log_salary                       1031 non-null float64\n",
      "log_age_knn                      1031 non-null float64\n",
      "log_estimated_expenses_knn       1031 non-null float64\n",
      "log_offer_value_knn              1031 non-null float64\n",
      "scaled_salary                    1031 non-null float64\n",
      "scaled_age_knn                   1031 non-null float64\n",
      "scaled_estimated_expenses_knn    1031 non-null float64\n",
      "scaled_offer_value_knn           1031 non-null float64\n",
      "nan_age                          1031 non-null bool\n",
      "not_nan_age                      1031 non-null bool\n",
      "target                           1031 non-null bool\n",
      "offer_class                      1031 non-null object\n",
      "gender                           1031 non-null object\n",
      "age                              688 non-null float64\n",
      "phone_calls                      1031 non-null object\n",
      "emails                           1031 non-null object\n",
      "salary                           1031 non-null float64\n",
      "customer_type                    1031 non-null object\n",
      "center                           1031 non-null object\n",
      "age_knn                          1031 non-null float64\n",
      "estimated_expenses_knn           1031 non-null float64\n",
      "offer_value_knn                  1031 non-null float64\n",
      "dtypes: bool(3), float64(13), object(8)\n",
      "memory usage: 180.2+ KB\n"
     ]
    }
   ],
   "source": [
    "processed_train_df.info()"
   ]
  },
  {
   "cell_type": "code",
   "execution_count": 615,
   "metadata": {},
   "outputs": [
    {
     "name": "stdout",
     "output_type": "stream",
     "text": [
      "<class 'pandas.core.frame.DataFrame'>\n",
      "Index: 258 entries, DA3BAEB8BF604EB to 2E27EC78F50943B\n",
      "Data columns (total 24 columns):\n",
      "cc_len                           258 non-null object\n",
      "cc_startswith                    258 non-null object\n",
      "log_salary                       258 non-null float64\n",
      "log_age_knn                      258 non-null float64\n",
      "log_estimated_expenses_knn       258 non-null float64\n",
      "log_offer_value_knn              258 non-null float64\n",
      "scaled_salary                    258 non-null float64\n",
      "scaled_age_knn                   258 non-null float64\n",
      "scaled_estimated_expenses_knn    258 non-null float64\n",
      "scaled_offer_value_knn           258 non-null float64\n",
      "nan_age                          258 non-null bool\n",
      "not_nan_age                      258 non-null bool\n",
      "target                           258 non-null bool\n",
      "age                              189 non-null float64\n",
      "center                           258 non-null object\n",
      "customer_type                    258 non-null object\n",
      "emails                           258 non-null object\n",
      "gender                           258 non-null object\n",
      "offer_class                      258 non-null object\n",
      "phone_calls                      258 non-null object\n",
      "salary                           258 non-null float64\n",
      "age_knn                          258 non-null float64\n",
      "estimated_expenses_knn           258 non-null float64\n",
      "offer_value_knn                  258 non-null float64\n",
      "dtypes: bool(3), float64(13), object(8)\n",
      "memory usage: 45.1+ KB\n"
     ]
    }
   ],
   "source": [
    "processed_test_df.info()"
   ]
  },
  {
   "cell_type": "markdown",
   "metadata": {},
   "source": [
    "**sklearn modelling**"
   ]
  },
  {
   "cell_type": "code",
   "execution_count": 616,
   "metadata": {},
   "outputs": [],
   "source": [
    "from sklearn.model_selection import train_test_split, GridSearchCV, RandomizedSearchCV\n",
    "from sklearn.model_selection import cross_val_score, KFold\n",
    "from sklearn.ensemble import RandomForestClassifier\n",
    "from sklearn.pipeline import Pipeline\n",
    "from sklearn.linear_model import LogisticRegression\n",
    "from sklearn.neighbors import KNeighborsClassifier\n",
    "from sklearn.metrics import accuracy_score, roc_auc_score, confusion_matrix"
   ]
  },
  {
   "cell_type": "markdown",
   "metadata": {},
   "source": [
    "**sklearn models which have predict_proba method**"
   ]
  },
  {
   "cell_type": "code",
   "execution_count": 617,
   "metadata": {},
   "outputs": [
    {
     "name": "stdout",
     "output_type": "stream",
     "text": [
      "AdaBoostClassifier\n",
      "BaggingClassifier\n",
      "BayesianGaussianMixture\n",
      "BernoulliNB\n",
      "CalibratedClassifierCV\n",
      "ClassifierChain\n",
      "ComplementNB\n",
      "DecisionTreeClassifier\n",
      "DummyClassifier\n",
      "ExtraTreeClassifier\n",
      "ExtraTreesClassifier\n",
      "GaussianMixture\n",
      "GaussianNB\n",
      "GaussianProcessClassifier\n",
      "GradientBoostingClassifier\n",
      "GridSearchCV\n",
      "HistGradientBoostingClassifier\n",
      "KNeighborsClassifier\n",
      "LabelPropagation\n",
      "LabelSpreading\n",
      "LinearDiscriminantAnalysis\n",
      "LogisticRegression\n",
      "LogisticRegressionCV\n",
      "MLPClassifier\n",
      "MultiOutputClassifier\n",
      "MultinomialNB\n",
      "NuSVC\n",
      "OneVsRestClassifier\n",
      "Pipeline\n",
      "QuadraticDiscriminantAnalysis\n",
      "RFE\n",
      "RFECV\n",
      "RandomForestClassifier\n",
      "RandomizedSearchCV\n",
      "SGDClassifier\n",
      "SVC\n",
      "VotingClassifier\n",
      "_BinaryGaussianProcessClassifierLaplace\n",
      "_ConstantPredictor\n"
     ]
    }
   ],
   "source": [
    "from sklearn.utils.testing import all_estimators\n",
    "\n",
    "estimators = all_estimators()\n",
    "\n",
    "for name, class_ in estimators:\n",
    "    if hasattr(class_, 'predict_proba'):\n",
    "        print(name)"
   ]
  },
  {
   "cell_type": "code",
   "execution_count": 618,
   "metadata": {},
   "outputs": [],
   "source": [
    "enc = LeaveOneOutEncoder(train_df=processed_train_df,\n",
    "                         test_df=processed_test_df,\n",
    "                         columns_to_encode=['offer_class',\n",
    "                                            'gender',\n",
    "                                            'customer_type',\n",
    "                                            #'emails',\n",
    "                                            'center',\n",
    "                                            'phone_calls',\n",
    "                                            'cc_len',\n",
    "                                            'cc_startswith'],\n",
    "                         target_column='target',\n",
    "                         random_state=42,\n",
    "                         mean=1,\n",
    "                         std=0.05)"
   ]
  },
  {
   "cell_type": "code",
   "execution_count": 368,
   "metadata": {},
   "outputs": [],
   "source": [
    "train, test = enc.fit()"
   ]
  },
  {
   "cell_type": "code",
   "execution_count": 64,
   "metadata": {},
   "outputs": [
    {
     "data": {
      "text/html": [
       "<div>\n",
       "<style scoped>\n",
       "    .dataframe tbody tr th:only-of-type {\n",
       "        vertical-align: middle;\n",
       "    }\n",
       "\n",
       "    .dataframe tbody tr th {\n",
       "        vertical-align: top;\n",
       "    }\n",
       "\n",
       "    .dataframe thead th {\n",
       "        text-align: right;\n",
       "    }\n",
       "</style>\n",
       "<table border=\"1\" class=\"dataframe\">\n",
       "  <thead>\n",
       "    <tr style=\"text-align: right;\">\n",
       "      <th></th>\n",
       "      <th>cc_len</th>\n",
       "      <th>cc_startswith</th>\n",
       "      <th>log_salary</th>\n",
       "      <th>log_age_knn</th>\n",
       "      <th>log_estimated_expenses_knn</th>\n",
       "      <th>log_offer_value_knn</th>\n",
       "      <th>scaled_salary</th>\n",
       "      <th>scaled_age_knn</th>\n",
       "      <th>scaled_estimated_expenses_knn</th>\n",
       "      <th>scaled_offer_value_knn</th>\n",
       "      <th>nan_age</th>\n",
       "      <th>not_nan_age</th>\n",
       "      <th>target</th>\n",
       "      <th>offer_class</th>\n",
       "      <th>gender</th>\n",
       "      <th>age</th>\n",
       "      <th>phone_calls</th>\n",
       "      <th>emails</th>\n",
       "      <th>salary</th>\n",
       "      <th>customer_type</th>\n",
       "      <th>center</th>\n",
       "      <th>age_knn</th>\n",
       "      <th>estimated_expenses_knn</th>\n",
       "      <th>offer_value_knn</th>\n",
       "      <th>encoded_offer_class</th>\n",
       "      <th>encoded_gender</th>\n",
       "      <th>encoded_customer_type</th>\n",
       "      <th>encoded_emails</th>\n",
       "      <th>encoded_center</th>\n",
       "      <th>encoded_phone_calls</th>\n",
       "      <th>encoded_cc_len</th>\n",
       "      <th>encoded_cc_startswith</th>\n",
       "    </tr>\n",
       "    <tr>\n",
       "      <th>name</th>\n",
       "      <th></th>\n",
       "      <th></th>\n",
       "      <th></th>\n",
       "      <th></th>\n",
       "      <th></th>\n",
       "      <th></th>\n",
       "      <th></th>\n",
       "      <th></th>\n",
       "      <th></th>\n",
       "      <th></th>\n",
       "      <th></th>\n",
       "      <th></th>\n",
       "      <th></th>\n",
       "      <th></th>\n",
       "      <th></th>\n",
       "      <th></th>\n",
       "      <th></th>\n",
       "      <th></th>\n",
       "      <th></th>\n",
       "      <th></th>\n",
       "      <th></th>\n",
       "      <th></th>\n",
       "      <th></th>\n",
       "      <th></th>\n",
       "      <th></th>\n",
       "      <th></th>\n",
       "      <th></th>\n",
       "      <th></th>\n",
       "      <th></th>\n",
       "      <th></th>\n",
       "      <th></th>\n",
       "      <th></th>\n",
       "    </tr>\n",
       "  </thead>\n",
       "  <tbody>\n",
       "    <tr>\n",
       "      <th>8550AB469CB2445</th>\n",
       "      <td>ELSE</td>\n",
       "      <td>ELSE</td>\n",
       "      <td>7.329474</td>\n",
       "      <td>3.401259</td>\n",
       "      <td>8.882808</td>\n",
       "      <td>5.71694</td>\n",
       "      <td>-0.34553</td>\n",
       "      <td>-0.297159</td>\n",
       "      <td>1.36225</td>\n",
       "      <td>3.035567</td>\n",
       "      <td>True</td>\n",
       "      <td>False</td>\n",
       "      <td>False</td>\n",
       "      <td>Premium</td>\n",
       "      <td>female</td>\n",
       "      <td>NaN</td>\n",
       "      <td>1</td>\n",
       "      <td>2</td>\n",
       "      <td>1524.58</td>\n",
       "      <td>C</td>\n",
       "      <td>B</td>\n",
       "      <td>30.001848</td>\n",
       "      <td>7207.0</td>\n",
       "      <td>303.973257</td>\n",
       "      <td>0.263477</td>\n",
       "      <td>0.744563</td>\n",
       "      <td>0.59357</td>\n",
       "      <td>0.521735</td>\n",
       "      <td>0.400552</td>\n",
       "      <td>0.530646</td>\n",
       "      <td>0.324854</td>\n",
       "      <td>0.376086</td>\n",
       "    </tr>\n",
       "  </tbody>\n",
       "</table>\n",
       "</div>"
      ],
      "text/plain": [
       "                cc_len cc_startswith  log_salary  log_age_knn  \\\n",
       "name                                                            \n",
       "8550AB469CB2445   ELSE          ELSE    7.329474     3.401259   \n",
       "\n",
       "                 log_estimated_expenses_knn  log_offer_value_knn  \\\n",
       "name                                                               \n",
       "8550AB469CB2445                    8.882808              5.71694   \n",
       "\n",
       "                 scaled_salary  scaled_age_knn  scaled_estimated_expenses_knn  \\\n",
       "name                                                                            \n",
       "8550AB469CB2445       -0.34553       -0.297159                        1.36225   \n",
       "\n",
       "                 scaled_offer_value_knn  nan_age  not_nan_age  target  \\\n",
       "name                                                                    \n",
       "8550AB469CB2445                3.035567     True        False   False   \n",
       "\n",
       "                offer_class  gender  age phone_calls emails   salary  \\\n",
       "name                                                                   \n",
       "8550AB469CB2445     Premium  female  NaN           1      2  1524.58   \n",
       "\n",
       "                customer_type center    age_knn  estimated_expenses_knn  \\\n",
       "name                                                                      \n",
       "8550AB469CB2445             C      B  30.001848                  7207.0   \n",
       "\n",
       "                 offer_value_knn  encoded_offer_class  encoded_gender  \\\n",
       "name                                                                    \n",
       "8550AB469CB2445       303.973257             0.263477        0.744563   \n",
       "\n",
       "                 encoded_customer_type  encoded_emails  encoded_center  \\\n",
       "name                                                                     \n",
       "8550AB469CB2445                0.59357        0.521735        0.400552   \n",
       "\n",
       "                 encoded_phone_calls  encoded_cc_len  encoded_cc_startswith  \n",
       "name                                                                         \n",
       "8550AB469CB2445             0.530646        0.324854               0.376086  "
      ]
     },
     "execution_count": 64,
     "metadata": {},
     "output_type": "execute_result"
    }
   ],
   "source": [
    "train.head(1)"
   ]
  },
  {
   "cell_type": "code",
   "execution_count": 65,
   "metadata": {},
   "outputs": [
    {
     "data": {
      "text/html": [
       "<div>\n",
       "<style scoped>\n",
       "    .dataframe tbody tr th:only-of-type {\n",
       "        vertical-align: middle;\n",
       "    }\n",
       "\n",
       "    .dataframe tbody tr th {\n",
       "        vertical-align: top;\n",
       "    }\n",
       "\n",
       "    .dataframe thead th {\n",
       "        text-align: right;\n",
       "    }\n",
       "</style>\n",
       "<table border=\"1\" class=\"dataframe\">\n",
       "  <thead>\n",
       "    <tr style=\"text-align: right;\">\n",
       "      <th></th>\n",
       "      <th>cc_len</th>\n",
       "      <th>cc_startswith</th>\n",
       "      <th>log_salary</th>\n",
       "      <th>log_age_knn</th>\n",
       "      <th>log_estimated_expenses_knn</th>\n",
       "      <th>log_offer_value_knn</th>\n",
       "      <th>scaled_salary</th>\n",
       "      <th>scaled_age_knn</th>\n",
       "      <th>scaled_estimated_expenses_knn</th>\n",
       "      <th>scaled_offer_value_knn</th>\n",
       "      <th>nan_age</th>\n",
       "      <th>not_nan_age</th>\n",
       "      <th>target</th>\n",
       "      <th>age</th>\n",
       "      <th>center</th>\n",
       "      <th>customer_type</th>\n",
       "      <th>emails</th>\n",
       "      <th>gender</th>\n",
       "      <th>offer_class</th>\n",
       "      <th>phone_calls</th>\n",
       "      <th>salary</th>\n",
       "      <th>age_knn</th>\n",
       "      <th>estimated_expenses_knn</th>\n",
       "      <th>offer_value_knn</th>\n",
       "      <th>encoded_offer_class</th>\n",
       "      <th>encoded_gender</th>\n",
       "      <th>encoded_customer_type</th>\n",
       "      <th>encoded_emails</th>\n",
       "      <th>encoded_center</th>\n",
       "      <th>encoded_phone_calls</th>\n",
       "      <th>encoded_cc_len</th>\n",
       "      <th>encoded_cc_startswith</th>\n",
       "    </tr>\n",
       "    <tr>\n",
       "      <th>name</th>\n",
       "      <th></th>\n",
       "      <th></th>\n",
       "      <th></th>\n",
       "      <th></th>\n",
       "      <th></th>\n",
       "      <th></th>\n",
       "      <th></th>\n",
       "      <th></th>\n",
       "      <th></th>\n",
       "      <th></th>\n",
       "      <th></th>\n",
       "      <th></th>\n",
       "      <th></th>\n",
       "      <th></th>\n",
       "      <th></th>\n",
       "      <th></th>\n",
       "      <th></th>\n",
       "      <th></th>\n",
       "      <th></th>\n",
       "      <th></th>\n",
       "      <th></th>\n",
       "      <th></th>\n",
       "      <th></th>\n",
       "      <th></th>\n",
       "      <th></th>\n",
       "      <th></th>\n",
       "      <th></th>\n",
       "      <th></th>\n",
       "      <th></th>\n",
       "      <th></th>\n",
       "      <th></th>\n",
       "      <th></th>\n",
       "    </tr>\n",
       "  </thead>\n",
       "  <tbody>\n",
       "    <tr>\n",
       "      <th>DA3BAEB8BF604EB</th>\n",
       "      <td>ELSE</td>\n",
       "      <td>ELSE</td>\n",
       "      <td>6.594755</td>\n",
       "      <td>3.489576</td>\n",
       "      <td>8.940891</td>\n",
       "      <td>4.9636</td>\n",
       "      <td>-0.501839</td>\n",
       "      <td>-0.035049</td>\n",
       "      <td>1.603528</td>\n",
       "      <td>0.246935</td>\n",
       "      <td>True</td>\n",
       "      <td>False</td>\n",
       "      <td>False</td>\n",
       "      <td>NaN</td>\n",
       "      <td>A</td>\n",
       "      <td>S</td>\n",
       "      <td>1</td>\n",
       "      <td>male</td>\n",
       "      <td>Premium</td>\n",
       "      <td>0</td>\n",
       "      <td>731.25</td>\n",
       "      <td>32.772049</td>\n",
       "      <td>7638.0</td>\n",
       "      <td>143.108044</td>\n",
       "      <td>0.256637</td>\n",
       "      <td>0.191617</td>\n",
       "      <td>0.31882</td>\n",
       "      <td>0.347072</td>\n",
       "      <td>0.365801</td>\n",
       "      <td>0.341429</td>\n",
       "      <td>0.316583</td>\n",
       "      <td>0.366552</td>\n",
       "    </tr>\n",
       "  </tbody>\n",
       "</table>\n",
       "</div>"
      ],
      "text/plain": [
       "                cc_len cc_startswith  log_salary  log_age_knn  \\\n",
       "name                                                            \n",
       "DA3BAEB8BF604EB   ELSE          ELSE    6.594755     3.489576   \n",
       "\n",
       "                 log_estimated_expenses_knn  log_offer_value_knn  \\\n",
       "name                                                               \n",
       "DA3BAEB8BF604EB                    8.940891               4.9636   \n",
       "\n",
       "                 scaled_salary  scaled_age_knn  scaled_estimated_expenses_knn  \\\n",
       "name                                                                            \n",
       "DA3BAEB8BF604EB      -0.501839       -0.035049                       1.603528   \n",
       "\n",
       "                 scaled_offer_value_knn  nan_age  not_nan_age  target  age  \\\n",
       "name                                                                         \n",
       "DA3BAEB8BF604EB                0.246935     True        False   False  NaN   \n",
       "\n",
       "                center customer_type emails gender offer_class phone_calls  \\\n",
       "name                                                                         \n",
       "DA3BAEB8BF604EB      A             S      1   male     Premium           0   \n",
       "\n",
       "                 salary    age_knn  estimated_expenses_knn  offer_value_knn  \\\n",
       "name                                                                          \n",
       "DA3BAEB8BF604EB  731.25  32.772049                  7638.0       143.108044   \n",
       "\n",
       "                 encoded_offer_class  encoded_gender  encoded_customer_type  \\\n",
       "name                                                                          \n",
       "DA3BAEB8BF604EB             0.256637        0.191617                0.31882   \n",
       "\n",
       "                 encoded_emails  encoded_center  encoded_phone_calls  \\\n",
       "name                                                                   \n",
       "DA3BAEB8BF604EB        0.347072        0.365801             0.341429   \n",
       "\n",
       "                 encoded_cc_len  encoded_cc_startswith  \n",
       "name                                                    \n",
       "DA3BAEB8BF604EB        0.316583               0.366552  "
      ]
     },
     "execution_count": 65,
     "metadata": {},
     "output_type": "execute_result"
    }
   ],
   "source": [
    "test.head(1)"
   ]
  },
  {
   "cell_type": "code",
   "execution_count": 435,
   "metadata": {},
   "outputs": [],
   "source": [
    "#kf = KFold(n_splits=5, shuffle=True, random_state=42)\n",
    "kf = KFold(n_splits=5, shuffle=False, random_state=None) #to have each sample exactly once in validation set\n",
    "splits = kf.split(processed_train_df)"
   ]
  },
  {
   "cell_type": "code",
   "execution_count": 619,
   "metadata": {},
   "outputs": [],
   "source": [
    "processed_train_df = pd.concat([processed_train_df, pd.get_dummies(processed_train_df['emails'])], axis=1).rename(columns=email_ohe_names)"
   ]
  },
  {
   "cell_type": "code",
   "execution_count": 620,
   "metadata": {},
   "outputs": [],
   "source": [
    "processed_test_df = pd.concat([processed_test_df, pd.get_dummies(processed_test_df['emails'])], axis=1).rename(columns=email_ohe_names).head(1)"
   ]
  },
  {
   "cell_type": "code",
   "execution_count": 621,
   "metadata": {},
   "outputs": [],
   "source": [
    "X = processed_train_df.reset_index().drop(columns='name')\n",
    "y = processed_train_df[['target']].reset_index().drop(columns='name')"
   ]
  },
  {
   "cell_type": "code",
   "execution_count": 622,
   "metadata": {},
   "outputs": [
    {
     "data": {
      "text/plain": [
       "30"
      ]
     },
     "execution_count": 622,
     "metadata": {},
     "output_type": "execute_result"
    }
   ],
   "source": [
    "len(X.columns)"
   ]
  },
  {
   "cell_type": "code",
   "execution_count": 623,
   "metadata": {},
   "outputs": [],
   "source": [
    "# processed_train_df[['target', 'emails']].groupby(['emails', 'target']).size()"
   ]
  },
  {
   "cell_type": "code",
   "execution_count": 624,
   "metadata": {},
   "outputs": [],
   "source": [
    "email_ohe_names = {0: '0_emails',\n",
    "                   1: '1_email',\n",
    "                   2: '2_emails',\n",
    "                   3: '3_emails',\n",
    "                   4: '4_emails',\n",
    "                   5: '5_emails'\n",
    "                  }"
   ]
  },
  {
   "cell_type": "markdown",
   "metadata": {},
   "source": [
    "**primary set of chosen features**"
   ]
  },
  {
   "cell_type": "code",
   "execution_count": 625,
   "metadata": {},
   "outputs": [],
   "source": [
    "X.drop(columns=['salary',\n",
    "                'scaled_salary',\n",
    "                'scaled_age_knn',\n",
    "                'scaled_estimated_expenses_knn',\n",
    "                'scaled_offer_value_knn',\n",
    "                'estimated_expenses_knn',\n",
    "                'offer_value_knn',\n",
    "                'age_knn',\n",
    "                'log_age_knn',\n",
    "                'age'], inplace=True)"
   ]
  },
  {
   "cell_type": "code",
   "execution_count": 626,
   "metadata": {},
   "outputs": [
    {
     "data": {
      "text/html": [
       "<div>\n",
       "<style scoped>\n",
       "    .dataframe tbody tr th:only-of-type {\n",
       "        vertical-align: middle;\n",
       "    }\n",
       "\n",
       "    .dataframe tbody tr th {\n",
       "        vertical-align: top;\n",
       "    }\n",
       "\n",
       "    .dataframe thead th {\n",
       "        text-align: right;\n",
       "    }\n",
       "</style>\n",
       "<table border=\"1\" class=\"dataframe\">\n",
       "  <thead>\n",
       "    <tr style=\"text-align: right;\">\n",
       "      <th></th>\n",
       "      <th>cc_len</th>\n",
       "      <th>cc_startswith</th>\n",
       "      <th>log_salary</th>\n",
       "      <th>log_estimated_expenses_knn</th>\n",
       "      <th>log_offer_value_knn</th>\n",
       "      <th>nan_age</th>\n",
       "      <th>not_nan_age</th>\n",
       "      <th>target</th>\n",
       "      <th>offer_class</th>\n",
       "      <th>gender</th>\n",
       "      <th>phone_calls</th>\n",
       "      <th>emails</th>\n",
       "      <th>customer_type</th>\n",
       "      <th>center</th>\n",
       "      <th>0_emails</th>\n",
       "      <th>1_email</th>\n",
       "      <th>2_emails</th>\n",
       "      <th>3_emails</th>\n",
       "      <th>4_emails</th>\n",
       "      <th>5_emails</th>\n",
       "    </tr>\n",
       "  </thead>\n",
       "  <tbody>\n",
       "    <tr>\n",
       "      <th>0</th>\n",
       "      <td>ELSE</td>\n",
       "      <td>ELSE</td>\n",
       "      <td>7.329474</td>\n",
       "      <td>8.882808</td>\n",
       "      <td>5.71694</td>\n",
       "      <td>True</td>\n",
       "      <td>False</td>\n",
       "      <td>False</td>\n",
       "      <td>Premium</td>\n",
       "      <td>female</td>\n",
       "      <td>1</td>\n",
       "      <td>2</td>\n",
       "      <td>C</td>\n",
       "      <td>B</td>\n",
       "      <td>0</td>\n",
       "      <td>0</td>\n",
       "      <td>1</td>\n",
       "      <td>0</td>\n",
       "      <td>0</td>\n",
       "      <td>0</td>\n",
       "    </tr>\n",
       "  </tbody>\n",
       "</table>\n",
       "</div>"
      ],
      "text/plain": [
       "  cc_len cc_startswith  log_salary  log_estimated_expenses_knn  \\\n",
       "0   ELSE          ELSE    7.329474                    8.882808   \n",
       "\n",
       "   log_offer_value_knn  nan_age  not_nan_age  target offer_class  gender  \\\n",
       "0              5.71694     True        False   False     Premium  female   \n",
       "\n",
       "  phone_calls emails customer_type center  0_emails  1_email  2_emails  \\\n",
       "0           1      2             C      B         0        0         1   \n",
       "\n",
       "   3_emails  4_emails  5_emails  \n",
       "0         0         0         0  "
      ]
     },
     "execution_count": 626,
     "metadata": {},
     "output_type": "execute_result"
    }
   ],
   "source": [
    "X.head(1)"
   ]
  },
  {
   "cell_type": "code",
   "execution_count": 627,
   "metadata": {},
   "outputs": [
    {
     "data": {
      "text/plain": [
       "20"
      ]
     },
     "execution_count": 627,
     "metadata": {},
     "output_type": "execute_result"
    }
   ],
   "source": [
    "len(X.columns)"
   ]
  },
  {
   "cell_type": "code",
   "execution_count": 628,
   "metadata": {},
   "outputs": [
    {
     "data": {
      "text/html": [
       "<div>\n",
       "<style scoped>\n",
       "    .dataframe tbody tr th:only-of-type {\n",
       "        vertical-align: middle;\n",
       "    }\n",
       "\n",
       "    .dataframe tbody tr th {\n",
       "        vertical-align: top;\n",
       "    }\n",
       "\n",
       "    .dataframe thead th {\n",
       "        text-align: right;\n",
       "    }\n",
       "</style>\n",
       "<table border=\"1\" class=\"dataframe\">\n",
       "  <thead>\n",
       "    <tr style=\"text-align: right;\">\n",
       "      <th></th>\n",
       "      <th>cc_len</th>\n",
       "      <th>cc_startswith</th>\n",
       "      <th>log_salary</th>\n",
       "      <th>log_estimated_expenses_knn</th>\n",
       "      <th>log_offer_value_knn</th>\n",
       "      <th>nan_age</th>\n",
       "      <th>not_nan_age</th>\n",
       "      <th>target</th>\n",
       "      <th>offer_class</th>\n",
       "      <th>gender</th>\n",
       "      <th>phone_calls</th>\n",
       "      <th>emails</th>\n",
       "      <th>customer_type</th>\n",
       "      <th>center</th>\n",
       "      <th>0_emails</th>\n",
       "      <th>1_email</th>\n",
       "      <th>2_emails</th>\n",
       "      <th>3_emails</th>\n",
       "      <th>4_emails</th>\n",
       "      <th>5_emails</th>\n",
       "    </tr>\n",
       "  </thead>\n",
       "  <tbody>\n",
       "    <tr>\n",
       "      <th>0</th>\n",
       "      <td>ELSE</td>\n",
       "      <td>ELSE</td>\n",
       "      <td>7.329474</td>\n",
       "      <td>8.882808</td>\n",
       "      <td>5.71694</td>\n",
       "      <td>True</td>\n",
       "      <td>False</td>\n",
       "      <td>False</td>\n",
       "      <td>Premium</td>\n",
       "      <td>female</td>\n",
       "      <td>1</td>\n",
       "      <td>2</td>\n",
       "      <td>C</td>\n",
       "      <td>B</td>\n",
       "      <td>0</td>\n",
       "      <td>0</td>\n",
       "      <td>1</td>\n",
       "      <td>0</td>\n",
       "      <td>0</td>\n",
       "      <td>0</td>\n",
       "    </tr>\n",
       "  </tbody>\n",
       "</table>\n",
       "</div>"
      ],
      "text/plain": [
       "  cc_len cc_startswith  log_salary  log_estimated_expenses_knn  \\\n",
       "0   ELSE          ELSE    7.329474                    8.882808   \n",
       "\n",
       "   log_offer_value_knn  nan_age  not_nan_age  target offer_class  gender  \\\n",
       "0              5.71694     True        False   False     Premium  female   \n",
       "\n",
       "  phone_calls emails customer_type center  0_emails  1_email  2_emails  \\\n",
       "0           1      2             C      B         0        0         1   \n",
       "\n",
       "   3_emails  4_emails  5_emails  \n",
       "0         0         0         0  "
      ]
     },
     "execution_count": 628,
     "metadata": {},
     "output_type": "execute_result"
    }
   ],
   "source": [
    "X.head(1)"
   ]
  },
  {
   "cell_type": "code",
   "execution_count": 595,
   "metadata": {},
   "outputs": [],
   "source": [
    "#lrc = LogisticRegression()"
   ]
  },
  {
   "cell_type": "code",
   "execution_count": 545,
   "metadata": {},
   "outputs": [],
   "source": [
    "# fill by .mean at the end! srednia wszystkich przebiegow, gdy dany zbior nie byl zbiorem testowym"
   ]
  },
  {
   "cell_type": "code",
   "execution_count": 546,
   "metadata": {},
   "outputs": [],
   "source": [
    "# make sure that splits are separable!"
   ]
  },
  {
   "cell_type": "code",
   "execution_count": 547,
   "metadata": {},
   "outputs": [],
   "source": [
    "#make LOOE faster!\n",
    "#how to add this to gridsearch?"
   ]
  },
  {
   "cell_type": "code",
   "execution_count": 629,
   "metadata": {},
   "outputs": [],
   "source": [
    "X.drop(columns=['emails'],inplace=True)"
   ]
  },
  {
   "cell_type": "code",
   "execution_count": 630,
   "metadata": {},
   "outputs": [],
   "source": [
    "cs = [0.01]# ,0.05]#, 0.1, 0.5, 1,5]\n",
    "solvers = ['liblinear']\n",
    "random_states = [42]\n",
    "tols = [0.01]#,0.001]#,0.0001]\n",
    "max_iters = [100]#,200]\n",
    "penaltys = ['l1']#, 'l2']"
   ]
  },
  {
   "cell_type": "code",
   "execution_count": 631,
   "metadata": {},
   "outputs": [],
   "source": [
    "import itertools"
   ]
  },
  {
   "cell_type": "code",
   "execution_count": 658,
   "metadata": {},
   "outputs": [],
   "source": [
    "params_grid = {'C': [0.01, 0.05, 0.1, 0.2, 0.5],\n",
    "               'random_state': [42]}"
   ]
  },
  {
   "cell_type": "code",
   "execution_count": 663,
   "metadata": {},
   "outputs": [
    {
     "ename": "SyntaxError",
     "evalue": "invalid syntax (<ipython-input-663-a10d68569587>, line 1)",
     "output_type": "error",
     "traceback": [
      "\u001b[0;36m  File \u001b[0;32m\"<ipython-input-663-a10d68569587>\"\u001b[0;36m, line \u001b[0;32m1\u001b[0m\n\u001b[0;31m    **params_grid.values()\u001b[0m\n\u001b[0m     ^\u001b[0m\n\u001b[0;31mSyntaxError\u001b[0m\u001b[0;31m:\u001b[0m invalid syntax\n"
     ]
    }
   ],
   "source": [
    "**params_grid.values()"
   ]
  },
  {
   "cell_type": "code",
   "execution_count": null,
   "metadata": {},
   "outputs": [],
   "source": [
    "if selected_model == 'LogisticRegression':\n",
    "    params\n",
    "    \n",
    "if selected_model == 'RandomForest':"
   ]
  },
  {
   "cell_type": "code",
   "execution_count": 656,
   "metadata": {},
   "outputs": [
    {
     "name": "stdout",
     "output_type": "stream",
     "text": [
      "(0.01, 'liblinear', 42, 0.01, 100, 'l1')\n"
     ]
    }
   ],
   "source": [
    "for p in itertools.product(cs, solvers, random_states, tols, max_iters, penaltys):\n",
    "    params = {}"
   ]
  },
  {
   "cell_type": "code",
   "execution_count": 665,
   "metadata": {},
   "outputs": [
    {
     "name": "stdout",
     "output_type": "stream",
     "text": [
      "(0.01, 42)\n",
      "(0.05, 42)\n",
      "(0.1, 42)\n",
      "(0.2, 42)\n",
      "(0.5, 42)\n"
     ]
    }
   ],
   "source": [
    "for p in itertools.product(*params_grid.values()):\n",
    "    print(p)"
   ]
  },
  {
   "cell_type": "code",
   "execution_count": 678,
   "metadata": {},
   "outputs": [
    {
     "name": "stdout",
     "output_type": "stream",
     "text": [
      "C\n",
      "random_state\n"
     ]
    }
   ],
   "source": [
    "for key in params_grid.keys():\n",
    "    print(key)"
   ]
  },
  {
   "cell_type": "code",
   "execution_count": 701,
   "metadata": {},
   "outputs": [
    {
     "data": {
      "text/plain": [
       "{'C', 'random_state'}"
      ]
     },
     "execution_count": 701,
     "metadata": {},
     "output_type": "execute_result"
    }
   ],
   "source": [
    "{key for key in (params_grid.keys())}"
   ]
  },
  {
   "cell_type": "code",
   "execution_count": 719,
   "metadata": {},
   "outputs": [
    {
     "data": {
      "text/plain": [
       "{'C': [0.01, 0.05, 0.1, 0.2, 0.5], 'random_state': [42]}"
      ]
     },
     "execution_count": 719,
     "metadata": {},
     "output_type": "execute_result"
    }
   ],
   "source": [
    "params_grid"
   ]
  },
  {
   "cell_type": "code",
   "execution_count": 714,
   "metadata": {},
   "outputs": [],
   "source": [
    "model_params = params_grid.copy()"
   ]
  },
  {
   "cell_type": "code",
   "execution_count": 717,
   "metadata": {},
   "outputs": [],
   "source": [
    "for counter, key in enumerate(model_params.keys()):\n",
    "    model_params[key] = p[counter]"
   ]
  },
  {
   "cell_type": "code",
   "execution_count": 718,
   "metadata": {},
   "outputs": [
    {
     "data": {
      "text/plain": [
       "{'C': 0.5, 'random_state': 42}"
      ]
     },
     "execution_count": 718,
     "metadata": {},
     "output_type": "execute_result"
    }
   ],
   "source": [
    "model_params"
   ]
  },
  {
   "cell_type": "code",
   "execution_count": 722,
   "metadata": {},
   "outputs": [],
   "source": [
    "#confusion_matrix-threshold"
   ]
  },
  {
   "cell_type": "code",
   "execution_count": 729,
   "metadata": {},
   "outputs": [
    {
     "ename": "KeyboardInterrupt",
     "evalue": "",
     "output_type": "error",
     "traceback": [
      "\u001b[0;31m---------------------------------------------------------------------------\u001b[0m",
      "\u001b[0;31mKeyboardInterrupt\u001b[0m                         Traceback (most recent call last)",
      "\u001b[0;32m<ipython-input-729-c46d2976aa79>\u001b[0m in \u001b[0;36m<module>\u001b[0;34m\u001b[0m\n\u001b[1;32m      6\u001b[0m                                                      columns_to_encode=['offer_class', 'gender', 'customer_type',\n\u001b[1;32m      7\u001b[0m                                                                         'center', 'phone_calls', 'cc_len', 'cc_startswith'],\n\u001b[0;32m----> 8\u001b[0;31m                                                      n_folds=5)\n\u001b[0m",
      "\u001b[0;32m<ipython-input-726-ba1dfdee1373>\u001b[0m in \u001b[0;36mLOO_GridSearchCV\u001b[0;34m(train_df, test_df, model, params_grid, columns_to_encode, n_folds)\u001b[0m\n\u001b[1;32m     35\u001b[0m                                  std=0.05)\n\u001b[1;32m     36\u001b[0m \u001b[0;34m\u001b[0m\u001b[0m\n\u001b[0;32m---> 37\u001b[0;31m             \u001b[0mX_train\u001b[0m\u001b[0;34m,\u001b[0m \u001b[0mX_val\u001b[0m \u001b[0;34m=\u001b[0m \u001b[0menc\u001b[0m\u001b[0;34m.\u001b[0m\u001b[0mfit\u001b[0m\u001b[0;34m(\u001b[0m\u001b[0;34m)\u001b[0m\u001b[0;34m\u001b[0m\u001b[0;34m\u001b[0m\u001b[0m\n\u001b[0m\u001b[1;32m     38\u001b[0m             \u001b[0mencoded_cols\u001b[0m \u001b[0;34m=\u001b[0m \u001b[0;34m[\u001b[0m\u001b[0mcol\u001b[0m \u001b[0;32mfor\u001b[0m \u001b[0mcol\u001b[0m \u001b[0;32min\u001b[0m \u001b[0mX_train\u001b[0m\u001b[0;34m.\u001b[0m\u001b[0mcolumns\u001b[0m \u001b[0;32mif\u001b[0m \u001b[0;34m'encoded_'\u001b[0m \u001b[0;32min\u001b[0m \u001b[0mcol\u001b[0m\u001b[0;34m]\u001b[0m\u001b[0;34m\u001b[0m\u001b[0;34m\u001b[0m\u001b[0m\n\u001b[1;32m     39\u001b[0m             \u001b[0mdfs_to_mean\u001b[0m\u001b[0;34m.\u001b[0m\u001b[0mappend\u001b[0m\u001b[0;34m(\u001b[0m\u001b[0mX_train\u001b[0m\u001b[0;34m[\u001b[0m\u001b[0mencoded_cols\u001b[0m\u001b[0;34m]\u001b[0m\u001b[0;34m)\u001b[0m\u001b[0;34m\u001b[0m\u001b[0;34m\u001b[0m\u001b[0m\n",
      "\u001b[0;32m~/PycharmProjects/new_offer_success_predictor/src/ml_preprocessing/categorical_encoders.py\u001b[0m in \u001b[0;36mfit\u001b[0;34m(self)\u001b[0m\n\u001b[1;32m    166\u001b[0m         \u001b[0;32mand\u001b[0m \u001b[0mtest\u001b[0m \u001b[0msets\u001b[0m\u001b[0;34m\u001b[0m\u001b[0;34m\u001b[0m\u001b[0m\n\u001b[1;32m    167\u001b[0m         \"\"\"\n\u001b[0;32m--> 168\u001b[0;31m         \u001b[0mfitted_train\u001b[0m \u001b[0;34m=\u001b[0m \u001b[0mself\u001b[0m\u001b[0;34m.\u001b[0m\u001b[0m_loo_train\u001b[0m\u001b[0;34m(\u001b[0m\u001b[0;34m)\u001b[0m\u001b[0;34m\u001b[0m\u001b[0;34m\u001b[0m\u001b[0m\n\u001b[0m\u001b[1;32m    169\u001b[0m         \u001b[0mfitted_test\u001b[0m \u001b[0;34m=\u001b[0m \u001b[0mself\u001b[0m\u001b[0;34m.\u001b[0m\u001b[0m_loo_test\u001b[0m\u001b[0;34m(\u001b[0m\u001b[0;34m)\u001b[0m\u001b[0;34m\u001b[0m\u001b[0;34m\u001b[0m\u001b[0m\n\u001b[1;32m    170\u001b[0m         \u001b[0;32mreturn\u001b[0m \u001b[0mfitted_train\u001b[0m\u001b[0;34m,\u001b[0m \u001b[0mfitted_test\u001b[0m\u001b[0;34m\u001b[0m\u001b[0;34m\u001b[0m\u001b[0m\n",
      "\u001b[0;32m~/PycharmProjects/new_offer_success_predictor/src/ml_preprocessing/categorical_encoders.py\u001b[0m in \u001b[0;36m_loo_train\u001b[0;34m(self)\u001b[0m\n\u001b[1;32m    127\u001b[0m                 \u001b[0mcolumn_class\u001b[0m \u001b[0;34m=\u001b[0m \u001b[0mrow\u001b[0m\u001b[0;34m[\u001b[0m\u001b[0mcol\u001b[0m\u001b[0;34m]\u001b[0m\u001b[0;34m\u001b[0m\u001b[0;34m\u001b[0m\u001b[0m\n\u001b[1;32m    128\u001b[0m                 mean_numerator = (\n\u001b[0;32m--> 129\u001b[0;31m                     \u001b[0mgroup\u001b[0m\u001b[0;34m[\u001b[0m\u001b[0;34m(\u001b[0m\u001b[0mgroup\u001b[0m\u001b[0;34m[\u001b[0m\u001b[0mcol\u001b[0m\u001b[0;34m]\u001b[0m \u001b[0;34m==\u001b[0m \u001b[0mcolumn_class\u001b[0m\u001b[0;34m)\u001b[0m \u001b[0;34m&\u001b[0m \u001b[0;34m(\u001b[0m\u001b[0mgroup\u001b[0m\u001b[0;34m[\u001b[0m\u001b[0mself\u001b[0m\u001b[0;34m.\u001b[0m\u001b[0mtarget\u001b[0m\u001b[0;34m]\u001b[0m \u001b[0;34m==\u001b[0m \u001b[0;36m1\u001b[0m\u001b[0;34m)\u001b[0m\u001b[0;34m]\u001b[0m\u001b[0;34m[\u001b[0m\u001b[0;34m'size'\u001b[0m\u001b[0;34m]\u001b[0m\u001b[0;34m\u001b[0m\u001b[0;34m\u001b[0m\u001b[0m\n\u001b[0m\u001b[1;32m    130\u001b[0m                     \u001b[0;34m.\u001b[0m\u001b[0mreset_index\u001b[0m\u001b[0;34m(\u001b[0m\u001b[0;34m)\u001b[0m\u001b[0;34m\u001b[0m\u001b[0;34m\u001b[0m\u001b[0m\n\u001b[1;32m    131\u001b[0m                     \u001b[0;34m.\u001b[0m\u001b[0mloc\u001b[0m\u001b[0;34m[\u001b[0m\u001b[0;34m:\u001b[0m\u001b[0;34m,\u001b[0m \u001b[0;34m'size'\u001b[0m\u001b[0;34m]\u001b[0m\u001b[0;34m\u001b[0m\u001b[0;34m\u001b[0m\u001b[0m\n",
      "\u001b[0;32m~/anaconda3/envs/new_offer_predictor/lib/python3.6/site-packages/pandas/core/series.py\u001b[0m in \u001b[0;36mreset_index\u001b[0;34m(self, level, drop, name, inplace)\u001b[0m\n\u001b[1;32m   1587\u001b[0m         \u001b[0;32melse\u001b[0m\u001b[0;34m:\u001b[0m\u001b[0;34m\u001b[0m\u001b[0;34m\u001b[0m\u001b[0m\n\u001b[1;32m   1588\u001b[0m             \u001b[0mdf\u001b[0m \u001b[0;34m=\u001b[0m \u001b[0mself\u001b[0m\u001b[0;34m.\u001b[0m\u001b[0mto_frame\u001b[0m\u001b[0;34m(\u001b[0m\u001b[0mname\u001b[0m\u001b[0;34m)\u001b[0m\u001b[0;34m\u001b[0m\u001b[0;34m\u001b[0m\u001b[0m\n\u001b[0;32m-> 1589\u001b[0;31m             \u001b[0;32mreturn\u001b[0m \u001b[0mdf\u001b[0m\u001b[0;34m.\u001b[0m\u001b[0mreset_index\u001b[0m\u001b[0;34m(\u001b[0m\u001b[0mlevel\u001b[0m\u001b[0;34m=\u001b[0m\u001b[0mlevel\u001b[0m\u001b[0;34m,\u001b[0m \u001b[0mdrop\u001b[0m\u001b[0;34m=\u001b[0m\u001b[0mdrop\u001b[0m\u001b[0;34m)\u001b[0m\u001b[0;34m\u001b[0m\u001b[0;34m\u001b[0m\u001b[0m\n\u001b[0m\u001b[1;32m   1590\u001b[0m \u001b[0;34m\u001b[0m\u001b[0m\n\u001b[1;32m   1591\u001b[0m     \u001b[0;31m# ----------------------------------------------------------------------\u001b[0m\u001b[0;34m\u001b[0m\u001b[0;34m\u001b[0m\u001b[0;34m\u001b[0m\u001b[0m\n",
      "\u001b[0;32m~/anaconda3/envs/new_offer_predictor/lib/python3.6/site-packages/pandas/core/frame.py\u001b[0m in \u001b[0;36mreset_index\u001b[0;34m(self, level, drop, inplace, col_level, col_fill)\u001b[0m\n\u001b[1;32m   4707\u001b[0m                 \u001b[0;31m# to ndarray and maybe infer different dtype\u001b[0m\u001b[0;34m\u001b[0m\u001b[0;34m\u001b[0m\u001b[0;34m\u001b[0m\u001b[0m\n\u001b[1;32m   4708\u001b[0m                 \u001b[0mlevel_values\u001b[0m \u001b[0;34m=\u001b[0m \u001b[0m_maybe_casted_values\u001b[0m\u001b[0;34m(\u001b[0m\u001b[0mlev\u001b[0m\u001b[0;34m,\u001b[0m \u001b[0mlab\u001b[0m\u001b[0;34m)\u001b[0m\u001b[0;34m\u001b[0m\u001b[0;34m\u001b[0m\u001b[0m\n\u001b[0;32m-> 4709\u001b[0;31m                 \u001b[0mnew_obj\u001b[0m\u001b[0;34m.\u001b[0m\u001b[0minsert\u001b[0m\u001b[0;34m(\u001b[0m\u001b[0;36m0\u001b[0m\u001b[0;34m,\u001b[0m \u001b[0mname\u001b[0m\u001b[0;34m,\u001b[0m \u001b[0mlevel_values\u001b[0m\u001b[0;34m)\u001b[0m\u001b[0;34m\u001b[0m\u001b[0;34m\u001b[0m\u001b[0m\n\u001b[0m\u001b[1;32m   4710\u001b[0m \u001b[0;34m\u001b[0m\u001b[0m\n\u001b[1;32m   4711\u001b[0m         \u001b[0mnew_obj\u001b[0m\u001b[0;34m.\u001b[0m\u001b[0mindex\u001b[0m \u001b[0;34m=\u001b[0m \u001b[0mnew_index\u001b[0m\u001b[0;34m\u001b[0m\u001b[0;34m\u001b[0m\u001b[0m\n",
      "\u001b[0;32m~/anaconda3/envs/new_offer_predictor/lib/python3.6/site-packages/pandas/core/frame.py\u001b[0m in \u001b[0;36minsert\u001b[0;34m(self, loc, column, value, allow_duplicates)\u001b[0m\n\u001b[1;32m   3589\u001b[0m         \u001b[0mself\u001b[0m\u001b[0;34m.\u001b[0m\u001b[0m_ensure_valid_index\u001b[0m\u001b[0;34m(\u001b[0m\u001b[0mvalue\u001b[0m\u001b[0;34m)\u001b[0m\u001b[0;34m\u001b[0m\u001b[0;34m\u001b[0m\u001b[0m\n\u001b[1;32m   3590\u001b[0m         \u001b[0mvalue\u001b[0m \u001b[0;34m=\u001b[0m \u001b[0mself\u001b[0m\u001b[0;34m.\u001b[0m\u001b[0m_sanitize_column\u001b[0m\u001b[0;34m(\u001b[0m\u001b[0mcolumn\u001b[0m\u001b[0;34m,\u001b[0m \u001b[0mvalue\u001b[0m\u001b[0;34m,\u001b[0m \u001b[0mbroadcast\u001b[0m\u001b[0;34m=\u001b[0m\u001b[0;32mFalse\u001b[0m\u001b[0;34m)\u001b[0m\u001b[0;34m\u001b[0m\u001b[0;34m\u001b[0m\u001b[0m\n\u001b[0;32m-> 3591\u001b[0;31m         \u001b[0mself\u001b[0m\u001b[0;34m.\u001b[0m\u001b[0m_data\u001b[0m\u001b[0;34m.\u001b[0m\u001b[0minsert\u001b[0m\u001b[0;34m(\u001b[0m\u001b[0mloc\u001b[0m\u001b[0;34m,\u001b[0m \u001b[0mcolumn\u001b[0m\u001b[0;34m,\u001b[0m \u001b[0mvalue\u001b[0m\u001b[0;34m,\u001b[0m \u001b[0mallow_duplicates\u001b[0m\u001b[0;34m=\u001b[0m\u001b[0mallow_duplicates\u001b[0m\u001b[0;34m)\u001b[0m\u001b[0;34m\u001b[0m\u001b[0;34m\u001b[0m\u001b[0m\n\u001b[0m\u001b[1;32m   3592\u001b[0m \u001b[0;34m\u001b[0m\u001b[0m\n\u001b[1;32m   3593\u001b[0m     \u001b[0;32mdef\u001b[0m \u001b[0massign\u001b[0m\u001b[0;34m(\u001b[0m\u001b[0mself\u001b[0m\u001b[0;34m,\u001b[0m \u001b[0;34m**\u001b[0m\u001b[0mkwargs\u001b[0m\u001b[0;34m)\u001b[0m\u001b[0;34m:\u001b[0m\u001b[0;34m\u001b[0m\u001b[0;34m\u001b[0m\u001b[0m\n",
      "\u001b[0;32m~/anaconda3/envs/new_offer_predictor/lib/python3.6/site-packages/pandas/core/internals/managers.py\u001b[0m in \u001b[0;36minsert\u001b[0;34m(self, loc, item, value, allow_duplicates)\u001b[0m\n\u001b[1;32m   1177\u001b[0m \u001b[0;34m\u001b[0m\u001b[0m\n\u001b[1;32m   1178\u001b[0m         \u001b[0;31m# insert to the axis; this could possibly raise a TypeError\u001b[0m\u001b[0;34m\u001b[0m\u001b[0;34m\u001b[0m\u001b[0;34m\u001b[0m\u001b[0m\n\u001b[0;32m-> 1179\u001b[0;31m         \u001b[0mnew_axis\u001b[0m \u001b[0;34m=\u001b[0m \u001b[0mself\u001b[0m\u001b[0;34m.\u001b[0m\u001b[0mitems\u001b[0m\u001b[0;34m.\u001b[0m\u001b[0minsert\u001b[0m\u001b[0;34m(\u001b[0m\u001b[0mloc\u001b[0m\u001b[0;34m,\u001b[0m \u001b[0mitem\u001b[0m\u001b[0;34m)\u001b[0m\u001b[0;34m\u001b[0m\u001b[0;34m\u001b[0m\u001b[0m\n\u001b[0m\u001b[1;32m   1180\u001b[0m \u001b[0;34m\u001b[0m\u001b[0m\n\u001b[1;32m   1181\u001b[0m         \u001b[0mblock\u001b[0m \u001b[0;34m=\u001b[0m \u001b[0mmake_block\u001b[0m\u001b[0;34m(\u001b[0m\u001b[0mvalues\u001b[0m\u001b[0;34m=\u001b[0m\u001b[0mvalue\u001b[0m\u001b[0;34m,\u001b[0m \u001b[0mndim\u001b[0m\u001b[0;34m=\u001b[0m\u001b[0mself\u001b[0m\u001b[0;34m.\u001b[0m\u001b[0mndim\u001b[0m\u001b[0;34m,\u001b[0m \u001b[0mplacement\u001b[0m\u001b[0;34m=\u001b[0m\u001b[0mslice\u001b[0m\u001b[0;34m(\u001b[0m\u001b[0mloc\u001b[0m\u001b[0;34m,\u001b[0m \u001b[0mloc\u001b[0m \u001b[0;34m+\u001b[0m \u001b[0;36m1\u001b[0m\u001b[0;34m)\u001b[0m\u001b[0;34m)\u001b[0m\u001b[0;34m\u001b[0m\u001b[0;34m\u001b[0m\u001b[0m\n",
      "\u001b[0;32m~/anaconda3/envs/new_offer_predictor/lib/python3.6/site-packages/pandas/core/indexes/base.py\u001b[0m in \u001b[0;36minsert\u001b[0;34m(self, loc, item)\u001b[0m\n\u001b[1;32m   5309\u001b[0m         \"\"\"\n\u001b[1;32m   5310\u001b[0m         \u001b[0m_self\u001b[0m \u001b[0;34m=\u001b[0m \u001b[0mnp\u001b[0m\u001b[0;34m.\u001b[0m\u001b[0masarray\u001b[0m\u001b[0;34m(\u001b[0m\u001b[0mself\u001b[0m\u001b[0;34m)\u001b[0m\u001b[0;34m\u001b[0m\u001b[0;34m\u001b[0m\u001b[0m\n\u001b[0;32m-> 5311\u001b[0;31m         \u001b[0mitem\u001b[0m \u001b[0;34m=\u001b[0m \u001b[0mself\u001b[0m\u001b[0;34m.\u001b[0m\u001b[0m_coerce_scalar_to_index\u001b[0m\u001b[0;34m(\u001b[0m\u001b[0mitem\u001b[0m\u001b[0;34m)\u001b[0m\u001b[0;34m.\u001b[0m\u001b[0m_ndarray_values\u001b[0m\u001b[0;34m\u001b[0m\u001b[0;34m\u001b[0m\u001b[0m\n\u001b[0m\u001b[1;32m   5312\u001b[0m         \u001b[0midx\u001b[0m \u001b[0;34m=\u001b[0m \u001b[0mnp\u001b[0m\u001b[0;34m.\u001b[0m\u001b[0mconcatenate\u001b[0m\u001b[0;34m(\u001b[0m\u001b[0;34m(\u001b[0m\u001b[0m_self\u001b[0m\u001b[0;34m[\u001b[0m\u001b[0;34m:\u001b[0m\u001b[0mloc\u001b[0m\u001b[0;34m]\u001b[0m\u001b[0;34m,\u001b[0m \u001b[0mitem\u001b[0m\u001b[0;34m,\u001b[0m \u001b[0m_self\u001b[0m\u001b[0;34m[\u001b[0m\u001b[0mloc\u001b[0m\u001b[0;34m:\u001b[0m\u001b[0;34m]\u001b[0m\u001b[0;34m)\u001b[0m\u001b[0;34m)\u001b[0m\u001b[0;34m\u001b[0m\u001b[0;34m\u001b[0m\u001b[0m\n\u001b[1;32m   5313\u001b[0m         \u001b[0;32mreturn\u001b[0m \u001b[0mself\u001b[0m\u001b[0;34m.\u001b[0m\u001b[0m_shallow_copy_with_infer\u001b[0m\u001b[0;34m(\u001b[0m\u001b[0midx\u001b[0m\u001b[0;34m)\u001b[0m\u001b[0;34m\u001b[0m\u001b[0;34m\u001b[0m\u001b[0m\n",
      "\u001b[0;32m~/anaconda3/envs/new_offer_predictor/lib/python3.6/site-packages/pandas/core/indexes/base.py\u001b[0m in \u001b[0;36m_coerce_scalar_to_index\u001b[0;34m(self, item)\u001b[0m\n\u001b[1;32m   4155\u001b[0m             \u001b[0mdtype\u001b[0m \u001b[0;34m=\u001b[0m \u001b[0;32mNone\u001b[0m\u001b[0;34m\u001b[0m\u001b[0;34m\u001b[0m\u001b[0m\n\u001b[1;32m   4156\u001b[0m \u001b[0;34m\u001b[0m\u001b[0m\n\u001b[0;32m-> 4157\u001b[0;31m         \u001b[0;32mreturn\u001b[0m \u001b[0mIndex\u001b[0m\u001b[0;34m(\u001b[0m\u001b[0;34m[\u001b[0m\u001b[0mitem\u001b[0m\u001b[0;34m]\u001b[0m\u001b[0;34m,\u001b[0m \u001b[0mdtype\u001b[0m\u001b[0;34m=\u001b[0m\u001b[0mdtype\u001b[0m\u001b[0;34m,\u001b[0m \u001b[0;34m**\u001b[0m\u001b[0mself\u001b[0m\u001b[0;34m.\u001b[0m\u001b[0m_get_attributes_dict\u001b[0m\u001b[0;34m(\u001b[0m\u001b[0;34m)\u001b[0m\u001b[0;34m)\u001b[0m\u001b[0;34m\u001b[0m\u001b[0;34m\u001b[0m\u001b[0m\n\u001b[0m\u001b[1;32m   4158\u001b[0m \u001b[0;34m\u001b[0m\u001b[0m\n\u001b[1;32m   4159\u001b[0m     \u001b[0;32mdef\u001b[0m \u001b[0m_to_safe_for_reshape\u001b[0m\u001b[0;34m(\u001b[0m\u001b[0mself\u001b[0m\u001b[0;34m)\u001b[0m\u001b[0;34m:\u001b[0m\u001b[0;34m\u001b[0m\u001b[0;34m\u001b[0m\u001b[0m\n",
      "\u001b[0;32m~/anaconda3/envs/new_offer_predictor/lib/python3.6/site-packages/pandas/core/indexes/base.py\u001b[0m in \u001b[0;36m__new__\u001b[0;34m(cls, data, dtype, copy, name, fastpath, tupleize_cols, **kwargs)\u001b[0m\n\u001b[1;32m    348\u001b[0m                 \u001b[0;32mreturn\u001b[0m \u001b[0mresult\u001b[0m\u001b[0;34m\u001b[0m\u001b[0;34m\u001b[0m\u001b[0m\n\u001b[1;32m    349\u001b[0m \u001b[0;34m\u001b[0m\u001b[0m\n\u001b[0;32m--> 350\u001b[0;31m         elif is_timedelta64_dtype(data) or (\n\u001b[0m\u001b[1;32m    351\u001b[0m             \u001b[0mdtype\u001b[0m \u001b[0;32mis\u001b[0m \u001b[0;32mnot\u001b[0m \u001b[0;32mNone\u001b[0m \u001b[0;32mand\u001b[0m \u001b[0mis_timedelta64_dtype\u001b[0m\u001b[0;34m(\u001b[0m\u001b[0mdtype\u001b[0m\u001b[0;34m)\u001b[0m\u001b[0;34m\u001b[0m\u001b[0;34m\u001b[0m\u001b[0m\n\u001b[1;32m    352\u001b[0m         ):\n",
      "\u001b[0;32m~/anaconda3/envs/new_offer_predictor/lib/python3.6/site-packages/pandas/core/dtypes/common.py\u001b[0m in \u001b[0;36mis_timedelta64_dtype\u001b[0;34m(arr_or_dtype)\u001b[0m\n\u001b[1;32m    603\u001b[0m     \"\"\"\n\u001b[1;32m    604\u001b[0m \u001b[0;34m\u001b[0m\u001b[0m\n\u001b[0;32m--> 605\u001b[0;31m     \u001b[0;32mreturn\u001b[0m \u001b[0m_is_dtype_type\u001b[0m\u001b[0;34m(\u001b[0m\u001b[0marr_or_dtype\u001b[0m\u001b[0;34m,\u001b[0m \u001b[0mclasses\u001b[0m\u001b[0;34m(\u001b[0m\u001b[0mnp\u001b[0m\u001b[0;34m.\u001b[0m\u001b[0mtimedelta64\u001b[0m\u001b[0;34m)\u001b[0m\u001b[0;34m)\u001b[0m\u001b[0;34m\u001b[0m\u001b[0;34m\u001b[0m\u001b[0m\n\u001b[0m\u001b[1;32m    606\u001b[0m \u001b[0;34m\u001b[0m\u001b[0m\n\u001b[1;32m    607\u001b[0m \u001b[0;34m\u001b[0m\u001b[0m\n",
      "\u001b[0;32m~/anaconda3/envs/new_offer_predictor/lib/python3.6/site-packages/pandas/core/dtypes/common.py\u001b[0m in \u001b[0;36mclasses\u001b[0;34m(*klasses)\u001b[0m\n\u001b[1;32m    209\u001b[0m \u001b[0;32mdef\u001b[0m \u001b[0mclasses\u001b[0m\u001b[0;34m(\u001b[0m\u001b[0;34m*\u001b[0m\u001b[0mklasses\u001b[0m\u001b[0;34m)\u001b[0m\u001b[0;34m:\u001b[0m\u001b[0;34m\u001b[0m\u001b[0;34m\u001b[0m\u001b[0m\n\u001b[1;32m    210\u001b[0m     \u001b[0;34m\"\"\" evaluate if the tipo is a subclass of the klasses \"\"\"\u001b[0m\u001b[0;34m\u001b[0m\u001b[0;34m\u001b[0m\u001b[0m\n\u001b[0;32m--> 211\u001b[0;31m     \u001b[0;32mreturn\u001b[0m \u001b[0;32mlambda\u001b[0m \u001b[0mtipo\u001b[0m\u001b[0;34m:\u001b[0m \u001b[0missubclass\u001b[0m\u001b[0;34m(\u001b[0m\u001b[0mtipo\u001b[0m\u001b[0;34m,\u001b[0m \u001b[0mklasses\u001b[0m\u001b[0;34m)\u001b[0m\u001b[0;34m\u001b[0m\u001b[0;34m\u001b[0m\u001b[0m\n\u001b[0m\u001b[1;32m    212\u001b[0m \u001b[0;34m\u001b[0m\u001b[0m\n\u001b[1;32m    213\u001b[0m \u001b[0;34m\u001b[0m\u001b[0m\n",
      "\u001b[0;31mKeyboardInterrupt\u001b[0m: "
     ]
    }
   ],
   "source": [
    "encoded_dfs, accuracies, parameters,  recalls = LOO_GridSearchCV(\n",
    "                                                     train_df=X,\n",
    "                                                     test_df=y,\n",
    "                                                     model='LogisticRegression',\n",
    "                                                     params_grid=params_grid,\n",
    "                                                     columns_to_encode=['offer_class', 'gender', 'customer_type',\n",
    "                                                                        'center', 'phone_calls', 'cc_len', 'cc_startswith'],\n",
    "                                                     n_folds=5)"
   ]
  },
  {
   "cell_type": "code",
   "execution_count": null,
   "metadata": {},
   "outputs": [],
   "source": []
  },
  {
   "cell_type": "code",
   "execution_count": 726,
   "metadata": {},
   "outputs": [],
   "source": [
    "def LOO_GridSearchCV(train_df, test_df, model: str, params_grid, columns_to_encode, n_folds: int = 5):\n",
    "    \"\"\"\n",
    "    \"\"\"\n",
    "    processed_train_df = train_df.copy(deep=True)\n",
    "    processed_test_df = test_df.copy(deep=True)\n",
    "    \n",
    "    models_accuracies, models_recalls, models_parameters = ([] for i in range(3))\n",
    "    for p in itertools.product(*params_grid.values()):\n",
    "        kf = KFold(n_splits=n_folds, shuffle=False, random_state=None)\n",
    "        #to have each sample exactly once in validation set\n",
    "        splits = kf.split(processed_train_df)\n",
    "        model_params = params_grid.copy()\n",
    "        for counter, key in enumerate(model_params.keys()):\n",
    "            model_params[key] = p[counter]\n",
    "        \n",
    "        models_parameters.append(model_params.items())\n",
    "        if model == 'LogisticRegression':\n",
    "            clf = LogisticRegression(**model_params)\n",
    "            \n",
    "        if model == 'RandomForestClassifier':\n",
    "            clf = RandomForestClassifier(**model_params)\n",
    "        \n",
    "        dfs_to_mean, final_encoded_dfs, cv_accuracies, cv_recalls = ([] for i in range(4))\n",
    "        for train_index, val_index in splits:\n",
    "            X_train, y_train = X.iloc[train_index], y.iloc[train_index]\n",
    "            X_val, y_val = X.iloc[val_index], y.iloc[val_index]\n",
    "            X_val.drop(columns=['target'], inplace=True)\n",
    "            \n",
    "            enc = LeaveOneOutEncoder(train_df=X_train,\n",
    "                                 test_df=X_val,\n",
    "                                 columns_to_encode=columns_to_encode,\n",
    "                                 target_column='target',\n",
    "                                 random_state=42,\n",
    "                                 mean=1,\n",
    "                                 std=0.05)\n",
    "            \n",
    "            X_train, X_val = enc.fit()\n",
    "            encoded_cols = [col for col in X_train.columns if 'encoded_' in col]\n",
    "            dfs_to_mean.append(X_train[encoded_cols])\n",
    "            train_to_drop = columns_to_encode.copy()\n",
    "            train_to_drop.extend(['target'])\n",
    "            X_train.drop(columns=train_to_drop, inplace=True)\n",
    "            test_to_drop = columns_to_encode.copy()\n",
    "            X_val.drop(columns=test_to_drop, inplace=True)\n",
    "            lrc.fit(X_train, y_train)\n",
    "            predictions = lrc.predict(X_val)\n",
    "            cv_accuracies.append(accuracy_score(y_val, predictions))\n",
    "            cm = confusion_matrix(y_val, predictions)\n",
    "            fn, tp = cm[1,0], cm[1,1]\n",
    "            recall = tp/(tp+fn)\n",
    "        for df in dfs_to_mean:\n",
    "            zeros = [0 for col in df.columns]\n",
    "            for index in range(len(processed_train_df)):\n",
    "                if index not in df.index:\n",
    "                    df.loc[index, :] = zeros\n",
    "                df.sort_index(inplace=True)\n",
    "        mean_df = pd.DataFrame()\n",
    "        for num in range(n_folds):\n",
    "            mean_df = mean_df+dfs_to_mean[num]\n",
    "        encoded_final = mean_df.divide(n_folds-1)  \n",
    "        final_encoded_dfs.append(encoded_final)\n",
    "        models_accuracies.append(np.mean(cv_accuracies))\n",
    "        models_recalls.append(np.mean(cv_recalls))\n",
    "        \n",
    "    \n",
    "    return final_encoded_dfs, models_accuracies, models_parameters, models_recalls"
   ]
  },
  {
   "cell_type": "code",
   "execution_count": 632,
   "metadata": {},
   "outputs": [],
   "source": [
    "models_acc1 = []\n",
    "params = []\n",
    "for p in itertools.product(cs, solvers, random_states, tols, max_iters, penaltys):\n",
    "    kf = KFold(n_splits=5, shuffle=False, random_state=None)\n",
    "    #to have each sample exactly once in validation set\n",
    "    splits = kf.split(processed_train_df)\n",
    "    c, solver, random_state, tol, max_iter, penalty = p\n",
    "    lrc = LogisticRegression(C=c,\n",
    "                             tol=tol,\n",
    "                             max_iter=max_iter,\n",
    "                             solver=solver,\n",
    "                             penalty=penalty,\n",
    "                             random_state=random_state)\n",
    "    list_of_cols_to_mean = []\n",
    "    accuracy = []\n",
    "    recall = []\n",
    "    params.append(p)\n",
    "    for train_index, val_index in splits:\n",
    "        X_train, y_train = X.iloc[train_index], y.iloc[train_index]\n",
    "        X_val, y_val = X.iloc[val_index], y.iloc[val_index]\n",
    "        X_val.drop(columns=['target'], inplace=True)\n",
    "        columns_to_encode = ['offer_class',\n",
    "                             'gender',\n",
    "                             'customer_type',\n",
    "                             #'emails',\n",
    "                             'center',\n",
    "                             'phone_calls',\n",
    "                             'cc_len',\n",
    "                             'cc_startswith']\n",
    "\n",
    "        enc = LeaveOneOutEncoder(train_df=X_train,\n",
    "                             test_df=X_val,\n",
    "                             columns_to_encode=columns_to_encode,\n",
    "                             target_column='target',\n",
    "                             random_state=42,\n",
    "                             mean=1,\n",
    "                             std=0.05)\n",
    "        X_train, X_val = enc.fit()\n",
    "        encoded_cols = [col for col in X_train.columns if 'encoded_' in col]\n",
    "        list_of_cols_to_mean.append(X_train[encoded_cols])\n",
    "        train_to_drop = columns_to_encode.copy()\n",
    "        train_to_drop.extend(['target'])\n",
    "        X_train.drop(columns=train_to_drop, inplace=True)\n",
    "        test_to_drop = columns_to_encode.copy()\n",
    "        X_val.drop(columns=test_to_drop, inplace=True)\n",
    "        lrc.fit(X_train, y_train)\n",
    "        predictions = lrc.predict(X_val)\n",
    "        accuracy.append(accuracy_score(y_val, predictions))\n",
    "        recall.\n",
    "    models_acc1.append(np.mean(accuracy))"
   ]
  },
  {
   "cell_type": "code",
   "execution_count": 634,
   "metadata": {},
   "outputs": [
    {
     "data": {
      "text/plain": [
       "Index(['log_salary', 'log_estimated_expenses_knn', 'log_offer_value_knn',\n",
       "       'nan_age', 'not_nan_age', '0_emails', '1_email', '2_emails', '3_emails',\n",
       "       '4_emails', '5_emails', 'encoded_offer_class', 'encoded_gender',\n",
       "       'encoded_customer_type', 'encoded_center', 'encoded_phone_calls',\n",
       "       'encoded_cc_len', 'encoded_cc_startswith'],\n",
       "      dtype='object')"
      ]
     },
     "execution_count": 634,
     "metadata": {},
     "output_type": "execute_result"
    }
   ],
   "source": [
    "X_train.columns"
   ]
  },
  {
   "cell_type": "code",
   "execution_count": 522,
   "metadata": {},
   "outputs": [],
   "source": [
    "zeros = [0 for col in list_of_cols_to_mean[3].columns]\n",
    "for index in range(len(X)):\n",
    "    if index not in list_of_cols_to_mean[3].index:\n",
    "        list_of_cols_to_mean[3].loc[index, :] = zeros\n",
    "list_of_cols_to_mean[3].sort_index(inplace=True)"
   ]
  },
  {
   "cell_type": "code",
   "execution_count": 524,
   "metadata": {},
   "outputs": [],
   "source": [
    "zeros = [0 for col in list_of_cols_to_mean[2].columns]\n",
    "for index in range(len(X)):\n",
    "    if index not in list_of_cols_to_mean[2].index:\n",
    "        list_of_cols_to_mean[2].loc[index, :] = zeros\n",
    "list_of_cols_to_mean[2].sort_index(inplace=True)"
   ]
  },
  {
   "cell_type": "code",
   "execution_count": 556,
   "metadata": {},
   "outputs": [
    {
     "data": {
      "text/html": [
       "<div>\n",
       "<style scoped>\n",
       "    .dataframe tbody tr th:only-of-type {\n",
       "        vertical-align: middle;\n",
       "    }\n",
       "\n",
       "    .dataframe tbody tr th {\n",
       "        vertical-align: top;\n",
       "    }\n",
       "\n",
       "    .dataframe thead th {\n",
       "        text-align: right;\n",
       "    }\n",
       "</style>\n",
       "<table border=\"1\" class=\"dataframe\">\n",
       "  <thead>\n",
       "    <tr style=\"text-align: right;\">\n",
       "      <th></th>\n",
       "      <th>encoded_offer_class</th>\n",
       "      <th>encoded_gender</th>\n",
       "      <th>encoded_customer_type</th>\n",
       "      <th>encoded_center</th>\n",
       "      <th>encoded_phone_calls</th>\n",
       "      <th>encoded_cc_len</th>\n",
       "      <th>encoded_cc_startswith</th>\n",
       "    </tr>\n",
       "  </thead>\n",
       "  <tbody>\n",
       "    <tr>\n",
       "      <th>0</th>\n",
       "      <td>0.252823</td>\n",
       "      <td>0.750137</td>\n",
       "      <td>0.603189</td>\n",
       "      <td>0.396784</td>\n",
       "      <td>0.547584</td>\n",
       "      <td>0.319659</td>\n",
       "      <td>0.375084</td>\n",
       "    </tr>\n",
       "    <tr>\n",
       "      <th>1</th>\n",
       "      <td>0.428055</td>\n",
       "      <td>0.186670</td>\n",
       "      <td>0.313606</td>\n",
       "      <td>0.369396</td>\n",
       "      <td>0.334569</td>\n",
       "      <td>0.309756</td>\n",
       "      <td>0.363464</td>\n",
       "    </tr>\n",
       "    <tr>\n",
       "      <th>2</th>\n",
       "      <td>0.252411</td>\n",
       "      <td>0.752115</td>\n",
       "      <td>0.388820</td>\n",
       "      <td>0.397422</td>\n",
       "      <td>0.546556</td>\n",
       "      <td>0.320395</td>\n",
       "      <td>0.376359</td>\n",
       "    </tr>\n",
       "    <tr>\n",
       "      <th>3</th>\n",
       "      <td>0.265482</td>\n",
       "      <td>0.202284</td>\n",
       "      <td>0.633392</td>\n",
       "      <td>0.400294</td>\n",
       "      <td>0.362554</td>\n",
       "      <td>0.335665</td>\n",
       "      <td>0.393865</td>\n",
       "    </tr>\n",
       "    <tr>\n",
       "      <th>4</th>\n",
       "      <td>0.241631</td>\n",
       "      <td>0.183912</td>\n",
       "      <td>0.310358</td>\n",
       "      <td>0.380449</td>\n",
       "      <td>0.331192</td>\n",
       "      <td>0.306711</td>\n",
       "      <td>0.360285</td>\n",
       "    </tr>\n",
       "  </tbody>\n",
       "</table>\n",
       "</div>"
      ],
      "text/plain": [
       "   encoded_offer_class  encoded_gender  encoded_customer_type  encoded_center  \\\n",
       "0             0.252823        0.750137               0.603189        0.396784   \n",
       "1             0.428055        0.186670               0.313606        0.369396   \n",
       "2             0.252411        0.752115               0.388820        0.397422   \n",
       "3             0.265482        0.202284               0.633392        0.400294   \n",
       "4             0.241631        0.183912               0.310358        0.380449   \n",
       "\n",
       "   encoded_phone_calls  encoded_cc_len  encoded_cc_startswith  \n",
       "0             0.547584        0.319659               0.375084  \n",
       "1             0.334569        0.309756               0.363464  \n",
       "2             0.546556        0.320395               0.376359  \n",
       "3             0.362554        0.335665               0.393865  \n",
       "4             0.331192        0.306711               0.360285  "
      ]
     },
     "execution_count": 556,
     "metadata": {},
     "output_type": "execute_result"
    }
   ],
   "source": [
    "list_of_cols_to_mean[2].head()"
   ]
  },
  {
   "cell_type": "code",
   "execution_count": 553,
   "metadata": {},
   "outputs": [],
   "source": [
    "#list_of_cols_to_mean[2]+list_of_cols_to_mean[3]"
   ]
  },
  {
   "cell_type": "code",
   "execution_count": 554,
   "metadata": {},
   "outputs": [],
   "source": [
    "#list_of_cols_to_mean[3]"
   ]
  },
  {
   "cell_type": "code",
   "execution_count": 633,
   "metadata": {},
   "outputs": [
    {
     "data": {
      "text/plain": [
       "[0.6207401153792036]"
      ]
     },
     "execution_count": 633,
     "metadata": {},
     "output_type": "execute_result"
    }
   ],
   "source": [
    "models_acc1"
   ]
  },
  {
   "cell_type": "code",
   "execution_count": null,
   "metadata": {},
   "outputs": [],
   "source": [
    "#X['emails']"
   ]
  },
  {
   "cell_type": "code",
   "execution_count": 488,
   "metadata": {},
   "outputs": [
    {
     "data": {
      "text/plain": [
       "[0.6207401153792036,\n",
       " 0.6207401153792036,\n",
       " 0.7759673561277614,\n",
       " 0.7711129871957225,\n",
       " 0.6207401153792036,\n",
       " 0.6207401153792036,\n",
       " 0.7759673561277614,\n",
       " 0.7711129871957225]"
      ]
     },
     "execution_count": 488,
     "metadata": {},
     "output_type": "execute_result"
    }
   ],
   "source": [
    "models_acc"
   ]
  },
  {
   "cell_type": "code",
   "execution_count": 476,
   "metadata": {},
   "outputs": [],
   "source": [
    "models_acc = []\n",
    "for c in cs:\n",
    "    for tol in tols:\n",
    "        for max_iter in max_iters:\n",
    "            for penalty in penaltys:\n",
    "                for solver in solvers:\n",
    "                    for random_state in random_states:\n",
    "                        kf = KFold(n_splits=5, shuffle=False, random_state=None)\n",
    "                        #to have each sample exactly once in validation set\n",
    "                        splits = kf.split(processed_train_df)\n",
    "                        lrc = LogisticRegression(C=c,\n",
    "                                                 tol=tol,\n",
    "                                                 max_iter=max_iter,\n",
    "                                                 solver=solver,\n",
    "                                                 penalty=penalty,\n",
    "                                                 random_state=random_state)\n",
    "                        list_of_cols_to_mean = []\n",
    "                        accuracy = []\n",
    "                        for train_index, val_index in splits:\n",
    "                            X_train, y_train = X.iloc[train_index], y.iloc[train_index]\n",
    "                            X_val, y_val = X.iloc[val_index], y.iloc[val_index]\n",
    "                            X_val.drop(columns=['target'], inplace=True)\n",
    "                            columns_to_encode = ['offer_class',\n",
    "                                                 'gender',\n",
    "                                                 'customer_type',\n",
    "                                                 #'emails',\n",
    "                                                 'center',\n",
    "                                                 #'phone_calls',\n",
    "                                                 'cc_len',\n",
    "                                                 'cc_startswith']\n",
    "\n",
    "                            enc = LeaveOneOutEncoder(train_df=X_train,\n",
    "                                                 test_df=X_val,\n",
    "                                                 columns_to_encode=columns_to_encode,\n",
    "                                                 target_column='target',\n",
    "                                                 random_state=42,\n",
    "                                                 mean=1,\n",
    "                                                 std=0.05)\n",
    "                            X_train, X_val = enc.fit()\n",
    "                            encoded_cols = [col for col in X_train.columns if 'encode_' in col]\n",
    "                            list_of_cols_to_mean.append(X_train[encoded_cols])\n",
    "                            train_to_drop = columns_to_encode.copy()\n",
    "                            train_to_drop.extend(['target'])\n",
    "                            X_train.drop(columns=train_to_drop, inplace=True)\n",
    "                            test_to_drop = columns_to_encode.copy()\n",
    "                            X_val.drop(columns=test_to_drop, inplace=True)\n",
    "                            lrc.fit(X_train, y_train)\n",
    "                            predictions = lrc.predict(X_val)\n",
    "                            accuracy.append(accuracy_score(y_val, predictions))\n",
    "                        models_acc.append(np.mean(accuracy))"
   ]
  },
  {
   "cell_type": "code",
   "execution_count": 477,
   "metadata": {},
   "outputs": [],
   "source": [
    "# modify looe for mean encoding for low cardinality values "
   ]
  },
  {
   "cell_type": "markdown",
   "metadata": {},
   "source": [
    "it means that for example:\n",
    "if we have one value which is total x (check empirically for, e.g. x = 10) for all folds, then it is possible that we will have lack of these values in some folds) or 1/2 values?\n",
    "maybe it depends from target? check it out\n",
    "#debug\n",
    "i.e. we have some values of it for target 1 but we dont have for target 0 - then it may do some damage (e.g. empty array) <- repairrepairrepair"
   ]
  },
  {
   "cell_type": "markdown",
   "metadata": {},
   "source": [
    "how to make training running in other card? how to make running when mac is 'standby'?"
   ]
  },
  {
   "cell_type": "code",
   "execution_count": 478,
   "metadata": {},
   "outputs": [
    {
     "data": {
      "text/plain": [
       "[0.6207401153792036,\n",
       " 0.6207401153792036,\n",
       " 0.7759673561277614,\n",
       " 0.7711129871957225]"
      ]
     },
     "execution_count": 478,
     "metadata": {},
     "output_type": "execute_result"
    }
   ],
   "source": [
    "models_acc"
   ]
  },
  {
   "cell_type": "code",
   "execution_count": 449,
   "metadata": {},
   "outputs": [
    {
     "data": {
      "text/plain": [
       "0.7740162281318888"
      ]
     },
     "execution_count": 449,
     "metadata": {},
     "output_type": "execute_result"
    }
   ],
   "source": [
    "np.mean(accuracy)"
   ]
  },
  {
   "cell_type": "code",
   "execution_count": 97,
   "metadata": {},
   "outputs": [
    {
     "data": {
      "text/plain": [
       "\u001b[0;31mSignature:\u001b[0m \u001b[0maccuracy_score\u001b[0m\u001b[0;34m(\u001b[0m\u001b[0my_true\u001b[0m\u001b[0;34m,\u001b[0m \u001b[0my_pred\u001b[0m\u001b[0;34m,\u001b[0m \u001b[0mnormalize\u001b[0m\u001b[0;34m=\u001b[0m\u001b[0;32mTrue\u001b[0m\u001b[0;34m,\u001b[0m \u001b[0msample_weight\u001b[0m\u001b[0;34m=\u001b[0m\u001b[0;32mNone\u001b[0m\u001b[0;34m)\u001b[0m\u001b[0;34m\u001b[0m\u001b[0;34m\u001b[0m\u001b[0m\n",
       "\u001b[0;31mSource:\u001b[0m   \n",
       "\u001b[0;32mdef\u001b[0m \u001b[0maccuracy_score\u001b[0m\u001b[0;34m(\u001b[0m\u001b[0my_true\u001b[0m\u001b[0;34m,\u001b[0m \u001b[0my_pred\u001b[0m\u001b[0;34m,\u001b[0m \u001b[0mnormalize\u001b[0m\u001b[0;34m=\u001b[0m\u001b[0;32mTrue\u001b[0m\u001b[0;34m,\u001b[0m \u001b[0msample_weight\u001b[0m\u001b[0;34m=\u001b[0m\u001b[0;32mNone\u001b[0m\u001b[0;34m)\u001b[0m\u001b[0;34m:\u001b[0m\u001b[0;34m\u001b[0m\n",
       "\u001b[0;34m\u001b[0m    \u001b[0;34m\"\"\"Accuracy classification score.\u001b[0m\n",
       "\u001b[0;34m\u001b[0m\n",
       "\u001b[0;34m    In multilabel classification, this function computes subset accuracy:\u001b[0m\n",
       "\u001b[0;34m    the set of labels predicted for a sample must *exactly* match the\u001b[0m\n",
       "\u001b[0;34m    corresponding set of labels in y_true.\u001b[0m\n",
       "\u001b[0;34m\u001b[0m\n",
       "\u001b[0;34m    Read more in the :ref:`User Guide <accuracy_score>`.\u001b[0m\n",
       "\u001b[0;34m\u001b[0m\n",
       "\u001b[0;34m    Parameters\u001b[0m\n",
       "\u001b[0;34m    ----------\u001b[0m\n",
       "\u001b[0;34m    y_true : 1d array-like, or label indicator array / sparse matrix\u001b[0m\n",
       "\u001b[0;34m        Ground truth (correct) labels.\u001b[0m\n",
       "\u001b[0;34m\u001b[0m\n",
       "\u001b[0;34m    y_pred : 1d array-like, or label indicator array / sparse matrix\u001b[0m\n",
       "\u001b[0;34m        Predicted labels, as returned by a classifier.\u001b[0m\n",
       "\u001b[0;34m\u001b[0m\n",
       "\u001b[0;34m    normalize : bool, optional (default=True)\u001b[0m\n",
       "\u001b[0;34m        If ``False``, return the number of correctly classified samples.\u001b[0m\n",
       "\u001b[0;34m        Otherwise, return the fraction of correctly classified samples.\u001b[0m\n",
       "\u001b[0;34m\u001b[0m\n",
       "\u001b[0;34m    sample_weight : array-like of shape = [n_samples], optional\u001b[0m\n",
       "\u001b[0;34m        Sample weights.\u001b[0m\n",
       "\u001b[0;34m\u001b[0m\n",
       "\u001b[0;34m    Returns\u001b[0m\n",
       "\u001b[0;34m    -------\u001b[0m\n",
       "\u001b[0;34m    score : float\u001b[0m\n",
       "\u001b[0;34m        If ``normalize == True``, return the fraction of correctly\u001b[0m\n",
       "\u001b[0;34m        classified samples (float), else returns the number of correctly\u001b[0m\n",
       "\u001b[0;34m        classified samples (int).\u001b[0m\n",
       "\u001b[0;34m\u001b[0m\n",
       "\u001b[0;34m        The best performance is 1 with ``normalize == True`` and the number\u001b[0m\n",
       "\u001b[0;34m        of samples with ``normalize == False``.\u001b[0m\n",
       "\u001b[0;34m\u001b[0m\n",
       "\u001b[0;34m    See also\u001b[0m\n",
       "\u001b[0;34m    --------\u001b[0m\n",
       "\u001b[0;34m    jaccard_score, hamming_loss, zero_one_loss\u001b[0m\n",
       "\u001b[0;34m\u001b[0m\n",
       "\u001b[0;34m    Notes\u001b[0m\n",
       "\u001b[0;34m    -----\u001b[0m\n",
       "\u001b[0;34m    In binary and multiclass classification, this function is equal\u001b[0m\n",
       "\u001b[0;34m    to the ``jaccard_score`` function.\u001b[0m\n",
       "\u001b[0;34m\u001b[0m\n",
       "\u001b[0;34m    Examples\u001b[0m\n",
       "\u001b[0;34m    --------\u001b[0m\n",
       "\u001b[0;34m    >>> from sklearn.metrics import accuracy_score\u001b[0m\n",
       "\u001b[0;34m    >>> y_pred = [0, 2, 1, 3]\u001b[0m\n",
       "\u001b[0;34m    >>> y_true = [0, 1, 2, 3]\u001b[0m\n",
       "\u001b[0;34m    >>> accuracy_score(y_true, y_pred)\u001b[0m\n",
       "\u001b[0;34m    0.5\u001b[0m\n",
       "\u001b[0;34m    >>> accuracy_score(y_true, y_pred, normalize=False)\u001b[0m\n",
       "\u001b[0;34m    2\u001b[0m\n",
       "\u001b[0;34m\u001b[0m\n",
       "\u001b[0;34m    In the multilabel case with binary label indicators:\u001b[0m\n",
       "\u001b[0;34m\u001b[0m\n",
       "\u001b[0;34m    >>> import numpy as np\u001b[0m\n",
       "\u001b[0;34m    >>> accuracy_score(np.array([[0, 1], [1, 1]]), np.ones((2, 2)))\u001b[0m\n",
       "\u001b[0;34m    0.5\u001b[0m\n",
       "\u001b[0;34m    \"\"\"\u001b[0m\u001b[0;34m\u001b[0m\n",
       "\u001b[0;34m\u001b[0m\u001b[0;34m\u001b[0m\n",
       "\u001b[0;34m\u001b[0m    \u001b[0;31m# Compute accuracy for each possible representation\u001b[0m\u001b[0;34m\u001b[0m\n",
       "\u001b[0;34m\u001b[0m    \u001b[0my_type\u001b[0m\u001b[0;34m,\u001b[0m \u001b[0my_true\u001b[0m\u001b[0;34m,\u001b[0m \u001b[0my_pred\u001b[0m \u001b[0;34m=\u001b[0m \u001b[0m_check_targets\u001b[0m\u001b[0;34m(\u001b[0m\u001b[0my_true\u001b[0m\u001b[0;34m,\u001b[0m \u001b[0my_pred\u001b[0m\u001b[0;34m)\u001b[0m\u001b[0;34m\u001b[0m\n",
       "\u001b[0;34m\u001b[0m    \u001b[0mcheck_consistent_length\u001b[0m\u001b[0;34m(\u001b[0m\u001b[0my_true\u001b[0m\u001b[0;34m,\u001b[0m \u001b[0my_pred\u001b[0m\u001b[0;34m,\u001b[0m \u001b[0msample_weight\u001b[0m\u001b[0;34m)\u001b[0m\u001b[0;34m\u001b[0m\n",
       "\u001b[0;34m\u001b[0m    \u001b[0;32mif\u001b[0m \u001b[0my_type\u001b[0m\u001b[0;34m.\u001b[0m\u001b[0mstartswith\u001b[0m\u001b[0;34m(\u001b[0m\u001b[0;34m'multilabel'\u001b[0m\u001b[0;34m)\u001b[0m\u001b[0;34m:\u001b[0m\u001b[0;34m\u001b[0m\n",
       "\u001b[0;34m\u001b[0m        \u001b[0mdiffering_labels\u001b[0m \u001b[0;34m=\u001b[0m \u001b[0mcount_nonzero\u001b[0m\u001b[0;34m(\u001b[0m\u001b[0my_true\u001b[0m \u001b[0;34m-\u001b[0m \u001b[0my_pred\u001b[0m\u001b[0;34m,\u001b[0m \u001b[0maxis\u001b[0m\u001b[0;34m=\u001b[0m\u001b[0;36m1\u001b[0m\u001b[0;34m)\u001b[0m\u001b[0;34m\u001b[0m\n",
       "\u001b[0;34m\u001b[0m        \u001b[0mscore\u001b[0m \u001b[0;34m=\u001b[0m \u001b[0mdiffering_labels\u001b[0m \u001b[0;34m==\u001b[0m \u001b[0;36m0\u001b[0m\u001b[0;34m\u001b[0m\n",
       "\u001b[0;34m\u001b[0m    \u001b[0;32melse\u001b[0m\u001b[0;34m:\u001b[0m\u001b[0;34m\u001b[0m\n",
       "\u001b[0;34m\u001b[0m        \u001b[0mscore\u001b[0m \u001b[0;34m=\u001b[0m \u001b[0my_true\u001b[0m \u001b[0;34m==\u001b[0m \u001b[0my_pred\u001b[0m\u001b[0;34m\u001b[0m\n",
       "\u001b[0;34m\u001b[0m\u001b[0;34m\u001b[0m\n",
       "\u001b[0;34m\u001b[0m    \u001b[0;32mreturn\u001b[0m \u001b[0m_weighted_sum\u001b[0m\u001b[0;34m(\u001b[0m\u001b[0mscore\u001b[0m\u001b[0;34m,\u001b[0m \u001b[0msample_weight\u001b[0m\u001b[0;34m,\u001b[0m \u001b[0mnormalize\u001b[0m\u001b[0;34m)\u001b[0m\u001b[0;34m\u001b[0m\u001b[0;34m\u001b[0m\u001b[0m\n",
       "\u001b[0;31mFile:\u001b[0m      ~/anaconda3/envs/new_offer_predictor/lib/python3.6/site-packages/sklearn/metrics/classification.py\n",
       "\u001b[0;31mType:\u001b[0m      function\n"
      ]
     },
     "metadata": {},
     "output_type": "display_data"
    }
   ],
   "source": [
    "accuracy_score??"
   ]
  },
  {
   "cell_type": "markdown",
   "metadata": {},
   "source": [
    "at the beginning, I will pick LogisticRegression, RandomForestClassifier, KNeighborsClassifier, GaussianProcessClassifier and GradientBoostingClassifier and then try to do ensemble of them by using VotingClassifier (voting='soft')"
   ]
  },
  {
   "cell_type": "code",
   "execution_count": null,
   "metadata": {},
   "outputs": [],
   "source": []
  }
 ],
 "metadata": {
  "kernelspec": {
   "display_name": "Python 3",
   "language": "python",
   "name": "python3"
  },
  "language_info": {
   "codemirror_mode": {
    "name": "ipython",
    "version": 3
   },
   "file_extension": ".py",
   "mimetype": "text/x-python",
   "name": "python",
   "nbconvert_exporter": "python",
   "pygments_lexer": "ipython3",
   "version": "3.6.9"
  }
 },
 "nbformat": 4,
 "nbformat_minor": 4
}
