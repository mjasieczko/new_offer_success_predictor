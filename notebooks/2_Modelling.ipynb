{
 "cells": [
  {
   "cell_type": "markdown",
   "metadata": {},
   "source": [
    "## Modelling"
   ]
  },
  {
   "cell_type": "markdown",
   "metadata": {},
   "source": [
    "**using this there is no need to reload your packages every time when you will make any improvement to them**"
   ]
  },
  {
   "cell_type": "code",
   "execution_count": 1,
   "metadata": {},
   "outputs": [],
   "source": [
    "%load_ext autoreload"
   ]
  },
  {
   "cell_type": "code",
   "execution_count": 2,
   "metadata": {},
   "outputs": [],
   "source": [
    "autoreload 2"
   ]
  },
  {
   "cell_type": "markdown",
   "metadata": {},
   "source": [
    "**import necessary libraries**"
   ]
  },
  {
   "cell_type": "code",
   "execution_count": 3,
   "metadata": {},
   "outputs": [],
   "source": [
    "import matplotlib.pyplot as plt\n",
    "import numpy as np\n",
    "import pandas as pd \n",
    "import sys\n",
    "import warnings"
   ]
  },
  {
   "cell_type": "markdown",
   "metadata": {},
   "source": [
    "**set warnings options**"
   ]
  },
  {
   "cell_type": "code",
   "execution_count": 4,
   "metadata": {},
   "outputs": [],
   "source": [
    "warnings.filterwarnings('ignore')"
   ]
  },
  {
   "cell_type": "markdown",
   "metadata": {},
   "source": [
    "#### to have ease in importing modules"
   ]
  },
  {
   "cell_type": "code",
   "execution_count": 5,
   "metadata": {},
   "outputs": [],
   "source": [
    "sys.path.insert(0, '/Users/mjasiecz/PycharmProjects/new_offer_success_predictor/src')"
   ]
  },
  {
   "cell_type": "markdown",
   "metadata": {},
   "source": [
    "**set pandas options**"
   ]
  },
  {
   "cell_type": "code",
   "execution_count": 6,
   "metadata": {},
   "outputs": [],
   "source": [
    "pd.options.display.max_rows = None\n",
    "pd.options.display.max_columns = None\n",
    "pd.options.display.max_colwidth = 200"
   ]
  },
  {
   "cell_type": "markdown",
   "metadata": {},
   "source": [
    "**balancing dataset**"
   ]
  },
  {
   "cell_type": "code",
   "execution_count": 68,
   "metadata": {},
   "outputs": [],
   "source": [
    "# from imblearn.over_sampling import SMOTE\n",
    "# from imblearn.combine import SMOTEENN"
   ]
  },
  {
   "cell_type": "markdown",
   "metadata": {},
   "source": [
    "**import packages for manage and preprocess data**"
   ]
  },
  {
   "cell_type": "code",
   "execution_count": 9,
   "metadata": {},
   "outputs": [],
   "source": [
    "from data.data_manager import DataManager\n",
    "from data.data_processor import DataProcessor, TestDataProcessor\n",
    "from ml_preprocessing.categorical_encoders import LeaveOneOutEncoder\n",
    "from ml_preprocessing.encoding_helpers import LOOGridSearchCV"
   ]
  },
  {
   "cell_type": "markdown",
   "metadata": {},
   "source": [
    "**load data pipeline**"
   ]
  },
  {
   "cell_type": "code",
   "execution_count": 10,
   "metadata": {},
   "outputs": [],
   "source": [
    "DM = DataManager()\n",
    "train_df, test_df = DM.load_train_test()"
   ]
  },
  {
   "cell_type": "markdown",
   "metadata": {},
   "source": [
    "**ml data preprocessing**"
   ]
  },
  {
   "cell_type": "code",
   "execution_count": 11,
   "metadata": {},
   "outputs": [
    {
     "name": "stdout",
     "output_type": "stream",
     "text": [
      "Imputing row 1/1031 with 1 missing, elapsed time: 0.223\n",
      "Imputing row 1/1289 with 0 missing, elapsed time: 0.316\n",
      "Imputing row 1033/1289 with 0 missing, elapsed time: 0.319\n"
     ]
    }
   ],
   "source": [
    "DP = DataProcessor(train_df=train_df)\n",
    "processed_train_df = DP.perform_initial_features_engineering()\n",
    "TDP = TestDataProcessor(not_processed_train_df=train_df,\n",
    "                        processed_train_df=processed_train_df,\n",
    "                        test_df=test_df,\n",
    "                        sneaky_peaky=True)\n",
    "processed_test_df = TDP.perform_initial_features_engineering()"
   ]
  },
  {
   "cell_type": "code",
   "execution_count": 12,
   "metadata": {},
   "outputs": [
    {
     "data": {
      "text/html": [
       "<div>\n",
       "<style scoped>\n",
       "    .dataframe tbody tr th:only-of-type {\n",
       "        vertical-align: middle;\n",
       "    }\n",
       "\n",
       "    .dataframe tbody tr th {\n",
       "        vertical-align: top;\n",
       "    }\n",
       "\n",
       "    .dataframe thead th {\n",
       "        text-align: right;\n",
       "    }\n",
       "</style>\n",
       "<table border=\"1\" class=\"dataframe\">\n",
       "  <thead>\n",
       "    <tr style=\"text-align: right;\">\n",
       "      <th></th>\n",
       "      <th>cc_len</th>\n",
       "      <th>cc_startswith</th>\n",
       "      <th>log_salary</th>\n",
       "      <th>log_age_knn</th>\n",
       "      <th>log_estimated_expenses_knn</th>\n",
       "      <th>log_offer_value_knn</th>\n",
       "      <th>scaled_salary</th>\n",
       "      <th>scaled_age_knn</th>\n",
       "      <th>scaled_estimated_expenses_knn</th>\n",
       "      <th>scaled_offer_value_knn</th>\n",
       "      <th>nan_age</th>\n",
       "      <th>not_nan_age</th>\n",
       "      <th>target</th>\n",
       "      <th>offer_class</th>\n",
       "      <th>gender</th>\n",
       "      <th>age</th>\n",
       "      <th>phone_calls</th>\n",
       "      <th>emails</th>\n",
       "      <th>salary</th>\n",
       "      <th>customer_type</th>\n",
       "      <th>center</th>\n",
       "      <th>age_knn</th>\n",
       "      <th>estimated_expenses_knn</th>\n",
       "      <th>offer_value_knn</th>\n",
       "    </tr>\n",
       "    <tr>\n",
       "      <th>name</th>\n",
       "      <th></th>\n",
       "      <th></th>\n",
       "      <th></th>\n",
       "      <th></th>\n",
       "      <th></th>\n",
       "      <th></th>\n",
       "      <th></th>\n",
       "      <th></th>\n",
       "      <th></th>\n",
       "      <th></th>\n",
       "      <th></th>\n",
       "      <th></th>\n",
       "      <th></th>\n",
       "      <th></th>\n",
       "      <th></th>\n",
       "      <th></th>\n",
       "      <th></th>\n",
       "      <th></th>\n",
       "      <th></th>\n",
       "      <th></th>\n",
       "      <th></th>\n",
       "      <th></th>\n",
       "      <th></th>\n",
       "      <th></th>\n",
       "    </tr>\n",
       "  </thead>\n",
       "  <tbody>\n",
       "    <tr>\n",
       "      <th>8550AB469CB2445</th>\n",
       "      <td>ELSE</td>\n",
       "      <td>ELSE</td>\n",
       "      <td>7.329474</td>\n",
       "      <td>3.401259</td>\n",
       "      <td>8.882808</td>\n",
       "      <td>5.716940</td>\n",
       "      <td>-0.345530</td>\n",
       "      <td>-0.297159</td>\n",
       "      <td>1.362250</td>\n",
       "      <td>3.035567</td>\n",
       "      <td>True</td>\n",
       "      <td>False</td>\n",
       "      <td>False</td>\n",
       "      <td>Premium</td>\n",
       "      <td>female</td>\n",
       "      <td>NaN</td>\n",
       "      <td>1</td>\n",
       "      <td>2</td>\n",
       "      <td>1524.58</td>\n",
       "      <td>C</td>\n",
       "      <td>B</td>\n",
       "      <td>30.001848</td>\n",
       "      <td>7207.0</td>\n",
       "      <td>303.973257</td>\n",
       "    </tr>\n",
       "    <tr>\n",
       "      <th>07355EE27DD1493</th>\n",
       "      <td>ELSE</td>\n",
       "      <td>ELSE</td>\n",
       "      <td>7.170120</td>\n",
       "      <td>3.465736</td>\n",
       "      <td>8.209308</td>\n",
       "      <td>4.160055</td>\n",
       "      <td>-0.389281</td>\n",
       "      <td>-0.111655</td>\n",
       "      <td>-0.492006</td>\n",
       "      <td>-1.109564</td>\n",
       "      <td>False</td>\n",
       "      <td>True</td>\n",
       "      <td>False</td>\n",
       "      <td>High</td>\n",
       "      <td>male</td>\n",
       "      <td>32.0</td>\n",
       "      <td>0</td>\n",
       "      <td>0</td>\n",
       "      <td>1300.00</td>\n",
       "      <td>S</td>\n",
       "      <td>A</td>\n",
       "      <td>32.000000</td>\n",
       "      <td>3675.0</td>\n",
       "      <td>64.075055</td>\n",
       "    </tr>\n",
       "    <tr>\n",
       "      <th>034E73A251554F0</th>\n",
       "      <td>ELSE</td>\n",
       "      <td>ELSE</td>\n",
       "      <td>7.346010</td>\n",
       "      <td>3.177471</td>\n",
       "      <td>8.465900</td>\n",
       "      <td>4.687503</td>\n",
       "      <td>-0.340578</td>\n",
       "      <td>-0.855654</td>\n",
       "      <td>0.072355</td>\n",
       "      <td>-0.340546</td>\n",
       "      <td>True</td>\n",
       "      <td>False</td>\n",
       "      <td>True</td>\n",
       "      <td>Premium</td>\n",
       "      <td>female</td>\n",
       "      <td>NaN</td>\n",
       "      <td>1</td>\n",
       "      <td>1</td>\n",
       "      <td>1550.00</td>\n",
       "      <td>Q</td>\n",
       "      <td>B</td>\n",
       "      <td>23.986022</td>\n",
       "      <td>4750.0</td>\n",
       "      <td>108.581750</td>\n",
       "    </tr>\n",
       "    <tr>\n",
       "      <th>0AF961B4AC7A439</th>\n",
       "      <td>ELSE</td>\n",
       "      <td>ELSE</td>\n",
       "      <td>6.583299</td>\n",
       "      <td>3.323884</td>\n",
       "      <td>7.244942</td>\n",
       "      <td>5.046620</td>\n",
       "      <td>-0.501704</td>\n",
       "      <td>-0.504546</td>\n",
       "      <td>-1.685828</td>\n",
       "      <td>0.470071</td>\n",
       "      <td>True</td>\n",
       "      <td>False</td>\n",
       "      <td>False</td>\n",
       "      <td>Premium</td>\n",
       "      <td>male</td>\n",
       "      <td>NaN</td>\n",
       "      <td>0</td>\n",
       "      <td>1</td>\n",
       "      <td>722.92</td>\n",
       "      <td>C</td>\n",
       "      <td>A</td>\n",
       "      <td>27.767979</td>\n",
       "      <td>1401.0</td>\n",
       "      <td>155.495957</td>\n",
       "    </tr>\n",
       "    <tr>\n",
       "      <th>8535BBCA690A4AE</th>\n",
       "      <td>ELSE</td>\n",
       "      <td>ELSE</td>\n",
       "      <td>8.639336</td>\n",
       "      <td>3.405772</td>\n",
       "      <td>7.652546</td>\n",
       "      <td>4.798852</td>\n",
       "      <td>0.458072</td>\n",
       "      <td>-0.284561</td>\n",
       "      <td>-1.315712</td>\n",
       "      <td>-0.119564</td>\n",
       "      <td>True</td>\n",
       "      <td>False</td>\n",
       "      <td>True</td>\n",
       "      <td>Premium</td>\n",
       "      <td>male</td>\n",
       "      <td>NaN</td>\n",
       "      <td>0</td>\n",
       "      <td>1</td>\n",
       "      <td>5649.58</td>\n",
       "      <td>S</td>\n",
       "      <td>B</td>\n",
       "      <td>30.137541</td>\n",
       "      <td>2106.0</td>\n",
       "      <td>121.371033</td>\n",
       "    </tr>\n",
       "  </tbody>\n",
       "</table>\n",
       "</div>"
      ],
      "text/plain": [
       "                cc_len cc_startswith  log_salary  log_age_knn  \\\n",
       "name                                                            \n",
       "8550AB469CB2445   ELSE          ELSE    7.329474     3.401259   \n",
       "07355EE27DD1493   ELSE          ELSE    7.170120     3.465736   \n",
       "034E73A251554F0   ELSE          ELSE    7.346010     3.177471   \n",
       "0AF961B4AC7A439   ELSE          ELSE    6.583299     3.323884   \n",
       "8535BBCA690A4AE   ELSE          ELSE    8.639336     3.405772   \n",
       "\n",
       "                 log_estimated_expenses_knn  log_offer_value_knn  \\\n",
       "name                                                               \n",
       "8550AB469CB2445                    8.882808             5.716940   \n",
       "07355EE27DD1493                    8.209308             4.160055   \n",
       "034E73A251554F0                    8.465900             4.687503   \n",
       "0AF961B4AC7A439                    7.244942             5.046620   \n",
       "8535BBCA690A4AE                    7.652546             4.798852   \n",
       "\n",
       "                 scaled_salary  scaled_age_knn  scaled_estimated_expenses_knn  \\\n",
       "name                                                                            \n",
       "8550AB469CB2445      -0.345530       -0.297159                       1.362250   \n",
       "07355EE27DD1493      -0.389281       -0.111655                      -0.492006   \n",
       "034E73A251554F0      -0.340578       -0.855654                       0.072355   \n",
       "0AF961B4AC7A439      -0.501704       -0.504546                      -1.685828   \n",
       "8535BBCA690A4AE       0.458072       -0.284561                      -1.315712   \n",
       "\n",
       "                 scaled_offer_value_knn  nan_age  not_nan_age  target  \\\n",
       "name                                                                    \n",
       "8550AB469CB2445                3.035567     True        False   False   \n",
       "07355EE27DD1493               -1.109564    False         True   False   \n",
       "034E73A251554F0               -0.340546     True        False    True   \n",
       "0AF961B4AC7A439                0.470071     True        False   False   \n",
       "8535BBCA690A4AE               -0.119564     True        False    True   \n",
       "\n",
       "                offer_class  gender   age phone_calls emails   salary  \\\n",
       "name                                                                    \n",
       "8550AB469CB2445     Premium  female   NaN           1      2  1524.58   \n",
       "07355EE27DD1493        High    male  32.0           0      0  1300.00   \n",
       "034E73A251554F0     Premium  female   NaN           1      1  1550.00   \n",
       "0AF961B4AC7A439     Premium    male   NaN           0      1   722.92   \n",
       "8535BBCA690A4AE     Premium    male   NaN           0      1  5649.58   \n",
       "\n",
       "                customer_type center    age_knn  estimated_expenses_knn  \\\n",
       "name                                                                      \n",
       "8550AB469CB2445             C      B  30.001848                  7207.0   \n",
       "07355EE27DD1493             S      A  32.000000                  3675.0   \n",
       "034E73A251554F0             Q      B  23.986022                  4750.0   \n",
       "0AF961B4AC7A439             C      A  27.767979                  1401.0   \n",
       "8535BBCA690A4AE             S      B  30.137541                  2106.0   \n",
       "\n",
       "                 offer_value_knn  \n",
       "name                              \n",
       "8550AB469CB2445       303.973257  \n",
       "07355EE27DD1493        64.075055  \n",
       "034E73A251554F0       108.581750  \n",
       "0AF961B4AC7A439       155.495957  \n",
       "8535BBCA690A4AE       121.371033  "
      ]
     },
     "execution_count": 12,
     "metadata": {},
     "output_type": "execute_result"
    }
   ],
   "source": [
    "processed_train_df.head()"
   ]
  },
  {
   "cell_type": "code",
   "execution_count": 13,
   "metadata": {},
   "outputs": [
    {
     "data": {
      "text/html": [
       "<div>\n",
       "<style scoped>\n",
       "    .dataframe tbody tr th:only-of-type {\n",
       "        vertical-align: middle;\n",
       "    }\n",
       "\n",
       "    .dataframe tbody tr th {\n",
       "        vertical-align: top;\n",
       "    }\n",
       "\n",
       "    .dataframe thead th {\n",
       "        text-align: right;\n",
       "    }\n",
       "</style>\n",
       "<table border=\"1\" class=\"dataframe\">\n",
       "  <thead>\n",
       "    <tr style=\"text-align: right;\">\n",
       "      <th></th>\n",
       "      <th>cc_len</th>\n",
       "      <th>cc_startswith</th>\n",
       "      <th>log_salary</th>\n",
       "      <th>log_age_knn</th>\n",
       "      <th>log_estimated_expenses_knn</th>\n",
       "      <th>log_offer_value_knn</th>\n",
       "      <th>scaled_salary</th>\n",
       "      <th>scaled_age_knn</th>\n",
       "      <th>scaled_estimated_expenses_knn</th>\n",
       "      <th>scaled_offer_value_knn</th>\n",
       "      <th>nan_age</th>\n",
       "      <th>not_nan_age</th>\n",
       "      <th>target</th>\n",
       "      <th>age</th>\n",
       "      <th>center</th>\n",
       "      <th>customer_type</th>\n",
       "      <th>emails</th>\n",
       "      <th>gender</th>\n",
       "      <th>offer_class</th>\n",
       "      <th>phone_calls</th>\n",
       "      <th>salary</th>\n",
       "      <th>age_knn</th>\n",
       "      <th>estimated_expenses_knn</th>\n",
       "      <th>offer_value_knn</th>\n",
       "    </tr>\n",
       "    <tr>\n",
       "      <th>name</th>\n",
       "      <th></th>\n",
       "      <th></th>\n",
       "      <th></th>\n",
       "      <th></th>\n",
       "      <th></th>\n",
       "      <th></th>\n",
       "      <th></th>\n",
       "      <th></th>\n",
       "      <th></th>\n",
       "      <th></th>\n",
       "      <th></th>\n",
       "      <th></th>\n",
       "      <th></th>\n",
       "      <th></th>\n",
       "      <th></th>\n",
       "      <th></th>\n",
       "      <th></th>\n",
       "      <th></th>\n",
       "      <th></th>\n",
       "      <th></th>\n",
       "      <th></th>\n",
       "      <th></th>\n",
       "      <th></th>\n",
       "      <th></th>\n",
       "    </tr>\n",
       "  </thead>\n",
       "  <tbody>\n",
       "    <tr>\n",
       "      <th>DA3BAEB8BF604EB</th>\n",
       "      <td>ELSE</td>\n",
       "      <td>ELSE</td>\n",
       "      <td>6.594755</td>\n",
       "      <td>3.489576</td>\n",
       "      <td>8.940891</td>\n",
       "      <td>4.963600</td>\n",
       "      <td>-0.501839</td>\n",
       "      <td>-0.035049</td>\n",
       "      <td>1.603528</td>\n",
       "      <td>0.246935</td>\n",
       "      <td>True</td>\n",
       "      <td>False</td>\n",
       "      <td>False</td>\n",
       "      <td>NaN</td>\n",
       "      <td>A</td>\n",
       "      <td>S</td>\n",
       "      <td>1</td>\n",
       "      <td>male</td>\n",
       "      <td>Premium</td>\n",
       "      <td>0</td>\n",
       "      <td>731.25</td>\n",
       "      <td>32.772049</td>\n",
       "      <td>7638.0</td>\n",
       "      <td>143.108044</td>\n",
       "    </tr>\n",
       "    <tr>\n",
       "      <th>AEF3DE08DFED4E0</th>\n",
       "      <td>ELSE</td>\n",
       "      <td>ELSE</td>\n",
       "      <td>6.656084</td>\n",
       "      <td>3.433987</td>\n",
       "      <td>8.662851</td>\n",
       "      <td>4.153202</td>\n",
       "      <td>-0.492946</td>\n",
       "      <td>-0.197055</td>\n",
       "      <td>0.631794</td>\n",
       "      <td>-1.130746</td>\n",
       "      <td>False</td>\n",
       "      <td>True</td>\n",
       "      <td>False</td>\n",
       "      <td>31.0</td>\n",
       "      <td>A</td>\n",
       "      <td>S</td>\n",
       "      <td>0</td>\n",
       "      <td>male</td>\n",
       "      <td>Premium</td>\n",
       "      <td>0</td>\n",
       "      <td>777.50</td>\n",
       "      <td>31.000000</td>\n",
       "      <td>5784.0</td>\n",
       "      <td>63.637416</td>\n",
       "    </tr>\n",
       "    <tr>\n",
       "      <th>B621BB29484E46D</th>\n",
       "      <td>ELSE</td>\n",
       "      <td>ELSE</td>\n",
       "      <td>6.671501</td>\n",
       "      <td>3.218876</td>\n",
       "      <td>8.434898</td>\n",
       "      <td>5.348081</td>\n",
       "      <td>-0.490623</td>\n",
       "      <td>-0.745594</td>\n",
       "      <td>0.013846</td>\n",
       "      <td>1.410101</td>\n",
       "      <td>False</td>\n",
       "      <td>True</td>\n",
       "      <td>False</td>\n",
       "      <td>25.0</td>\n",
       "      <td>B</td>\n",
       "      <td>S</td>\n",
       "      <td>1</td>\n",
       "      <td>male</td>\n",
       "      <td>Premium</td>\n",
       "      <td>0</td>\n",
       "      <td>789.58</td>\n",
       "      <td>25.000000</td>\n",
       "      <td>4605.0</td>\n",
       "      <td>210.204552</td>\n",
       "    </tr>\n",
       "    <tr>\n",
       "      <th>2D0945802F92423</th>\n",
       "      <td>ELSE</td>\n",
       "      <td>ELSE</td>\n",
       "      <td>6.514713</td>\n",
       "      <td>2.890372</td>\n",
       "      <td>8.402680</td>\n",
       "      <td>4.876044</td>\n",
       "      <td>-0.512654</td>\n",
       "      <td>-1.385557</td>\n",
       "      <td>-0.062677</td>\n",
       "      <td>0.038956</td>\n",
       "      <td>False</td>\n",
       "      <td>True</td>\n",
       "      <td>False</td>\n",
       "      <td>18.0</td>\n",
       "      <td>B</td>\n",
       "      <td>Q</td>\n",
       "      <td>1</td>\n",
       "      <td>female</td>\n",
       "      <td>Premium</td>\n",
       "      <td>0</td>\n",
       "      <td>675.00</td>\n",
       "      <td>18.000000</td>\n",
       "      <td>4459.0</td>\n",
       "      <td>131.110924</td>\n",
       "    </tr>\n",
       "    <tr>\n",
       "      <th>640ABFC7E49B403</th>\n",
       "      <td>58</td>\n",
       "      <td>ELSE</td>\n",
       "      <td>8.029296</td>\n",
       "      <td>4.025352</td>\n",
       "      <td>8.388450</td>\n",
       "      <td>5.193064</td>\n",
       "      <td>-0.052226</td>\n",
       "      <td>2.088525</td>\n",
       "      <td>-0.095697</td>\n",
       "      <td>0.886816</td>\n",
       "      <td>False</td>\n",
       "      <td>True</td>\n",
       "      <td>False</td>\n",
       "      <td>56.0</td>\n",
       "      <td>B</td>\n",
       "      <td>C</td>\n",
       "      <td>1</td>\n",
       "      <td>male</td>\n",
       "      <td>Medium</td>\n",
       "      <td>0</td>\n",
       "      <td>3069.58</td>\n",
       "      <td>56.000000</td>\n",
       "      <td>4396.0</td>\n",
       "      <td>180.019199</td>\n",
       "    </tr>\n",
       "  </tbody>\n",
       "</table>\n",
       "</div>"
      ],
      "text/plain": [
       "                cc_len cc_startswith  log_salary  log_age_knn  \\\n",
       "name                                                            \n",
       "DA3BAEB8BF604EB   ELSE          ELSE    6.594755     3.489576   \n",
       "AEF3DE08DFED4E0   ELSE          ELSE    6.656084     3.433987   \n",
       "B621BB29484E46D   ELSE          ELSE    6.671501     3.218876   \n",
       "2D0945802F92423   ELSE          ELSE    6.514713     2.890372   \n",
       "640ABFC7E49B403     58          ELSE    8.029296     4.025352   \n",
       "\n",
       "                 log_estimated_expenses_knn  log_offer_value_knn  \\\n",
       "name                                                               \n",
       "DA3BAEB8BF604EB                    8.940891             4.963600   \n",
       "AEF3DE08DFED4E0                    8.662851             4.153202   \n",
       "B621BB29484E46D                    8.434898             5.348081   \n",
       "2D0945802F92423                    8.402680             4.876044   \n",
       "640ABFC7E49B403                    8.388450             5.193064   \n",
       "\n",
       "                 scaled_salary  scaled_age_knn  scaled_estimated_expenses_knn  \\\n",
       "name                                                                            \n",
       "DA3BAEB8BF604EB      -0.501839       -0.035049                       1.603528   \n",
       "AEF3DE08DFED4E0      -0.492946       -0.197055                       0.631794   \n",
       "B621BB29484E46D      -0.490623       -0.745594                       0.013846   \n",
       "2D0945802F92423      -0.512654       -1.385557                      -0.062677   \n",
       "640ABFC7E49B403      -0.052226        2.088525                      -0.095697   \n",
       "\n",
       "                 scaled_offer_value_knn  nan_age  not_nan_age  target   age  \\\n",
       "name                                                                          \n",
       "DA3BAEB8BF604EB                0.246935     True        False   False   NaN   \n",
       "AEF3DE08DFED4E0               -1.130746    False         True   False  31.0   \n",
       "B621BB29484E46D                1.410101    False         True   False  25.0   \n",
       "2D0945802F92423                0.038956    False         True   False  18.0   \n",
       "640ABFC7E49B403                0.886816    False         True   False  56.0   \n",
       "\n",
       "                center customer_type emails  gender offer_class phone_calls  \\\n",
       "name                                                                          \n",
       "DA3BAEB8BF604EB      A             S      1    male     Premium           0   \n",
       "AEF3DE08DFED4E0      A             S      0    male     Premium           0   \n",
       "B621BB29484E46D      B             S      1    male     Premium           0   \n",
       "2D0945802F92423      B             Q      1  female     Premium           0   \n",
       "640ABFC7E49B403      B             C      1    male      Medium           0   \n",
       "\n",
       "                  salary    age_knn  estimated_expenses_knn  offer_value_knn  \n",
       "name                                                                          \n",
       "DA3BAEB8BF604EB   731.25  32.772049                  7638.0       143.108044  \n",
       "AEF3DE08DFED4E0   777.50  31.000000                  5784.0        63.637416  \n",
       "B621BB29484E46D   789.58  25.000000                  4605.0       210.204552  \n",
       "2D0945802F92423   675.00  18.000000                  4459.0       131.110924  \n",
       "640ABFC7E49B403  3069.58  56.000000                  4396.0       180.019199  "
      ]
     },
     "execution_count": 13,
     "metadata": {},
     "output_type": "execute_result"
    }
   ],
   "source": [
    "processed_test_df.head()"
   ]
  },
  {
   "cell_type": "markdown",
   "metadata": {},
   "source": [
    "**verify if there is no mistake during preprocessing**"
   ]
  },
  {
   "cell_type": "code",
   "execution_count": 14,
   "metadata": {},
   "outputs": [],
   "source": [
    "assert not set(processed_train_df.index).intersection(set(processed_test_df.index))"
   ]
  },
  {
   "cell_type": "markdown",
   "metadata": {},
   "source": [
    "**left to process: categoricalencoding and age binning approach**"
   ]
  },
  {
   "cell_type": "markdown",
   "metadata": {},
   "source": [
    "**sklearn modelling**"
   ]
  },
  {
   "cell_type": "code",
   "execution_count": 274,
   "metadata": {},
   "outputs": [],
   "source": [
    "from sklearn.model_selection import train_test_split, GridSearchCV, RandomizedSearchCV\n",
    "from sklearn.model_selection import cross_val_score, KFold\n",
    "from sklearn.ensemble import RandomForestClassifier\n",
    "from sklearn.pipeline import Pipeline\n",
    "from sklearn.linear_model import LogisticRegression\n",
    "from sklearn.neighbors import KNeighborsClassifier\n",
    "from sklearn.metrics import accuracy_score, roc_auc_score, confusion_matrix"
   ]
  },
  {
   "cell_type": "markdown",
   "metadata": {},
   "source": [
    "**sklearn models which have predict_proba method**"
   ]
  },
  {
   "cell_type": "code",
   "execution_count": 23,
   "metadata": {},
   "outputs": [
    {
     "name": "stdout",
     "output_type": "stream",
     "text": [
      "AdaBoostClassifier\n",
      "BaggingClassifier\n",
      "BayesianGaussianMixture\n",
      "BernoulliNB\n",
      "CalibratedClassifierCV\n",
      "ClassifierChain\n",
      "ComplementNB\n",
      "DecisionTreeClassifier\n",
      "DummyClassifier\n",
      "ExtraTreeClassifier\n",
      "ExtraTreesClassifier\n",
      "GaussianMixture\n",
      "GaussianNB\n",
      "GaussianProcessClassifier\n",
      "GradientBoostingClassifier\n",
      "GridSearchCV\n",
      "HistGradientBoostingClassifier\n",
      "KNeighborsClassifier\n",
      "LabelPropagation\n",
      "LabelSpreading\n",
      "LinearDiscriminantAnalysis\n",
      "LogisticRegression\n",
      "LogisticRegressionCV\n",
      "MLPClassifier\n",
      "MultiOutputClassifier\n",
      "MultinomialNB\n",
      "NuSVC\n",
      "OneVsRestClassifier\n",
      "Pipeline\n",
      "QuadraticDiscriminantAnalysis\n",
      "RFE\n",
      "RFECV\n",
      "RandomForestClassifier\n",
      "RandomizedSearchCV\n",
      "SGDClassifier\n",
      "SVC\n",
      "VotingClassifier\n",
      "_BinaryGaussianProcessClassifierLaplace\n",
      "_ConstantPredictor\n"
     ]
    }
   ],
   "source": [
    "from sklearn.utils.testing import all_estimators\n",
    "\n",
    "estimators = all_estimators()\n",
    "\n",
    "for name, class_ in estimators:\n",
    "    if hasattr(class_, 'predict_proba'):\n",
    "        print(name)"
   ]
  },
  {
   "cell_type": "code",
   "execution_count": 28,
   "metadata": {},
   "outputs": [],
   "source": [
    "columns_to_encode = ['offer_class', 'gender', 'customer_type', 'center', 'phone_calls', 'cc_len', 'cc_startswith']"
   ]
  },
  {
   "cell_type": "code",
   "execution_count": 16,
   "metadata": {},
   "outputs": [],
   "source": [
    "enc = LeaveOneOutEncoder(train_df=processed_train_df,\n",
    "                         test_df=processed_test_df,\n",
    "                         columns_to_encode=columns_to_encode,\n",
    "                         target_column='target',\n",
    "                         random_state=42,\n",
    "                         mean=1,\n",
    "                         std=0.05)"
   ]
  },
  {
   "cell_type": "code",
   "execution_count": 24,
   "metadata": {},
   "outputs": [],
   "source": [
    "_, test_df_encoded = enc.fit()"
   ]
  },
  {
   "cell_type": "code",
   "execution_count": 25,
   "metadata": {},
   "outputs": [],
   "source": [
    "X_test = test_df_encoded.reset_index().drop(columns=['target'])\n",
    "y_test = test_df_encoded.reset_index()[['target']]"
   ]
  },
  {
   "cell_type": "code",
   "execution_count": 33,
   "metadata": {},
   "outputs": [
    {
     "name": "stdout",
     "output_type": "stream",
     "text": [
      "['cc_len' 'cc_startswith' 'log_salary' 'log_age_knn'\n",
      " 'log_estimated_expenses_knn' 'log_offer_value_knn' 'scaled_salary'\n",
      " 'scaled_age_knn' 'scaled_estimated_expenses_knn' 'scaled_offer_value_knn'\n",
      " 'nan_age' 'not_nan_age' 'target' 'offer_class' 'gender' 'age'\n",
      " 'phone_calls' 'emails' 'salary' 'customer_type' 'center' 'age_knn'\n",
      " 'estimated_expenses_knn' 'offer_value_knn']\n"
     ]
    }
   ],
   "source": [
    "print(processed_train_df.columns.values)"
   ]
  },
  {
   "cell_type": "code",
   "execution_count": 35,
   "metadata": {},
   "outputs": [],
   "source": [
    "all_train_features = processed_train_df.columns.values"
   ]
  },
  {
   "cell_type": "markdown",
   "metadata": {},
   "source": [
    "#### estimators"
   ]
  },
  {
   "cell_type": "code",
   "execution_count": 69,
   "metadata": {},
   "outputs": [],
   "source": [
    "from sklearn.neighbors import KNeighborsClassifier\n",
    "from sklearn.ensemble import RandomForestClassifier\n",
    "from sklearn.linear_model import LogisticRegression\n",
    "from sklearn.tree import DecisionTreeClassifier"
   ]
  },
  {
   "cell_type": "code",
   "execution_count": 70,
   "metadata": {},
   "outputs": [],
   "source": [
    "knn_clf = KNeighborsClassifier()\n",
    "dt_clf = DecisionTreeClassifier()\n",
    "rf_clf = RandomForestClassifier()\n",
    "log_clf = LogisticRegression()"
   ]
  },
  {
   "cell_type": "code",
   "execution_count": 106,
   "metadata": {},
   "outputs": [],
   "source": [
    "knn_param_grid = {'n_neighbors': list(np.linspace(2, 20, 10, endpoint=True).astype(int)),\n",
    "                  'weights': ['uniform', 'distance'],\n",
    "                  'metric': ['minkowski'],\n",
    "                  'p': list(np.linspace(1, 4, 4, endpoint=True).astype(int))}"
   ]
  },
  {
   "cell_type": "code",
   "execution_count": 131,
   "metadata": {},
   "outputs": [],
   "source": [
    "dt_param_grid = {'max_depth': list(np.linspace(2, 20, 10, endpoint=True).astype(int)),\n",
    "                 'min_samples_split': list(np.linspace(0.1, 1, 10, endpoint=True)),\n",
    "                 'max_features': list(np.linspace(2, 8, 4, endpoint=True).astype(int)),\n",
    "                 'min_samples_leaf': list(np.linspace(0.1, 0.5, 5, endpoint=True)),\n",
    "                 'random_state': [42]}"
   ]
  },
  {
   "cell_type": "code",
   "execution_count": 108,
   "metadata": {},
   "outputs": [],
   "source": [
    "rf_param_grid = {'n_estimators': [10, 20, 30, 50, 80, 100, 200, 300],\n",
    "                 'max_depth': list(np.linspace(2, 8,4, endpoint=True).astype(int)),\n",
    "                 'max_features': list(np.linspace(2, 8, 4, endpoint=True).astype(int)),\n",
    "                 'random_state': [42]}"
   ]
  },
  {
   "cell_type": "code",
   "execution_count": 109,
   "metadata": {},
   "outputs": [],
   "source": [
    "log_param_grid = {'C': [0.01, 0.05, 0.1, 0.2, 0.5, 0.6, 0.7, 1, 2, 5],\n",
    "                  'random_state': [42]}"
   ]
  },
  {
   "cell_type": "markdown",
   "metadata": {},
   "source": [
    "**first set of chosen features**"
   ]
  },
  {
   "cell_type": "code",
   "execution_count": 110,
   "metadata": {},
   "outputs": [],
   "source": [
    "columns_to_drop_from_training1 = ['salary', 'scaled_salary','scaled_age_knn', 'scaled_estimated_expenses_knn',\n",
    "                                  'scaled_offer_value_knn', 'estimated_expenses_knn', 'offer_value_knn',\n",
    "                                  'age_knn', 'log_age_knn', 'age']"
   ]
  },
  {
   "cell_type": "code",
   "execution_count": 111,
   "metadata": {},
   "outputs": [
    {
     "data": {
      "text/plain": [
       "{'cc_len',\n",
       " 'cc_startswith',\n",
       " 'center',\n",
       " 'customer_type',\n",
       " 'emails',\n",
       " 'gender',\n",
       " 'log_estimated_expenses_knn',\n",
       " 'log_offer_value_knn',\n",
       " 'log_salary',\n",
       " 'nan_age',\n",
       " 'not_nan_age',\n",
       " 'offer_class',\n",
       " 'phone_calls',\n",
       " 'target'}"
      ]
     },
     "execution_count": 111,
     "metadata": {},
     "output_type": "execute_result"
    }
   ],
   "source": [
    "set(all_train_features).difference(set(columns_to_drop_from_training1))"
   ]
  },
  {
   "cell_type": "code",
   "execution_count": 112,
   "metadata": {},
   "outputs": [],
   "source": [
    "LOOGS1_knn = LOOGridSearchCV(train_df=processed_train_df, model=knn_clf, params_grid=knn_param_grid, \n",
    "                        columns_to_encode=columns_to_encode,\n",
    "                        columns_to_drop_from_training=columns_to_drop_from_training1)"
   ]
  },
  {
   "cell_type": "code",
   "execution_count": 113,
   "metadata": {},
   "outputs": [],
   "source": [
    "knn1_acc, knn1_pam, knn1_rec, knn1_cms = LOOGS1_knn.grid_search()"
   ]
  },
  {
   "cell_type": "code",
   "execution_count": 123,
   "metadata": {},
   "outputs": [
    {
     "data": {
      "text/plain": [
       "80"
      ]
     },
     "execution_count": 123,
     "metadata": {},
     "output_type": "execute_result"
    }
   ],
   "source": [
    "len(knn1_acc)"
   ]
  },
  {
   "cell_type": "code",
   "execution_count": 116,
   "metadata": {},
   "outputs": [
    {
     "name": "stdout",
     "output_type": "stream",
     "text": [
      "0.7856526429341963\n"
     ]
    }
   ],
   "source": [
    "print(max(knn1_acc))"
   ]
  },
  {
   "cell_type": "code",
   "execution_count": 117,
   "metadata": {},
   "outputs": [
    {
     "name": "stdout",
     "output_type": "stream",
     "text": [
      "0.654986346986347\n"
     ]
    }
   ],
   "source": [
    "print(max(knn1_rec))"
   ]
  },
  {
   "cell_type": "code",
   "execution_count": 132,
   "metadata": {},
   "outputs": [],
   "source": [
    "LOOGS1_dt = LOOGridSearchCV(train_df=processed_train_df, model=dt_clf, params_grid=dt_param_grid, \n",
    "                        columns_to_encode=columns_to_encode,\n",
    "                        columns_to_drop_from_training=columns_to_drop_from_training1, \n",
    "                        Xs_train=LOOGS1_knn.Xs_train,\n",
    "                        ys_train=LOOGS1_knn.ys_train,\n",
    "                        Xs_val=LOOGS1_knn.Xs_val,\n",
    "                        ys_val=LOOGS1_knn.ys_val,\n",
    "                        encoded_df=LOOGS1_knn.encoded_df_)"
   ]
  },
  {
   "cell_type": "code",
   "execution_count": 133,
   "metadata": {},
   "outputs": [],
   "source": [
    "dt1_acc, dt1_pam, dt1_rec, dt1_cms = LOOGS1_dt.grid_search()"
   ]
  },
  {
   "cell_type": "code",
   "execution_count": 134,
   "metadata": {},
   "outputs": [
    {
     "data": {
      "text/plain": [
       "2000"
      ]
     },
     "execution_count": 134,
     "metadata": {},
     "output_type": "execute_result"
    }
   ],
   "source": [
    "len(dt1_acc)"
   ]
  },
  {
   "cell_type": "code",
   "execution_count": 140,
   "metadata": {},
   "outputs": [
    {
     "name": "stdout",
     "output_type": "stream",
     "text": [
      "0.780812344636743\n"
     ]
    }
   ],
   "source": [
    "print(max(dt1_acc))"
   ]
  },
  {
   "cell_type": "code",
   "execution_count": 143,
   "metadata": {},
   "outputs": [
    {
     "name": "stdout",
     "output_type": "stream",
     "text": [
      "0.7332676703719339\n"
     ]
    }
   ],
   "source": [
    "print(dt1_acc[dt1_rec.index(max(dt1_rec))])"
   ]
  },
  {
   "cell_type": "code",
   "execution_count": 201,
   "metadata": {},
   "outputs": [
    {
     "name": "stdout",
     "output_type": "stream",
     "text": [
      "0.7827106227106226\n"
     ]
    }
   ],
   "source": [
    "print(max(dt1_rec))"
   ]
  },
  {
   "cell_type": "code",
   "execution_count": 148,
   "metadata": {},
   "outputs": [
    {
     "data": {
      "text/plain": [
       "16"
      ]
     },
     "execution_count": 148,
     "metadata": {},
     "output_type": "execute_result"
    }
   ],
   "source": [
    "dt1_rec.index(max(dt1_rec))"
   ]
  },
  {
   "cell_type": "code",
   "execution_count": 149,
   "metadata": {},
   "outputs": [
    {
     "data": {
      "text/plain": [
       "array([[90. , 38. ],\n",
       "       [17. , 61.2]])"
      ]
     },
     "execution_count": 149,
     "metadata": {},
     "output_type": "execute_result"
    }
   ],
   "source": [
    "dt1_cms[16]"
   ]
  },
  {
   "cell_type": "code",
   "execution_count": 151,
   "metadata": {},
   "outputs": [],
   "source": [
    "LOOGS1_rf = LOOGridSearchCV(train_df=processed_train_df, model=rf_clf, params_grid=rf_param_grid, \n",
    "                        columns_to_encode=columns_to_encode,\n",
    "                        columns_to_drop_from_training=columns_to_drop_from_training1, \n",
    "                        Xs_train=LOOGS1_knn.Xs_train,\n",
    "                        ys_train=LOOGS1_knn.ys_train,\n",
    "                        Xs_val=LOOGS1_knn.Xs_val,\n",
    "                        ys_val=LOOGS1_knn.ys_val,\n",
    "                        encoded_df=LOOGS1_knn.encoded_df_)"
   ]
  },
  {
   "cell_type": "code",
   "execution_count": 152,
   "metadata": {},
   "outputs": [],
   "source": [
    "rf1_acc, rf1_pam, rf1_rec, rf1_cms = LOOGS1_rf.grid_search()"
   ]
  },
  {
   "cell_type": "code",
   "execution_count": 153,
   "metadata": {},
   "outputs": [
    {
     "name": "stdout",
     "output_type": "stream",
     "text": [
      "0.8050654284508232\n"
     ]
    }
   ],
   "source": [
    "print(max(rf1_acc))"
   ]
  },
  {
   "cell_type": "code",
   "execution_count": 154,
   "metadata": {},
   "outputs": [
    {
     "name": "stdout",
     "output_type": "stream",
     "text": [
      "0.6727938727938728\n"
     ]
    }
   ],
   "source": [
    "print(max(rf1_rec))"
   ]
  },
  {
   "cell_type": "code",
   "execution_count": 252,
   "metadata": {},
   "outputs": [],
   "source": [
    "LOOGS1_log = LOOGridSearchCV(train_df=processed_train_df, model=log_clf, params_grid=log_param_grid, \n",
    "                        columns_to_encode=columns_to_encode,\n",
    "                        columns_to_drop_from_training=columns_to_drop_from_training1, \n",
    "                        Xs_train=LOOGS1_knn.Xs_train,\n",
    "                        ys_train=LOOGS1_knn.ys_train,\n",
    "                        Xs_val=LOOGS1_knn.Xs_val,\n",
    "                        ys_val=LOOGS1_knn.ys_val,\n",
    "                        encoded_df=LOOGS1_knn.encoded_df_)"
   ]
  },
  {
   "cell_type": "code",
   "execution_count": 253,
   "metadata": {},
   "outputs": [],
   "source": [
    "log1_acc, log1_pam, log1_rec, log1_cms = LOOGS1_log.grid_search()"
   ]
  },
  {
   "cell_type": "code",
   "execution_count": 254,
   "metadata": {},
   "outputs": [
    {
     "name": "stdout",
     "output_type": "stream",
     "text": [
      "0.773054734768538\n"
     ]
    }
   ],
   "source": [
    "print(max(log1_acc))"
   ]
  },
  {
   "cell_type": "code",
   "execution_count": 255,
   "metadata": {},
   "outputs": [
    {
     "name": "stdout",
     "output_type": "stream",
     "text": [
      "0.6812600732600733\n"
     ]
    }
   ],
   "source": [
    "print(max(log1_rec))"
   ]
  },
  {
   "cell_type": "markdown",
   "metadata": {},
   "source": [
    "**second set of chosen features**"
   ]
  },
  {
   "cell_type": "code",
   "execution_count": 43,
   "metadata": {},
   "outputs": [],
   "source": [
    "columns_to_drop_from_training2 = ['salary', 'age_knn', 'log_age_knn', 'age', 'estimated_expenses_knn', \n",
    "                                  'offer_value_knn', 'log_estimated_expenses_knn', 'log_offer_value_knn',\n",
    "                                  'log_salary', 'scaled_age_knn']"
   ]
  },
  {
   "cell_type": "code",
   "execution_count": 42,
   "metadata": {},
   "outputs": [
    {
     "data": {
      "text/plain": [
       "{'cc_len',\n",
       " 'cc_startswith',\n",
       " 'center',\n",
       " 'customer_type',\n",
       " 'emails',\n",
       " 'gender',\n",
       " 'nan_age',\n",
       " 'not_nan_age',\n",
       " 'offer_class',\n",
       " 'phone_calls',\n",
       " 'scaled_age_knn',\n",
       " 'scaled_estimated_expenses_knn',\n",
       " 'scaled_offer_value_knn',\n",
       " 'scaled_salary',\n",
       " 'target'}"
      ]
     },
     "execution_count": 42,
     "metadata": {},
     "output_type": "execute_result"
    }
   ],
   "source": [
    "set(all_train_features).difference(set(columns_to_drop_from_training2))"
   ]
  },
  {
   "cell_type": "code",
   "execution_count": 160,
   "metadata": {},
   "outputs": [],
   "source": [
    "LOOGS2_knn = LOOGridSearchCV(train_df=processed_train_df, model=knn_clf, params_grid=knn_param_grid, \n",
    "                        columns_to_encode=columns_to_encode,\n",
    "                        columns_to_drop_from_training=columns_to_drop_from_training2)"
   ]
  },
  {
   "cell_type": "code",
   "execution_count": 161,
   "metadata": {},
   "outputs": [],
   "source": [
    "knn2_acc, knn2_pam, knn2_rec, knn2_cms = LOOGS2_knn.grid_search()"
   ]
  },
  {
   "cell_type": "code",
   "execution_count": 162,
   "metadata": {},
   "outputs": [
    {
     "name": "stdout",
     "output_type": "stream",
     "text": [
      "0.7526851461000892\n"
     ]
    }
   ],
   "source": [
    "print(max(knn2_acc))"
   ]
  },
  {
   "cell_type": "code",
   "execution_count": 163,
   "metadata": {},
   "outputs": [
    {
     "name": "stdout",
     "output_type": "stream",
     "text": [
      "0.5992707292707292\n"
     ]
    }
   ],
   "source": [
    "print(max(knn2_rec))"
   ]
  },
  {
   "cell_type": "code",
   "execution_count": 164,
   "metadata": {},
   "outputs": [],
   "source": [
    "LOOGS2_dt = LOOGridSearchCV(train_df=processed_train_df, model=dt_clf, params_grid=dt_param_grid, \n",
    "                        columns_to_encode=columns_to_encode,\n",
    "                        columns_to_drop_from_training=columns_to_drop_from_training2, \n",
    "                        Xs_train=LOOGS2_knn.Xs_train,\n",
    "                        ys_train=LOOGS2_knn.ys_train,\n",
    "                        Xs_val=LOOGS2_knn.Xs_val,\n",
    "                        ys_val=LOOGS2_knn.ys_val,\n",
    "                        encoded_df=LOOGS2_knn.encoded_df_)"
   ]
  },
  {
   "cell_type": "code",
   "execution_count": 165,
   "metadata": {},
   "outputs": [],
   "source": [
    "dt2_acc, dt2_pam, dt2_rec, dt2_cms = LOOGS2_dt.grid_search()"
   ]
  },
  {
   "cell_type": "code",
   "execution_count": 166,
   "metadata": {},
   "outputs": [
    {
     "name": "stdout",
     "output_type": "stream",
     "text": [
      "0.780812344636743\n"
     ]
    }
   ],
   "source": [
    "print(max(dt2_acc))"
   ]
  },
  {
   "cell_type": "code",
   "execution_count": 176,
   "metadata": {},
   "outputs": [
    {
     "name": "stdout",
     "output_type": "stream",
     "text": [
      "0.7827106227106226\n"
     ]
    }
   ],
   "source": [
    "print(max(dt2_rec))"
   ]
  },
  {
   "cell_type": "code",
   "execution_count": 168,
   "metadata": {},
   "outputs": [],
   "source": [
    "LOOGS2_rf = LOOGridSearchCV(train_df=processed_train_df, model=rf_clf, params_grid=rf_param_grid, \n",
    "                        columns_to_encode=columns_to_encode,\n",
    "                        columns_to_drop_from_training=columns_to_drop_from_training2, \n",
    "                        Xs_train=LOOGS2_knn.Xs_train,\n",
    "                        ys_train=LOOGS2_knn.ys_train,\n",
    "                        Xs_val=LOOGS2_knn.Xs_val,\n",
    "                        ys_val=LOOGS2_knn.ys_val,\n",
    "                        encoded_df=LOOGS2_knn.encoded_df_)"
   ]
  },
  {
   "cell_type": "code",
   "execution_count": 169,
   "metadata": {},
   "outputs": [],
   "source": [
    "rf2_acc, rf2_pam, rf2_rec, rf2_cms = LOOGS2_rf.grid_search()"
   ]
  },
  {
   "cell_type": "code",
   "execution_count": 170,
   "metadata": {},
   "outputs": [
    {
     "name": "stdout",
     "output_type": "stream",
     "text": [
      "0.8060363022372309\n"
     ]
    }
   ],
   "source": [
    "print(max(rf2_acc))"
   ]
  },
  {
   "cell_type": "code",
   "execution_count": 171,
   "metadata": {},
   "outputs": [
    {
     "name": "stdout",
     "output_type": "stream",
     "text": [
      "0.6727938727938728\n"
     ]
    }
   ],
   "source": [
    "print(max(rf2_rec))"
   ]
  },
  {
   "cell_type": "code",
   "execution_count": 180,
   "metadata": {},
   "outputs": [],
   "source": [
    "LOOGS2_log = LOOGridSearchCV(train_df=processed_train_df, model=log_clf, params_grid=log_param_grid, \n",
    "                        columns_to_encode=columns_to_encode,\n",
    "                        columns_to_drop_from_training=columns_to_drop_from_training2, \n",
    "                        Xs_train=LOOGS2_knn.Xs_train,\n",
    "                        ys_train=LOOGS2_knn.ys_train,\n",
    "                        Xs_val=LOOGS2_knn.Xs_val,\n",
    "                        ys_val=LOOGS2_knn.ys_val,\n",
    "                        encoded_df=LOOGS2_knn.encoded_df_)"
   ]
  },
  {
   "cell_type": "code",
   "execution_count": 184,
   "metadata": {},
   "outputs": [
    {
     "data": {
      "text/plain": [
       "10"
      ]
     },
     "execution_count": 184,
     "metadata": {},
     "output_type": "execute_result"
    }
   ],
   "source": [
    "len(log2_acc)"
   ]
  },
  {
   "cell_type": "code",
   "execution_count": 181,
   "metadata": {},
   "outputs": [],
   "source": [
    "log2_acc, log2_pam, log2_rec, log2_cms = LOOGS2_log.grid_search()"
   ]
  },
  {
   "cell_type": "code",
   "execution_count": 182,
   "metadata": {},
   "outputs": [
    {
     "name": "stdout",
     "output_type": "stream",
     "text": [
      "0.7759579757047043\n"
     ]
    }
   ],
   "source": [
    "print(max(log2_acc))"
   ]
  },
  {
   "cell_type": "code",
   "execution_count": 183,
   "metadata": {},
   "outputs": [
    {
     "name": "stdout",
     "output_type": "stream",
     "text": [
      "0.6727825507825508\n"
     ]
    }
   ],
   "source": [
    "print(max(log2_rec))"
   ]
  },
  {
   "cell_type": "markdown",
   "metadata": {},
   "source": [
    "**third set of chosen features**"
   ]
  },
  {
   "cell_type": "code",
   "execution_count": 47,
   "metadata": {},
   "outputs": [],
   "source": [
    "original_numerical = ['salary', 'estimated_expenses_knn', 'offer_value_knn', 'age_knn']"
   ]
  },
  {
   "cell_type": "code",
   "execution_count": 48,
   "metadata": {},
   "outputs": [
    {
     "data": {
      "text/plain": [
       "salary                    2.637465e+07\n",
       "estimated_expenses_knn    3.631811e+06\n",
       "offer_value_knn           3.352732e+03\n",
       "age_knn                   1.161376e+02\n",
       "dtype: float64"
      ]
     },
     "execution_count": 48,
     "metadata": {},
     "output_type": "execute_result"
    }
   ],
   "source": [
    "processed_train_df[original_numerical].var()"
   ]
  },
  {
   "cell_type": "code",
   "execution_count": 49,
   "metadata": {},
   "outputs": [],
   "source": [
    "columns_to_drop_from_training3 = ['salary', 'age_knn', 'log_age_knn', 'age', 'estimated_expenses_knn', \n",
    "                                  'offer_value_knn', 'scaled_estimated_expenses_knn', 'log_offer_value_knn',\n",
    "                                  'scaled_salary', 'scaled_age_knn']"
   ]
  },
  {
   "cell_type": "code",
   "execution_count": 50,
   "metadata": {},
   "outputs": [
    {
     "data": {
      "text/plain": [
       "{'cc_len',\n",
       " 'cc_startswith',\n",
       " 'center',\n",
       " 'customer_type',\n",
       " 'emails',\n",
       " 'gender',\n",
       " 'log_estimated_expenses_knn',\n",
       " 'log_salary',\n",
       " 'nan_age',\n",
       " 'not_nan_age',\n",
       " 'offer_class',\n",
       " 'phone_calls',\n",
       " 'scaled_offer_value_knn',\n",
       " 'target'}"
      ]
     },
     "execution_count": 50,
     "metadata": {},
     "output_type": "execute_result"
    }
   ],
   "source": [
    "set(all_train_features).difference(set(columns_to_drop_from_training3))"
   ]
  },
  {
   "cell_type": "code",
   "execution_count": 185,
   "metadata": {},
   "outputs": [],
   "source": [
    "LOOGS3_knn = LOOGridSearchCV(train_df=processed_train_df, model=knn_clf, params_grid=knn_param_grid, \n",
    "                        columns_to_encode=columns_to_encode,\n",
    "                        columns_to_drop_from_training=columns_to_drop_from_training3)"
   ]
  },
  {
   "cell_type": "code",
   "execution_count": 186,
   "metadata": {},
   "outputs": [],
   "source": [
    "knn3_acc, knn3_pam, knn3_rec, knn3_cms = LOOGS3_knn.grid_search()"
   ]
  },
  {
   "cell_type": "code",
   "execution_count": 187,
   "metadata": {},
   "outputs": [
    {
     "name": "stdout",
     "output_type": "stream",
     "text": [
      "0.7710848459265514\n"
     ]
    }
   ],
   "source": [
    "print(max(knn3_acc))"
   ]
  },
  {
   "cell_type": "code",
   "execution_count": 188,
   "metadata": {},
   "outputs": [
    {
     "name": "stdout",
     "output_type": "stream",
     "text": [
      "0.6172860472860473\n"
     ]
    }
   ],
   "source": [
    "print(max(knn3_rec))"
   ]
  },
  {
   "cell_type": "code",
   "execution_count": 189,
   "metadata": {},
   "outputs": [],
   "source": [
    "LOOGS3_dt = LOOGridSearchCV(train_df=processed_train_df, model=dt_clf, params_grid=dt_param_grid, \n",
    "                        columns_to_encode=columns_to_encode,\n",
    "                        columns_to_drop_from_training=columns_to_drop_from_training3, \n",
    "                        Xs_train=LOOGS3_knn.Xs_train,\n",
    "                        ys_train=LOOGS3_knn.ys_train,\n",
    "                        Xs_val=LOOGS3_knn.Xs_val,\n",
    "                        ys_val=LOOGS3_knn.ys_val,\n",
    "                        encoded_df=LOOGS3_knn.encoded_df_)"
   ]
  },
  {
   "cell_type": "code",
   "execution_count": 190,
   "metadata": {},
   "outputs": [],
   "source": [
    "dt3_acc, dt3_pam, dt3_rec, dt3_cms = LOOGS3_dt.grid_search()"
   ]
  },
  {
   "cell_type": "code",
   "execution_count": 191,
   "metadata": {},
   "outputs": [
    {
     "name": "stdout",
     "output_type": "stream",
     "text": [
      "0.780812344636743\n"
     ]
    }
   ],
   "source": [
    "print(max(dt3_acc))"
   ]
  },
  {
   "cell_type": "code",
   "execution_count": 192,
   "metadata": {},
   "outputs": [
    {
     "name": "stdout",
     "output_type": "stream",
     "text": [
      "0.7827106227106226\n"
     ]
    }
   ],
   "source": [
    "print(max(dt3_rec))"
   ]
  },
  {
   "cell_type": "code",
   "execution_count": 193,
   "metadata": {},
   "outputs": [],
   "source": [
    "LOOGS3_rf = LOOGridSearchCV(train_df=processed_train_df, model=rf_clf, params_grid=rf_param_grid, \n",
    "                        columns_to_encode=columns_to_encode,\n",
    "                        columns_to_drop_from_training=columns_to_drop_from_training3, \n",
    "                        Xs_train=LOOGS3_knn.Xs_train,\n",
    "                        ys_train=LOOGS3_knn.ys_train,\n",
    "                        Xs_val=LOOGS3_knn.Xs_val,\n",
    "                        ys_val=LOOGS3_knn.ys_val,\n",
    "                        encoded_df=LOOGS3_knn.encoded_df_)"
   ]
  },
  {
   "cell_type": "code",
   "execution_count": 194,
   "metadata": {},
   "outputs": [],
   "source": [
    "rf3_acc, rf3_pam, rf3_rec, rf3_cms = LOOGS3_rf.grid_search()"
   ]
  },
  {
   "cell_type": "code",
   "execution_count": 195,
   "metadata": {},
   "outputs": [
    {
     "name": "stdout",
     "output_type": "stream",
     "text": [
      "0.8050654284508232\n"
     ]
    }
   ],
   "source": [
    "print(max(rf3_acc))"
   ]
  },
  {
   "cell_type": "code",
   "execution_count": 196,
   "metadata": {},
   "outputs": [
    {
     "name": "stdout",
     "output_type": "stream",
     "text": [
      "0.6727938727938728\n"
     ]
    }
   ],
   "source": [
    "print(max(rf3_rec))"
   ]
  },
  {
   "cell_type": "code",
   "execution_count": 197,
   "metadata": {},
   "outputs": [],
   "source": [
    "LOOGS3_log = LOOGridSearchCV(train_df=processed_train_df, model=log_clf, params_grid=log_param_grid, \n",
    "                        columns_to_encode=columns_to_encode,\n",
    "                        columns_to_drop_from_training=columns_to_drop_from_training3, \n",
    "                        Xs_train=LOOGS3_knn.Xs_train,\n",
    "                        ys_train=LOOGS3_knn.ys_train,\n",
    "                        Xs_val=LOOGS3_knn.Xs_val,\n",
    "                        ys_val=LOOGS3_knn.ys_val,\n",
    "                        encoded_df=LOOGS3_knn.encoded_df_)"
   ]
  },
  {
   "cell_type": "code",
   "execution_count": 198,
   "metadata": {},
   "outputs": [],
   "source": [
    "log3_acc, log3_pam, log3_rec, log3_cms = LOOGS3_log.grid_search()"
   ]
  },
  {
   "cell_type": "code",
   "execution_count": 199,
   "metadata": {},
   "outputs": [
    {
     "name": "stdout",
     "output_type": "stream",
     "text": [
      "0.7749871019182965\n"
     ]
    }
   ],
   "source": [
    "print(max(log3_acc))"
   ]
  },
  {
   "cell_type": "code",
   "execution_count": 200,
   "metadata": {},
   "outputs": [
    {
     "name": "stdout",
     "output_type": "stream",
     "text": [
      "0.6805081585081585\n"
     ]
    }
   ],
   "source": [
    "print(max(log3_rec))"
   ]
  },
  {
   "cell_type": "markdown",
   "metadata": {},
   "source": [
    "**forth set of chosen features**"
   ]
  },
  {
   "cell_type": "code",
   "execution_count": 51,
   "metadata": {},
   "outputs": [
    {
     "data": {
      "text/plain": [
       "array(['cc_len', 'cc_startswith', 'log_salary', 'log_age_knn',\n",
       "       'log_estimated_expenses_knn', 'log_offer_value_knn',\n",
       "       'scaled_salary', 'scaled_age_knn', 'scaled_estimated_expenses_knn',\n",
       "       'scaled_offer_value_knn', 'nan_age', 'not_nan_age', 'target',\n",
       "       'offer_class', 'gender', 'age', 'phone_calls', 'emails', 'salary',\n",
       "       'customer_type', 'center', 'age_knn', 'estimated_expenses_knn',\n",
       "       'offer_value_knn'], dtype=object)"
      ]
     },
     "execution_count": 51,
     "metadata": {},
     "output_type": "execute_result"
    }
   ],
   "source": [
    "all_train_features"
   ]
  },
  {
   "cell_type": "code",
   "execution_count": 203,
   "metadata": {},
   "outputs": [],
   "source": [
    "columns_to_encode.remove('center')"
   ]
  },
  {
   "cell_type": "code",
   "execution_count": 204,
   "metadata": {},
   "outputs": [],
   "source": [
    "columns_to_drop_from_training4 = ['salary', 'age', 'center', 'age_knn', 'estimated_expenses_knn', 'offer_value_knn', \n",
    "                                  'log_age_knn', 'log_estimated_expenses_knn', 'log_offer_value_knn', 'log_salary',\n",
    "                                  'nan_age', 'not_nan_age']"
   ]
  },
  {
   "cell_type": "code",
   "execution_count": 205,
   "metadata": {},
   "outputs": [
    {
     "data": {
      "text/plain": [
       "{'cc_len',\n",
       " 'cc_startswith',\n",
       " 'customer_type',\n",
       " 'emails',\n",
       " 'gender',\n",
       " 'offer_class',\n",
       " 'phone_calls',\n",
       " 'scaled_age_knn',\n",
       " 'scaled_estimated_expenses_knn',\n",
       " 'scaled_offer_value_knn',\n",
       " 'scaled_salary',\n",
       " 'target'}"
      ]
     },
     "execution_count": 205,
     "metadata": {},
     "output_type": "execute_result"
    }
   ],
   "source": [
    "set(all_train_features).difference(set(columns_to_drop_from_training4))"
   ]
  },
  {
   "cell_type": "code",
   "execution_count": 206,
   "metadata": {},
   "outputs": [],
   "source": [
    "LOOGS4_knn = LOOGridSearchCV(train_df=processed_train_df, model=knn_clf, params_grid=knn_param_grid, \n",
    "                        columns_to_encode=columns_to_encode,\n",
    "                        columns_to_drop_from_training=columns_to_drop_from_training4)"
   ]
  },
  {
   "cell_type": "code",
   "execution_count": 207,
   "metadata": {},
   "outputs": [],
   "source": [
    "knn4_acc, knn4_pam, knn4_rec, knn4_cms = LOOGS4_knn.grid_search()"
   ]
  },
  {
   "cell_type": "code",
   "execution_count": 208,
   "metadata": {},
   "outputs": [
    {
     "name": "stdout",
     "output_type": "stream",
     "text": [
      "0.7333051920641622\n"
     ]
    }
   ],
   "source": [
    "print(max(knn4_acc))"
   ]
  },
  {
   "cell_type": "code",
   "execution_count": 209,
   "metadata": {},
   "outputs": [
    {
     "name": "stdout",
     "output_type": "stream",
     "text": [
      "0.592041958041958\n"
     ]
    }
   ],
   "source": [
    "print(max(knn4_rec))"
   ]
  },
  {
   "cell_type": "code",
   "execution_count": 210,
   "metadata": {},
   "outputs": [],
   "source": [
    "LOOGS4_dt = LOOGridSearchCV(train_df=processed_train_df, model=dt_clf, params_grid=dt_param_grid, \n",
    "                        columns_to_encode=columns_to_encode,\n",
    "                        columns_to_drop_from_training=columns_to_drop_from_training4, \n",
    "                        Xs_train=LOOGS4_knn.Xs_train,\n",
    "                        ys_train=LOOGS4_knn.ys_train,\n",
    "                        Xs_val=LOOGS4_knn.Xs_val,\n",
    "                        ys_val=LOOGS4_knn.ys_val,\n",
    "                        encoded_df=LOOGS4_knn.encoded_df_)"
   ]
  },
  {
   "cell_type": "code",
   "execution_count": 211,
   "metadata": {},
   "outputs": [],
   "source": [
    "dt4_acc, dt4_pam, dt4_rec, dt4_cms = LOOGS4_dt.grid_search()"
   ]
  },
  {
   "cell_type": "code",
   "execution_count": 212,
   "metadata": {},
   "outputs": [
    {
     "name": "stdout",
     "output_type": "stream",
     "text": [
      "0.7788705970639275\n"
     ]
    }
   ],
   "source": [
    "print(max(dt4_acc))"
   ]
  },
  {
   "cell_type": "code",
   "execution_count": 213,
   "metadata": {},
   "outputs": [
    {
     "name": "stdout",
     "output_type": "stream",
     "text": [
      "0.7444841824841826\n"
     ]
    }
   ],
   "source": [
    "print(max(dt4_rec))"
   ]
  },
  {
   "cell_type": "code",
   "execution_count": 214,
   "metadata": {},
   "outputs": [],
   "source": [
    "LOOGS4_rf = LOOGridSearchCV(train_df=processed_train_df, model=rf_clf, params_grid=rf_param_grid, \n",
    "                        columns_to_encode=columns_to_encode,\n",
    "                        columns_to_drop_from_training=columns_to_drop_from_training4, \n",
    "                        Xs_train=LOOGS4_knn.Xs_train,\n",
    "                        ys_train=LOOGS4_knn.ys_train,\n",
    "                        Xs_val=LOOGS4_knn.Xs_val,\n",
    "                        ys_val=LOOGS4_knn.ys_val,\n",
    "                        encoded_df=LOOGS4_knn.encoded_df_)"
   ]
  },
  {
   "cell_type": "code",
   "execution_count": 215,
   "metadata": {},
   "outputs": [],
   "source": [
    "rf4_acc, rf4_pam, rf4_rec, rf4_cms = LOOGS4_rf.grid_search()"
   ]
  },
  {
   "cell_type": "code",
   "execution_count": 216,
   "metadata": {},
   "outputs": [
    {
     "name": "stdout",
     "output_type": "stream",
     "text": [
      "0.8002204399418413\n"
     ]
    }
   ],
   "source": [
    "print(max(rf4_acc))"
   ]
  },
  {
   "cell_type": "code",
   "execution_count": 217,
   "metadata": {},
   "outputs": [
    {
     "name": "stdout",
     "output_type": "stream",
     "text": [
      "0.6783769563769563\n"
     ]
    }
   ],
   "source": [
    "print(max(rf4_rec))"
   ]
  },
  {
   "cell_type": "code",
   "execution_count": 218,
   "metadata": {},
   "outputs": [],
   "source": [
    "LOOGS4_log = LOOGridSearchCV(train_df=processed_train_df, model=log_clf, params_grid=log_param_grid, \n",
    "                        columns_to_encode=columns_to_encode,\n",
    "                        columns_to_drop_from_training=columns_to_drop_from_training4, \n",
    "                        Xs_train=LOOGS4_knn.Xs_train,\n",
    "                        ys_train=LOOGS4_knn.ys_train,\n",
    "                        Xs_val=LOOGS4_knn.Xs_val,\n",
    "                        ys_val=LOOGS4_knn.ys_val,\n",
    "                        encoded_df=LOOGS4_knn.encoded_df_)"
   ]
  },
  {
   "cell_type": "code",
   "execution_count": 219,
   "metadata": {},
   "outputs": [],
   "source": [
    "log4_acc, log4_pam, log4_rec, log4_cms = LOOGS4_log.grid_search()"
   ]
  },
  {
   "cell_type": "code",
   "execution_count": 220,
   "metadata": {},
   "outputs": [
    {
     "name": "stdout",
     "output_type": "stream",
     "text": [
      "0.7759579757047043\n"
     ]
    }
   ],
   "source": [
    "print(max(log4_acc))"
   ]
  },
  {
   "cell_type": "code",
   "execution_count": 221,
   "metadata": {},
   "outputs": [
    {
     "name": "stdout",
     "output_type": "stream",
     "text": [
      "0.6753466533466532\n"
     ]
    }
   ],
   "source": [
    "print(max(log4_rec))"
   ]
  },
  {
   "cell_type": "markdown",
   "metadata": {},
   "source": [
    "**fifth set of chosen features**"
   ]
  },
  {
   "cell_type": "code",
   "execution_count": 222,
   "metadata": {},
   "outputs": [],
   "source": [
    "columns_to_drop_from_training5 = ['salary', 'age', 'center', 'age_knn', 'estimated_expenses_knn', 'offer_value_knn', \n",
    "                                  'log_age_knn', 'log_estimated_expenses_knn', 'log_offer_value_knn', 'log_salary',\n",
    "                                  'nan_age', 'not_nan_age', 'cc_len', 'cc_startswith']"
   ]
  },
  {
   "cell_type": "code",
   "execution_count": 223,
   "metadata": {},
   "outputs": [],
   "source": [
    "columns_to_encode.remove('cc_len')"
   ]
  },
  {
   "cell_type": "code",
   "execution_count": 224,
   "metadata": {},
   "outputs": [],
   "source": [
    "columns_to_encode.remove('cc_startswith')"
   ]
  },
  {
   "cell_type": "code",
   "execution_count": 225,
   "metadata": {},
   "outputs": [
    {
     "data": {
      "text/plain": [
       "{'customer_type',\n",
       " 'emails',\n",
       " 'gender',\n",
       " 'offer_class',\n",
       " 'phone_calls',\n",
       " 'scaled_age_knn',\n",
       " 'scaled_estimated_expenses_knn',\n",
       " 'scaled_offer_value_knn',\n",
       " 'scaled_salary',\n",
       " 'target'}"
      ]
     },
     "execution_count": 225,
     "metadata": {},
     "output_type": "execute_result"
    }
   ],
   "source": [
    "set(all_train_features).difference(set(columns_to_drop_from_training5))"
   ]
  },
  {
   "cell_type": "code",
   "execution_count": 226,
   "metadata": {},
   "outputs": [],
   "source": [
    "LOOGS5_knn = LOOGridSearchCV(train_df=processed_train_df, model=knn_clf, params_grid=knn_param_grid, \n",
    "                        columns_to_encode=columns_to_encode,\n",
    "                        columns_to_drop_from_training=columns_to_drop_from_training5)"
   ]
  },
  {
   "cell_type": "code",
   "execution_count": 227,
   "metadata": {},
   "outputs": [],
   "source": [
    "knn5_acc, knn5_pam, knn5_rec, knn5_cms = LOOGS5_knn.grid_search()"
   ]
  },
  {
   "cell_type": "code",
   "execution_count": 228,
   "metadata": {},
   "outputs": [
    {
     "name": "stdout",
     "output_type": "stream",
     "text": [
      "0.7352281787908634\n"
     ]
    }
   ],
   "source": [
    "print(max(knn5_acc))"
   ]
  },
  {
   "cell_type": "code",
   "execution_count": 229,
   "metadata": {},
   "outputs": [
    {
     "name": "stdout",
     "output_type": "stream",
     "text": [
      "0.6049290709290709\n"
     ]
    }
   ],
   "source": [
    "print(max(knn5_rec))"
   ]
  },
  {
   "cell_type": "code",
   "execution_count": 230,
   "metadata": {},
   "outputs": [],
   "source": [
    "LOOGS5_dt = LOOGridSearchCV(train_df=processed_train_df, model=dt_clf, params_grid=dt_param_grid, \n",
    "                        columns_to_encode=columns_to_encode,\n",
    "                        columns_to_drop_from_training=columns_to_drop_from_training5, \n",
    "                        Xs_train=LOOGS5_knn.Xs_train,\n",
    "                        ys_train=LOOGS5_knn.ys_train,\n",
    "                        Xs_val=LOOGS5_knn.Xs_val,\n",
    "                        ys_val=LOOGS5_knn.ys_val,\n",
    "                        encoded_df=LOOGS5_knn.encoded_df_)"
   ]
  },
  {
   "cell_type": "code",
   "execution_count": 231,
   "metadata": {},
   "outputs": [],
   "source": [
    "dt5_acc, dt5_pam, dt5_rec, dt5_cms = LOOGS5_dt.grid_search()"
   ]
  },
  {
   "cell_type": "code",
   "execution_count": 232,
   "metadata": {},
   "outputs": [
    {
     "name": "stdout",
     "output_type": "stream",
     "text": [
      "0.7798414708503353\n"
     ]
    }
   ],
   "source": [
    "print(max(dt5_acc))"
   ]
  },
  {
   "cell_type": "code",
   "execution_count": 233,
   "metadata": {},
   "outputs": [
    {
     "name": "stdout",
     "output_type": "stream",
     "text": [
      "0.8105181485181484\n"
     ]
    }
   ],
   "source": [
    "print(max(dt5_rec))"
   ]
  },
  {
   "cell_type": "code",
   "execution_count": 242,
   "metadata": {},
   "outputs": [
    {
     "data": {
      "text/plain": [
       "90"
      ]
     },
     "execution_count": 242,
     "metadata": {},
     "output_type": "execute_result"
    }
   ],
   "source": [
    "dt5_rec.index(max(dt5_rec))"
   ]
  },
  {
   "cell_type": "code",
   "execution_count": 243,
   "metadata": {},
   "outputs": [
    {
     "data": {
      "text/plain": [
       "array([[72. , 56. ],\n",
       "       [14.8, 63.4]])"
      ]
     },
     "execution_count": 243,
     "metadata": {},
     "output_type": "execute_result"
    }
   ],
   "source": [
    "dt5_cms[90]"
   ]
  },
  {
   "cell_type": "code",
   "execution_count": 244,
   "metadata": {},
   "outputs": [
    {
     "data": {
      "text/plain": [
       "0.656662445476291"
      ]
     },
     "execution_count": 244,
     "metadata": {},
     "output_type": "execute_result"
    }
   ],
   "source": [
    "dt5_acc[90]"
   ]
  },
  {
   "cell_type": "code",
   "execution_count": 234,
   "metadata": {},
   "outputs": [],
   "source": [
    "LOOGS5_rf = LOOGridSearchCV(train_df=processed_train_df, model=rf_clf, params_grid=rf_param_grid, \n",
    "                        columns_to_encode=columns_to_encode,\n",
    "                        columns_to_drop_from_training=columns_to_drop_from_training5, \n",
    "                        Xs_train=LOOGS5_knn.Xs_train,\n",
    "                        ys_train=LOOGS5_knn.ys_train,\n",
    "                        Xs_val=LOOGS5_knn.Xs_val,\n",
    "                        ys_val=LOOGS5_knn.ys_val,\n",
    "                        encoded_df=LOOGS5_knn.encoded_df_)"
   ]
  },
  {
   "cell_type": "code",
   "execution_count": 235,
   "metadata": {},
   "outputs": [],
   "source": [
    "rf5_acc, rf5_pam, rf5_rec, rf5_cms = LOOGS5_rf.grid_search()"
   ]
  },
  {
   "cell_type": "code",
   "execution_count": 236,
   "metadata": {},
   "outputs": [
    {
     "name": "stdout",
     "output_type": "stream",
     "text": [
      "0.8021574973031284\n"
     ]
    }
   ],
   "source": [
    "print(max(rf5_acc))"
   ]
  },
  {
   "cell_type": "code",
   "execution_count": 237,
   "metadata": {},
   "outputs": [
    {
     "name": "stdout",
     "output_type": "stream",
     "text": [
      "0.6727938727938728\n"
     ]
    }
   ],
   "source": [
    "print(max(rf5_rec))"
   ]
  },
  {
   "cell_type": "code",
   "execution_count": 238,
   "metadata": {},
   "outputs": [],
   "source": [
    "LOOGS5_log = LOOGridSearchCV(train_df=processed_train_df, model=log_clf, params_grid=log_param_grid, \n",
    "                        columns_to_encode=columns_to_encode,\n",
    "                        columns_to_drop_from_training=columns_to_drop_from_training5, \n",
    "                        Xs_train=LOOGS5_knn.Xs_train,\n",
    "                        ys_train=LOOGS5_knn.ys_train,\n",
    "                        Xs_val=LOOGS5_knn.Xs_val,\n",
    "                        ys_val=LOOGS5_knn.ys_val,\n",
    "                        encoded_df=LOOGS5_knn.encoded_df_)"
   ]
  },
  {
   "cell_type": "code",
   "execution_count": 239,
   "metadata": {},
   "outputs": [],
   "source": [
    "log5_acc, log5_pam, log5_rec, log5_cms = LOOGS5_log.grid_search()"
   ]
  },
  {
   "cell_type": "code",
   "execution_count": 240,
   "metadata": {},
   "outputs": [
    {
     "name": "stdout",
     "output_type": "stream",
     "text": [
      "0.774991792129825\n"
     ]
    }
   ],
   "source": [
    "print(max(log5_acc))"
   ]
  },
  {
   "cell_type": "code",
   "execution_count": 241,
   "metadata": {},
   "outputs": [
    {
     "name": "stdout",
     "output_type": "stream",
     "text": [
      "0.6779440559440559\n"
     ]
    }
   ],
   "source": [
    "print(max(log5_rec))"
   ]
  },
  {
   "cell_type": "markdown",
   "metadata": {},
   "source": [
    "**sixth set of chosen features**"
   ]
  },
  {
   "cell_type": "code",
   "execution_count": 64,
   "metadata": {},
   "outputs": [],
   "source": [
    "columns_to_drop_from_training6 = ['salary', 'age', 'center', 'age_knn', 'estimated_expenses_knn', 'offer_value_knn', \n",
    "                                  'log_age_knn', 'log_estimated_expenses_knn', 'log_offer_value_knn', 'log_salary',\n",
    "                                  'nan_age', 'not_nan_age', 'cc_len', 'cc_startswith']"
   ]
  },
  {
   "cell_type": "code",
   "execution_count": 65,
   "metadata": {},
   "outputs": [
    {
     "data": {
      "text/plain": [
       "{'customer_type',\n",
       " 'emails',\n",
       " 'gender',\n",
       " 'offer_class',\n",
       " 'phone_calls',\n",
       " 'scaled_age_knn',\n",
       " 'scaled_estimated_expenses_knn',\n",
       " 'scaled_offer_value_knn',\n",
       " 'scaled_salary',\n",
       " 'target'}"
      ]
     },
     "execution_count": 65,
     "metadata": {},
     "output_type": "execute_result"
    }
   ],
   "source": [
    "set(all_train_features).difference(set(columns_to_drop_from_training6))"
   ]
  },
  {
   "cell_type": "code",
   "execution_count": 249,
   "metadata": {},
   "outputs": [],
   "source": [
    "columns_to_encode.remove('phone_calls')"
   ]
  },
  {
   "cell_type": "markdown",
   "metadata": {},
   "source": [
    "convert back phone_calls and emails to numerical"
   ]
  },
  {
   "cell_type": "code",
   "execution_count": 245,
   "metadata": {},
   "outputs": [],
   "source": [
    "num_processed_train_df = processed_train_df.copy(deep=True)"
   ]
  },
  {
   "cell_type": "code",
   "execution_count": 251,
   "metadata": {},
   "outputs": [],
   "source": [
    "num_processed_train_df['phone_calls'] = num_processed_train_df['phone_calls'].astype(int)\n",
    "num_processed_train_df['emails'] = num_processed_train_df['emails'].astype(int)"
   ]
  },
  {
   "cell_type": "code",
   "execution_count": 256,
   "metadata": {},
   "outputs": [],
   "source": [
    "LOOGS6_knn = LOOGridSearchCV(train_df=num_processed_train_df, model=knn_clf, params_grid=knn_param_grid, \n",
    "                        columns_to_encode=columns_to_encode,\n",
    "                        columns_to_drop_from_training=columns_to_drop_from_training6,\n",
    "                        ohe_emails=False)"
   ]
  },
  {
   "cell_type": "code",
   "execution_count": 257,
   "metadata": {},
   "outputs": [],
   "source": [
    "knn6_acc, knn6_pam, knn6_rec, knn6_cms = LOOGS6_knn.grid_search()"
   ]
  },
  {
   "cell_type": "code",
   "execution_count": 258,
   "metadata": {},
   "outputs": [
    {
     "name": "stdout",
     "output_type": "stream",
     "text": [
      "0.7255194409267858\n"
     ]
    }
   ],
   "source": [
    "print(max(knn6_acc))"
   ]
  },
  {
   "cell_type": "code",
   "execution_count": 259,
   "metadata": {},
   "outputs": [
    {
     "name": "stdout",
     "output_type": "stream",
     "text": [
      "0.5090223110223111\n"
     ]
    }
   ],
   "source": [
    "print(max(knn6_rec))"
   ]
  },
  {
   "cell_type": "code",
   "execution_count": 260,
   "metadata": {},
   "outputs": [],
   "source": [
    "LOOGS6_dt = LOOGridSearchCV(train_df=num_processed_train_df, model=dt_clf, params_grid=dt_param_grid, \n",
    "                        columns_to_encode=columns_to_encode,\n",
    "                        columns_to_drop_from_training=columns_to_drop_from_training6, \n",
    "                        Xs_train=LOOGS6_knn.Xs_train,\n",
    "                        ys_train=LOOGS6_knn.ys_train,\n",
    "                        Xs_val=LOOGS6_knn.Xs_val,\n",
    "                        ys_val=LOOGS6_knn.ys_val,\n",
    "                        encoded_df=LOOGS6_knn.encoded_df_,\n",
    "                        ohe_emails=False)"
   ]
  },
  {
   "cell_type": "code",
   "execution_count": 261,
   "metadata": {},
   "outputs": [],
   "source": [
    "dt6_acc, dt6_pam, dt6_rec, dt6_cms = LOOGS6_dt.grid_search()"
   ]
  },
  {
   "cell_type": "code",
   "execution_count": 262,
   "metadata": {},
   "outputs": [
    {
     "data": {
      "text/plain": [
       "2000"
      ]
     },
     "execution_count": 262,
     "metadata": {},
     "output_type": "execute_result"
    }
   ],
   "source": [
    "len(dt6_acc)"
   ]
  },
  {
   "cell_type": "code",
   "execution_count": 263,
   "metadata": {},
   "outputs": [
    {
     "name": "stdout",
     "output_type": "stream",
     "text": [
      "0.7788705970639275\n"
     ]
    }
   ],
   "source": [
    "print(max(dt6_acc))"
   ]
  },
  {
   "cell_type": "code",
   "execution_count": 264,
   "metadata": {},
   "outputs": [
    {
     "name": "stdout",
     "output_type": "stream",
     "text": [
      "0.6727938727938728\n"
     ]
    }
   ],
   "source": [
    "print(max(dt6_rec))"
   ]
  },
  {
   "cell_type": "code",
   "execution_count": 265,
   "metadata": {},
   "outputs": [],
   "source": [
    "LOOGS6_rf = LOOGridSearchCV(train_df=num_processed_train_df, model=rf_clf, params_grid=rf_param_grid, \n",
    "                        columns_to_encode=columns_to_encode,\n",
    "                        columns_to_drop_from_training=columns_to_drop_from_training6, \n",
    "                        Xs_train=LOOGS6_knn.Xs_train,\n",
    "                        ys_train=LOOGS6_knn.ys_train,\n",
    "                        Xs_val=LOOGS6_knn.Xs_val,\n",
    "                        ys_val=LOOGS6_knn.ys_val,\n",
    "                        encoded_df=LOOGS6_knn.encoded_df_,\n",
    "                        ohe_emails=False)"
   ]
  },
  {
   "cell_type": "code",
   "execution_count": 266,
   "metadata": {},
   "outputs": [],
   "source": [
    "rf6_acc, rf6_pam, rf6_rec, rf6_cms = LOOGS6_rf.grid_search()"
   ]
  },
  {
   "cell_type": "code",
   "execution_count": 267,
   "metadata": {},
   "outputs": [
    {
     "name": "stdout",
     "output_type": "stream",
     "text": [
      "0.799244875943905\n"
     ]
    }
   ],
   "source": [
    "print(max(rf6_acc))"
   ]
  },
  {
   "cell_type": "code",
   "execution_count": 268,
   "metadata": {},
   "outputs": [
    {
     "name": "stdout",
     "output_type": "stream",
     "text": [
      "0.6727938727938728\n"
     ]
    }
   ],
   "source": [
    "print(max(rf6_rec))"
   ]
  },
  {
   "cell_type": "code",
   "execution_count": 269,
   "metadata": {},
   "outputs": [],
   "source": [
    "LOOGS6_log = LOOGridSearchCV(train_df=num_processed_train_df, model=log_clf, params_grid=log_param_grid, \n",
    "                        columns_to_encode=columns_to_encode,\n",
    "                        columns_to_drop_from_training=columns_to_drop_from_training6, \n",
    "                        Xs_train=LOOGS6_knn.Xs_train,\n",
    "                        ys_train=LOOGS6_knn.ys_train,\n",
    "                        Xs_val=LOOGS6_knn.Xs_val,\n",
    "                        ys_val=LOOGS6_knn.ys_val,\n",
    "                        encoded_df=LOOGS6_knn.encoded_df_,\n",
    "                        ohe_emails=False)"
   ]
  },
  {
   "cell_type": "code",
   "execution_count": 270,
   "metadata": {},
   "outputs": [],
   "source": [
    "log6_acc, log6_pam, log6_rec, log6_cms = LOOGS6_log.grid_search()"
   ]
  },
  {
   "cell_type": "code",
   "execution_count": 271,
   "metadata": {},
   "outputs": [
    {
     "name": "stdout",
     "output_type": "stream",
     "text": [
      "0.7866422775667182\n"
     ]
    }
   ],
   "source": [
    "print(max(log6_acc))"
   ]
  },
  {
   "cell_type": "code",
   "execution_count": 272,
   "metadata": {},
   "outputs": [
    {
     "name": "stdout",
     "output_type": "stream",
     "text": [
      "0.6648518148518148\n"
     ]
    }
   ],
   "source": [
    "print(max(log6_rec))"
   ]
  },
  {
   "cell_type": "markdown",
   "metadata": {},
   "source": [
    "**seventh set of chosen features**"
   ]
  },
  {
   "cell_type": "code",
   "execution_count": 67,
   "metadata": {},
   "outputs": [],
   "source": [
    "columns_to_use_for_training7 = ['customer_type', 'gender', 'emails', 'phone_calls', 'cc_startswith', 'cc_len',\n",
    "                                'scaled_salary', 'offer_class', 'not_nan_age']"
   ]
  },
  {
   "cell_type": "code",
   "execution_count": 276,
   "metadata": {},
   "outputs": [
    {
     "ename": "TypeError",
     "evalue": "__init__() missing 2 required positional arguments: 'estimator' and 'param_grid'",
     "output_type": "error",
     "traceback": [
      "\u001b[0;31m---------------------------------------------------------------------------\u001b[0m",
      "\u001b[0;31mTypeError\u001b[0m                                 Traceback (most recent call last)",
      "\u001b[0;32m<ipython-input-276-ca1c00363d91>\u001b[0m in \u001b[0;36m<module>\u001b[0;34m\u001b[0m\n\u001b[0;32m----> 1\u001b[0;31m \u001b[0mGridSearchCV\u001b[0m\u001b[0;34m(\u001b[0m\u001b[0;34m)\u001b[0m\u001b[0;34m\u001b[0m\u001b[0;34m\u001b[0m\u001b[0m\n\u001b[0m",
      "\u001b[0;31mTypeError\u001b[0m: __init__() missing 2 required positional arguments: 'estimator' and 'param_grid'"
     ]
    }
   ],
   "source": [
    "GridSearchCV(estimator= , param_grid= )"
   ]
  },
  {
   "cell_type": "markdown",
   "metadata": {},
   "source": [
    "convert back phone_calls and emails to numerical, one hot encoding on categoricals columns"
   ]
  },
  {
   "cell_type": "markdown",
   "metadata": {},
   "source": [
    "**eighth set of chosen features**"
   ]
  },
  {
   "cell_type": "code",
   "execution_count": 66,
   "metadata": {},
   "outputs": [],
   "source": [
    "columns_to_use_for_training8 = ['customer_type',  'emails', 'phone_calls', 'scaled_salary', 'gender', 'scaled_offer_value_knn']"
   ]
  },
  {
   "cell_type": "markdown",
   "metadata": {},
   "source": [
    "convert back phone_calls and emails to numerical, one hot encoding on categoricals columns"
   ]
  }
 ],
 "metadata": {
  "kernelspec": {
   "display_name": "Python 3",
   "language": "python",
   "name": "python3"
  },
  "language_info": {
   "codemirror_mode": {
    "name": "ipython",
    "version": 3
   },
   "file_extension": ".py",
   "mimetype": "text/x-python",
   "name": "python",
   "nbconvert_exporter": "python",
   "pygments_lexer": "ipython3",
   "version": "3.6.9"
  }
 },
 "nbformat": 4,
 "nbformat_minor": 4
}
