{
 "cells": [
  {
   "cell_type": "markdown",
   "metadata": {},
   "source": [
    "#### SUMMARY: Final model"
   ]
  },
  {
   "cell_type": "markdown",
   "metadata": {},
   "source": [
    "**using this there is no need to reload your packages every time when you will make any improvement to them**"
   ]
  },
  {
   "cell_type": "code",
   "execution_count": 1,
   "metadata": {},
   "outputs": [],
   "source": [
    "%load_ext autoreload"
   ]
  },
  {
   "cell_type": "code",
   "execution_count": 2,
   "metadata": {},
   "outputs": [],
   "source": [
    "autoreload 2"
   ]
  },
  {
   "cell_type": "markdown",
   "metadata": {},
   "source": [
    "**import necessary libraries**"
   ]
  },
  {
   "cell_type": "code",
   "execution_count": 3,
   "metadata": {},
   "outputs": [],
   "source": [
    "import numpy as np\n",
    "import pandas as pd \n",
    "import sys\n",
    "import warnings"
   ]
  },
  {
   "cell_type": "markdown",
   "metadata": {},
   "source": [
    "**set warnings options**"
   ]
  },
  {
   "cell_type": "code",
   "execution_count": 4,
   "metadata": {},
   "outputs": [],
   "source": [
    "warnings.filterwarnings('ignore')"
   ]
  },
  {
   "cell_type": "markdown",
   "metadata": {},
   "source": [
    "#### to have ease in importing modules"
   ]
  },
  {
   "cell_type": "code",
   "execution_count": 5,
   "metadata": {},
   "outputs": [],
   "source": [
    "sys.path.insert(0, '/Users/mjasiecz/PycharmProjects/new_offer_success_predictor/src')"
   ]
  },
  {
   "cell_type": "markdown",
   "metadata": {},
   "source": [
    "**set pandas options**"
   ]
  },
  {
   "cell_type": "code",
   "execution_count": 6,
   "metadata": {},
   "outputs": [],
   "source": [
    "pd.options.display.max_rows = None\n",
    "pd.options.display.max_columns = None\n",
    "pd.options.display.max_colwidth = 200"
   ]
  },
  {
   "cell_type": "markdown",
   "metadata": {},
   "source": [
    "**import packages for manage and preprocess data**"
   ]
  },
  {
   "cell_type": "code",
   "execution_count": 7,
   "metadata": {},
   "outputs": [
    {
     "name": "stderr",
     "output_type": "stream",
     "text": [
      "Using TensorFlow backend.\n"
     ]
    }
   ],
   "source": [
    "from data.data_manager import DataManager\n",
    "from data.data_processor import DataProcessor, TestDataProcessor\n",
    "from ml_preprocessing.categorical_encoders import LeaveOneOutEncoder\n",
    "from ml_preprocessing.encoding_helpers import LOOGridSearchCV"
   ]
  },
  {
   "cell_type": "markdown",
   "metadata": {},
   "source": [
    "**import scores function**"
   ]
  },
  {
   "cell_type": "code",
   "execution_count": 8,
   "metadata": {},
   "outputs": [],
   "source": [
    "from utils.scores_function import scores_function"
   ]
  },
  {
   "cell_type": "markdown",
   "metadata": {},
   "source": [
    "**load data pipeline**"
   ]
  },
  {
   "cell_type": "code",
   "execution_count": 9,
   "metadata": {},
   "outputs": [],
   "source": [
    "DM = DataManager()\n",
    "train_df, test_df = DM.load_train_test()"
   ]
  },
  {
   "cell_type": "markdown",
   "metadata": {},
   "source": [
    "**ml data preprocessing**"
   ]
  },
  {
   "cell_type": "code",
   "execution_count": 10,
   "metadata": {},
   "outputs": [
    {
     "name": "stdout",
     "output_type": "stream",
     "text": [
      "Imputing row 1/1031 with 1 missing, elapsed time: 0.206\n",
      "Imputing row 1/1289 with 0 missing, elapsed time: 0.306\n",
      "Imputing row 1033/1289 with 0 missing, elapsed time: 0.309\n"
     ]
    }
   ],
   "source": [
    "DP = DataProcessor(train_df=train_df)\n",
    "processed_train_df = DP.perform_initial_features_engineering()\n",
    "TDP = TestDataProcessor(not_processed_train_df=train_df,\n",
    "                        processed_train_df=processed_train_df,\n",
    "                        test_df=test_df,\n",
    "                        sneaky_peaky=True)\n",
    "processed_test_df = TDP.perform_initial_features_engineering()"
   ]
  },
  {
   "cell_type": "markdown",
   "metadata": {},
   "source": [
    "**sklearn modelling**"
   ]
  },
  {
   "cell_type": "code",
   "execution_count": 11,
   "metadata": {},
   "outputs": [],
   "source": [
    "from sklearn.model_selection import GridSearchCV\n",
    "from sklearn.metrics import accuracy_score, confusion_matrix, precision_score, recall_score, roc_auc_score, make_scorer"
   ]
  },
  {
   "cell_type": "code",
   "execution_count": 12,
   "metadata": {},
   "outputs": [],
   "source": [
    "columns_to_encode = ['offer_class', 'gender', 'customer_type', 'center', 'phone_calls', 'cc_len', 'cc_startswith']"
   ]
  },
  {
   "cell_type": "code",
   "execution_count": 13,
   "metadata": {},
   "outputs": [],
   "source": [
    "enc = LeaveOneOutEncoder(train_df=processed_train_df,\n",
    "                         test_df=processed_test_df,\n",
    "                         columns_to_encode=columns_to_encode,\n",
    "                         target_column='target',\n",
    "                         random_state=42,\n",
    "                         mean=1,\n",
    "                         std=0.05)"
   ]
  },
  {
   "cell_type": "code",
   "execution_count": 14,
   "metadata": {},
   "outputs": [],
   "source": [
    "_, test_df_encoded = enc.fit()"
   ]
  },
  {
   "cell_type": "code",
   "execution_count": 15,
   "metadata": {},
   "outputs": [],
   "source": [
    "X_test = test_df_encoded.reset_index().drop(columns=['target'])\n",
    "y_test = test_df_encoded.reset_index()[['target']]"
   ]
  },
  {
   "cell_type": "code",
   "execution_count": 16,
   "metadata": {},
   "outputs": [],
   "source": [
    "y_train = processed_train_df[['target']].reset_index().drop(columns=['name'])"
   ]
  },
  {
   "cell_type": "code",
   "execution_count": 17,
   "metadata": {},
   "outputs": [],
   "source": [
    "all_train_features = processed_train_df.columns.values"
   ]
  },
  {
   "cell_type": "markdown",
   "metadata": {},
   "source": [
    "#### estimators"
   ]
  },
  {
   "cell_type": "code",
   "execution_count": 18,
   "metadata": {},
   "outputs": [],
   "source": [
    "from sklearn.ensemble import RandomForestClassifier"
   ]
  },
  {
   "cell_type": "code",
   "execution_count": 19,
   "metadata": {},
   "outputs": [],
   "source": [
    "rf_clf = RandomForestClassifier()"
   ]
  },
  {
   "cell_type": "code",
   "execution_count": 20,
   "metadata": {},
   "outputs": [],
   "source": [
    "rf_param_grid = {'n_estimators': [4, 8, 10, 20, 30, 50, 70, 90, 100, 200],\n",
    "                 'max_depth': list(np.linspace(2, 10 , 5, endpoint=True).astype(int)),\n",
    "                 'max_features': list(np.linspace(2, 8, 4, endpoint=True).astype(int)),\n",
    "                 'random_state': [42]}"
   ]
  },
  {
   "cell_type": "markdown",
   "metadata": {},
   "source": [
    "**final set of chosen features**"
   ]
  },
  {
   "cell_type": "code",
   "execution_count": 21,
   "metadata": {},
   "outputs": [],
   "source": [
    "columns_to_drop_from_training1 = ['salary', 'scaled_salary','scaled_age_knn', 'scaled_estimated_expenses_knn',\n",
    "                                  'scaled_offer_value_knn', 'estimated_expenses_knn', 'offer_value_knn',\n",
    "                                  'age_knn', 'log_age_knn', 'age']"
   ]
  },
  {
   "cell_type": "code",
   "execution_count": 22,
   "metadata": {},
   "outputs": [
    {
     "data": {
      "text/plain": [
       "{'cc_len',\n",
       " 'cc_startswith',\n",
       " 'center',\n",
       " 'customer_type',\n",
       " 'emails',\n",
       " 'gender',\n",
       " 'log_estimated_expenses_knn',\n",
       " 'log_offer_value_knn',\n",
       " 'log_salary',\n",
       " 'nan_age',\n",
       " 'not_nan_age',\n",
       " 'offer_class',\n",
       " 'phone_calls',\n",
       " 'target'}"
      ]
     },
     "execution_count": 22,
     "metadata": {},
     "output_type": "execute_result"
    }
   ],
   "source": [
    "set(all_train_features).difference(set(columns_to_drop_from_training1))"
   ]
  },
  {
   "cell_type": "code",
   "execution_count": 23,
   "metadata": {},
   "outputs": [],
   "source": [
    "test_df_encoded_ohemails = test_df_encoded.copy(deep=True)\n",
    "email_ohe_names = {0: '0_emails',\n",
    "                   1: '1_email',\n",
    "                   2: '2_emails',\n",
    "                   3: '3_emails',\n",
    "                   4: '4_emails',\n",
    "                   5: '5_emails'}\n",
    "\n",
    "test_df_encoded_ohemails = (pd.concat([test_df_encoded_ohemails, pd.get_dummies(test_df_encoded_ohemails['emails'])],\n",
    "                                      axis=1).rename(columns=email_ohe_names)).drop(columns=['emails'])"
   ]
  },
  {
   "cell_type": "code",
   "execution_count": 24,
   "metadata": {},
   "outputs": [],
   "source": [
    "LOOGS1_rf = LOOGridSearchCV(train_df=processed_train_df, model=rf_clf, params_grid=rf_param_grid, \n",
    "                        columns_to_encode=columns_to_encode,\n",
    "                        columns_to_drop_from_training=columns_to_drop_from_training1)"
   ]
  },
  {
   "cell_type": "code",
   "execution_count": 25,
   "metadata": {},
   "outputs": [],
   "source": [
    "rf1_roc_auc = LOOGS1_rf.grid_search()"
   ]
  },
  {
   "cell_type": "code",
   "execution_count": 26,
   "metadata": {},
   "outputs": [],
   "source": [
    "test1 = test_df_encoded_ohemails[LOOGS1_rf.processed_train().columns.values]"
   ]
  },
  {
   "cell_type": "code",
   "execution_count": 27,
   "metadata": {},
   "outputs": [],
   "source": [
    "train1 = LOOGS1_rf.processed_train()"
   ]
  },
  {
   "cell_type": "code",
   "execution_count": 28,
   "metadata": {},
   "outputs": [
    {
     "name": "stdout",
     "output_type": "stream",
     "text": [
      "0.7728714678462344\n"
     ]
    }
   ],
   "source": [
    "print(max(rf1_roc_auc))"
   ]
  },
  {
   "cell_type": "code",
   "execution_count": 29,
   "metadata": {},
   "outputs": [
    {
     "name": "stdout",
     "output_type": "stream",
     "text": [
      "generalization error: 0.005235259864815434\n",
      "roc_auc_score: 0.7602678571428573\n",
      "recall_score: 0.7142857142857143\n",
      "accuracy_score: 0.7713178294573644\n",
      "precision_score: 0.693069306930693\n",
      "confusion_matrix: \n",
      "\n",
      "[[129  31]\n",
      " [ 28  70]]\n"
     ]
    }
   ],
   "source": [
    "scores_function(model=LOOGS1_rf, X_train=train1 , X_test=test1, y_train=y_train , y_test=y_test, mode='loo')"
   ]
  },
  {
   "cell_type": "code",
   "execution_count": 30,
   "metadata": {},
   "outputs": [],
   "source": [
    "import pickle\n",
    "\n",
    "from pathlib import Path"
   ]
  },
  {
   "cell_type": "code",
   "execution_count": 49,
   "metadata": {},
   "outputs": [],
   "source": [
    "models_path = Path('/Users/mjasiecz/PycharmProjects/new_offer_success_predictor/models/final_model.pickle')"
   ]
  },
  {
   "cell_type": "code",
   "execution_count": 53,
   "metadata": {},
   "outputs": [],
   "source": [
    "if not models_path.exists():\n",
    "    print('be sure to change model path my friend :)') #drop if you are project author and make next cell to 'Code' mode"
   ]
  },
  {
   "cell_type": "raw",
   "metadata": {},
   "source": [
    "if models_path.exists():\n",
    "    print('the best model is already pickled.')\n",
    "else:\n",
    "    with  open(models_path, 'wb') as f:\n",
    "        pickle.dump(LOOGS1_rf.best_roc_auc_estimator, f)"
   ]
  },
  {
   "cell_type": "code",
   "execution_count": 33,
   "metadata": {},
   "outputs": [],
   "source": [
    "final_model = pickle.load(open(models_path, 'rb'))"
   ]
  },
  {
   "cell_type": "code",
   "execution_count": 34,
   "metadata": {},
   "outputs": [
    {
     "data": {
      "text/plain": [
       "RandomForestClassifier(bootstrap=True, class_weight=None, criterion='gini',\n",
       "                       max_depth=4, max_features=6, max_leaf_nodes=None,\n",
       "                       min_impurity_decrease=0.0, min_impurity_split=None,\n",
       "                       min_samples_leaf=1, min_samples_split=2,\n",
       "                       min_weight_fraction_leaf=0.0, n_estimators=8,\n",
       "                       n_jobs=None, oob_score=False, random_state=42, verbose=0,\n",
       "                       warm_start=False)"
      ]
     },
     "execution_count": 34,
     "metadata": {},
     "output_type": "execute_result"
    }
   ],
   "source": [
    "final_model"
   ]
  },
  {
   "cell_type": "code",
   "execution_count": 35,
   "metadata": {},
   "outputs": [
    {
     "name": "stdout",
     "output_type": "stream",
     "text": [
      "generalization error: 0.005235259864815434\n",
      "roc_auc_score: 0.7602678571428573\n",
      "recall_score: 0.7142857142857143\n",
      "accuracy_score: 0.7713178294573644\n",
      "precision_score: 0.693069306930693\n",
      "confusion_matrix: \n",
      "\n",
      "[[129  31]\n",
      " [ 28  70]]\n"
     ]
    }
   ],
   "source": [
    "scores_function(model=final_model, X_train=train1 , X_test=test1, y_train=y_train , y_test=y_test, mode='pickle')"
   ]
  },
  {
   "cell_type": "code",
   "execution_count": 36,
   "metadata": {},
   "outputs": [],
   "source": [
    "customer_names = test1.reset_index()[['name']]"
   ]
  },
  {
   "cell_type": "code",
   "execution_count": 37,
   "metadata": {},
   "outputs": [],
   "source": [
    "probabilities = pd.DataFrame({'probability': final_model.predict_proba(test1)[:, 1]})"
   ]
  },
  {
   "cell_type": "code",
   "execution_count": 38,
   "metadata": {},
   "outputs": [],
   "source": [
    "final_list_of_probabilities = pd.merge(customer_names, probabilities, how='inner', on=customer_names.index)"
   ]
  },
  {
   "cell_type": "code",
   "execution_count": 39,
   "metadata": {},
   "outputs": [],
   "source": [
    "final_list_of_probabilities = final_list_of_probabilities[['name', 'probability']]"
   ]
  },
  {
   "cell_type": "code",
   "execution_count": 40,
   "metadata": {},
   "outputs": [
    {
     "data": {
      "text/html": [
       "<div>\n",
       "<style scoped>\n",
       "    .dataframe tbody tr th:only-of-type {\n",
       "        vertical-align: middle;\n",
       "    }\n",
       "\n",
       "    .dataframe tbody tr th {\n",
       "        vertical-align: top;\n",
       "    }\n",
       "\n",
       "    .dataframe thead th {\n",
       "        text-align: right;\n",
       "    }\n",
       "</style>\n",
       "<table border=\"1\" class=\"dataframe\">\n",
       "  <thead>\n",
       "    <tr style=\"text-align: right;\">\n",
       "      <th></th>\n",
       "      <th>name</th>\n",
       "      <th>probability</th>\n",
       "    </tr>\n",
       "  </thead>\n",
       "  <tbody>\n",
       "    <tr>\n",
       "      <th>0</th>\n",
       "      <td>DA3BAEB8BF604EB</td>\n",
       "      <td>0.213702</td>\n",
       "    </tr>\n",
       "    <tr>\n",
       "      <th>1</th>\n",
       "      <td>AEF3DE08DFED4E0</td>\n",
       "      <td>0.156127</td>\n",
       "    </tr>\n",
       "    <tr>\n",
       "      <th>2</th>\n",
       "      <td>B621BB29484E46D</td>\n",
       "      <td>0.156127</td>\n",
       "    </tr>\n",
       "    <tr>\n",
       "      <th>3</th>\n",
       "      <td>2D0945802F92423</td>\n",
       "      <td>0.567772</td>\n",
       "    </tr>\n",
       "    <tr>\n",
       "      <th>4</th>\n",
       "      <td>640ABFC7E49B403</td>\n",
       "      <td>0.362936</td>\n",
       "    </tr>\n",
       "  </tbody>\n",
       "</table>\n",
       "</div>"
      ],
      "text/plain": [
       "              name  probability\n",
       "0  DA3BAEB8BF604EB     0.213702\n",
       "1  AEF3DE08DFED4E0     0.156127\n",
       "2  B621BB29484E46D     0.156127\n",
       "3  2D0945802F92423     0.567772\n",
       "4  640ABFC7E49B403     0.362936"
      ]
     },
     "execution_count": 40,
     "metadata": {},
     "output_type": "execute_result"
    }
   ],
   "source": [
    "final_list_of_probabilities.head()"
   ]
  },
  {
   "cell_type": "markdown",
   "metadata": {},
   "source": [
    "#### Factors impacting classification results"
   ]
  },
  {
   "cell_type": "code",
   "execution_count": 41,
   "metadata": {},
   "outputs": [],
   "source": [
    "import shap"
   ]
  },
  {
   "cell_type": "code",
   "execution_count": 42,
   "metadata": {},
   "outputs": [],
   "source": [
    "explainer = shap.TreeExplainer(final_model)"
   ]
  },
  {
   "cell_type": "code",
   "execution_count": 43,
   "metadata": {},
   "outputs": [],
   "source": [
    "shap_values = explainer.shap_values(test1)"
   ]
  },
  {
   "cell_type": "code",
   "execution_count": 44,
   "metadata": {},
   "outputs": [
    {
     "data": {
      "text/html": [
       "<div>\n",
       "<style scoped>\n",
       "    .dataframe tbody tr th:only-of-type {\n",
       "        vertical-align: middle;\n",
       "    }\n",
       "\n",
       "    .dataframe tbody tr th {\n",
       "        vertical-align: top;\n",
       "    }\n",
       "\n",
       "    .dataframe thead th {\n",
       "        text-align: right;\n",
       "    }\n",
       "</style>\n",
       "<table border=\"1\" class=\"dataframe\">\n",
       "  <thead>\n",
       "    <tr style=\"text-align: right;\">\n",
       "      <th></th>\n",
       "      <th>log_salary</th>\n",
       "      <th>log_estimated_expenses_knn</th>\n",
       "      <th>log_offer_value_knn</th>\n",
       "      <th>nan_age</th>\n",
       "      <th>not_nan_age</th>\n",
       "      <th>0_emails</th>\n",
       "      <th>1_email</th>\n",
       "      <th>2_emails</th>\n",
       "      <th>3_emails</th>\n",
       "      <th>4_emails</th>\n",
       "      <th>5_emails</th>\n",
       "      <th>encoded_offer_class</th>\n",
       "      <th>encoded_gender</th>\n",
       "      <th>encoded_customer_type</th>\n",
       "      <th>encoded_center</th>\n",
       "      <th>encoded_phone_calls</th>\n",
       "      <th>encoded_cc_len</th>\n",
       "      <th>encoded_cc_startswith</th>\n",
       "    </tr>\n",
       "    <tr>\n",
       "      <th>name</th>\n",
       "      <th></th>\n",
       "      <th></th>\n",
       "      <th></th>\n",
       "      <th></th>\n",
       "      <th></th>\n",
       "      <th></th>\n",
       "      <th></th>\n",
       "      <th></th>\n",
       "      <th></th>\n",
       "      <th></th>\n",
       "      <th></th>\n",
       "      <th></th>\n",
       "      <th></th>\n",
       "      <th></th>\n",
       "      <th></th>\n",
       "      <th></th>\n",
       "      <th></th>\n",
       "      <th></th>\n",
       "    </tr>\n",
       "  </thead>\n",
       "  <tbody>\n",
       "    <tr>\n",
       "      <th>DA3BAEB8BF604EB</th>\n",
       "      <td>6.594755</td>\n",
       "      <td>8.940891</td>\n",
       "      <td>4.963600</td>\n",
       "      <td>True</td>\n",
       "      <td>False</td>\n",
       "      <td>0</td>\n",
       "      <td>1</td>\n",
       "      <td>0</td>\n",
       "      <td>0</td>\n",
       "      <td>0</td>\n",
       "      <td>0</td>\n",
       "      <td>0.256637</td>\n",
       "      <td>0.191617</td>\n",
       "      <td>0.318820</td>\n",
       "      <td>0.365801</td>\n",
       "      <td>0.341429</td>\n",
       "      <td>0.316583</td>\n",
       "      <td>0.366552</td>\n",
       "    </tr>\n",
       "    <tr>\n",
       "      <th>AEF3DE08DFED4E0</th>\n",
       "      <td>6.656084</td>\n",
       "      <td>8.662851</td>\n",
       "      <td>4.153202</td>\n",
       "      <td>False</td>\n",
       "      <td>True</td>\n",
       "      <td>1</td>\n",
       "      <td>0</td>\n",
       "      <td>0</td>\n",
       "      <td>0</td>\n",
       "      <td>0</td>\n",
       "      <td>0</td>\n",
       "      <td>0.256637</td>\n",
       "      <td>0.191617</td>\n",
       "      <td>0.318820</td>\n",
       "      <td>0.365801</td>\n",
       "      <td>0.341429</td>\n",
       "      <td>0.316583</td>\n",
       "      <td>0.366552</td>\n",
       "    </tr>\n",
       "    <tr>\n",
       "      <th>B621BB29484E46D</th>\n",
       "      <td>6.671501</td>\n",
       "      <td>8.434898</td>\n",
       "      <td>5.348081</td>\n",
       "      <td>False</td>\n",
       "      <td>True</td>\n",
       "      <td>0</td>\n",
       "      <td>1</td>\n",
       "      <td>0</td>\n",
       "      <td>0</td>\n",
       "      <td>0</td>\n",
       "      <td>0</td>\n",
       "      <td>0.256637</td>\n",
       "      <td>0.191617</td>\n",
       "      <td>0.318820</td>\n",
       "      <td>0.390158</td>\n",
       "      <td>0.341429</td>\n",
       "      <td>0.316583</td>\n",
       "      <td>0.366552</td>\n",
       "    </tr>\n",
       "    <tr>\n",
       "      <th>2D0945802F92423</th>\n",
       "      <td>6.514713</td>\n",
       "      <td>8.402680</td>\n",
       "      <td>4.876044</td>\n",
       "      <td>False</td>\n",
       "      <td>True</td>\n",
       "      <td>0</td>\n",
       "      <td>1</td>\n",
       "      <td>0</td>\n",
       "      <td>0</td>\n",
       "      <td>0</td>\n",
       "      <td>0</td>\n",
       "      <td>0.256637</td>\n",
       "      <td>0.724518</td>\n",
       "      <td>0.371134</td>\n",
       "      <td>0.390158</td>\n",
       "      <td>0.341429</td>\n",
       "      <td>0.316583</td>\n",
       "      <td>0.366552</td>\n",
       "    </tr>\n",
       "    <tr>\n",
       "      <th>640ABFC7E49B403</th>\n",
       "      <td>8.029296</td>\n",
       "      <td>8.388450</td>\n",
       "      <td>5.193064</td>\n",
       "      <td>False</td>\n",
       "      <td>True</td>\n",
       "      <td>0</td>\n",
       "      <td>1</td>\n",
       "      <td>0</td>\n",
       "      <td>0</td>\n",
       "      <td>0</td>\n",
       "      <td>0</td>\n",
       "      <td>0.618474</td>\n",
       "      <td>0.191617</td>\n",
       "      <td>0.576577</td>\n",
       "      <td>0.390158</td>\n",
       "      <td>0.341429</td>\n",
       "      <td>0.591489</td>\n",
       "      <td>0.366552</td>\n",
       "    </tr>\n",
       "  </tbody>\n",
       "</table>\n",
       "</div>"
      ],
      "text/plain": [
       "                 log_salary  log_estimated_expenses_knn  log_offer_value_knn  \\\n",
       "name                                                                           \n",
       "DA3BAEB8BF604EB    6.594755                    8.940891             4.963600   \n",
       "AEF3DE08DFED4E0    6.656084                    8.662851             4.153202   \n",
       "B621BB29484E46D    6.671501                    8.434898             5.348081   \n",
       "2D0945802F92423    6.514713                    8.402680             4.876044   \n",
       "640ABFC7E49B403    8.029296                    8.388450             5.193064   \n",
       "\n",
       "                 nan_age  not_nan_age  0_emails  1_email  2_emails  3_emails  \\\n",
       "name                                                                           \n",
       "DA3BAEB8BF604EB     True        False         0        1         0         0   \n",
       "AEF3DE08DFED4E0    False         True         1        0         0         0   \n",
       "B621BB29484E46D    False         True         0        1         0         0   \n",
       "2D0945802F92423    False         True         0        1         0         0   \n",
       "640ABFC7E49B403    False         True         0        1         0         0   \n",
       "\n",
       "                 4_emails  5_emails  encoded_offer_class  encoded_gender  \\\n",
       "name                                                                       \n",
       "DA3BAEB8BF604EB         0         0             0.256637        0.191617   \n",
       "AEF3DE08DFED4E0         0         0             0.256637        0.191617   \n",
       "B621BB29484E46D         0         0             0.256637        0.191617   \n",
       "2D0945802F92423         0         0             0.256637        0.724518   \n",
       "640ABFC7E49B403         0         0             0.618474        0.191617   \n",
       "\n",
       "                 encoded_customer_type  encoded_center  encoded_phone_calls  \\\n",
       "name                                                                          \n",
       "DA3BAEB8BF604EB               0.318820        0.365801             0.341429   \n",
       "AEF3DE08DFED4E0               0.318820        0.365801             0.341429   \n",
       "B621BB29484E46D               0.318820        0.390158             0.341429   \n",
       "2D0945802F92423               0.371134        0.390158             0.341429   \n",
       "640ABFC7E49B403               0.576577        0.390158             0.341429   \n",
       "\n",
       "                 encoded_cc_len  encoded_cc_startswith  \n",
       "name                                                    \n",
       "DA3BAEB8BF604EB        0.316583               0.366552  \n",
       "AEF3DE08DFED4E0        0.316583               0.366552  \n",
       "B621BB29484E46D        0.316583               0.366552  \n",
       "2D0945802F92423        0.316583               0.366552  \n",
       "640ABFC7E49B403        0.591489               0.366552  "
      ]
     },
     "execution_count": 44,
     "metadata": {},
     "output_type": "execute_result"
    }
   ],
   "source": [
    "test1.head()# <- look at during presentation preparation <- it should contain many valuable information on how to interpet shap value"
   ]
  },
  {
   "cell_type": "code",
   "execution_count": 45,
   "metadata": {},
   "outputs": [
    {
     "data": {
      "image/png": "[encoded data removed]",
      "text/plain": [
       "<Figure size 576x626.4 with 2 Axes>"
      ]
     },
     "metadata": {
      "needs_background": "light"
     },
     "output_type": "display_data"
    }
   ],
   "source": [
    "shap.summary_plot(shap_values[1], test1)"
   ]
  },
  {
   "cell_type": "markdown",
   "metadata": {},
   "source": [
    "in classification problems, there are separate array of SHAP values for each possible outcome. In this case, we use 1 as an index to get the SHAP values for the prediction of True (i.e. which features and how had the most impact on being assessed as a person, who will accept new offer)"
   ]
  },
  {
   "cell_type": "markdown",
   "metadata": {},
   "source": [
    "#### one extra model approach: using outcome of shap value plot"
   ]
  },
  {
   "cell_type": "raw",
   "metadata": {},
   "source": [
    "columns_to_drop_from_training_add = ['center', 'salary', 'cc_startswith',\n",
    "                                     'age', 'age_knn', 'emails',\n",
    "                                     'scaled_age_knn', 'log_offer_value_knn', 'offer_value_knn',\n",
    "                                     'estimated_expenses_knn', 'log_age_knn', 'log_estimated_expenses_knn',\n",
    "                                     'scaled_salary', 'nan_age', 'not_nan_age',\n",
    "                                     'scaled_offer_value_knn', 'scaled_estimated_expenses_knn']"
   ]
  },
  {
   "cell_type": "raw",
   "metadata": {},
   "source": [
    "rf_add_param_grid = {'n_estimators': [4, 8, 10, 20, 30, 50, 70, 90, 100, 200],\n",
    "                 'max_depth': list(np.linspace(2, 10 , 5, endpoint=True).astype(int)),\n",
    "                 'max_features': list(np.linspace(2, 6, 3, endpoint=True).astype(int)),\n",
    "                 'max_leaf_nodes': [2,4,6],\n",
    "                 'random_state': [42]}"
   ]
  },
  {
   "cell_type": "raw",
   "metadata": {},
   "source": [
    "new_columns_to_encode = ['gender', 'cc_len', 'offer_class', 'customer_type', 'phone_calls']"
   ]
  },
  {
   "cell_type": "raw",
   "metadata": {},
   "source": [
    "set(all_train_features).difference(set(columns_to_drop_from_training_add))"
   ]
  },
  {
   "cell_type": "raw",
   "metadata": {},
   "source": [
    "add_rf = LOOGridSearchCV(train_df=processed_train_df, model=rf_clf, params_grid=rf_add_param_grid, \n",
    "                        columns_to_encode=new_columns_to_encode,\n",
    "                        columns_to_drop_from_training=columns_to_drop_from_training_add, ohe_emails=False)"
   ]
  },
  {
   "cell_type": "raw",
   "metadata": {},
   "source": [
    "add_rf_roc_auc = add_rf.grid_search()"
   ]
  },
  {
   "cell_type": "raw",
   "metadata": {},
   "source": [
    "train_add = add_rf.processed_train()"
   ]
  },
  {
   "cell_type": "raw",
   "metadata": {},
   "source": [
    "test_add = test_df_encoded[add_rf.processed_train().columns.values]"
   ]
  },
  {
   "cell_type": "raw",
   "metadata": {},
   "source": [
    "print(max(add_rf_roc_auc))"
   ]
  },
  {
   "cell_type": "raw",
   "metadata": {},
   "source": [
    "scores_function(model=add_rf, X_train=train_add , X_test=test_add, y_train=y_train , y_test=y_test)"
   ]
  },
  {
   "cell_type": "markdown",
   "metadata": {},
   "source": [
    "the idea here was to check if features with low impact on model outcome will not add any noise which could cause drop in recall (and they didn't hence 'raw' mode is set here and final model is still the same."
   ]
  }
 ],
 "metadata": {
  "kernelspec": {
   "display_name": "Python 3",
   "language": "python",
   "name": "python3"
  },
  "language_info": {
   "codemirror_mode": {
    "name": "ipython",
    "version": 3
   },
   "file_extension": ".py",
   "mimetype": "text/x-python",
   "name": "python",
   "nbconvert_exporter": "python",
   "pygments_lexer": "ipython3",
   "version": "3.6.9"
  }
 },
 "nbformat": 4,
 "nbformat_minor": 4
}
