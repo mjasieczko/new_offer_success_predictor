{
 "cells": [
  {
   "cell_type": "markdown",
   "metadata": {},
   "source": [
    "## Research"
   ]
  },
  {
   "cell_type": "markdown",
   "metadata": {},
   "source": [
    "**using this there is no need to reload your packages every time when you will make any improvement to them**"
   ]
  },
  {
   "cell_type": "code",
   "execution_count": 1,
   "metadata": {},
   "outputs": [],
   "source": [
    "%load_ext autoreload"
   ]
  },
  {
   "cell_type": "code",
   "execution_count": 2,
   "metadata": {},
   "outputs": [],
   "source": [
    "autoreload 2"
   ]
  },
  {
   "cell_type": "markdown",
   "metadata": {},
   "source": [
    "**import necessary libraries**"
   ]
  },
  {
   "cell_type": "code",
   "execution_count": 140,
   "metadata": {},
   "outputs": [],
   "source": [
    "import matplotlib.pyplot as plt\n",
    "import missingno as msno\n",
    "import numpy as np\n",
    "import pandas as pd \n",
    "import sys\n",
    "import warnings\n",
    "from collections import defaultdict\n",
    "\n",
    "from pathlib import Path"
   ]
  },
  {
   "cell_type": "markdown",
   "metadata": {},
   "source": [
    "**set warnings options**"
   ]
  },
  {
   "cell_type": "code",
   "execution_count": 4,
   "metadata": {},
   "outputs": [],
   "source": [
    "warnings.filterwarnings('ignore')"
   ]
  },
  {
   "cell_type": "markdown",
   "metadata": {},
   "source": [
    "#### to have ease in importing modules"
   ]
  },
  {
   "cell_type": "code",
   "execution_count": 5,
   "metadata": {},
   "outputs": [],
   "source": [
    "sys.path.insert(0, '/Users/mjasiecz/PycharmProjects/new_offer_success_predictor/src')"
   ]
  },
  {
   "cell_type": "markdown",
   "metadata": {},
   "source": [
    "**set pandas options**"
   ]
  },
  {
   "cell_type": "code",
   "execution_count": 6,
   "metadata": {},
   "outputs": [],
   "source": [
    "pd.options.display.max_rows = None\n",
    "pd.options.display.max_columns = None\n",
    "pd.options.display.max_colwidth = 200"
   ]
  },
  {
   "cell_type": "markdown",
   "metadata": {},
   "source": [
    "**import packages for manage and preprocess data**"
   ]
  },
  {
   "cell_type": "code",
   "execution_count": 7,
   "metadata": {},
   "outputs": [],
   "source": [
    "from data.data_manager import DataManager"
   ]
  },
  {
   "cell_type": "markdown",
   "metadata": {},
   "source": [
    "**load data pipeline**"
   ]
  },
  {
   "cell_type": "code",
   "execution_count": 8,
   "metadata": {},
   "outputs": [],
   "source": [
    "DM = DataManager()\n",
    "df = DM.load_data()"
   ]
  },
  {
   "cell_type": "code",
   "execution_count": 129,
   "metadata": {},
   "outputs": [],
   "source": [
    "data_path = Path('/Users/mjasiecz/PycharmProjects/new_offer_success_predictor/data/raw/client_database.parquet')"
   ]
  },
  {
   "cell_type": "code",
   "execution_count": 130,
   "metadata": {},
   "outputs": [],
   "source": [
    "initial_df = pd.read_parquet(data_path, engine='pyarrow')"
   ]
  },
  {
   "cell_type": "code",
   "execution_count": 131,
   "metadata": {},
   "outputs": [
    {
     "name": "stdout",
     "output_type": "stream",
     "text": [
      "<class 'pandas.core.frame.DataFrame'>\n",
      "Int64Index: 1309 entries, 0 to 1308\n",
      "Data columns (total 15 columns):\n",
      "offer_class           1289 non-null object\n",
      "accepted              1289 non-null object\n",
      "name                  1289 non-null object\n",
      "gender                1289 non-null object\n",
      "age                   877 non-null float64\n",
      "phone_calls           1286 non-null float64\n",
      "emails                1287 non-null float64\n",
      "customer_code         1265 non-null object\n",
      "salary                1281 non-null float64\n",
      "offer_code            1287 non-null object\n",
      "customer_type         1287 non-null object\n",
      "number                1280 non-null object\n",
      "offer_value           1277 non-null float64\n",
      "estimated_expenses    1286 non-null float64\n",
      "center                1306 non-null object\n",
      "dtypes: float64(6), object(9)\n",
      "memory usage: 163.6+ KB\n"
     ]
    }
   ],
   "source": [
    "initial_df.info()"
   ]
  },
  {
   "cell_type": "code",
   "execution_count": 236,
   "metadata": {},
   "outputs": [
    {
     "data": {
      "text/html": [
       "<div>\n",
       "<style scoped>\n",
       "    .dataframe tbody tr th:only-of-type {\n",
       "        vertical-align: middle;\n",
       "    }\n",
       "\n",
       "    .dataframe tbody tr th {\n",
       "        vertical-align: top;\n",
       "    }\n",
       "\n",
       "    .dataframe thead th {\n",
       "        text-align: right;\n",
       "    }\n",
       "</style>\n",
       "<table border=\"1\" class=\"dataframe\">\n",
       "  <thead>\n",
       "    <tr style=\"text-align: right;\">\n",
       "      <th></th>\n",
       "      <th>offer_class</th>\n",
       "      <th>accepted</th>\n",
       "      <th>name</th>\n",
       "      <th>gender</th>\n",
       "      <th>age</th>\n",
       "      <th>phone_calls</th>\n",
       "      <th>emails</th>\n",
       "      <th>customer_code</th>\n",
       "      <th>salary</th>\n",
       "      <th>offer_code</th>\n",
       "      <th>customer_type</th>\n",
       "      <th>number</th>\n",
       "      <th>offer_value</th>\n",
       "      <th>estimated_expenses</th>\n",
       "      <th>center</th>\n",
       "    </tr>\n",
       "  </thead>\n",
       "  <tbody>\n",
       "    <tr>\n",
       "      <th>1289</th>\n",
       "      <td>None</td>\n",
       "      <td>None</td>\n",
       "      <td>None</td>\n",
       "      <td>None</td>\n",
       "      <td>NaN</td>\n",
       "      <td>NaN</td>\n",
       "      <td>NaN</td>\n",
       "      <td>None</td>\n",
       "      <td>NaN</td>\n",
       "      <td>None</td>\n",
       "      <td>None</td>\n",
       "      <td>None</td>\n",
       "      <td>NaN</td>\n",
       "      <td>NaN</td>\n",
       "      <td>A</td>\n",
       "    </tr>\n",
       "    <tr>\n",
       "      <th>1290</th>\n",
       "      <td>None</td>\n",
       "      <td>None</td>\n",
       "      <td>None</td>\n",
       "      <td>None</td>\n",
       "      <td>NaN</td>\n",
       "      <td>NaN</td>\n",
       "      <td>NaN</td>\n",
       "      <td>None</td>\n",
       "      <td>NaN</td>\n",
       "      <td>None</td>\n",
       "      <td>None</td>\n",
       "      <td>None</td>\n",
       "      <td>NaN</td>\n",
       "      <td>NaN</td>\n",
       "      <td>A</td>\n",
       "    </tr>\n",
       "    <tr>\n",
       "      <th>1291</th>\n",
       "      <td>None</td>\n",
       "      <td>None</td>\n",
       "      <td>None</td>\n",
       "      <td>None</td>\n",
       "      <td>NaN</td>\n",
       "      <td>NaN</td>\n",
       "      <td>NaN</td>\n",
       "      <td>None</td>\n",
       "      <td>NaN</td>\n",
       "      <td>None</td>\n",
       "      <td>None</td>\n",
       "      <td>None</td>\n",
       "      <td>NaN</td>\n",
       "      <td>NaN</td>\n",
       "      <td>A</td>\n",
       "    </tr>\n",
       "    <tr>\n",
       "      <th>1292</th>\n",
       "      <td>None</td>\n",
       "      <td>None</td>\n",
       "      <td>None</td>\n",
       "      <td>None</td>\n",
       "      <td>NaN</td>\n",
       "      <td>NaN</td>\n",
       "      <td>NaN</td>\n",
       "      <td>None</td>\n",
       "      <td>NaN</td>\n",
       "      <td>None</td>\n",
       "      <td>None</td>\n",
       "      <td>None</td>\n",
       "      <td>NaN</td>\n",
       "      <td>NaN</td>\n",
       "      <td>B</td>\n",
       "    </tr>\n",
       "    <tr>\n",
       "      <th>1293</th>\n",
       "      <td>None</td>\n",
       "      <td>None</td>\n",
       "      <td>None</td>\n",
       "      <td>None</td>\n",
       "      <td>NaN</td>\n",
       "      <td>NaN</td>\n",
       "      <td>NaN</td>\n",
       "      <td>None</td>\n",
       "      <td>NaN</td>\n",
       "      <td>None</td>\n",
       "      <td>None</td>\n",
       "      <td>None</td>\n",
       "      <td>NaN</td>\n",
       "      <td>NaN</td>\n",
       "      <td>A</td>\n",
       "    </tr>\n",
       "  </tbody>\n",
       "</table>\n",
       "</div>"
      ],
      "text/plain": [
       "     offer_class accepted  name gender  age  phone_calls  emails  \\\n",
       "1289        None     None  None   None  NaN          NaN     NaN   \n",
       "1290        None     None  None   None  NaN          NaN     NaN   \n",
       "1291        None     None  None   None  NaN          NaN     NaN   \n",
       "1292        None     None  None   None  NaN          NaN     NaN   \n",
       "1293        None     None  None   None  NaN          NaN     NaN   \n",
       "\n",
       "     customer_code  salary offer_code customer_type number  offer_value  \\\n",
       "1289          None     NaN       None          None   None          NaN   \n",
       "1290          None     NaN       None          None   None          NaN   \n",
       "1291          None     NaN       None          None   None          NaN   \n",
       "1292          None     NaN       None          None   None          NaN   \n",
       "1293          None     NaN       None          None   None          NaN   \n",
       "\n",
       "      estimated_expenses center  \n",
       "1289                 NaN      A  \n",
       "1290                 NaN      A  \n",
       "1291                 NaN      A  \n",
       "1292                 NaN      B  \n",
       "1293                 NaN      A  "
      ]
     },
     "execution_count": 236,
     "metadata": {},
     "output_type": "execute_result"
    }
   ],
   "source": [
    "initial_df[initial_df['accepted'].isna()][:5]"
   ]
  },
  {
   "cell_type": "code",
   "execution_count": 134,
   "metadata": {},
   "outputs": [],
   "source": [
    "# 20 rows to drop as they are all empty (except of center column)"
   ]
  },
  {
   "cell_type": "code",
   "execution_count": 158,
   "metadata": {},
   "outputs": [],
   "source": [
    "train_df, test_df = DM.load_train_test()"
   ]
  },
  {
   "cell_type": "code",
   "execution_count": 147,
   "metadata": {},
   "outputs": [],
   "source": [
    "positive_response = len(train_df[train_df['accepted'] == 'yes'])/len(train_df)"
   ]
  },
  {
   "cell_type": "code",
   "execution_count": 148,
   "metadata": {},
   "outputs": [],
   "source": [
    "negative_response = 1-positive_response"
   ]
  },
  {
   "cell_type": "code",
   "execution_count": 149,
   "metadata": {},
   "outputs": [
    {
     "data": {
      "text/plain": [
       "0.3792434529582929"
      ]
     },
     "execution_count": 149,
     "metadata": {},
     "output_type": "execute_result"
    }
   ],
   "source": [
    "positive_response"
   ]
  },
  {
   "cell_type": "code",
   "execution_count": 150,
   "metadata": {},
   "outputs": [
    {
     "data": {
      "text/plain": [
       "0.6207565470417071"
      ]
     },
     "execution_count": 150,
     "metadata": {},
     "output_type": "execute_result"
    }
   ],
   "source": [
    "negative_response"
   ]
  },
  {
   "cell_type": "markdown",
   "metadata": {},
   "source": [
    "#### <- i didnt decided to balance data although i could test it\n",
    "#### mainly because I assumed that this gap is too small to matter during modelling (and i assumed that maybe the same situation is out there in real world (also because stratify during train test split)) <- my mistake"
   ]
  },
  {
   "cell_type": "code",
   "execution_count": 114,
   "metadata": {},
   "outputs": [
    {
     "data": {
      "text/html": [
       "<div>\n",
       "<style scoped>\n",
       "    .dataframe tbody tr th:only-of-type {\n",
       "        vertical-align: middle;\n",
       "    }\n",
       "\n",
       "    .dataframe tbody tr th {\n",
       "        vertical-align: top;\n",
       "    }\n",
       "\n",
       "    .dataframe thead th {\n",
       "        text-align: right;\n",
       "    }\n",
       "</style>\n",
       "<table border=\"1\" class=\"dataframe\">\n",
       "  <thead>\n",
       "    <tr style=\"text-align: right;\">\n",
       "      <th></th>\n",
       "      <th>accepted</th>\n",
       "      <th>offer_class</th>\n",
       "      <th>gender</th>\n",
       "      <th>age</th>\n",
       "      <th>phone_calls</th>\n",
       "      <th>emails</th>\n",
       "      <th>customer_code</th>\n",
       "      <th>salary</th>\n",
       "      <th>offer_code</th>\n",
       "      <th>customer_type</th>\n",
       "      <th>number</th>\n",
       "      <th>offer_value</th>\n",
       "      <th>estimated_expenses</th>\n",
       "      <th>center</th>\n",
       "    </tr>\n",
       "    <tr>\n",
       "      <th>name</th>\n",
       "      <th></th>\n",
       "      <th></th>\n",
       "      <th></th>\n",
       "      <th></th>\n",
       "      <th></th>\n",
       "      <th></th>\n",
       "      <th></th>\n",
       "      <th></th>\n",
       "      <th></th>\n",
       "      <th></th>\n",
       "      <th></th>\n",
       "      <th></th>\n",
       "      <th></th>\n",
       "      <th></th>\n",
       "    </tr>\n",
       "  </thead>\n",
       "  <tbody>\n",
       "    <tr>\n",
       "      <th>8550AB469CB2445</th>\n",
       "      <td>no</td>\n",
       "      <td>Premium</td>\n",
       "      <td>female</td>\n",
       "      <td>NaN</td>\n",
       "      <td>1.0</td>\n",
       "      <td>2.0</td>\n",
       "      <td>2678</td>\n",
       "      <td>1524.58</td>\n",
       "      <td>8CA</td>\n",
       "      <td>C</td>\n",
       "      <td>0F2A2</td>\n",
       "      <td>303.973257</td>\n",
       "      <td>7207.0</td>\n",
       "      <td>B</td>\n",
       "    </tr>\n",
       "    <tr>\n",
       "      <th>07355EE27DD1493</th>\n",
       "      <td>no</td>\n",
       "      <td>High</td>\n",
       "      <td>male</td>\n",
       "      <td>32.0</td>\n",
       "      <td>0.0</td>\n",
       "      <td>0.0</td>\n",
       "      <td>244360</td>\n",
       "      <td>1300.00</td>\n",
       "      <td>9DD</td>\n",
       "      <td>S</td>\n",
       "      <td>5F15A</td>\n",
       "      <td>64.075055</td>\n",
       "      <td>3675.0</td>\n",
       "      <td>A</td>\n",
       "    </tr>\n",
       "    <tr>\n",
       "      <th>034E73A251554F0</th>\n",
       "      <td>yes</td>\n",
       "      <td>Premium</td>\n",
       "      <td>female</td>\n",
       "      <td>NaN</td>\n",
       "      <td>1.0</td>\n",
       "      <td>1.0</td>\n",
       "      <td>370365</td>\n",
       "      <td>1550.00</td>\n",
       "      <td>517</td>\n",
       "      <td>Q</td>\n",
       "      <td>AC578</td>\n",
       "      <td>108.581750</td>\n",
       "      <td>4750.0</td>\n",
       "      <td>B</td>\n",
       "    </tr>\n",
       "    <tr>\n",
       "      <th>0AF961B4AC7A439</th>\n",
       "      <td>no</td>\n",
       "      <td>Premium</td>\n",
       "      <td>male</td>\n",
       "      <td>NaN</td>\n",
       "      <td>0.0</td>\n",
       "      <td>1.0</td>\n",
       "      <td>2652</td>\n",
       "      <td>722.92</td>\n",
       "      <td>9CB</td>\n",
       "      <td>C</td>\n",
       "      <td>8A8CC</td>\n",
       "      <td>155.495957</td>\n",
       "      <td>1401.0</td>\n",
       "      <td>A</td>\n",
       "    </tr>\n",
       "    <tr>\n",
       "      <th>8535BBCA690A4AE</th>\n",
       "      <td>yes</td>\n",
       "      <td>Premium</td>\n",
       "      <td>male</td>\n",
       "      <td>NaN</td>\n",
       "      <td>0.0</td>\n",
       "      <td>1.0</td>\n",
       "      <td>1601</td>\n",
       "      <td>5649.58</td>\n",
       "      <td>6FF</td>\n",
       "      <td>S</td>\n",
       "      <td>42EFB</td>\n",
       "      <td>121.371033</td>\n",
       "      <td>2106.0</td>\n",
       "      <td>B</td>\n",
       "    </tr>\n",
       "  </tbody>\n",
       "</table>\n",
       "</div>"
      ],
      "text/plain": [
       "                accepted offer_class  gender   age  phone_calls  emails  \\\n",
       "name                                                                      \n",
       "8550AB469CB2445       no     Premium  female   NaN          1.0     2.0   \n",
       "07355EE27DD1493       no        High    male  32.0          0.0     0.0   \n",
       "034E73A251554F0      yes     Premium  female   NaN          1.0     1.0   \n",
       "0AF961B4AC7A439       no     Premium    male   NaN          0.0     1.0   \n",
       "8535BBCA690A4AE      yes     Premium    male   NaN          0.0     1.0   \n",
       "\n",
       "                customer_code   salary offer_code customer_type number  \\\n",
       "name                                                                     \n",
       "8550AB469CB2445          2678  1524.58        8CA             C  0F2A2   \n",
       "07355EE27DD1493        244360  1300.00        9DD             S  5F15A   \n",
       "034E73A251554F0        370365  1550.00        517             Q  AC578   \n",
       "0AF961B4AC7A439          2652   722.92        9CB             C  8A8CC   \n",
       "8535BBCA690A4AE          1601  5649.58        6FF             S  42EFB   \n",
       "\n",
       "                 offer_value  estimated_expenses center  \n",
       "name                                                     \n",
       "8550AB469CB2445   303.973257              7207.0      B  \n",
       "07355EE27DD1493    64.075055              3675.0      A  \n",
       "034E73A251554F0   108.581750              4750.0      B  \n",
       "0AF961B4AC7A439   155.495957              1401.0      A  \n",
       "8535BBCA690A4AE   121.371033              2106.0      B  "
      ]
     },
     "execution_count": 114,
     "metadata": {},
     "output_type": "execute_result"
    }
   ],
   "source": [
    "train_df.head()"
   ]
  },
  {
   "cell_type": "code",
   "execution_count": 115,
   "metadata": {},
   "outputs": [
    {
     "data": {
      "text/html": [
       "<div>\n",
       "<style scoped>\n",
       "    .dataframe tbody tr th:only-of-type {\n",
       "        vertical-align: middle;\n",
       "    }\n",
       "\n",
       "    .dataframe tbody tr th {\n",
       "        vertical-align: top;\n",
       "    }\n",
       "\n",
       "    .dataframe thead th {\n",
       "        text-align: right;\n",
       "    }\n",
       "</style>\n",
       "<table border=\"1\" class=\"dataframe\">\n",
       "  <thead>\n",
       "    <tr style=\"text-align: right;\">\n",
       "      <th></th>\n",
       "      <th>accepted</th>\n",
       "      <th>offer_class</th>\n",
       "      <th>gender</th>\n",
       "      <th>age</th>\n",
       "      <th>phone_calls</th>\n",
       "      <th>emails</th>\n",
       "      <th>customer_code</th>\n",
       "      <th>salary</th>\n",
       "      <th>offer_code</th>\n",
       "      <th>customer_type</th>\n",
       "      <th>number</th>\n",
       "      <th>offer_value</th>\n",
       "      <th>estimated_expenses</th>\n",
       "      <th>center</th>\n",
       "    </tr>\n",
       "    <tr>\n",
       "      <th>name</th>\n",
       "      <th></th>\n",
       "      <th></th>\n",
       "      <th></th>\n",
       "      <th></th>\n",
       "      <th></th>\n",
       "      <th></th>\n",
       "      <th></th>\n",
       "      <th></th>\n",
       "      <th></th>\n",
       "      <th></th>\n",
       "      <th></th>\n",
       "      <th></th>\n",
       "      <th></th>\n",
       "      <th></th>\n",
       "    </tr>\n",
       "  </thead>\n",
       "  <tbody>\n",
       "    <tr>\n",
       "      <th>6AEFDFD6EEB74C8</th>\n",
       "      <td>no</td>\n",
       "      <td>High</td>\n",
       "      <td>female</td>\n",
       "      <td>44.0</td>\n",
       "      <td>1.0</td>\n",
       "      <td>1.0</td>\n",
       "      <td>244252</td>\n",
       "      <td>2600.0</td>\n",
       "      <td>2BE</td>\n",
       "      <td>S</td>\n",
       "      <td>ED5DA</td>\n",
       "      <td>107.400764</td>\n",
       "      <td>2171.0</td>\n",
       "      <td>A</td>\n",
       "    </tr>\n",
       "    <tr>\n",
       "      <th>ED05F307FBE84DC</th>\n",
       "      <td>yes</td>\n",
       "      <td>High</td>\n",
       "      <td>female</td>\n",
       "      <td>NaN</td>\n",
       "      <td>1.0</td>\n",
       "      <td>3.0</td>\n",
       "      <td>C.A. 34651</td>\n",
       "      <td>2775.0</td>\n",
       "      <td>8FA</td>\n",
       "      <td>S</td>\n",
       "      <td>539D7</td>\n",
       "      <td>179.985763</td>\n",
       "      <td>7046.0</td>\n",
       "      <td>B</td>\n",
       "    </tr>\n",
       "    <tr>\n",
       "      <th>86D4FB50F10A47C</th>\n",
       "      <td>no</td>\n",
       "      <td>Premium</td>\n",
       "      <td>male</td>\n",
       "      <td>22.5</td>\n",
       "      <td>0.0</td>\n",
       "      <td>0.0</td>\n",
       "      <td>2698</td>\n",
       "      <td>722.5</td>\n",
       "      <td>B02</td>\n",
       "      <td>C</td>\n",
       "      <td>2605C</td>\n",
       "      <td>133.856215</td>\n",
       "      <td>7587.0</td>\n",
       "      <td>B</td>\n",
       "    </tr>\n",
       "    <tr>\n",
       "      <th>BE1E8CA987174CF</th>\n",
       "      <td>yes</td>\n",
       "      <td>Premium</td>\n",
       "      <td>female</td>\n",
       "      <td>NaN</td>\n",
       "      <td>0.0</td>\n",
       "      <td>2.0</td>\n",
       "      <td>371362</td>\n",
       "      <td>1610.0</td>\n",
       "      <td>1F8</td>\n",
       "      <td>S</td>\n",
       "      <td>0F27C</td>\n",
       "      <td>57.744836</td>\n",
       "      <td>7506.0</td>\n",
       "      <td>B</td>\n",
       "    </tr>\n",
       "    <tr>\n",
       "      <th>358EEC4160A4478</th>\n",
       "      <td>no</td>\n",
       "      <td>High</td>\n",
       "      <td>male</td>\n",
       "      <td>25.0</td>\n",
       "      <td>0.0</td>\n",
       "      <td>1.0</td>\n",
       "      <td>234686</td>\n",
       "      <td>1300.0</td>\n",
       "      <td>3CA</td>\n",
       "      <td>S</td>\n",
       "      <td>667C4</td>\n",
       "      <td>50.454597</td>\n",
       "      <td>7235.0</td>\n",
       "      <td>B</td>\n",
       "    </tr>\n",
       "  </tbody>\n",
       "</table>\n",
       "</div>"
      ],
      "text/plain": [
       "                accepted offer_class  gender   age  phone_calls  emails  \\\n",
       "name                                                                      \n",
       "6AEFDFD6EEB74C8       no        High  female  44.0          1.0     1.0   \n",
       "ED05F307FBE84DC      yes        High  female   NaN          1.0     3.0   \n",
       "86D4FB50F10A47C       no     Premium    male  22.5          0.0     0.0   \n",
       "BE1E8CA987174CF      yes     Premium  female   NaN          0.0     2.0   \n",
       "358EEC4160A4478       no        High    male  25.0          0.0     1.0   \n",
       "\n",
       "                customer_code  salary offer_code customer_type number  \\\n",
       "name                                                                    \n",
       "6AEFDFD6EEB74C8        244252  2600.0        2BE             S  ED5DA   \n",
       "ED05F307FBE84DC    C.A. 34651  2775.0        8FA             S  539D7   \n",
       "86D4FB50F10A47C          2698   722.5        B02             C  2605C   \n",
       "BE1E8CA987174CF        371362  1610.0        1F8             S  0F27C   \n",
       "358EEC4160A4478        234686  1300.0        3CA             S  667C4   \n",
       "\n",
       "                 offer_value  estimated_expenses center  \n",
       "name                                                     \n",
       "6AEFDFD6EEB74C8   107.400764              2171.0      A  \n",
       "ED05F307FBE84DC   179.985763              7046.0      B  \n",
       "86D4FB50F10A47C   133.856215              7587.0      B  \n",
       "BE1E8CA987174CF    57.744836              7506.0      B  \n",
       "358EEC4160A4478    50.454597              7235.0      B  "
      ]
     },
     "execution_count": 115,
     "metadata": {},
     "output_type": "execute_result"
    }
   ],
   "source": [
    "train_df.tail()"
   ]
  },
  {
   "cell_type": "code",
   "execution_count": 222,
   "metadata": {},
   "outputs": [],
   "source": [
    "######### to presentation"
   ]
  },
  {
   "cell_type": "code",
   "execution_count": 228,
   "metadata": {},
   "outputs": [],
   "source": [
    "# not unique customer_code"
   ]
  },
  {
   "cell_type": "code",
   "execution_count": 224,
   "metadata": {},
   "outputs": [
    {
     "data": {
      "text/plain": [
       "752"
      ]
     },
     "execution_count": 224,
     "metadata": {},
     "output_type": "execute_result"
    }
   ],
   "source": [
    "train_df['customer_code'].nunique()"
   ]
  },
  {
   "cell_type": "code",
   "execution_count": 227,
   "metadata": {},
   "outputs": [
    {
     "data": {
      "text/plain": [
       "1031"
      ]
     },
     "execution_count": 227,
     "metadata": {},
     "output_type": "execute_result"
    }
   ],
   "source": [
    "train_df['customer_code'].notnull().sum()"
   ]
  },
  {
   "cell_type": "code",
   "execution_count": 233,
   "metadata": {},
   "outputs": [
    {
     "data": {
      "text/html": [
       "<div>\n",
       "<style scoped>\n",
       "    .dataframe tbody tr th:only-of-type {\n",
       "        vertical-align: middle;\n",
       "    }\n",
       "\n",
       "    .dataframe tbody tr th {\n",
       "        vertical-align: top;\n",
       "    }\n",
       "\n",
       "    .dataframe thead th {\n",
       "        text-align: right;\n",
       "    }\n",
       "</style>\n",
       "<table border=\"1\" class=\"dataframe\">\n",
       "  <thead>\n",
       "    <tr style=\"text-align: right;\">\n",
       "      <th></th>\n",
       "      <th>customer_code</th>\n",
       "      <th>gender</th>\n",
       "      <th>offer_code</th>\n",
       "    </tr>\n",
       "    <tr>\n",
       "      <th>name</th>\n",
       "      <th></th>\n",
       "      <th></th>\n",
       "      <th></th>\n",
       "    </tr>\n",
       "  </thead>\n",
       "  <tbody>\n",
       "    <tr>\n",
       "      <th>8550AB469CB2445</th>\n",
       "      <td>2678</td>\n",
       "      <td>female</td>\n",
       "      <td>8CA</td>\n",
       "    </tr>\n",
       "    <tr>\n",
       "      <th>07355EE27DD1493</th>\n",
       "      <td>244360</td>\n",
       "      <td>male</td>\n",
       "      <td>9DD</td>\n",
       "    </tr>\n",
       "    <tr>\n",
       "      <th>034E73A251554F0</th>\n",
       "      <td>370365</td>\n",
       "      <td>female</td>\n",
       "      <td>517</td>\n",
       "    </tr>\n",
       "    <tr>\n",
       "      <th>0AF961B4AC7A439</th>\n",
       "      <td>2652</td>\n",
       "      <td>male</td>\n",
       "      <td>9CB</td>\n",
       "    </tr>\n",
       "    <tr>\n",
       "      <th>8535BBCA690A4AE</th>\n",
       "      <td>1601</td>\n",
       "      <td>male</td>\n",
       "      <td>6FF</td>\n",
       "    </tr>\n",
       "    <tr>\n",
       "      <th>B8A3C4B5FDE74D2</th>\n",
       "      <td>315082</td>\n",
       "      <td>male</td>\n",
       "      <td>DDF</td>\n",
       "    </tr>\n",
       "    <tr>\n",
       "      <th>2C797DCB48744EA</th>\n",
       "      <td>C.A. 2315</td>\n",
       "      <td>female</td>\n",
       "      <td>4EB</td>\n",
       "    </tr>\n",
       "    <tr>\n",
       "      <th>1004379959394F2</th>\n",
       "      <td>2691</td>\n",
       "      <td>female</td>\n",
       "      <td>0.00E+00</td>\n",
       "    </tr>\n",
       "    <tr>\n",
       "      <th>46AACF6692654AF</th>\n",
       "      <td>36865</td>\n",
       "      <td>male</td>\n",
       "      <td>69F</td>\n",
       "    </tr>\n",
       "    <tr>\n",
       "      <th>E1ED4839E59F4FE</th>\n",
       "      <td>PC 17597</td>\n",
       "      <td>male</td>\n",
       "      <td>2F9</td>\n",
       "    </tr>\n",
       "  </tbody>\n",
       "</table>\n",
       "</div>"
      ],
      "text/plain": [
       "                customer_code  gender offer_code\n",
       "name                                            \n",
       "8550AB469CB2445          2678  female        8CA\n",
       "07355EE27DD1493        244360    male        9DD\n",
       "034E73A251554F0        370365  female        517\n",
       "0AF961B4AC7A439          2652    male        9CB\n",
       "8535BBCA690A4AE          1601    male        6FF\n",
       "B8A3C4B5FDE74D2        315082    male        DDF\n",
       "2C797DCB48744EA     C.A. 2315  female        4EB\n",
       "1004379959394F2          2691  female   0.00E+00\n",
       "46AACF6692654AF         36865    male        69F\n",
       "E1ED4839E59F4FE      PC 17597    male        2F9"
      ]
     },
     "execution_count": 233,
     "metadata": {},
     "output_type": "execute_result"
    }
   ],
   "source": [
    "train_df[['customer_code', 'gender', 'offer_code']][:10]"
   ]
  },
  {
   "cell_type": "code",
   "execution_count": 237,
   "metadata": {},
   "outputs": [],
   "source": [
    "# train_df[['age']]"
   ]
  },
  {
   "cell_type": "code",
   "execution_count": 222,
   "metadata": {},
   "outputs": [],
   "source": [
    "######### to presentation"
   ]
  },
  {
   "cell_type": "code",
   "execution_count": 116,
   "metadata": {},
   "outputs": [
    {
     "name": "stdout",
     "output_type": "stream",
     "text": [
      "<class 'pandas.core.frame.DataFrame'>\n",
      "Index: 1031 entries, 8550AB469CB2445 to 358EEC4160A4478\n",
      "Data columns (total 14 columns):\n",
      "accepted              1031 non-null object\n",
      "offer_class           1031 non-null object\n",
      "gender                1031 non-null object\n",
      "age                   688 non-null float64\n",
      "phone_calls           1029 non-null float64\n",
      "emails                1029 non-null float64\n",
      "customer_code         1015 non-null object\n",
      "salary                1024 non-null float64\n",
      "offer_code            1029 non-null object\n",
      "customer_type         1029 non-null object\n",
      "number                1025 non-null object\n",
      "offer_value           1021 non-null float64\n",
      "estimated_expenses    1028 non-null float64\n",
      "center                1029 non-null object\n",
      "dtypes: float64(6), object(8)\n",
      "memory usage: 120.8+ KB\n"
     ]
    }
   ],
   "source": [
    "train_df.info()"
   ]
  },
  {
   "cell_type": "code",
   "execution_count": 119,
   "metadata": {},
   "outputs": [
    {
     "data": {
      "text/html": [
       "<div>\n",
       "<style scoped>\n",
       "    .dataframe tbody tr th:only-of-type {\n",
       "        vertical-align: middle;\n",
       "    }\n",
       "\n",
       "    .dataframe tbody tr th {\n",
       "        vertical-align: top;\n",
       "    }\n",
       "\n",
       "    .dataframe thead th {\n",
       "        text-align: right;\n",
       "    }\n",
       "</style>\n",
       "<table border=\"1\" class=\"dataframe\">\n",
       "  <thead>\n",
       "    <tr style=\"text-align: right;\">\n",
       "      <th></th>\n",
       "      <th>age</th>\n",
       "      <th>phone_calls</th>\n",
       "      <th>emails</th>\n",
       "      <th>salary</th>\n",
       "      <th>offer_value</th>\n",
       "      <th>estimated_expenses</th>\n",
       "    </tr>\n",
       "  </thead>\n",
       "  <tbody>\n",
       "    <tr>\n",
       "      <th>count</th>\n",
       "      <td>688.000000</td>\n",
       "      <td>1029.000000</td>\n",
       "      <td>1029.000000</td>\n",
       "      <td>1024.000000</td>\n",
       "      <td>1021.000000</td>\n",
       "      <td>1028.000000</td>\n",
       "    </tr>\n",
       "    <tr>\n",
       "      <th>mean</th>\n",
       "      <td>33.579215</td>\n",
       "      <td>0.515063</td>\n",
       "      <td>0.927114</td>\n",
       "      <td>3289.787930</td>\n",
       "      <td>128.163705</td>\n",
       "      <td>4610.229572</td>\n",
       "    </tr>\n",
       "    <tr>\n",
       "      <th>std</th>\n",
       "      <td>12.129183</td>\n",
       "      <td>1.099618</td>\n",
       "      <td>1.042638</td>\n",
       "      <td>5140.838019</td>\n",
       "      <td>57.848049</td>\n",
       "      <td>1906.746845</td>\n",
       "    </tr>\n",
       "    <tr>\n",
       "      <th>min</th>\n",
       "      <td>18.000000</td>\n",
       "      <td>0.000000</td>\n",
       "      <td>0.000000</td>\n",
       "      <td>0.000000</td>\n",
       "      <td>50.022619</td>\n",
       "      <td>1257.000000</td>\n",
       "    </tr>\n",
       "    <tr>\n",
       "      <th>25%</th>\n",
       "      <td>24.000000</td>\n",
       "      <td>0.000000</td>\n",
       "      <td>0.000000</td>\n",
       "      <td>789.580000</td>\n",
       "      <td>82.272189</td>\n",
       "      <td>2941.500000</td>\n",
       "    </tr>\n",
       "    <tr>\n",
       "      <th>50%</th>\n",
       "      <td>30.000000</td>\n",
       "      <td>0.000000</td>\n",
       "      <td>1.000000</td>\n",
       "      <td>1440.000000</td>\n",
       "      <td>117.513016</td>\n",
       "      <td>4578.000000</td>\n",
       "    </tr>\n",
       "    <tr>\n",
       "      <th>75%</th>\n",
       "      <td>41.000000</td>\n",
       "      <td>1.000000</td>\n",
       "      <td>1.000000</td>\n",
       "      <td>3100.000000</td>\n",
       "      <td>161.959845</td>\n",
       "      <td>6286.750000</td>\n",
       "    </tr>\n",
       "    <tr>\n",
       "      <th>max</th>\n",
       "      <td>80.000000</td>\n",
       "      <td>8.000000</td>\n",
       "      <td>10.000000</td>\n",
       "      <td>51232.920000</td>\n",
       "      <td>368.668534</td>\n",
       "      <td>7891.000000</td>\n",
       "    </tr>\n",
       "  </tbody>\n",
       "</table>\n",
       "</div>"
      ],
      "text/plain": [
       "              age  phone_calls       emails        salary  offer_value  \\\n",
       "count  688.000000  1029.000000  1029.000000   1024.000000  1021.000000   \n",
       "mean    33.579215     0.515063     0.927114   3289.787930   128.163705   \n",
       "std     12.129183     1.099618     1.042638   5140.838019    57.848049   \n",
       "min     18.000000     0.000000     0.000000      0.000000    50.022619   \n",
       "25%     24.000000     0.000000     0.000000    789.580000    82.272189   \n",
       "50%     30.000000     0.000000     1.000000   1440.000000   117.513016   \n",
       "75%     41.000000     1.000000     1.000000   3100.000000   161.959845   \n",
       "max     80.000000     8.000000    10.000000  51232.920000   368.668534   \n",
       "\n",
       "       estimated_expenses  \n",
       "count         1028.000000  \n",
       "mean          4610.229572  \n",
       "std           1906.746845  \n",
       "min           1257.000000  \n",
       "25%           2941.500000  \n",
       "50%           4578.000000  \n",
       "75%           6286.750000  \n",
       "max           7891.000000  "
      ]
     },
     "execution_count": 119,
     "metadata": {},
     "output_type": "execute_result"
    }
   ],
   "source": [
    "train_df.describe()"
   ]
  },
  {
   "cell_type": "code",
   "execution_count": 120,
   "metadata": {},
   "outputs": [
    {
     "data": {
      "text/html": [
       "<div>\n",
       "<style scoped>\n",
       "    .dataframe tbody tr th:only-of-type {\n",
       "        vertical-align: middle;\n",
       "    }\n",
       "\n",
       "    .dataframe tbody tr th {\n",
       "        vertical-align: top;\n",
       "    }\n",
       "\n",
       "    .dataframe thead th {\n",
       "        text-align: right;\n",
       "    }\n",
       "</style>\n",
       "<table border=\"1\" class=\"dataframe\">\n",
       "  <thead>\n",
       "    <tr style=\"text-align: right;\">\n",
       "      <th></th>\n",
       "      <th>age</th>\n",
       "      <th>phone_calls</th>\n",
       "      <th>emails</th>\n",
       "      <th>salary</th>\n",
       "      <th>offer_value</th>\n",
       "      <th>estimated_expenses</th>\n",
       "    </tr>\n",
       "  </thead>\n",
       "  <tbody>\n",
       "    <tr>\n",
       "      <th>age</th>\n",
       "      <td>1.000000</td>\n",
       "      <td>0.021577</td>\n",
       "      <td>0.107425</td>\n",
       "      <td>0.190776</td>\n",
       "      <td>0.034027</td>\n",
       "      <td>-0.008486</td>\n",
       "    </tr>\n",
       "    <tr>\n",
       "      <th>phone_calls</th>\n",
       "      <td>0.021577</td>\n",
       "      <td>1.000000</td>\n",
       "      <td>0.319243</td>\n",
       "      <td>0.172205</td>\n",
       "      <td>-0.005443</td>\n",
       "      <td>0.001770</td>\n",
       "    </tr>\n",
       "    <tr>\n",
       "      <th>emails</th>\n",
       "      <td>0.107425</td>\n",
       "      <td>0.319243</td>\n",
       "      <td>1.000000</td>\n",
       "      <td>0.213123</td>\n",
       "      <td>-0.020725</td>\n",
       "      <td>-0.006115</td>\n",
       "    </tr>\n",
       "    <tr>\n",
       "      <th>salary</th>\n",
       "      <td>0.190776</td>\n",
       "      <td>0.172205</td>\n",
       "      <td>0.213123</td>\n",
       "      <td>1.000000</td>\n",
       "      <td>-0.016851</td>\n",
       "      <td>0.009642</td>\n",
       "    </tr>\n",
       "    <tr>\n",
       "      <th>offer_value</th>\n",
       "      <td>0.034027</td>\n",
       "      <td>-0.005443</td>\n",
       "      <td>-0.020725</td>\n",
       "      <td>-0.016851</td>\n",
       "      <td>1.000000</td>\n",
       "      <td>-0.044092</td>\n",
       "    </tr>\n",
       "    <tr>\n",
       "      <th>estimated_expenses</th>\n",
       "      <td>-0.008486</td>\n",
       "      <td>0.001770</td>\n",
       "      <td>-0.006115</td>\n",
       "      <td>0.009642</td>\n",
       "      <td>-0.044092</td>\n",
       "      <td>1.000000</td>\n",
       "    </tr>\n",
       "  </tbody>\n",
       "</table>\n",
       "</div>"
      ],
      "text/plain": [
       "                         age  phone_calls    emails    salary  offer_value  \\\n",
       "age                 1.000000     0.021577  0.107425  0.190776     0.034027   \n",
       "phone_calls         0.021577     1.000000  0.319243  0.172205    -0.005443   \n",
       "emails              0.107425     0.319243  1.000000  0.213123    -0.020725   \n",
       "salary              0.190776     0.172205  0.213123  1.000000    -0.016851   \n",
       "offer_value         0.034027    -0.005443 -0.020725 -0.016851     1.000000   \n",
       "estimated_expenses -0.008486     0.001770 -0.006115  0.009642    -0.044092   \n",
       "\n",
       "                    estimated_expenses  \n",
       "age                          -0.008486  \n",
       "phone_calls                   0.001770  \n",
       "emails                       -0.006115  \n",
       "salary                        0.009642  \n",
       "offer_value                  -0.044092  \n",
       "estimated_expenses            1.000000  "
      ]
     },
     "execution_count": 120,
     "metadata": {},
     "output_type": "execute_result"
    }
   ],
   "source": [
    "train_df.corr()"
   ]
  },
  {
   "cell_type": "code",
   "execution_count": 121,
   "metadata": {},
   "outputs": [
    {
     "data": {
      "text/plain": [
       "age                   1.471171e+02\n",
       "phone_calls           1.209160e+00\n",
       "emails                1.087095e+00\n",
       "salary                2.642822e+07\n",
       "offer_value           3.346397e+03\n",
       "estimated_expenses    3.635684e+06\n",
       "dtype: float64"
      ]
     },
     "execution_count": 121,
     "metadata": {},
     "output_type": "execute_result"
    }
   ],
   "source": [
    "train_df.var()"
   ]
  },
  {
   "cell_type": "code",
   "execution_count": 117,
   "metadata": {
    "collapsed": true,
    "jupyter": {
     "outputs_hidden": true,
     "source_hidden": true
    }
   },
   "outputs": [
    {
     "data": {
      "text/plain": [
       "accepted                0\n",
       "offer_class             0\n",
       "gender                  0\n",
       "age                   343\n",
       "phone_calls             2\n",
       "emails                  2\n",
       "customer_code          16\n",
       "salary                  7\n",
       "offer_code              2\n",
       "customer_type           2\n",
       "number                  6\n",
       "offer_value            10\n",
       "estimated_expenses      3\n",
       "center                  2\n",
       "dtype: int64"
      ]
     },
     "execution_count": 117,
     "metadata": {},
     "output_type": "execute_result"
    }
   ],
   "source": [
    "train_df.isnull().sum()"
   ]
  },
  {
   "cell_type": "code",
   "execution_count": 118,
   "metadata": {},
   "outputs": [
    {
     "name": "stdout",
     "output_type": "stream",
     "text": [
      "offer_class            0.000000\n",
      "accepted               0.000000\n",
      "gender                 0.000000\n",
      "age                   31.962762\n",
      "phone_calls            0.232739\n",
      "emails                 0.155159\n",
      "customer_code          1.861908\n",
      "salary                 0.620636\n",
      "offer_code             0.155159\n",
      "customer_type          0.155159\n",
      "number                 0.698216\n",
      "offer_value            0.930954\n",
      "estimated_expenses     0.232739\n",
      "center                 0.232739\n",
      "dtype: float64\n"
     ]
    }
   ],
   "source": [
    "print(df.isnull().sum()/df.shape[0]*100)"
   ]
  },
  {
   "cell_type": "code",
   "execution_count": 113,
   "metadata": {},
   "outputs": [
    {
     "data": {
      "text/plain": [
       "<matplotlib.axes._subplots.AxesSubplot at 0x128007908>"
      ]
     },
     "execution_count": 113,
     "metadata": {},
     "output_type": "execute_result"
    },
    {
     "data": {
      "image/png": "[encoded data removed]",
      "text/plain": [
       "<Figure size 1800x720 with 2 Axes>"
      ]
     },
     "metadata": {
      "needs_background": "light"
     },
     "output_type": "display_data"
    }
   ],
   "source": [
    "msno.matrix(train_df)"
   ]
  },
  {
   "cell_type": "markdown",
   "metadata": {},
   "source": [
    "####  missing values other than in salary <- fancy impute knn. In the end, in the best model i used age, but dividing is as nan and notnan age - assuming that age was given to use only by people who were more interest in our offers"
   ]
  },
  {
   "cell_type": "code",
   "execution_count": 136,
   "metadata": {},
   "outputs": [],
   "source": [
    "# train_df <- looking briefly by eye through whole dataframe"
   ]
  },
  {
   "cell_type": "code",
   "execution_count": 138,
   "metadata": {},
   "outputs": [
    {
     "data": {
      "text/plain": [
       "accepted               object\n",
       "offer_class            object\n",
       "gender                 object\n",
       "age                   float64\n",
       "phone_calls           float64\n",
       "emails                float64\n",
       "customer_code          object\n",
       "salary                float64\n",
       "offer_code             object\n",
       "customer_type          object\n",
       "number                 object\n",
       "offer_value           float64\n",
       "estimated_expenses    float64\n",
       "center                 object\n",
       "dtype: object"
      ]
     },
     "execution_count": 138,
     "metadata": {},
     "output_type": "execute_result"
    }
   ],
   "source": [
    "train_df.dtypes"
   ]
  },
  {
   "cell_type": "code",
   "execution_count": 142,
   "metadata": {},
   "outputs": [],
   "source": [
    "def initial_exploration(\n",
    "        data: str or Path or pd.DataFrame,\n",
    "        sep: str = ',',\n",
    "        output: bool = True,\n",
    "        top_values: int = 5,\n",
    "        desc_stats: bool = True) -> defaultdict:\n",
    "    \"\"\"\n",
    "    Makes an initial exploration of given CSV file or pandas DataFrame.\n",
    "\n",
    "    :param data: the path of data table or already create pandas DataFrame\n",
    "    :param sep: the separator for reading CSV file\n",
    "    :param output: if set to True, function returns the data\n",
    "    :param top_values: number of top values, to get from .value_counts()\n",
    "    :param desc_stats: if set to True, generates descriptive statistics for numeric data\n",
    "    :return: the dictionary with columns statistics\n",
    "    \"\"\"\n",
    "    csv_name = 'DATA'\n",
    "    shape = df.shape\n",
    "\n",
    "    data = defaultdict(list)\n",
    "\n",
    "    statistics = [\n",
    "        'all_values_in_column', 'missing_ratio', 'unique_ratio', 'dtype',\n",
    "        f'top_{top_values}_values', f'top_{top_values}_value_counts'\n",
    "    ]\n",
    "\n",
    "    for column in df.columns:\n",
    "        not_null_count = np.sum(df[column].notnull())\n",
    "        data[column].append(not_null_count)\n",
    "        data[column].append((shape[0] - not_null_count) / shape[0])\n",
    "        data[column].append(df[column].nunique() / not_null_count if not_null_count > 0 else 0)\n",
    "        data[column].append(df[column].dtype.name)\n",
    "\n",
    "        values_counts = df[column].value_counts()\n",
    "        data[column].append(values_counts.index.tolist()[:top_values])\n",
    "        data[column].append(values_counts.values.tolist()[:top_values])\n",
    "\n",
    "    if desc_stats:\n",
    "        statistics += ['count', 'mean', 'std', 'min', '25%', '50%', '75%', 'max', 'sum']\n",
    "        numeric_columns = set(df.select_dtypes(include='number').columns)\n",
    "        descriptive_stats = df.describe()\n",
    "        for column in df.columns:\n",
    "            if column in numeric_columns:\n",
    "                data[column].extend(descriptive_stats[column].tolist() + [df[column].sum()])\n",
    "            else:\n",
    "                data[column].extend(['N/A'] * 9)\n",
    "    data_df = pd.DataFrame.from_dict(data, orient='index', columns=statistics)\n",
    "\n",
    "    return data_df if output else None"
   ]
  },
  {
   "cell_type": "code",
   "execution_count": 143,
   "metadata": {},
   "outputs": [
    {
     "data": {
      "text/html": [
       "<div>\n",
       "<style scoped>\n",
       "    .dataframe tbody tr th:only-of-type {\n",
       "        vertical-align: middle;\n",
       "    }\n",
       "\n",
       "    .dataframe tbody tr th {\n",
       "        vertical-align: top;\n",
       "    }\n",
       "\n",
       "    .dataframe thead th {\n",
       "        text-align: right;\n",
       "    }\n",
       "</style>\n",
       "<table border=\"1\" class=\"dataframe\">\n",
       "  <thead>\n",
       "    <tr style=\"text-align: right;\">\n",
       "      <th></th>\n",
       "      <th>all_values_in_column</th>\n",
       "      <th>missing_ratio</th>\n",
       "      <th>unique_ratio</th>\n",
       "      <th>dtype</th>\n",
       "      <th>top_10_values</th>\n",
       "      <th>top_10_value_counts</th>\n",
       "    </tr>\n",
       "  </thead>\n",
       "  <tbody>\n",
       "    <tr>\n",
       "      <th>offer_class</th>\n",
       "      <td>1289</td>\n",
       "      <td>0.000000</td>\n",
       "      <td>0.002327</td>\n",
       "      <td>object</td>\n",
       "      <td>[Premium, Medium, High]</td>\n",
       "      <td>[695, 322, 272]</td>\n",
       "    </tr>\n",
       "    <tr>\n",
       "      <th>accepted</th>\n",
       "      <td>1289</td>\n",
       "      <td>0.000000</td>\n",
       "      <td>0.001552</td>\n",
       "      <td>object</td>\n",
       "      <td>[no, yes]</td>\n",
       "      <td>[800, 489]</td>\n",
       "    </tr>\n",
       "    <tr>\n",
       "      <th>gender</th>\n",
       "      <td>1289</td>\n",
       "      <td>0.000000</td>\n",
       "      <td>0.001552</td>\n",
       "      <td>object</td>\n",
       "      <td>[male, female]</td>\n",
       "      <td>[831, 458]</td>\n",
       "    </tr>\n",
       "    <tr>\n",
       "      <th>age</th>\n",
       "      <td>877</td>\n",
       "      <td>0.319628</td>\n",
       "      <td>0.082098</td>\n",
       "      <td>float64</td>\n",
       "      <td>[24.0, 21.0, 22.0, 30.0, 18.0, 25.0, 28.0, 36.0, 26.0, 27.0]</td>\n",
       "      <td>[46, 41, 41, 40, 38, 34, 32, 30, 30, 30]</td>\n",
       "    </tr>\n",
       "    <tr>\n",
       "      <th>phone_calls</th>\n",
       "      <td>1286</td>\n",
       "      <td>0.002327</td>\n",
       "      <td>0.005443</td>\n",
       "      <td>float64</td>\n",
       "      <td>[0.0, 1.0, 2.0, 4.0, 3.0, 8.0, 5.0]</td>\n",
       "      <td>[877, 311, 42, 22, 20, 9, 5]</td>\n",
       "    </tr>\n",
       "    <tr>\n",
       "      <th>emails</th>\n",
       "      <td>1287</td>\n",
       "      <td>0.001552</td>\n",
       "      <td>0.007770</td>\n",
       "      <td>float64</td>\n",
       "      <td>[1.0, 0.0, 2.0, 3.0, 4.0, 5.0, 6.0, 7.0, 9.0, 10.0]</td>\n",
       "      <td>[569, 503, 132, 60, 10, 5, 4, 2, 1, 1]</td>\n",
       "    </tr>\n",
       "    <tr>\n",
       "      <th>customer_code</th>\n",
       "      <td>1265</td>\n",
       "      <td>0.018619</td>\n",
       "      <td>0.710672</td>\n",
       "      <td>object</td>\n",
       "      <td>[CA. 2343, 347077, 1601, CA 2144, S.O.C. 14879, PC 17608, 3101295, 347082, 19950, 382652]</td>\n",
       "      <td>[11, 7, 7, 7, 7, 7, 7, 7, 6, 6]</td>\n",
       "    </tr>\n",
       "    <tr>\n",
       "      <th>salary</th>\n",
       "      <td>1281</td>\n",
       "      <td>0.006206</td>\n",
       "      <td>0.219360</td>\n",
       "      <td>float64</td>\n",
       "      <td>[1300.0, 805.0, 775.0, 2600.0, 789.58, 1050.0, 777.5, 722.92, 792.5, 2655.0]</td>\n",
       "      <td>[59, 57, 53, 48, 47, 35, 26, 24, 23, 22]</td>\n",
       "    </tr>\n",
       "    <tr>\n",
       "      <th>offer_code</th>\n",
       "      <td>1287</td>\n",
       "      <td>0.001552</td>\n",
       "      <td>0.855478</td>\n",
       "      <td>object</td>\n",
       "      <td>[0.00E+00, 85, 773, 943, 4FA, 95B, CFD, E57, 12, 5.00E+08]</td>\n",
       "      <td>[5, 4, 4, 3, 3, 3, 3, 3, 3, 3]</td>\n",
       "    </tr>\n",
       "    <tr>\n",
       "      <th>customer_type</th>\n",
       "      <td>1287</td>\n",
       "      <td>0.001552</td>\n",
       "      <td>0.002331</td>\n",
       "      <td>object</td>\n",
       "      <td>[S, C, Q]</td>\n",
       "      <td>[899, 268, 120]</td>\n",
       "    </tr>\n",
       "    <tr>\n",
       "      <th>number</th>\n",
       "      <td>1280</td>\n",
       "      <td>0.006982</td>\n",
       "      <td>0.999219</td>\n",
       "      <td>object</td>\n",
       "      <td>[C8A9B, E87A8, 5B6B5, E953E, C17B6, 702B4, 64FC2, 42F18, EA72F, E9B1B]</td>\n",
       "      <td>[2, 1, 1, 1, 1, 1, 1, 1, 1, 1]</td>\n",
       "    </tr>\n",
       "    <tr>\n",
       "      <th>offer_value</th>\n",
       "      <td>1277</td>\n",
       "      <td>0.009310</td>\n",
       "      <td>1.000000</td>\n",
       "      <td>float64</td>\n",
       "      <td>[253.8709924, 68.03075619, 168.9692802, 123.1006253, 150.6870563, 56.00277543, 115.9208125, 88.35135458, 123.29055509999999, 116.55121000000001]</td>\n",
       "      <td>[1, 1, 1, 1, 1, 1, 1, 1, 1, 1]</td>\n",
       "    </tr>\n",
       "    <tr>\n",
       "      <th>estimated_expenses</th>\n",
       "      <td>1286</td>\n",
       "      <td>0.002327</td>\n",
       "      <td>0.921462</td>\n",
       "      <td>float64</td>\n",
       "      <td>[4238.0, 5847.0, 2160.0, 2357.0, 5900.0, 1852.0, 3691.0, 4226.0, 4405.0, 3523.0]</td>\n",
       "      <td>[3, 3, 3, 3, 3, 2, 2, 2, 2, 2]</td>\n",
       "    </tr>\n",
       "    <tr>\n",
       "      <th>center</th>\n",
       "      <td>1286</td>\n",
       "      <td>0.002327</td>\n",
       "      <td>0.001555</td>\n",
       "      <td>object</td>\n",
       "      <td>[B, A]</td>\n",
       "      <td>[697, 589]</td>\n",
       "    </tr>\n",
       "  </tbody>\n",
       "</table>\n",
       "</div>"
      ],
      "text/plain": [
       "                    all_values_in_column  missing_ratio  unique_ratio  \\\n",
       "offer_class                         1289       0.000000      0.002327   \n",
       "accepted                            1289       0.000000      0.001552   \n",
       "gender                              1289       0.000000      0.001552   \n",
       "age                                  877       0.319628      0.082098   \n",
       "phone_calls                         1286       0.002327      0.005443   \n",
       "emails                              1287       0.001552      0.007770   \n",
       "customer_code                       1265       0.018619      0.710672   \n",
       "salary                              1281       0.006206      0.219360   \n",
       "offer_code                          1287       0.001552      0.855478   \n",
       "customer_type                       1287       0.001552      0.002331   \n",
       "number                              1280       0.006982      0.999219   \n",
       "offer_value                         1277       0.009310      1.000000   \n",
       "estimated_expenses                  1286       0.002327      0.921462   \n",
       "center                              1286       0.002327      0.001555   \n",
       "\n",
       "                      dtype  \\\n",
       "offer_class          object   \n",
       "accepted             object   \n",
       "gender               object   \n",
       "age                 float64   \n",
       "phone_calls         float64   \n",
       "emails              float64   \n",
       "customer_code        object   \n",
       "salary              float64   \n",
       "offer_code           object   \n",
       "customer_type        object   \n",
       "number               object   \n",
       "offer_value         float64   \n",
       "estimated_expenses  float64   \n",
       "center               object   \n",
       "\n",
       "                                                                                                                                                       top_10_values  \\\n",
       "offer_class                                                                                                                                  [Premium, Medium, High]   \n",
       "accepted                                                                                                                                                   [no, yes]   \n",
       "gender                                                                                                                                                [male, female]   \n",
       "age                                                                                                     [24.0, 21.0, 22.0, 30.0, 18.0, 25.0, 28.0, 36.0, 26.0, 27.0]   \n",
       "phone_calls                                                                                                                      [0.0, 1.0, 2.0, 4.0, 3.0, 8.0, 5.0]   \n",
       "emails                                                                                                           [1.0, 0.0, 2.0, 3.0, 4.0, 5.0, 6.0, 7.0, 9.0, 10.0]   \n",
       "customer_code                                                              [CA. 2343, 347077, 1601, CA 2144, S.O.C. 14879, PC 17608, 3101295, 347082, 19950, 382652]   \n",
       "salary                                                                                  [1300.0, 805.0, 775.0, 2600.0, 789.58, 1050.0, 777.5, 722.92, 792.5, 2655.0]   \n",
       "offer_code                                                                                                [0.00E+00, 85, 773, 943, 4FA, 95B, CFD, E57, 12, 5.00E+08]   \n",
       "customer_type                                                                                                                                              [S, C, Q]   \n",
       "number                                                                                        [C8A9B, E87A8, 5B6B5, E953E, C17B6, 702B4, 64FC2, 42F18, EA72F, E9B1B]   \n",
       "offer_value         [253.8709924, 68.03075619, 168.9692802, 123.1006253, 150.6870563, 56.00277543, 115.9208125, 88.35135458, 123.29055509999999, 116.55121000000001]   \n",
       "estimated_expenses                                                                  [4238.0, 5847.0, 2160.0, 2357.0, 5900.0, 1852.0, 3691.0, 4226.0, 4405.0, 3523.0]   \n",
       "center                                                                                                                                                        [B, A]   \n",
       "\n",
       "                                         top_10_value_counts  \n",
       "offer_class                                  [695, 322, 272]  \n",
       "accepted                                          [800, 489]  \n",
       "gender                                            [831, 458]  \n",
       "age                 [46, 41, 41, 40, 38, 34, 32, 30, 30, 30]  \n",
       "phone_calls                     [877, 311, 42, 22, 20, 9, 5]  \n",
       "emails                [569, 503, 132, 60, 10, 5, 4, 2, 1, 1]  \n",
       "customer_code                [11, 7, 7, 7, 7, 7, 7, 7, 6, 6]  \n",
       "salary              [59, 57, 53, 48, 47, 35, 26, 24, 23, 22]  \n",
       "offer_code                    [5, 4, 4, 3, 3, 3, 3, 3, 3, 3]  \n",
       "customer_type                                [899, 268, 120]  \n",
       "number                        [2, 1, 1, 1, 1, 1, 1, 1, 1, 1]  \n",
       "offer_value                   [1, 1, 1, 1, 1, 1, 1, 1, 1, 1]  \n",
       "estimated_expenses            [3, 3, 3, 3, 3, 2, 2, 2, 2, 2]  \n",
       "center                                            [697, 589]  "
      ]
     },
     "execution_count": 143,
     "metadata": {},
     "output_type": "execute_result"
    }
   ],
   "source": [
    "initial_exploration(train_df, desc_stats=False, top_values=10)"
   ]
  },
  {
   "cell_type": "code",
   "execution_count": 216,
   "metadata": {},
   "outputs": [
    {
     "name": "stdout",
     "output_type": "stream",
     "text": [
      "accepted: 2\n",
      "offer_class: 3\n",
      "gender: 2\n",
      "age: 65\n",
      "phone_calls: 7\n",
      "emails: 9\n",
      "customer_code: 752\n",
      "salary: 259\n",
      "offer_code: 901\n",
      "customer_type: 3\n",
      "number: 1026\n",
      "offer_value: 1021\n",
      "estimated_expenses: 959\n",
      "center: 2\n",
      "salary_: 260\n",
      "cat_emails: 6\n",
      "cat_phone_calls: 5\n"
     ]
    }
   ],
   "source": [
    "for column in train_df.columns:\n",
    "    print(column+': '+str(train_df[column].nunique()))"
   ]
  },
  {
   "cell_type": "code",
   "execution_count": 217,
   "metadata": {},
   "outputs": [
    {
     "data": {
      "text/plain": [
       "(1031, 17)"
      ]
     },
     "execution_count": 217,
     "metadata": {},
     "output_type": "execute_result"
    }
   ],
   "source": [
    "train_df.shape"
   ]
  },
  {
   "cell_type": "markdown",
   "metadata": {},
   "source": [
    "#### missing values in number may gave us information that some customers doesnt have device (so they won't accept next offer anyway)"
   ]
  },
  {
   "cell_type": "code",
   "execution_count": 187,
   "metadata": {},
   "outputs": [
    {
     "data": {
      "text/html": [
       "<div>\n",
       "<style scoped>\n",
       "    .dataframe tbody tr th:only-of-type {\n",
       "        vertical-align: middle;\n",
       "    }\n",
       "\n",
       "    .dataframe tbody tr th {\n",
       "        vertical-align: top;\n",
       "    }\n",
       "\n",
       "    .dataframe thead th {\n",
       "        text-align: right;\n",
       "    }\n",
       "</style>\n",
       "<table border=\"1\" class=\"dataframe\">\n",
       "  <thead>\n",
       "    <tr style=\"text-align: right;\">\n",
       "      <th></th>\n",
       "      <th>accepted</th>\n",
       "      <th>offer_class</th>\n",
       "      <th>gender</th>\n",
       "      <th>age</th>\n",
       "      <th>phone_calls</th>\n",
       "      <th>emails</th>\n",
       "      <th>customer_code</th>\n",
       "      <th>salary</th>\n",
       "      <th>offer_code</th>\n",
       "      <th>customer_type</th>\n",
       "      <th>number</th>\n",
       "      <th>offer_value</th>\n",
       "      <th>estimated_expenses</th>\n",
       "      <th>center</th>\n",
       "      <th>salary_</th>\n",
       "    </tr>\n",
       "    <tr>\n",
       "      <th>name</th>\n",
       "      <th></th>\n",
       "      <th></th>\n",
       "      <th></th>\n",
       "      <th></th>\n",
       "      <th></th>\n",
       "      <th></th>\n",
       "      <th></th>\n",
       "      <th></th>\n",
       "      <th></th>\n",
       "      <th></th>\n",
       "      <th></th>\n",
       "      <th></th>\n",
       "      <th></th>\n",
       "      <th></th>\n",
       "      <th></th>\n",
       "    </tr>\n",
       "  </thead>\n",
       "  <tbody>\n",
       "    <tr>\n",
       "      <th>939BA02CE9B144D</th>\n",
       "      <td>no</td>\n",
       "      <td>High</td>\n",
       "      <td>male</td>\n",
       "      <td>50.0</td>\n",
       "      <td>1.0</td>\n",
       "      <td>1.0</td>\n",
       "      <td>SC/AH 3085</td>\n",
       "      <td>2600.00</td>\n",
       "      <td>866</td>\n",
       "      <td>S</td>\n",
       "      <td>NaN</td>\n",
       "      <td>85.502666</td>\n",
       "      <td>1641.0</td>\n",
       "      <td>B</td>\n",
       "      <td>2600.00</td>\n",
       "    </tr>\n",
       "    <tr>\n",
       "      <th>EB277CCF1471460</th>\n",
       "      <td>yes</td>\n",
       "      <td>Medium</td>\n",
       "      <td>female</td>\n",
       "      <td>33.0</td>\n",
       "      <td>1.0</td>\n",
       "      <td>1.0</td>\n",
       "      <td>113806</td>\n",
       "      <td>5310.00</td>\n",
       "      <td>975</td>\n",
       "      <td>S</td>\n",
       "      <td>NaN</td>\n",
       "      <td>86.180429</td>\n",
       "      <td>2192.0</td>\n",
       "      <td>A</td>\n",
       "      <td>5310.00</td>\n",
       "    </tr>\n",
       "    <tr>\n",
       "      <th>D0C00974D2EA4FF</th>\n",
       "      <td>no</td>\n",
       "      <td>Premium</td>\n",
       "      <td>male</td>\n",
       "      <td>NaN</td>\n",
       "      <td>3.0</td>\n",
       "      <td>1.0</td>\n",
       "      <td>349909</td>\n",
       "      <td>2107.50</td>\n",
       "      <td>BBD</td>\n",
       "      <td>S</td>\n",
       "      <td>NaN</td>\n",
       "      <td>99.017300</td>\n",
       "      <td>6179.0</td>\n",
       "      <td>B</td>\n",
       "      <td>2107.50</td>\n",
       "    </tr>\n",
       "    <tr>\n",
       "      <th>5DE6925AF148499</th>\n",
       "      <td>no</td>\n",
       "      <td>Premium</td>\n",
       "      <td>male</td>\n",
       "      <td>NaN</td>\n",
       "      <td>0.0</td>\n",
       "      <td>1.0</td>\n",
       "      <td>2624</td>\n",
       "      <td>722.50</td>\n",
       "      <td>4FA</td>\n",
       "      <td>C</td>\n",
       "      <td>NaN</td>\n",
       "      <td>64.267428</td>\n",
       "      <td>7705.0</td>\n",
       "      <td>A</td>\n",
       "      <td>722.50</td>\n",
       "    </tr>\n",
       "    <tr>\n",
       "      <th>F1E0937D8B88439</th>\n",
       "      <td>yes</td>\n",
       "      <td>Medium</td>\n",
       "      <td>female</td>\n",
       "      <td>50.0</td>\n",
       "      <td>0.0</td>\n",
       "      <td>2.0</td>\n",
       "      <td>PC 17558</td>\n",
       "      <td>24752.08</td>\n",
       "      <td>660</td>\n",
       "      <td>C</td>\n",
       "      <td>NaN</td>\n",
       "      <td>203.472922</td>\n",
       "      <td>5285.0</td>\n",
       "      <td>A</td>\n",
       "      <td>24752.08</td>\n",
       "    </tr>\n",
       "    <tr>\n",
       "      <th>9365B174479F421</th>\n",
       "      <td>no</td>\n",
       "      <td>High</td>\n",
       "      <td>male</td>\n",
       "      <td>23.0</td>\n",
       "      <td>2.0</td>\n",
       "      <td>2.0</td>\n",
       "      <td>29104</td>\n",
       "      <td>1150.00</td>\n",
       "      <td>C1F</td>\n",
       "      <td>S</td>\n",
       "      <td>NaN</td>\n",
       "      <td>71.464702</td>\n",
       "      <td>3560.0</td>\n",
       "      <td>B</td>\n",
       "      <td>1150.00</td>\n",
       "    </tr>\n",
       "  </tbody>\n",
       "</table>\n",
       "</div>"
      ],
      "text/plain": [
       "                accepted offer_class  gender   age  phone_calls  emails  \\\n",
       "name                                                                      \n",
       "939BA02CE9B144D       no        High    male  50.0          1.0     1.0   \n",
       "EB277CCF1471460      yes      Medium  female  33.0          1.0     1.0   \n",
       "D0C00974D2EA4FF       no     Premium    male   NaN          3.0     1.0   \n",
       "5DE6925AF148499       no     Premium    male   NaN          0.0     1.0   \n",
       "F1E0937D8B88439      yes      Medium  female  50.0          0.0     2.0   \n",
       "9365B174479F421       no        High    male  23.0          2.0     2.0   \n",
       "\n",
       "                customer_code    salary offer_code customer_type number  \\\n",
       "name                                                                      \n",
       "939BA02CE9B144D    SC/AH 3085   2600.00        866             S    NaN   \n",
       "EB277CCF1471460        113806   5310.00        975             S    NaN   \n",
       "D0C00974D2EA4FF        349909   2107.50        BBD             S    NaN   \n",
       "5DE6925AF148499          2624    722.50        4FA             C    NaN   \n",
       "F1E0937D8B88439      PC 17558  24752.08        660             C    NaN   \n",
       "9365B174479F421         29104   1150.00        C1F             S    NaN   \n",
       "\n",
       "                 offer_value  estimated_expenses center   salary_  \n",
       "name                                                               \n",
       "939BA02CE9B144D    85.502666              1641.0      B   2600.00  \n",
       "EB277CCF1471460    86.180429              2192.0      A   5310.00  \n",
       "D0C00974D2EA4FF    99.017300              6179.0      B   2107.50  \n",
       "5DE6925AF148499    64.267428              7705.0      A    722.50  \n",
       "F1E0937D8B88439   203.472922              5285.0      A  24752.08  \n",
       "9365B174479F421    71.464702              3560.0      B   1150.00  "
      ]
     },
     "execution_count": 187,
     "metadata": {},
     "output_type": "execute_result"
    }
   ],
   "source": [
    "train_df[train_df['number'].isna()]"
   ]
  },
  {
   "cell_type": "markdown",
   "metadata": {},
   "source": [
    "#### some accepted <- anyway i didnt use this column during modelling"
   ]
  },
  {
   "cell_type": "code",
   "execution_count": 166,
   "metadata": {},
   "outputs": [
    {
     "data": {
      "text/plain": [
       "name\n",
       "BFAEC8F911F841B     3101278\n",
       "2D7B8459CBD2414    PC 17611\n",
       "A14D00E1FEBF433        3701\n",
       "487662632F6B484      113789\n",
       "EF319AAD8691472      113776\n",
       "CCF5A463D3BC472       14313\n",
       "DAF778DD00F8407       13214\n",
       "Name: customer_code, dtype: object"
      ]
     },
     "execution_count": 166,
     "metadata": {},
     "output_type": "execute_result"
    }
   ],
   "source": [
    "train_df[train_df['salary'].isna()]['customer_code']"
   ]
  },
  {
   "cell_type": "code",
   "execution_count": 159,
   "metadata": {},
   "outputs": [],
   "source": [
    "train_df['salary_'] = train_df['salary']\n",
    "train_df.loc[train_df['salary_'].isna(), 'salary_'] = 0.0001"
   ]
  },
  {
   "cell_type": "code",
   "execution_count": 167,
   "metadata": {},
   "outputs": [],
   "source": [
    "cc_salaries = train_df[['customer_code', 'salary_']].groupby(['customer_code', 'salary_']).size().reset_index().rename(columns={0: 'size'})"
   ]
  },
  {
   "cell_type": "code",
   "execution_count": 168,
   "metadata": {},
   "outputs": [
    {
     "data": {
      "text/plain": [
       "756"
      ]
     },
     "execution_count": 168,
     "metadata": {},
     "output_type": "execute_result"
    }
   ],
   "source": [
    "len(cc_salaries)"
   ]
  },
  {
   "cell_type": "code",
   "execution_count": 170,
   "metadata": {},
   "outputs": [
    {
     "data": {
      "text/plain": [
       "751"
      ]
     },
     "execution_count": 170,
     "metadata": {},
     "output_type": "execute_result"
    }
   ],
   "source": [
    "cc_salaries['customer_code'].nunique()"
   ]
  },
  {
   "cell_type": "code",
   "execution_count": 176,
   "metadata": {},
   "outputs": [
    {
     "data": {
      "text/html": [
       "<div>\n",
       "<style scoped>\n",
       "    .dataframe tbody tr th:only-of-type {\n",
       "        vertical-align: middle;\n",
       "    }\n",
       "\n",
       "    .dataframe tbody tr th {\n",
       "        vertical-align: top;\n",
       "    }\n",
       "\n",
       "    .dataframe thead th {\n",
       "        text-align: right;\n",
       "    }\n",
       "</style>\n",
       "<table border=\"1\" class=\"dataframe\">\n",
       "  <thead>\n",
       "    <tr style=\"text-align: right;\">\n",
       "      <th></th>\n",
       "      <th>customer_code</th>\n",
       "      <th>salary_</th>\n",
       "      <th>size</th>\n",
       "    </tr>\n",
       "  </thead>\n",
       "  <tbody>\n",
       "    <tr>\n",
       "      <th>33</th>\n",
       "      <td>113776</td>\n",
       "      <td>0.0001</td>\n",
       "      <td>1</td>\n",
       "    </tr>\n",
       "    <tr>\n",
       "      <th>34</th>\n",
       "      <td>113776</td>\n",
       "      <td>6660.0000</td>\n",
       "      <td>1</td>\n",
       "    </tr>\n",
       "    <tr>\n",
       "      <th>42</th>\n",
       "      <td>113789</td>\n",
       "      <td>0.0001</td>\n",
       "      <td>1</td>\n",
       "    </tr>\n",
       "    <tr>\n",
       "      <th>43</th>\n",
       "      <td>113789</td>\n",
       "      <td>5200.0000</td>\n",
       "      <td>1</td>\n",
       "    </tr>\n",
       "    <tr>\n",
       "      <th>277</th>\n",
       "      <td>3101278</td>\n",
       "      <td>0.0001</td>\n",
       "      <td>1</td>\n",
       "    </tr>\n",
       "    <tr>\n",
       "      <th>278</th>\n",
       "      <td>3101278</td>\n",
       "      <td>1585.0000</td>\n",
       "      <td>1</td>\n",
       "    </tr>\n",
       "    <tr>\n",
       "      <th>571</th>\n",
       "      <td>7534</td>\n",
       "      <td>921.6700</td>\n",
       "      <td>1</td>\n",
       "    </tr>\n",
       "    <tr>\n",
       "      <th>572</th>\n",
       "      <td>7534</td>\n",
       "      <td>984.5800</td>\n",
       "      <td>1</td>\n",
       "    </tr>\n",
       "    <tr>\n",
       "      <th>679</th>\n",
       "      <td>PC 17611</td>\n",
       "      <td>0.0001</td>\n",
       "      <td>1</td>\n",
       "    </tr>\n",
       "    <tr>\n",
       "      <th>680</th>\n",
       "      <td>PC 17611</td>\n",
       "      <td>13365.0000</td>\n",
       "      <td>1</td>\n",
       "    </tr>\n",
       "  </tbody>\n",
       "</table>\n",
       "</div>"
      ],
      "text/plain": [
       "    customer_code     salary_  size\n",
       "33         113776      0.0001     1\n",
       "34         113776   6660.0000     1\n",
       "42         113789      0.0001     1\n",
       "43         113789   5200.0000     1\n",
       "277       3101278      0.0001     1\n",
       "278       3101278   1585.0000     1\n",
       "571          7534    921.6700     1\n",
       "572          7534    984.5800     1\n",
       "679      PC 17611      0.0001     1\n",
       "680      PC 17611  13365.0000     1"
      ]
     },
     "execution_count": 176,
     "metadata": {},
     "output_type": "execute_result"
    }
   ],
   "source": [
    "cc_salaries[cc_salaries.duplicated(subset=['customer_code'], keep=False)]"
   ]
  },
  {
   "cell_type": "markdown",
   "metadata": {},
   "source": [
    "#### filled nans in salary by customer code, those are not much cases, because there are lot of cases\n",
    "#### when people with exact same cc have the same salary, and only one case when there was different"
   ]
  },
  {
   "cell_type": "markdown",
   "metadata": {},
   "source": [
    "#### i looked through number, customer_code and offer_code to see if i can engineer something out of it (again, i was mainly looking at response ratio in train set)"
   ]
  },
  {
   "cell_type": "code",
   "execution_count": 182,
   "metadata": {},
   "outputs": [],
   "source": [
    "# train_df['number']"
   ]
  },
  {
   "cell_type": "code",
   "execution_count": 183,
   "metadata": {},
   "outputs": [],
   "source": [
    "# train_df['customer_code']"
   ]
  },
  {
   "cell_type": "code",
   "execution_count": 184,
   "metadata": {},
   "outputs": [],
   "source": [
    "# train_df['offer_code']"
   ]
  },
  {
   "cell_type": "markdown",
   "metadata": {},
   "source": [
    "#### emails and phone_calls columns - dealing with these columns / (without dividing process onto parts - missing, outliers etc)"
   ]
  },
  {
   "cell_type": "markdown",
   "metadata": {},
   "source": [
    "#### emails"
   ]
  },
  {
   "cell_type": "code",
   "execution_count": 188,
   "metadata": {},
   "outputs": [
    {
     "data": {
      "text/plain": [
       "0.9271137026239067"
      ]
     },
     "execution_count": 188,
     "metadata": {},
     "output_type": "execute_result"
    }
   ],
   "source": [
    "train_df['emails'].mean()"
   ]
  },
  {
   "cell_type": "code",
   "execution_count": 189,
   "metadata": {},
   "outputs": [
    {
     "data": {
      "text/plain": [
       "1.0"
      ]
     },
     "execution_count": 189,
     "metadata": {},
     "output_type": "execute_result"
    }
   ],
   "source": [
    "round(train_df['emails'].mean())"
   ]
  },
  {
   "cell_type": "code",
   "execution_count": 190,
   "metadata": {},
   "outputs": [],
   "source": [
    "train_df['cat_emails'] = train_df['emails']"
   ]
  },
  {
   "cell_type": "code",
   "execution_count": 191,
   "metadata": {},
   "outputs": [],
   "source": [
    "train_df.loc[train_df['cat_emails'].isna(), 'cat_emails'] = round(train_df['emails'].mean())"
   ]
  },
  {
   "cell_type": "code",
   "execution_count": 192,
   "metadata": {},
   "outputs": [
    {
     "data": {
      "text/plain": [
       "no     11\n",
       "yes     1\n",
       "Name: accepted, dtype: int64"
      ]
     },
     "execution_count": 192,
     "metadata": {},
     "output_type": "execute_result"
    }
   ],
   "source": [
    "train_df[train_df['emails']>4]['accepted'].value_counts()"
   ]
  },
  {
   "cell_type": "code",
   "execution_count": 193,
   "metadata": {},
   "outputs": [],
   "source": [
    "train_df.loc[train_df['cat_emails'] > 4, 'cat_emails'] = 5"
   ]
  },
  {
   "cell_type": "code",
   "execution_count": 194,
   "metadata": {},
   "outputs": [],
   "source": [
    "train_df['cat_emails'] = train_df['cat_emails'].astype(object)"
   ]
  },
  {
   "cell_type": "markdown",
   "metadata": {},
   "source": [
    "#### phone_calls"
   ]
  },
  {
   "cell_type": "code",
   "execution_count": 195,
   "metadata": {},
   "outputs": [
    {
     "data": {
      "text/plain": [
       "0.5150631681243926"
      ]
     },
     "execution_count": 195,
     "metadata": {},
     "output_type": "execute_result"
    }
   ],
   "source": [
    "train_df['phone_calls'].mean()"
   ]
  },
  {
   "cell_type": "code",
   "execution_count": 196,
   "metadata": {},
   "outputs": [
    {
     "data": {
      "text/plain": [
       "1.0"
      ]
     },
     "execution_count": 196,
     "metadata": {},
     "output_type": "execute_result"
    }
   ],
   "source": [
    "round(train_df['phone_calls'].mean())"
   ]
  },
  {
   "cell_type": "code",
   "execution_count": 197,
   "metadata": {},
   "outputs": [],
   "source": [
    "train_df['cat_phone_calls'] = train_df['phone_calls']"
   ]
  },
  {
   "cell_type": "code",
   "execution_count": 198,
   "metadata": {},
   "outputs": [],
   "source": [
    "train_df.loc[train_df['cat_phone_calls'].isna(), 'cat_phone_calls'] = round(train_df['phone_calls'].mean())"
   ]
  },
  {
   "cell_type": "code",
   "execution_count": 199,
   "metadata": {},
   "outputs": [
    {
     "data": {
      "text/plain": [
       "no     30\n",
       "yes     2\n",
       "Name: accepted, dtype: int64"
      ]
     },
     "execution_count": 199,
     "metadata": {},
     "output_type": "execute_result"
    }
   ],
   "source": [
    "train_df[train_df['phone_calls']>3]['accepted'].value_counts()"
   ]
  },
  {
   "cell_type": "code",
   "execution_count": 200,
   "metadata": {},
   "outputs": [],
   "source": [
    "train_df.loc[train_df['cat_phone_calls'] > 3, 'cat_phone_calls'] = 4"
   ]
  },
  {
   "cell_type": "code",
   "execution_count": 201,
   "metadata": {},
   "outputs": [],
   "source": [
    "train_df['cat_phone_calls'] = train_df['cat_phone_calls'].astype(object)"
   ]
  },
  {
   "cell_type": "code",
   "execution_count": 204,
   "metadata": {},
   "outputs": [],
   "source": [
    "train_df.loc[train_df['customer_code'].isna(), 'customer_code'] = 'missing'"
   ]
  },
  {
   "cell_type": "code",
   "execution_count": 206,
   "metadata": {},
   "outputs": [
    {
     "data": {
      "text/plain": [
       "no     24\n",
       "yes     2\n",
       "Name: accepted, dtype: int64"
      ]
     },
     "execution_count": 206,
     "metadata": {},
     "output_type": "execute_result"
    }
   ],
   "source": [
    "train_df[train_df['customer_code'].str.startswith('A')]['accepted'].value_counts()"
   ]
  },
  {
   "cell_type": "code",
   "execution_count": 207,
   "metadata": {},
   "outputs": [
    {
     "data": {
      "text/plain": [
       "yes    50\n",
       "no     23\n",
       "Name: accepted, dtype: int64"
      ]
     },
     "execution_count": 207,
     "metadata": {},
     "output_type": "execute_result"
    }
   ],
   "source": [
    "train_df[train_df['customer_code'].str.startswith('P')]['accepted'].value_counts()"
   ]
  },
  {
   "cell_type": "code",
   "execution_count": 208,
   "metadata": {},
   "outputs": [
    {
     "data": {
      "text/plain": [
       "no     40\n",
       "yes    19\n",
       "Name: accepted, dtype: int64"
      ]
     },
     "execution_count": 208,
     "metadata": {},
     "output_type": "execute_result"
    }
   ],
   "source": [
    "train_df[train_df['customer_code'].str.startswith('C')]['accepted'].value_counts()"
   ]
  },
  {
   "cell_type": "code",
   "execution_count": 209,
   "metadata": {},
   "outputs": [
    {
     "data": {
      "text/plain": [
       "yes    90\n",
       "no     57\n",
       "Name: accepted, dtype: int64"
      ]
     },
     "execution_count": 209,
     "metadata": {},
     "output_type": "execute_result"
    }
   ],
   "source": [
    "train_df[train_df['customer_code'].str.len() == 5]['accepted'].value_counts()"
   ]
  },
  {
   "cell_type": "code",
   "execution_count": 210,
   "metadata": {},
   "outputs": [
    {
     "data": {
      "text/plain": [
       "yes    49\n",
       "no     39\n",
       "Name: accepted, dtype: int64"
      ]
     },
     "execution_count": 210,
     "metadata": {},
     "output_type": "execute_result"
    }
   ],
   "source": [
    "train_df[train_df['customer_code'].str.len() == 8]['accepted'].value_counts()"
   ]
  },
  {
   "cell_type": "code",
   "execution_count": 212,
   "metadata": {},
   "outputs": [],
   "source": [
    "train_df['number'].fillna('number_missing', inplace=True)"
   ]
  },
  {
   "cell_type": "code",
   "execution_count": 213,
   "metadata": {},
   "outputs": [],
   "source": [
    "train_df['offer_code'].fillna('offer_code_missing', inplace=True)"
   ]
  },
  {
   "cell_type": "code",
   "execution_count": 214,
   "metadata": {},
   "outputs": [
    {
     "data": {
      "image/png": "[encoded data removed]",
      "text/plain": [
       "<Figure size 432x432 with 1 Axes>"
      ]
     },
     "metadata": {
      "needs_background": "light"
     },
     "output_type": "display_data"
    },
    {
     "data": {
      "image/png": "[encoded data removed]",
      "text/plain": [
       "<Figure size 432x432 with 1 Axes>"
      ]
     },
     "metadata": {
      "needs_background": "light"
     },
     "output_type": "display_data"
    },
    {
     "data": {
      "image/png": "[encoded data removed]",
      "text/plain": [
       "<Figure size 432x432 with 1 Axes>"
      ]
     },
     "metadata": {
      "needs_background": "light"
     },
     "output_type": "display_data"
    },
    {
     "data": {
      "image/png": "[encoded data removed]",
      "text/plain": [
       "<Figure size 432x432 with 1 Axes>"
      ]
     },
     "metadata": {
      "needs_background": "light"
     },
     "output_type": "display_data"
    },
    {
     "data": {
      "image/png": "[encoded data removed]",
      "text/plain": [
       "<Figure size 432x432 with 1 Axes>"
      ]
     },
     "metadata": {
      "needs_background": "light"
     },
     "output_type": "display_data"
    },
    {
     "data": {
      "image/png": "[encoded data removed]",
      "text/plain": [
       "<Figure size 432x432 with 1 Axes>"
      ]
     },
     "metadata": {
      "needs_background": "light"
     },
     "output_type": "display_data"
    },
    {
     "data": {
      "image/png": "[encoded data removed]",
      "text/plain": [
       "<Figure size 432x432 with 1 Axes>"
      ]
     },
     "metadata": {
      "needs_background": "light"
     },
     "output_type": "display_data"
    }
   ],
   "source": [
    "figsize=(6,6)\n",
    "for column in train_df.columns:\n",
    "    if train_df[column].dtype != object:\n",
    "        train_df.boxplot(column=column, figsize=figsize)\n",
    "        plt.show() #boxplots in plotly to get more information out of them?"
   ]
  },
  {
   "cell_type": "markdown",
   "metadata": {},
   "source": [
    "#### Decision Trees are no sensitive to outliers - so I knew that they exist but i didnt even drop them"
   ]
  },
  {
   "cell_type": "markdown",
   "metadata": {},
   "source": [
    "##### before refactoring i did a lot things like \"do this this and this with these column\" (ex. take only cc which starts with A) and check the response ratio if is somehow different than usual"
   ]
  },
  {
   "cell_type": "code",
   "execution_count": 215,
   "metadata": {},
   "outputs": [
    {
     "data": {
      "text/plain": [
       "no     8\n",
       "yes    2\n",
       "Name: accepted, dtype: int64"
      ]
     },
     "execution_count": 215,
     "metadata": {},
     "output_type": "execute_result"
    }
   ],
   "source": [
    "train_df[train_df['offer_value'].isna()]['accepted'].value_counts()"
   ]
  },
  {
   "cell_type": "code",
   "execution_count": 219,
   "metadata": {},
   "outputs": [],
   "source": [
    "def is_number(s):\n",
    "    try:\n",
    "        float(s)\n",
    "        return True\n",
    "    except ValueError:\n",
    "        return False"
   ]
  },
  {
   "cell_type": "code",
   "execution_count": 220,
   "metadata": {},
   "outputs": [
    {
     "data": {
      "text/plain": [
       "no     155\n",
       "yes     95\n",
       "Name: accepted, dtype: int64"
      ]
     },
     "execution_count": 220,
     "metadata": {},
     "output_type": "execute_result"
    }
   ],
   "source": [
    "train_df[train_df['offer_code'].apply(is_number)]['accepted'].value_counts()"
   ]
  },
  {
   "cell_type": "code",
   "execution_count": 221,
   "metadata": {},
   "outputs": [
    {
     "data": {
      "text/plain": [
       "no     485\n",
       "yes    296\n",
       "Name: accepted, dtype: int64"
      ]
     },
     "execution_count": 221,
     "metadata": {},
     "output_type": "execute_result"
    }
   ],
   "source": [
    "train_df[~train_df['offer_code'].apply(is_number)]['accepted'].value_counts()"
   ]
  },
  {
   "cell_type": "code",
   "execution_count": 177,
   "metadata": {},
   "outputs": [],
   "source": [
    "#############################"
   ]
  },
  {
   "cell_type": "code",
   "execution_count": 178,
   "metadata": {},
   "outputs": [],
   "source": [
    "#############################"
   ]
  },
  {
   "cell_type": "code",
   "execution_count": 179,
   "metadata": {},
   "outputs": [],
   "source": [
    "#############################"
   ]
  },
  {
   "cell_type": "markdown",
   "metadata": {},
   "source": [
    "#### presentation part, done after modelling"
   ]
  },
  {
   "cell_type": "code",
   "execution_count": 16,
   "metadata": {},
   "outputs": [],
   "source": [
    "gender_insight = df[['accepted', 'gender']].groupby(['gender', 'accepted']).size().reset_index().rename(columns={0:'size'})"
   ]
  },
  {
   "cell_type": "code",
   "execution_count": 21,
   "metadata": {},
   "outputs": [
    {
     "data": {
      "text/html": [
       "<div>\n",
       "<style scoped>\n",
       "    .dataframe tbody tr th:only-of-type {\n",
       "        vertical-align: middle;\n",
       "    }\n",
       "\n",
       "    .dataframe tbody tr th {\n",
       "        vertical-align: top;\n",
       "    }\n",
       "\n",
       "    .dataframe thead th {\n",
       "        text-align: right;\n",
       "    }\n",
       "</style>\n",
       "<table border=\"1\" class=\"dataframe\">\n",
       "  <thead>\n",
       "    <tr style=\"text-align: right;\">\n",
       "      <th></th>\n",
       "      <th>gender</th>\n",
       "      <th>accepted</th>\n",
       "      <th>size</th>\n",
       "    </tr>\n",
       "  </thead>\n",
       "  <tbody>\n",
       "    <tr>\n",
       "      <th>0</th>\n",
       "      <td>female</td>\n",
       "      <td>no</td>\n",
       "      <td>127</td>\n",
       "    </tr>\n",
       "    <tr>\n",
       "      <th>1</th>\n",
       "      <td>female</td>\n",
       "      <td>yes</td>\n",
       "      <td>331</td>\n",
       "    </tr>\n",
       "  </tbody>\n",
       "</table>\n",
       "</div>"
      ],
      "text/plain": [
       "   gender accepted  size\n",
       "0  female       no   127\n",
       "1  female      yes   331"
      ]
     },
     "execution_count": 21,
     "metadata": {},
     "output_type": "execute_result"
    }
   ],
   "source": [
    "gender_insight[gender_insight['gender'] == 'female']"
   ]
  },
  {
   "cell_type": "code",
   "execution_count": 23,
   "metadata": {},
   "outputs": [],
   "source": [
    "# hardcoded, only plots purposes"
   ]
  },
  {
   "cell_type": "code",
   "execution_count": 24,
   "metadata": {},
   "outputs": [
    {
     "data": {
      "text/plain": [
       "0.722707423580786"
      ]
     },
     "execution_count": 24,
     "metadata": {},
     "output_type": "execute_result"
    }
   ],
   "source": [
    "331/(127+331)"
   ]
  },
  {
   "cell_type": "code",
   "execution_count": 27,
   "metadata": {},
   "outputs": [
    {
     "data": {
      "text/plain": [
       "458"
      ]
     },
     "execution_count": 27,
     "metadata": {},
     "output_type": "execute_result"
    }
   ],
   "source": [
    "127+331"
   ]
  },
  {
   "cell_type": "code",
   "execution_count": 22,
   "metadata": {},
   "outputs": [
    {
     "data": {
      "text/html": [
       "<div>\n",
       "<style scoped>\n",
       "    .dataframe tbody tr th:only-of-type {\n",
       "        vertical-align: middle;\n",
       "    }\n",
       "\n",
       "    .dataframe tbody tr th {\n",
       "        vertical-align: top;\n",
       "    }\n",
       "\n",
       "    .dataframe thead th {\n",
       "        text-align: right;\n",
       "    }\n",
       "</style>\n",
       "<table border=\"1\" class=\"dataframe\">\n",
       "  <thead>\n",
       "    <tr style=\"text-align: right;\">\n",
       "      <th></th>\n",
       "      <th>gender</th>\n",
       "      <th>accepted</th>\n",
       "      <th>size</th>\n",
       "    </tr>\n",
       "  </thead>\n",
       "  <tbody>\n",
       "    <tr>\n",
       "      <th>2</th>\n",
       "      <td>male</td>\n",
       "      <td>no</td>\n",
       "      <td>673</td>\n",
       "    </tr>\n",
       "    <tr>\n",
       "      <th>3</th>\n",
       "      <td>male</td>\n",
       "      <td>yes</td>\n",
       "      <td>158</td>\n",
       "    </tr>\n",
       "  </tbody>\n",
       "</table>\n",
       "</div>"
      ],
      "text/plain": [
       "  gender accepted  size\n",
       "2   male       no   673\n",
       "3   male      yes   158"
      ]
     },
     "execution_count": 22,
     "metadata": {},
     "output_type": "execute_result"
    }
   ],
   "source": [
    "gender_insight[gender_insight['gender'] == 'male']"
   ]
  },
  {
   "cell_type": "code",
   "execution_count": 25,
   "metadata": {},
   "outputs": [
    {
     "data": {
      "text/plain": [
       "0.1901323706377858"
      ]
     },
     "execution_count": 25,
     "metadata": {},
     "output_type": "execute_result"
    }
   ],
   "source": [
    "158/(158+673)"
   ]
  },
  {
   "cell_type": "code",
   "execution_count": 26,
   "metadata": {},
   "outputs": [
    {
     "data": {
      "text/plain": [
       "831"
      ]
     },
     "execution_count": 26,
     "metadata": {},
     "output_type": "execute_result"
    }
   ],
   "source": [
    "158+673"
   ]
  },
  {
   "cell_type": "code",
   "execution_count": 29,
   "metadata": {},
   "outputs": [
    {
     "data": {
      "text/plain": [
       "0.6446858029480217"
      ]
     },
     "execution_count": 29,
     "metadata": {},
     "output_type": "execute_result"
    }
   ],
   "source": [
    "831/(458+831)"
   ]
  },
  {
   "cell_type": "code",
   "execution_count": 45,
   "metadata": {},
   "outputs": [],
   "source": [
    "df_cc = df[['customer_code', 'gender', 'accepted']]"
   ]
  },
  {
   "cell_type": "code",
   "execution_count": 54,
   "metadata": {},
   "outputs": [],
   "source": [
    "duplicats_cc = df_cc[df_cc.duplicated(subset=['customer_code'], keep=False)]"
   ]
  },
  {
   "cell_type": "code",
   "execution_count": 56,
   "metadata": {},
   "outputs": [
    {
     "name": "stdout",
     "output_type": "stream",
     "text": [
      "<class 'pandas.core.frame.DataFrame'>\n",
      "Index: 600 entries, C7CBB5C5613449B to 2E67CB8AC1D8443\n",
      "Data columns (total 3 columns):\n",
      "customer_code    576 non-null object\n",
      "gender           600 non-null object\n",
      "accepted         600 non-null object\n",
      "dtypes: object(3)\n",
      "memory usage: 18.8+ KB\n"
     ]
    }
   ],
   "source": [
    "duplicats_cc.info()"
   ]
  },
  {
   "cell_type": "code",
   "execution_count": 59,
   "metadata": {},
   "outputs": [],
   "source": [
    "duplicats_cc = duplicats_cc[duplicats_cc['customer_code'].notna()]"
   ]
  },
  {
   "cell_type": "code",
   "execution_count": 60,
   "metadata": {},
   "outputs": [
    {
     "name": "stdout",
     "output_type": "stream",
     "text": [
      "<class 'pandas.core.frame.DataFrame'>\n",
      "Index: 576 entries, C7CBB5C5613449B to 2E67CB8AC1D8443\n",
      "Data columns (total 3 columns):\n",
      "customer_code    576 non-null object\n",
      "gender           576 non-null object\n",
      "accepted         576 non-null object\n",
      "dtypes: object(3)\n",
      "memory usage: 18.0+ KB\n"
     ]
    }
   ],
   "source": [
    "duplicats_cc.info()"
   ]
  },
  {
   "cell_type": "code",
   "execution_count": 79,
   "metadata": {},
   "outputs": [
    {
     "data": {
      "text/plain": [
       "210"
      ]
     },
     "execution_count": 79,
     "metadata": {},
     "output_type": "execute_result"
    }
   ],
   "source": [
    "duplicats_cc['customer_code'].nunique()"
   ]
  },
  {
   "cell_type": "code",
   "execution_count": 64,
   "metadata": {},
   "outputs": [],
   "source": [
    "# add customer_code response ratio as a feature "
   ]
  },
  {
   "cell_type": "code",
   "execution_count": 68,
   "metadata": {},
   "outputs": [
    {
     "data": {
      "text/plain": [
       "713"
      ]
     },
     "execution_count": 68,
     "metadata": {},
     "output_type": "execute_result"
    }
   ],
   "source": [
    "len(df)-len(duplicats_cc)"
   ]
  },
  {
   "cell_type": "code",
   "execution_count": 102,
   "metadata": {},
   "outputs": [
    {
     "data": {
      "text/plain": [
       "0.5531419705197828"
      ]
     },
     "execution_count": 102,
     "metadata": {},
     "output_type": "execute_result"
    }
   ],
   "source": [
    "713/1289"
   ]
  },
  {
   "cell_type": "code",
   "execution_count": 73,
   "metadata": {},
   "outputs": [],
   "source": [
    "behavior =        (duplicats_cc\n",
    "         .sort_values('customer_code')\n",
    "         .groupby(['customer_code', 'accepted'])\n",
    "         .size()\n",
    "         .reset_index()\n",
    "         .rename(columns={0: 'size'}))"
   ]
  },
  {
   "cell_type": "code",
   "execution_count": 81,
   "metadata": {},
   "outputs": [],
   "source": [
    "identical_response= behavior[~behavior.duplicated(subset=['customer_code'], keep=False)]"
   ]
  },
  {
   "cell_type": "code",
   "execution_count": 83,
   "metadata": {},
   "outputs": [
    {
     "data": {
      "text/plain": [
       "128"
      ]
     },
     "execution_count": 83,
     "metadata": {},
     "output_type": "execute_result"
    }
   ],
   "source": [
    "len(identical_response)"
   ]
  },
  {
   "cell_type": "code",
   "execution_count": 87,
   "metadata": {},
   "outputs": [
    {
     "data": {
      "text/plain": [
       "0.6095238095238096"
      ]
     },
     "execution_count": 87,
     "metadata": {},
     "output_type": "execute_result"
    }
   ],
   "source": [
    "128/210"
   ]
  },
  {
   "cell_type": "code",
   "execution_count": 85,
   "metadata": {},
   "outputs": [
    {
     "data": {
      "text/plain": [
       "345"
      ]
     },
     "execution_count": 85,
     "metadata": {},
     "output_type": "execute_result"
    }
   ],
   "source": [
    "identical_response['size'].sum()"
   ]
  },
  {
   "cell_type": "code",
   "execution_count": 86,
   "metadata": {},
   "outputs": [
    {
     "data": {
      "text/plain": [
       "0.5989583333333334"
      ]
     },
     "execution_count": 86,
     "metadata": {},
     "output_type": "execute_result"
    }
   ],
   "source": [
    "345/576"
   ]
  },
  {
   "cell_type": "code",
   "execution_count": 100,
   "metadata": {},
   "outputs": [
    {
     "data": {
      "text/plain": [
       "0\n",
       "2     129\n",
       "3      49\n",
       "4      13\n",
       "5       7\n",
       "6       4\n",
       "7       7\n",
       "11      1\n",
       "dtype: int64"
      ]
     },
     "execution_count": 100,
     "metadata": {},
     "output_type": "execute_result"
    }
   ],
   "source": [
    "duplicats_cc[['customer_code']].groupby(['customer_code']).size().reset_index().groupby([0]).size()"
   ]
  },
  {
   "cell_type": "code",
   "execution_count": 101,
   "metadata": {},
   "outputs": [
    {
     "data": {
      "text/plain": [
       "576"
      ]
     },
     "execution_count": 101,
     "metadata": {},
     "output_type": "execute_result"
    }
   ],
   "source": [
    "129*2+3*49+4*13+5*7+6*4+7*7+11"
   ]
  },
  {
   "cell_type": "code",
   "execution_count": 107,
   "metadata": {},
   "outputs": [
    {
     "data": {
      "text/html": [
       "<div>\n",
       "<style scoped>\n",
       "    .dataframe tbody tr th:only-of-type {\n",
       "        vertical-align: middle;\n",
       "    }\n",
       "\n",
       "    .dataframe tbody tr th {\n",
       "        vertical-align: top;\n",
       "    }\n",
       "\n",
       "    .dataframe thead th {\n",
       "        text-align: right;\n",
       "    }\n",
       "</style>\n",
       "<table border=\"1\" class=\"dataframe\">\n",
       "  <thead>\n",
       "    <tr style=\"text-align: right;\">\n",
       "      <th></th>\n",
       "      <th>customer_code</th>\n",
       "      <th>gender</th>\n",
       "      <th>accepted</th>\n",
       "    </tr>\n",
       "    <tr>\n",
       "      <th>name</th>\n",
       "      <th></th>\n",
       "      <th></th>\n",
       "      <th></th>\n",
       "    </tr>\n",
       "  </thead>\n",
       "  <tbody>\n",
       "    <tr>\n",
       "      <th>7AF493A2CD8E4FA</th>\n",
       "      <td>CA. 2343</td>\n",
       "      <td>male</td>\n",
       "      <td>no</td>\n",
       "    </tr>\n",
       "    <tr>\n",
       "      <th>3A9C52F8A32046F</th>\n",
       "      <td>CA. 2343</td>\n",
       "      <td>male</td>\n",
       "      <td>no</td>\n",
       "    </tr>\n",
       "    <tr>\n",
       "      <th>881815EF2A8A484</th>\n",
       "      <td>CA. 2343</td>\n",
       "      <td>female</td>\n",
       "      <td>no</td>\n",
       "    </tr>\n",
       "    <tr>\n",
       "      <th>B551CD3E07904F1</th>\n",
       "      <td>CA. 2343</td>\n",
       "      <td>female</td>\n",
       "      <td>no</td>\n",
       "    </tr>\n",
       "    <tr>\n",
       "      <th>BDF502F66E634B1</th>\n",
       "      <td>CA. 2343</td>\n",
       "      <td>female</td>\n",
       "      <td>no</td>\n",
       "    </tr>\n",
       "    <tr>\n",
       "      <th>9044BC863E934F0</th>\n",
       "      <td>CA. 2343</td>\n",
       "      <td>female</td>\n",
       "      <td>no</td>\n",
       "    </tr>\n",
       "    <tr>\n",
       "      <th>B02195C26B024EC</th>\n",
       "      <td>CA. 2343</td>\n",
       "      <td>male</td>\n",
       "      <td>no</td>\n",
       "    </tr>\n",
       "    <tr>\n",
       "      <th>3FCFB49CFC814CA</th>\n",
       "      <td>CA. 2343</td>\n",
       "      <td>male</td>\n",
       "      <td>no</td>\n",
       "    </tr>\n",
       "    <tr>\n",
       "      <th>46D214F8C0684A2</th>\n",
       "      <td>CA. 2343</td>\n",
       "      <td>male</td>\n",
       "      <td>no</td>\n",
       "    </tr>\n",
       "    <tr>\n",
       "      <th>B1F4013EEA474A2</th>\n",
       "      <td>CA. 2343</td>\n",
       "      <td>male</td>\n",
       "      <td>no</td>\n",
       "    </tr>\n",
       "    <tr>\n",
       "      <th>96F665BA58B24F8</th>\n",
       "      <td>CA. 2343</td>\n",
       "      <td>female</td>\n",
       "      <td>no</td>\n",
       "    </tr>\n",
       "  </tbody>\n",
       "</table>\n",
       "</div>"
      ],
      "text/plain": [
       "                customer_code  gender accepted\n",
       "name                                          \n",
       "7AF493A2CD8E4FA      CA. 2343    male       no\n",
       "3A9C52F8A32046F      CA. 2343    male       no\n",
       "881815EF2A8A484      CA. 2343  female       no\n",
       "B551CD3E07904F1      CA. 2343  female       no\n",
       "BDF502F66E634B1      CA. 2343  female       no\n",
       "9044BC863E934F0      CA. 2343  female       no\n",
       "B02195C26B024EC      CA. 2343    male       no\n",
       "3FCFB49CFC814CA      CA. 2343    male       no\n",
       "46D214F8C0684A2      CA. 2343    male       no\n",
       "B1F4013EEA474A2      CA. 2343    male       no\n",
       "96F665BA58B24F8      CA. 2343  female       no"
      ]
     },
     "execution_count": 107,
     "metadata": {},
     "output_type": "execute_result"
    }
   ],
   "source": [
    "duplicats_cc[duplicats_cc['customer_code'] == 'CA. 2343']"
   ]
  },
  {
   "cell_type": "code",
   "execution_count": null,
   "metadata": {},
   "outputs": [],
   "source": []
  }
 ],
 "metadata": {
  "kernelspec": {
   "display_name": "Python 3",
   "language": "python",
   "name": "python3"
  },
  "language_info": {
   "codemirror_mode": {
    "name": "ipython",
    "version": 3
   },
   "file_extension": ".py",
   "mimetype": "text/x-python",
   "name": "python",
   "nbconvert_exporter": "python",
   "pygments_lexer": "ipython3",
   "version": "3.6.9"
  }
 },
 "nbformat": 4,
 "nbformat_minor": 4
}
