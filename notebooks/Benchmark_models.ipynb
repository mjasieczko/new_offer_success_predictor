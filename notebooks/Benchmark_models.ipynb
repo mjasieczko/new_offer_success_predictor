{
 "cells": [
  {
   "cell_type": "markdown",
   "metadata": {},
   "source": [
    "**using this there is no need to reload your packages every time when you will make any improvement to them**"
   ]
  },
  {
   "cell_type": "code",
   "execution_count": 1,
   "metadata": {},
   "outputs": [],
   "source": [
    "%load_ext autoreload"
   ]
  },
  {
   "cell_type": "code",
   "execution_count": 2,
   "metadata": {},
   "outputs": [],
   "source": [
    "autoreload 2"
   ]
  },
  {
   "cell_type": "markdown",
   "metadata": {},
   "source": [
    "**import necessary libraries**"
   ]
  },
  {
   "cell_type": "code",
   "execution_count": 3,
   "metadata": {},
   "outputs": [],
   "source": [
    "import numpy as np\n",
    "import pandas as pd \n",
    "import warnings\n",
    "\n",
    "from pathlib import Path "
   ]
  },
  {
   "cell_type": "markdown",
   "metadata": {},
   "source": [
    "**import modelling helpers**"
   ]
  },
  {
   "cell_type": "code",
   "execution_count": 4,
   "metadata": {},
   "outputs": [],
   "source": [
    "from sklearn.model_selection import train_test_split"
   ]
  },
  {
   "cell_type": "markdown",
   "metadata": {},
   "source": [
    "**set pandas options**"
   ]
  },
  {
   "cell_type": "code",
   "execution_count": 5,
   "metadata": {},
   "outputs": [],
   "source": [
    "pd.options.display.max_rows = None\n",
    "pd.options.display.max_columns = None\n",
    "pd.options.display.max_colwidth = 200"
   ]
  },
  {
   "cell_type": "markdown",
   "metadata": {},
   "source": [
    "**set warnings options**"
   ]
  },
  {
   "cell_type": "code",
   "execution_count": 6,
   "metadata": {},
   "outputs": [],
   "source": [
    "warnings.filterwarnings(\"ignore\")"
   ]
  },
  {
   "cell_type": "markdown",
   "metadata": {},
   "source": [
    "**load data**"
   ]
  },
  {
   "cell_type": "markdown",
   "metadata": {},
   "source": [
    "## you need to change data path manually here :)"
   ]
  },
  {
   "cell_type": "code",
   "execution_count": 7,
   "metadata": {},
   "outputs": [],
   "source": [
    "LOCAL_PATH = Path('/Users/mjasiecz/PycharmProjects/') #here\n",
    "\n",
    "PROJECT_PATH = Path('new_offer_success_predictor/data/raw/')\n",
    "filename = 'client_database'\n",
    "suffix = '.parquet'"
   ]
  },
  {
   "cell_type": "code",
   "execution_count": 8,
   "metadata": {},
   "outputs": [],
   "source": [
    "data_path = LOCAL_PATH.joinpath(PROJECT_PATH).joinpath(Path(filename)).with_suffix(suffix)"
   ]
  },
  {
   "cell_type": "code",
   "execution_count": 9,
   "metadata": {},
   "outputs": [],
   "source": [
    "df = pd.read_parquet(data_path, engine='pyarrow')"
   ]
  },
  {
   "cell_type": "code",
   "execution_count": 10,
   "metadata": {},
   "outputs": [
    {
     "data": {
      "text/plain": [
       "1309"
      ]
     },
     "execution_count": 10,
     "metadata": {},
     "output_type": "execute_result"
    }
   ],
   "source": [
    "len(df)"
   ]
  },
  {
   "cell_type": "code",
   "execution_count": 11,
   "metadata": {},
   "outputs": [
    {
     "data": {
      "text/plain": [
       "(1309, 15)"
      ]
     },
     "execution_count": 11,
     "metadata": {},
     "output_type": "execute_result"
    }
   ],
   "source": [
    "df.shape"
   ]
  },
  {
   "cell_type": "code",
   "execution_count": 12,
   "metadata": {},
   "outputs": [
    {
     "data": {
      "text/plain": [
       "Index(['offer_class', 'accepted', 'name', 'gender', 'age', 'phone_calls',\n",
       "       'emails', 'customer_code', 'salary', 'offer_code', 'customer_type',\n",
       "       'number', 'offer_value', 'estimated_expenses', 'center'],\n",
       "      dtype='object')"
      ]
     },
     "execution_count": 12,
     "metadata": {},
     "output_type": "execute_result"
    }
   ],
   "source": [
    "df.columns"
   ]
  },
  {
   "cell_type": "code",
   "execution_count": 13,
   "metadata": {},
   "outputs": [
    {
     "data": {
      "text/plain": [
       "1289"
      ]
     },
     "execution_count": 13,
     "metadata": {},
     "output_type": "execute_result"
    }
   ],
   "source": [
    "df.shape[0]-df[df['accepted'].isna()].shape[0]"
   ]
  },
  {
   "cell_type": "code",
   "execution_count": 14,
   "metadata": {},
   "outputs": [],
   "source": [
    "# dataset train/test preparation"
   ]
  },
  {
   "cell_type": "code",
   "execution_count": 15,
   "metadata": {},
   "outputs": [
    {
     "data": {
      "text/plain": [
       "(20, 15)"
      ]
     },
     "execution_count": 15,
     "metadata": {},
     "output_type": "execute_result"
    }
   ],
   "source": [
    "df[df['accepted'].isna()].shape"
   ]
  },
  {
   "cell_type": "code",
   "execution_count": 16,
   "metadata": {},
   "outputs": [
    {
     "data": {
      "text/plain": [
       "(1309, 15)"
      ]
     },
     "execution_count": 16,
     "metadata": {},
     "output_type": "execute_result"
    }
   ],
   "source": [
    "df.shape"
   ]
  },
  {
   "cell_type": "code",
   "execution_count": 17,
   "metadata": {},
   "outputs": [],
   "source": [
    "#df_train.columns"
   ]
  },
  {
   "cell_type": "code",
   "execution_count": 18,
   "metadata": {},
   "outputs": [],
   "source": [
    "csv_suffix = '.csv'"
   ]
  },
  {
   "cell_type": "code",
   "execution_count": 19,
   "metadata": {},
   "outputs": [],
   "source": [
    "train_dataset = LOCAL_PATH.joinpath(PROJECT_PATH).joinpath('train').with_suffix(csv_suffix)"
   ]
  },
  {
   "cell_type": "code",
   "execution_count": 20,
   "metadata": {},
   "outputs": [],
   "source": [
    "test_dataset = LOCAL_PATH.joinpath(PROJECT_PATH).joinpath('test').with_suffix(csv_suffix)"
   ]
  },
  {
   "cell_type": "code",
   "execution_count": 21,
   "metadata": {},
   "outputs": [
    {
     "name": "stdout",
     "output_type": "stream",
     "text": [
      "Split is done. Do not data snoop!\n"
     ]
    }
   ],
   "source": [
    "if train_dataset.exists() and test_dataset.exists():\n",
    "    print('Split is done. Do not data snoop!')\n",
    "else:\n",
    "    print('Preparing train and test datasets.')\n",
    "    df = df[~df['accepted'].isna()].set_index('name')\n",
    "    df_predictors = df.drop(columns=['accepted'])\n",
    "    df_target = df['accepted']\n",
    "    df_train, df_test, df_train_target, df_test_target = train_test_split(df_predictors, df_target, test_size=0.3, random_state=42)\n",
    "    df_train.insert(0, column='accepted', value=df_train_target)\n",
    "    df_test.insert(0, column='accepted', value=df_test_target)\n",
    "    df_train.to_csv(path_or_buf=train_dataset)\n",
    "    df_test.to_csv(path_or_buf=test_dataset)\n",
    "    print('Datasets are ready to use.')"
   ]
  },
  {
   "cell_type": "code",
   "execution_count": 22,
   "metadata": {},
   "outputs": [],
   "source": [
    "train_df = pd.read_csv(train_dataset, index_col='name')"
   ]
  },
  {
   "cell_type": "code",
   "execution_count": 23,
   "metadata": {},
   "outputs": [
    {
     "name": "stdout",
     "output_type": "stream",
     "text": [
      "<class 'pandas.core.frame.DataFrame'>\n",
      "Int64Index: 1309 entries, 0 to 1308\n",
      "Data columns (total 15 columns):\n",
      "offer_class           1289 non-null object\n",
      "accepted              1289 non-null object\n",
      "name                  1289 non-null object\n",
      "gender                1289 non-null object\n",
      "age                   877 non-null float64\n",
      "phone_calls           1286 non-null float64\n",
      "emails                1287 non-null float64\n",
      "customer_code         1265 non-null object\n",
      "salary                1281 non-null float64\n",
      "offer_code            1287 non-null object\n",
      "customer_type         1287 non-null object\n",
      "number                1280 non-null object\n",
      "offer_value           1277 non-null float64\n",
      "estimated_expenses    1286 non-null float64\n",
      "center                1306 non-null object\n",
      "dtypes: float64(6), object(9)\n",
      "memory usage: 163.6+ KB\n"
     ]
    }
   ],
   "source": [
    "df.info()"
   ]
  },
  {
   "cell_type": "code",
   "execution_count": 24,
   "metadata": {},
   "outputs": [],
   "source": [
    "#df_train.columns"
   ]
  },
  {
   "cell_type": "code",
   "execution_count": 25,
   "metadata": {},
   "outputs": [],
   "source": [
    "#df_test.shape"
   ]
  },
  {
   "cell_type": "code",
   "execution_count": 26,
   "metadata": {},
   "outputs": [],
   "source": [
    "#df_train_predictors.head()"
   ]
  },
  {
   "cell_type": "code",
   "execution_count": 27,
   "metadata": {},
   "outputs": [],
   "source": [
    "#predictors_train, predictors_test, target_train, target_test"
   ]
  },
  {
   "cell_type": "code",
   "execution_count": 28,
   "metadata": {},
   "outputs": [
    {
     "data": {
      "text/plain": [
       "(1309, 15)"
      ]
     },
     "execution_count": 28,
     "metadata": {},
     "output_type": "execute_result"
    }
   ],
   "source": [
    "df.shape"
   ]
  },
  {
   "cell_type": "code",
   "execution_count": 29,
   "metadata": {},
   "outputs": [
    {
     "data": {
      "text/html": [
       "<div>\n",
       "<style scoped>\n",
       "    .dataframe tbody tr th:only-of-type {\n",
       "        vertical-align: middle;\n",
       "    }\n",
       "\n",
       "    .dataframe tbody tr th {\n",
       "        vertical-align: top;\n",
       "    }\n",
       "\n",
       "    .dataframe thead th {\n",
       "        text-align: right;\n",
       "    }\n",
       "</style>\n",
       "<table border=\"1\" class=\"dataframe\">\n",
       "  <thead>\n",
       "    <tr style=\"text-align: right;\">\n",
       "      <th></th>\n",
       "      <th>offer_class</th>\n",
       "      <th>accepted</th>\n",
       "      <th>name</th>\n",
       "      <th>gender</th>\n",
       "      <th>age</th>\n",
       "      <th>phone_calls</th>\n",
       "      <th>emails</th>\n",
       "      <th>customer_code</th>\n",
       "      <th>salary</th>\n",
       "      <th>offer_code</th>\n",
       "      <th>customer_type</th>\n",
       "      <th>number</th>\n",
       "      <th>offer_value</th>\n",
       "      <th>estimated_expenses</th>\n",
       "      <th>center</th>\n",
       "    </tr>\n",
       "  </thead>\n",
       "  <tbody>\n",
       "    <tr>\n",
       "      <th>0</th>\n",
       "      <td>Medium</td>\n",
       "      <td>yes</td>\n",
       "      <td>C7CBB5C5613449B</td>\n",
       "      <td>female</td>\n",
       "      <td>29.0</td>\n",
       "      <td>0.0</td>\n",
       "      <td>0.0</td>\n",
       "      <td>24160</td>\n",
       "      <td>21133.75</td>\n",
       "      <td>4AB</td>\n",
       "      <td>S</td>\n",
       "      <td>9E9FA</td>\n",
       "      <td>57.426571</td>\n",
       "      <td>4692.0</td>\n",
       "      <td>A</td>\n",
       "    </tr>\n",
       "    <tr>\n",
       "      <th>1</th>\n",
       "      <td>Medium</td>\n",
       "      <td>yes</td>\n",
       "      <td>CFD09C0248BB417</td>\n",
       "      <td>male</td>\n",
       "      <td>NaN</td>\n",
       "      <td>1.0</td>\n",
       "      <td>2.0</td>\n",
       "      <td>113781</td>\n",
       "      <td>15155.00</td>\n",
       "      <td>61A</td>\n",
       "      <td>S</td>\n",
       "      <td>1E53D</td>\n",
       "      <td>141.639912</td>\n",
       "      <td>3164.0</td>\n",
       "      <td>A</td>\n",
       "    </tr>\n",
       "    <tr>\n",
       "      <th>2</th>\n",
       "      <td>Medium</td>\n",
       "      <td>no</td>\n",
       "      <td>A2A0DC541977473</td>\n",
       "      <td>female</td>\n",
       "      <td>NaN</td>\n",
       "      <td>1.0</td>\n",
       "      <td>3.0</td>\n",
       "      <td>113781</td>\n",
       "      <td>15155.00</td>\n",
       "      <td>DB4</td>\n",
       "      <td>S</td>\n",
       "      <td>1.36E+06</td>\n",
       "      <td>154.821130</td>\n",
       "      <td>1852.0</td>\n",
       "      <td>A</td>\n",
       "    </tr>\n",
       "    <tr>\n",
       "      <th>3</th>\n",
       "      <td>Medium</td>\n",
       "      <td>no</td>\n",
       "      <td>9068458EB70D427</td>\n",
       "      <td>male</td>\n",
       "      <td>30.0</td>\n",
       "      <td>1.0</td>\n",
       "      <td>2.0</td>\n",
       "      <td>113781</td>\n",
       "      <td>15155.00</td>\n",
       "      <td>9B6</td>\n",
       "      <td>S</td>\n",
       "      <td>F6529</td>\n",
       "      <td>106.256196</td>\n",
       "      <td>3753.0</td>\n",
       "      <td>B</td>\n",
       "    </tr>\n",
       "    <tr>\n",
       "      <th>4</th>\n",
       "      <td>Medium</td>\n",
       "      <td>no</td>\n",
       "      <td>46F0CD19CF71429</td>\n",
       "      <td>female</td>\n",
       "      <td>25.0</td>\n",
       "      <td>1.0</td>\n",
       "      <td>2.0</td>\n",
       "      <td>113781</td>\n",
       "      <td>15155.00</td>\n",
       "      <td>191</td>\n",
       "      <td>S</td>\n",
       "      <td>E2FDF</td>\n",
       "      <td>139.237147</td>\n",
       "      <td>2410.0</td>\n",
       "      <td>A</td>\n",
       "    </tr>\n",
       "  </tbody>\n",
       "</table>\n",
       "</div>"
      ],
      "text/plain": [
       "  offer_class accepted             name  gender   age  phone_calls  emails  \\\n",
       "0      Medium      yes  C7CBB5C5613449B  female  29.0          0.0     0.0   \n",
       "1      Medium      yes  CFD09C0248BB417    male   NaN          1.0     2.0   \n",
       "2      Medium       no  A2A0DC541977473  female   NaN          1.0     3.0   \n",
       "3      Medium       no  9068458EB70D427    male  30.0          1.0     2.0   \n",
       "4      Medium       no  46F0CD19CF71429  female  25.0          1.0     2.0   \n",
       "\n",
       "  customer_code    salary offer_code customer_type    number  offer_value  \\\n",
       "0         24160  21133.75        4AB             S     9E9FA    57.426571   \n",
       "1        113781  15155.00        61A             S     1E53D   141.639912   \n",
       "2        113781  15155.00        DB4             S  1.36E+06   154.821130   \n",
       "3        113781  15155.00        9B6             S     F6529   106.256196   \n",
       "4        113781  15155.00        191             S     E2FDF   139.237147   \n",
       "\n",
       "   estimated_expenses center  \n",
       "0              4692.0      A  \n",
       "1              3164.0      A  \n",
       "2              1852.0      A  \n",
       "3              3753.0      B  \n",
       "4              2410.0      A  "
      ]
     },
     "execution_count": 29,
     "metadata": {},
     "output_type": "execute_result"
    }
   ],
   "source": [
    "df.head()"
   ]
  },
  {
   "cell_type": "code",
   "execution_count": 30,
   "metadata": {},
   "outputs": [
    {
     "name": "stdout",
     "output_type": "stream",
     "text": [
      "<class 'pandas.core.frame.DataFrame'>\n",
      "Int64Index: 1309 entries, 0 to 1308\n",
      "Data columns (total 15 columns):\n",
      "offer_class           1289 non-null object\n",
      "accepted              1289 non-null object\n",
      "name                  1289 non-null object\n",
      "gender                1289 non-null object\n",
      "age                   877 non-null float64\n",
      "phone_calls           1286 non-null float64\n",
      "emails                1287 non-null float64\n",
      "customer_code         1265 non-null object\n",
      "salary                1281 non-null float64\n",
      "offer_code            1287 non-null object\n",
      "customer_type         1287 non-null object\n",
      "number                1280 non-null object\n",
      "offer_value           1277 non-null float64\n",
      "estimated_expenses    1286 non-null float64\n",
      "center                1306 non-null object\n",
      "dtypes: float64(6), object(9)\n",
      "memory usage: 163.6+ KB\n"
     ]
    }
   ],
   "source": [
    "df.info()"
   ]
  },
  {
   "cell_type": "code",
   "execution_count": 31,
   "metadata": {},
   "outputs": [
    {
     "data": {
      "text/plain": [
       "(1309, 15)"
      ]
     },
     "execution_count": 31,
     "metadata": {},
     "output_type": "execute_result"
    }
   ],
   "source": [
    "df.shape"
   ]
  },
  {
   "cell_type": "markdown",
   "metadata": {},
   "source": [
    "**test/train datasets preparation**"
   ]
  },
  {
   "cell_type": "code",
   "execution_count": 32,
   "metadata": {},
   "outputs": [
    {
     "data": {
      "text/plain": [
       "Index(['offer_class', 'accepted', 'name', 'gender', 'age', 'phone_calls',\n",
       "       'emails', 'customer_code', 'salary', 'offer_code', 'customer_type',\n",
       "       'number', 'offer_value', 'estimated_expenses', 'center'],\n",
       "      dtype='object')"
      ]
     },
     "execution_count": 32,
     "metadata": {},
     "output_type": "execute_result"
    }
   ],
   "source": [
    "df.columns"
   ]
  },
  {
   "cell_type": "code",
   "execution_count": 33,
   "metadata": {},
   "outputs": [
    {
     "data": {
      "text/plain": [
       "{'accepted',\n",
       " 'age',\n",
       " 'center',\n",
       " 'customer_code',\n",
       " 'customer_type',\n",
       " 'emails',\n",
       " 'estimated_expenses',\n",
       " 'gender',\n",
       " 'name',\n",
       " 'number',\n",
       " 'offer_class',\n",
       " 'offer_code',\n",
       " 'offer_value',\n",
       " 'phone_calls',\n",
       " 'salary'}"
      ]
     },
     "execution_count": 33,
     "metadata": {},
     "output_type": "execute_result"
    }
   ],
   "source": [
    "set(df.columns)"
   ]
  },
  {
   "cell_type": "markdown",
   "metadata": {},
   "source": [
    "**benchmark models**"
   ]
  },
  {
   "cell_type": "code",
   "execution_count": 34,
   "metadata": {},
   "outputs": [],
   "source": [
    "initially_dropped = ['offer_class', 'customer_code', 'offer_code', 'customer_type', 'number', 'center']"
   ]
  },
  {
   "cell_type": "code",
   "execution_count": 35,
   "metadata": {},
   "outputs": [],
   "source": [
    "df_1 = df[['phone_calls', 'emails', 'age', 'gender', 'salary', 'offer_value', 'estimated_expenses', 'accepted']] #name"
   ]
  },
  {
   "cell_type": "code",
   "execution_count": 36,
   "metadata": {},
   "outputs": [],
   "source": [
    "df_1 = df"
   ]
  },
  {
   "cell_type": "code",
   "execution_count": 37,
   "metadata": {},
   "outputs": [],
   "source": [
    "assert set(df.columns) == set(df_1.columns).union(set(initially_dropped))"
   ]
  },
  {
   "cell_type": "code",
   "execution_count": 38,
   "metadata": {},
   "outputs": [
    {
     "data": {
      "text/plain": [
       "(1309, 15)"
      ]
     },
     "execution_count": 38,
     "metadata": {},
     "output_type": "execute_result"
    }
   ],
   "source": [
    "df_1.shape"
   ]
  },
  {
   "cell_type": "code",
   "execution_count": 39,
   "metadata": {},
   "outputs": [
    {
     "name": "stdout",
     "output_type": "stream",
     "text": [
      "<class 'pandas.core.frame.DataFrame'>\n",
      "Int64Index: 1309 entries, 0 to 1308\n",
      "Data columns (total 15 columns):\n",
      "offer_class           1289 non-null object\n",
      "accepted              1289 non-null object\n",
      "name                  1289 non-null object\n",
      "gender                1289 non-null object\n",
      "age                   877 non-null float64\n",
      "phone_calls           1286 non-null float64\n",
      "emails                1287 non-null float64\n",
      "customer_code         1265 non-null object\n",
      "salary                1281 non-null float64\n",
      "offer_code            1287 non-null object\n",
      "customer_type         1287 non-null object\n",
      "number                1280 non-null object\n",
      "offer_value           1277 non-null float64\n",
      "estimated_expenses    1286 non-null float64\n",
      "center                1306 non-null object\n",
      "dtypes: float64(6), object(9)\n",
      "memory usage: 163.6+ KB\n"
     ]
    }
   ],
   "source": [
    "df_1.info()"
   ]
  },
  {
   "cell_type": "code",
   "execution_count": 40,
   "metadata": {},
   "outputs": [],
   "source": [
    "# df_1 = df_1.set_index('name')"
   ]
  },
  {
   "cell_type": "code",
   "execution_count": 41,
   "metadata": {},
   "outputs": [
    {
     "data": {
      "text/html": [
       "<div>\n",
       "<style scoped>\n",
       "    .dataframe tbody tr th:only-of-type {\n",
       "        vertical-align: middle;\n",
       "    }\n",
       "\n",
       "    .dataframe tbody tr th {\n",
       "        vertical-align: top;\n",
       "    }\n",
       "\n",
       "    .dataframe thead th {\n",
       "        text-align: right;\n",
       "    }\n",
       "</style>\n",
       "<table border=\"1\" class=\"dataframe\">\n",
       "  <thead>\n",
       "    <tr style=\"text-align: right;\">\n",
       "      <th></th>\n",
       "      <th>age</th>\n",
       "      <th>phone_calls</th>\n",
       "      <th>emails</th>\n",
       "      <th>salary</th>\n",
       "      <th>offer_value</th>\n",
       "      <th>estimated_expenses</th>\n",
       "    </tr>\n",
       "  </thead>\n",
       "  <tbody>\n",
       "    <tr>\n",
       "      <th>count</th>\n",
       "      <td>877.000000</td>\n",
       "      <td>1286.000000</td>\n",
       "      <td>1287.000000</td>\n",
       "      <td>1281.000000</td>\n",
       "      <td>1277.000000</td>\n",
       "      <td>1286.000000</td>\n",
       "    </tr>\n",
       "    <tr>\n",
       "      <th>mean</th>\n",
       "      <td>33.511973</td>\n",
       "      <td>0.497667</td>\n",
       "      <td>0.881896</td>\n",
       "      <td>3297.296011</td>\n",
       "      <td>128.693732</td>\n",
       "      <td>4576.947900</td>\n",
       "    </tr>\n",
       "    <tr>\n",
       "      <th>std</th>\n",
       "      <td>12.247058</td>\n",
       "      <td>1.041360</td>\n",
       "      <td>1.022320</td>\n",
       "      <td>5034.240427</td>\n",
       "      <td>57.677807</td>\n",
       "      <td>1909.458459</td>\n",
       "    </tr>\n",
       "    <tr>\n",
       "      <th>min</th>\n",
       "      <td>18.000000</td>\n",
       "      <td>0.000000</td>\n",
       "      <td>0.000000</td>\n",
       "      <td>0.000000</td>\n",
       "      <td>50.022619</td>\n",
       "      <td>1257.000000</td>\n",
       "    </tr>\n",
       "    <tr>\n",
       "      <th>25%</th>\n",
       "      <td>24.000000</td>\n",
       "      <td>0.000000</td>\n",
       "      <td>0.000000</td>\n",
       "      <td>789.580000</td>\n",
       "      <td>82.632085</td>\n",
       "      <td>2934.750000</td>\n",
       "    </tr>\n",
       "    <tr>\n",
       "      <th>50%</th>\n",
       "      <td>30.000000</td>\n",
       "      <td>0.000000</td>\n",
       "      <td>1.000000</td>\n",
       "      <td>1445.420000</td>\n",
       "      <td>118.645478</td>\n",
       "      <td>4544.000000</td>\n",
       "    </tr>\n",
       "    <tr>\n",
       "      <th>75%</th>\n",
       "      <td>41.000000</td>\n",
       "      <td>1.000000</td>\n",
       "      <td>1.000000</td>\n",
       "      <td>3127.500000</td>\n",
       "      <td>162.482961</td>\n",
       "      <td>6225.750000</td>\n",
       "    </tr>\n",
       "    <tr>\n",
       "      <th>max</th>\n",
       "      <td>80.000000</td>\n",
       "      <td>8.000000</td>\n",
       "      <td>10.000000</td>\n",
       "      <td>51232.920000</td>\n",
       "      <td>368.668534</td>\n",
       "      <td>7891.000000</td>\n",
       "    </tr>\n",
       "  </tbody>\n",
       "</table>\n",
       "</div>"
      ],
      "text/plain": [
       "              age  phone_calls       emails        salary  offer_value  \\\n",
       "count  877.000000  1286.000000  1287.000000   1281.000000  1277.000000   \n",
       "mean    33.511973     0.497667     0.881896   3297.296011   128.693732   \n",
       "std     12.247058     1.041360     1.022320   5034.240427    57.677807   \n",
       "min     18.000000     0.000000     0.000000      0.000000    50.022619   \n",
       "25%     24.000000     0.000000     0.000000    789.580000    82.632085   \n",
       "50%     30.000000     0.000000     1.000000   1445.420000   118.645478   \n",
       "75%     41.000000     1.000000     1.000000   3127.500000   162.482961   \n",
       "max     80.000000     8.000000    10.000000  51232.920000   368.668534   \n",
       "\n",
       "       estimated_expenses  \n",
       "count         1286.000000  \n",
       "mean          4576.947900  \n",
       "std           1909.458459  \n",
       "min           1257.000000  \n",
       "25%           2934.750000  \n",
       "50%           4544.000000  \n",
       "75%           6225.750000  \n",
       "max           7891.000000  "
      ]
     },
     "execution_count": 41,
     "metadata": {},
     "output_type": "execute_result"
    }
   ],
   "source": [
    "df_1.describe()"
   ]
  },
  {
   "cell_type": "code",
   "execution_count": 42,
   "metadata": {},
   "outputs": [
    {
     "name": "stdout",
     "output_type": "stream",
     "text": [
      "<class 'pandas.core.frame.DataFrame'>\n",
      "Int64Index: 1309 entries, 0 to 1308\n",
      "Data columns (total 15 columns):\n",
      "offer_class           1289 non-null object\n",
      "accepted              1289 non-null object\n",
      "name                  1289 non-null object\n",
      "gender                1289 non-null object\n",
      "age                   877 non-null float64\n",
      "phone_calls           1286 non-null float64\n",
      "emails                1287 non-null float64\n",
      "customer_code         1265 non-null object\n",
      "salary                1281 non-null float64\n",
      "offer_code            1287 non-null object\n",
      "customer_type         1287 non-null object\n",
      "number                1280 non-null object\n",
      "offer_value           1277 non-null float64\n",
      "estimated_expenses    1286 non-null float64\n",
      "center                1306 non-null object\n",
      "dtypes: float64(6), object(9)\n",
      "memory usage: 163.6+ KB\n"
     ]
    }
   ],
   "source": [
    "df_1.info()"
   ]
  },
  {
   "cell_type": "code",
   "execution_count": 43,
   "metadata": {},
   "outputs": [
    {
     "data": {
      "text/plain": [
       "(1309, 15)"
      ]
     },
     "execution_count": 43,
     "metadata": {},
     "output_type": "execute_result"
    }
   ],
   "source": [
    "df_1.shape"
   ]
  },
  {
   "cell_type": "code",
   "execution_count": 44,
   "metadata": {},
   "outputs": [],
   "source": [
    "#try to rescale data from quarter to 6 months (multiply by 2)"
   ]
  },
  {
   "cell_type": "code",
   "execution_count": 45,
   "metadata": {},
   "outputs": [
    {
     "data": {
      "text/plain": [
       "0.9633307868601986"
      ]
     },
     "execution_count": 45,
     "metadata": {},
     "output_type": "execute_result"
    }
   ],
   "source": [
    "df_1.dropna(subset=['phone_calls', 'emails', 'salary', 'offer_value', 'estimated_expenses']).shape[0]/df_1.shape[0]"
   ]
  },
  {
   "cell_type": "code",
   "execution_count": 46,
   "metadata": {},
   "outputs": [],
   "source": [
    "df_1 = df_1.dropna(subset=['phone_calls', 'emails', 'salary', 'offer_value', 'estimated_expenses'])"
   ]
  },
  {
   "cell_type": "code",
   "execution_count": 47,
   "metadata": {},
   "outputs": [
    {
     "name": "stdout",
     "output_type": "stream",
     "text": [
      "<class 'pandas.core.frame.DataFrame'>\n",
      "Int64Index: 1261 entries, 0 to 1288\n",
      "Data columns (total 15 columns):\n",
      "offer_class           1261 non-null object\n",
      "accepted              1261 non-null object\n",
      "name                  1261 non-null object\n",
      "gender                1261 non-null object\n",
      "age                   858 non-null float64\n",
      "phone_calls           1261 non-null float64\n",
      "emails                1261 non-null float64\n",
      "customer_code         1237 non-null object\n",
      "salary                1261 non-null float64\n",
      "offer_code            1259 non-null object\n",
      "customer_type         1259 non-null object\n",
      "number                1252 non-null object\n",
      "offer_value           1261 non-null float64\n",
      "estimated_expenses    1261 non-null float64\n",
      "center                1258 non-null object\n",
      "dtypes: float64(6), object(9)\n",
      "memory usage: 157.6+ KB\n"
     ]
    }
   ],
   "source": [
    "df_1.info()"
   ]
  },
  {
   "cell_type": "code",
   "execution_count": 48,
   "metadata": {},
   "outputs": [],
   "source": [
    "# wypelnic wiek wedlug zarobkow i plci <- regresja liniowa np?"
   ]
  },
  {
   "cell_type": "code",
   "execution_count": 49,
   "metadata": {},
   "outputs": [],
   "source": [
    "df_1.loc[df_1['age'].isna(), 'age'] = np.mean(df_1['age'])"
   ]
  },
  {
   "cell_type": "code",
   "execution_count": 50,
   "metadata": {},
   "outputs": [
    {
     "name": "stdout",
     "output_type": "stream",
     "text": [
      "<class 'pandas.core.frame.DataFrame'>\n",
      "Int64Index: 1261 entries, 0 to 1288\n",
      "Data columns (total 15 columns):\n",
      "offer_class           1261 non-null object\n",
      "accepted              1261 non-null object\n",
      "name                  1261 non-null object\n",
      "gender                1261 non-null object\n",
      "age                   1261 non-null float64\n",
      "phone_calls           1261 non-null float64\n",
      "emails                1261 non-null float64\n",
      "customer_code         1237 non-null object\n",
      "salary                1261 non-null float64\n",
      "offer_code            1259 non-null object\n",
      "customer_type         1259 non-null object\n",
      "number                1252 non-null object\n",
      "offer_value           1261 non-null float64\n",
      "estimated_expenses    1261 non-null float64\n",
      "center                1258 non-null object\n",
      "dtypes: float64(6), object(9)\n",
      "memory usage: 157.6+ KB\n"
     ]
    }
   ],
   "source": [
    "df_1.info()"
   ]
  },
  {
   "cell_type": "code",
   "execution_count": 51,
   "metadata": {},
   "outputs": [
    {
     "data": {
      "text/html": [
       "<div>\n",
       "<style scoped>\n",
       "    .dataframe tbody tr th:only-of-type {\n",
       "        vertical-align: middle;\n",
       "    }\n",
       "\n",
       "    .dataframe tbody tr th {\n",
       "        vertical-align: top;\n",
       "    }\n",
       "\n",
       "    .dataframe thead th {\n",
       "        text-align: right;\n",
       "    }\n",
       "</style>\n",
       "<table border=\"1\" class=\"dataframe\">\n",
       "  <thead>\n",
       "    <tr style=\"text-align: right;\">\n",
       "      <th></th>\n",
       "      <th>offer_class</th>\n",
       "      <th>accepted</th>\n",
       "      <th>name</th>\n",
       "      <th>gender</th>\n",
       "      <th>age</th>\n",
       "      <th>phone_calls</th>\n",
       "      <th>emails</th>\n",
       "      <th>customer_code</th>\n",
       "      <th>salary</th>\n",
       "      <th>offer_code</th>\n",
       "      <th>customer_type</th>\n",
       "      <th>number</th>\n",
       "      <th>offer_value</th>\n",
       "      <th>estimated_expenses</th>\n",
       "      <th>center</th>\n",
       "    </tr>\n",
       "  </thead>\n",
       "  <tbody>\n",
       "    <tr>\n",
       "      <th>0</th>\n",
       "      <td>Medium</td>\n",
       "      <td>yes</td>\n",
       "      <td>C7CBB5C5613449B</td>\n",
       "      <td>female</td>\n",
       "      <td>29.000000</td>\n",
       "      <td>0.0</td>\n",
       "      <td>0.0</td>\n",
       "      <td>24160</td>\n",
       "      <td>21133.75</td>\n",
       "      <td>4AB</td>\n",
       "      <td>S</td>\n",
       "      <td>9E9FA</td>\n",
       "      <td>57.426571</td>\n",
       "      <td>4692.0</td>\n",
       "      <td>A</td>\n",
       "    </tr>\n",
       "    <tr>\n",
       "      <th>1</th>\n",
       "      <td>Medium</td>\n",
       "      <td>yes</td>\n",
       "      <td>CFD09C0248BB417</td>\n",
       "      <td>male</td>\n",
       "      <td>33.458625</td>\n",
       "      <td>1.0</td>\n",
       "      <td>2.0</td>\n",
       "      <td>113781</td>\n",
       "      <td>15155.00</td>\n",
       "      <td>61A</td>\n",
       "      <td>S</td>\n",
       "      <td>1E53D</td>\n",
       "      <td>141.639912</td>\n",
       "      <td>3164.0</td>\n",
       "      <td>A</td>\n",
       "    </tr>\n",
       "    <tr>\n",
       "      <th>2</th>\n",
       "      <td>Medium</td>\n",
       "      <td>no</td>\n",
       "      <td>A2A0DC541977473</td>\n",
       "      <td>female</td>\n",
       "      <td>33.458625</td>\n",
       "      <td>1.0</td>\n",
       "      <td>3.0</td>\n",
       "      <td>113781</td>\n",
       "      <td>15155.00</td>\n",
       "      <td>DB4</td>\n",
       "      <td>S</td>\n",
       "      <td>1.36E+06</td>\n",
       "      <td>154.821130</td>\n",
       "      <td>1852.0</td>\n",
       "      <td>A</td>\n",
       "    </tr>\n",
       "    <tr>\n",
       "      <th>3</th>\n",
       "      <td>Medium</td>\n",
       "      <td>no</td>\n",
       "      <td>9068458EB70D427</td>\n",
       "      <td>male</td>\n",
       "      <td>30.000000</td>\n",
       "      <td>1.0</td>\n",
       "      <td>2.0</td>\n",
       "      <td>113781</td>\n",
       "      <td>15155.00</td>\n",
       "      <td>9B6</td>\n",
       "      <td>S</td>\n",
       "      <td>F6529</td>\n",
       "      <td>106.256196</td>\n",
       "      <td>3753.0</td>\n",
       "      <td>B</td>\n",
       "    </tr>\n",
       "    <tr>\n",
       "      <th>4</th>\n",
       "      <td>Medium</td>\n",
       "      <td>no</td>\n",
       "      <td>46F0CD19CF71429</td>\n",
       "      <td>female</td>\n",
       "      <td>25.000000</td>\n",
       "      <td>1.0</td>\n",
       "      <td>2.0</td>\n",
       "      <td>113781</td>\n",
       "      <td>15155.00</td>\n",
       "      <td>191</td>\n",
       "      <td>S</td>\n",
       "      <td>E2FDF</td>\n",
       "      <td>139.237147</td>\n",
       "      <td>2410.0</td>\n",
       "      <td>A</td>\n",
       "    </tr>\n",
       "  </tbody>\n",
       "</table>\n",
       "</div>"
      ],
      "text/plain": [
       "  offer_class accepted             name  gender        age  phone_calls  \\\n",
       "0      Medium      yes  C7CBB5C5613449B  female  29.000000          0.0   \n",
       "1      Medium      yes  CFD09C0248BB417    male  33.458625          1.0   \n",
       "2      Medium       no  A2A0DC541977473  female  33.458625          1.0   \n",
       "3      Medium       no  9068458EB70D427    male  30.000000          1.0   \n",
       "4      Medium       no  46F0CD19CF71429  female  25.000000          1.0   \n",
       "\n",
       "   emails customer_code    salary offer_code customer_type    number  \\\n",
       "0     0.0         24160  21133.75        4AB             S     9E9FA   \n",
       "1     2.0        113781  15155.00        61A             S     1E53D   \n",
       "2     3.0        113781  15155.00        DB4             S  1.36E+06   \n",
       "3     2.0        113781  15155.00        9B6             S     F6529   \n",
       "4     2.0        113781  15155.00        191             S     E2FDF   \n",
       "\n",
       "   offer_value  estimated_expenses center  \n",
       "0    57.426571              4692.0      A  \n",
       "1   141.639912              3164.0      A  \n",
       "2   154.821130              1852.0      A  \n",
       "3   106.256196              3753.0      B  \n",
       "4   139.237147              2410.0      A  "
      ]
     },
     "execution_count": 51,
     "metadata": {},
     "output_type": "execute_result"
    }
   ],
   "source": [
    "df_1.head()"
   ]
  },
  {
   "cell_type": "code",
   "execution_count": 52,
   "metadata": {},
   "outputs": [],
   "source": [
    "import matplotlib.pyplot as plt\n",
    "import seaborn as sns\n",
    "sns.set()"
   ]
  },
  {
   "cell_type": "code",
   "execution_count": 53,
   "metadata": {},
   "outputs": [],
   "source": [
    "figsize = (6,6)"
   ]
  },
  {
   "cell_type": "code",
   "execution_count": 54,
   "metadata": {},
   "outputs": [
    {
     "data": {
      "image/png": "[encoded data removed]",
      "text/plain": [
       "<Figure size 432x432 with 1 Axes>"
      ]
     },
     "metadata": {
      "needs_background": "light"
     },
     "output_type": "display_data"
    },
    {
     "data": {
      "image/png": "[encoded data removed]",
      "text/plain": [
       "<Figure size 432x432 with 1 Axes>"
      ]
     },
     "metadata": {
      "needs_background": "light"
     },
     "output_type": "display_data"
    },
    {
     "data": {
      "image/png": "[encoded data removed]",
      "text/plain": [
       "<Figure size 432x432 with 1 Axes>"
      ]
     },
     "metadata": {
      "needs_background": "light"
     },
     "output_type": "display_data"
    },
    {
     "data": {
      "image/png": "[encoded data removed]",
      "text/plain": [
       "<Figure size 432x432 with 1 Axes>"
      ]
     },
     "metadata": {
      "needs_background": "light"
     },
     "output_type": "display_data"
    },
    {
     "data": {
      "image/png": "[encoded data removed]",
      "text/plain": [
       "<Figure size 432x432 with 1 Axes>"
      ]
     },
     "metadata": {
      "needs_background": "light"
     },
     "output_type": "display_data"
    },
    {
     "data": {
      "image/png": "[encoded data removed]",
      "text/plain": [
       "<Figure size 432x432 with 1 Axes>"
      ]
     },
     "metadata": {
      "needs_background": "light"
     },
     "output_type": "display_data"
    }
   ],
   "source": [
    "for column in df.columns:\n",
    "    if df[column].dtype != object:\n",
    "        df.boxplot(column=column, figsize=figsize)\n",
    "        plt.show()"
   ]
  },
  {
   "cell_type": "markdown",
   "metadata": {},
   "source": [
    "try 5-6 types of classifiers"
   ]
  },
  {
   "cell_type": "code",
   "execution_count": 55,
   "metadata": {},
   "outputs": [
    {
     "data": {
      "image/png": "[encoded data removed]",
      "text/plain": [
       "<Figure size 432x432 with 1 Axes>"
      ]
     },
     "metadata": {
      "needs_background": "light"
     },
     "output_type": "display_data"
    }
   ],
   "source": [
    "figsize=(6,6)\n",
    "df_1.boxplot(column='phone_calls', figsize=figsize, showmeans=True)\n",
    "plt.show()"
   ]
  },
  {
   "cell_type": "code",
   "execution_count": 56,
   "metadata": {},
   "outputs": [
    {
     "name": "stdout",
     "output_type": "stream",
     "text": [
      "AdaBoostClassifier\n",
      "BaggingClassifier\n",
      "BayesianGaussianMixture\n",
      "BernoulliNB\n",
      "CalibratedClassifierCV\n",
      "ClassifierChain\n",
      "ComplementNB\n",
      "DecisionTreeClassifier\n",
      "DummyClassifier\n",
      "ExtraTreeClassifier\n",
      "ExtraTreesClassifier\n",
      "GaussianMixture\n",
      "GaussianNB\n",
      "GaussianProcessClassifier\n",
      "GradientBoostingClassifier\n",
      "GridSearchCV\n",
      "HistGradientBoostingClassifier\n",
      "KNeighborsClassifier\n",
      "LabelPropagation\n",
      "LabelSpreading\n",
      "LinearDiscriminantAnalysis\n",
      "LogisticRegression\n",
      "LogisticRegressionCV\n",
      "MLPClassifier\n",
      "MultiOutputClassifier\n",
      "MultinomialNB\n",
      "NuSVC\n",
      "OneVsRestClassifier\n",
      "Pipeline\n",
      "QuadraticDiscriminantAnalysis\n",
      "RFE\n",
      "RFECV\n",
      "RandomForestClassifier\n",
      "RandomizedSearchCV\n",
      "SGDClassifier\n",
      "SVC\n",
      "VotingClassifier\n",
      "_BinaryGaussianProcessClassifierLaplace\n",
      "_ConstantPredictor\n"
     ]
    }
   ],
   "source": [
    "from sklearn.utils.testing import all_estimators\n",
    "\n",
    "estimators = all_estimators()\n",
    "\n",
    "for name, class_ in estimators:\n",
    "    if hasattr(class_, 'predict_proba'):\n",
    "        print(name)"
   ]
  },
  {
   "cell_type": "code",
   "execution_count": 57,
   "metadata": {},
   "outputs": [],
   "source": [
    "#gridsearch/randomizedsearch"
   ]
  },
  {
   "cell_type": "code",
   "execution_count": 58,
   "metadata": {},
   "outputs": [],
   "source": [
    "#some method for dimensionality reduction (to be able to provide explanation to bussiness)/ visualization\n",
    "# some way to present feature importance"
   ]
  },
  {
   "cell_type": "code",
   "execution_count": 59,
   "metadata": {},
   "outputs": [],
   "source": [
    "classifiers = {}"
   ]
  },
  {
   "cell_type": "code",
   "execution_count": 60,
   "metadata": {},
   "outputs": [],
   "source": [
    "df_1['accepted'] = df_1['accepted'].map({'no':0,\n",
    "                                         'yes':1})"
   ]
  },
  {
   "cell_type": "code",
   "execution_count": 61,
   "metadata": {},
   "outputs": [],
   "source": [
    "df_1['is_male'] = df_1['gender'] == 'male'"
   ]
  },
  {
   "cell_type": "code",
   "execution_count": 62,
   "metadata": {},
   "outputs": [],
   "source": [
    "df_1.drop(columns=['gender'], inplace=True)"
   ]
  },
  {
   "cell_type": "code",
   "execution_count": 63,
   "metadata": {},
   "outputs": [
    {
     "data": {
      "text/plain": [
       "0    1\n",
       "1    1\n",
       "2    0\n",
       "3    0\n",
       "Name: accepted, dtype: int64"
      ]
     },
     "execution_count": 63,
     "metadata": {},
     "output_type": "execute_result"
    }
   ],
   "source": [
    "df_1['accepted'][:4]"
   ]
  },
  {
   "cell_type": "code",
   "execution_count": 64,
   "metadata": {},
   "outputs": [],
   "source": [
    "from sklearn.preprocessing import StandardScaler, RobustScaler"
   ]
  },
  {
   "cell_type": "code",
   "execution_count": 65,
   "metadata": {},
   "outputs": [
    {
     "data": {
      "text/plain": [
       "array([21133.75, 15155.  , 15155.  , ...,   722.5 ,   722.5 ,   787.5 ])"
      ]
     },
     "execution_count": 65,
     "metadata": {},
     "output_type": "execute_result"
    }
   ],
   "source": [
    "df_1['salary'].to_numpy()"
   ]
  },
  {
   "cell_type": "code",
   "execution_count": 66,
   "metadata": {},
   "outputs": [],
   "source": [
    "transformer = RobustScaler().fit(df_1[['salary']])"
   ]
  },
  {
   "cell_type": "code",
   "execution_count": 67,
   "metadata": {},
   "outputs": [],
   "source": [
    "df_1['salary'] = transformer.transform(df_1[['salary']])"
   ]
  },
  {
   "cell_type": "code",
   "execution_count": 68,
   "metadata": {},
   "outputs": [
    {
     "data": {
      "text/html": [
       "<div>\n",
       "<style scoped>\n",
       "    .dataframe tbody tr th:only-of-type {\n",
       "        vertical-align: middle;\n",
       "    }\n",
       "\n",
       "    .dataframe tbody tr th {\n",
       "        vertical-align: top;\n",
       "    }\n",
       "\n",
       "    .dataframe thead th {\n",
       "        text-align: right;\n",
       "    }\n",
       "</style>\n",
       "<table border=\"1\" class=\"dataframe\">\n",
       "  <thead>\n",
       "    <tr style=\"text-align: right;\">\n",
       "      <th></th>\n",
       "      <th>offer_class</th>\n",
       "      <th>accepted</th>\n",
       "      <th>name</th>\n",
       "      <th>age</th>\n",
       "      <th>phone_calls</th>\n",
       "      <th>emails</th>\n",
       "      <th>customer_code</th>\n",
       "      <th>salary</th>\n",
       "      <th>offer_code</th>\n",
       "      <th>customer_type</th>\n",
       "      <th>number</th>\n",
       "      <th>offer_value</th>\n",
       "      <th>estimated_expenses</th>\n",
       "      <th>center</th>\n",
       "      <th>is_male</th>\n",
       "    </tr>\n",
       "  </thead>\n",
       "  <tbody>\n",
       "    <tr>\n",
       "      <th>0</th>\n",
       "      <td>Medium</td>\n",
       "      <td>1</td>\n",
       "      <td>C7CBB5C5613449B</td>\n",
       "      <td>29.000000</td>\n",
       "      <td>0.0</td>\n",
       "      <td>0.0</td>\n",
       "      <td>24160</td>\n",
       "      <td>8.521537</td>\n",
       "      <td>4AB</td>\n",
       "      <td>S</td>\n",
       "      <td>9E9FA</td>\n",
       "      <td>57.426571</td>\n",
       "      <td>4692.0</td>\n",
       "      <td>A</td>\n",
       "      <td>False</td>\n",
       "    </tr>\n",
       "    <tr>\n",
       "      <th>1</th>\n",
       "      <td>Medium</td>\n",
       "      <td>1</td>\n",
       "      <td>CFD09C0248BB417</td>\n",
       "      <td>33.458625</td>\n",
       "      <td>1.0</td>\n",
       "      <td>2.0</td>\n",
       "      <td>113781</td>\n",
       "      <td>5.933804</td>\n",
       "      <td>61A</td>\n",
       "      <td>S</td>\n",
       "      <td>1E53D</td>\n",
       "      <td>141.639912</td>\n",
       "      <td>3164.0</td>\n",
       "      <td>A</td>\n",
       "      <td>True</td>\n",
       "    </tr>\n",
       "    <tr>\n",
       "      <th>2</th>\n",
       "      <td>Medium</td>\n",
       "      <td>0</td>\n",
       "      <td>A2A0DC541977473</td>\n",
       "      <td>33.458625</td>\n",
       "      <td>1.0</td>\n",
       "      <td>3.0</td>\n",
       "      <td>113781</td>\n",
       "      <td>5.933804</td>\n",
       "      <td>DB4</td>\n",
       "      <td>S</td>\n",
       "      <td>1.36E+06</td>\n",
       "      <td>154.821130</td>\n",
       "      <td>1852.0</td>\n",
       "      <td>A</td>\n",
       "      <td>False</td>\n",
       "    </tr>\n",
       "    <tr>\n",
       "      <th>3</th>\n",
       "      <td>Medium</td>\n",
       "      <td>0</td>\n",
       "      <td>9068458EB70D427</td>\n",
       "      <td>30.000000</td>\n",
       "      <td>1.0</td>\n",
       "      <td>2.0</td>\n",
       "      <td>113781</td>\n",
       "      <td>5.933804</td>\n",
       "      <td>9B6</td>\n",
       "      <td>S</td>\n",
       "      <td>F6529</td>\n",
       "      <td>106.256196</td>\n",
       "      <td>3753.0</td>\n",
       "      <td>B</td>\n",
       "      <td>True</td>\n",
       "    </tr>\n",
       "    <tr>\n",
       "      <th>4</th>\n",
       "      <td>Medium</td>\n",
       "      <td>0</td>\n",
       "      <td>46F0CD19CF71429</td>\n",
       "      <td>25.000000</td>\n",
       "      <td>1.0</td>\n",
       "      <td>2.0</td>\n",
       "      <td>113781</td>\n",
       "      <td>5.933804</td>\n",
       "      <td>191</td>\n",
       "      <td>S</td>\n",
       "      <td>E2FDF</td>\n",
       "      <td>139.237147</td>\n",
       "      <td>2410.0</td>\n",
       "      <td>A</td>\n",
       "      <td>False</td>\n",
       "    </tr>\n",
       "  </tbody>\n",
       "</table>\n",
       "</div>"
      ],
      "text/plain": [
       "  offer_class  accepted             name        age  phone_calls  emails  \\\n",
       "0      Medium         1  C7CBB5C5613449B  29.000000          0.0     0.0   \n",
       "1      Medium         1  CFD09C0248BB417  33.458625          1.0     2.0   \n",
       "2      Medium         0  A2A0DC541977473  33.458625          1.0     3.0   \n",
       "3      Medium         0  9068458EB70D427  30.000000          1.0     2.0   \n",
       "4      Medium         0  46F0CD19CF71429  25.000000          1.0     2.0   \n",
       "\n",
       "  customer_code    salary offer_code customer_type    number  offer_value  \\\n",
       "0         24160  8.521537        4AB             S     9E9FA    57.426571   \n",
       "1        113781  5.933804        61A             S     1E53D   141.639912   \n",
       "2        113781  5.933804        DB4             S  1.36E+06   154.821130   \n",
       "3        113781  5.933804        9B6             S     F6529   106.256196   \n",
       "4        113781  5.933804        191             S     E2FDF   139.237147   \n",
       "\n",
       "   estimated_expenses center  is_male  \n",
       "0              4692.0      A    False  \n",
       "1              3164.0      A     True  \n",
       "2              1852.0      A    False  \n",
       "3              3753.0      B     True  \n",
       "4              2410.0      A    False  "
      ]
     },
     "execution_count": 68,
     "metadata": {},
     "output_type": "execute_result"
    }
   ],
   "source": [
    "df_1.head()"
   ]
  },
  {
   "cell_type": "code",
   "execution_count": 69,
   "metadata": {},
   "outputs": [],
   "source": [
    "target = df_1.loc[:, 'accepted']"
   ]
  },
  {
   "cell_type": "code",
   "execution_count": 70,
   "metadata": {},
   "outputs": [
    {
     "data": {
      "text/plain": [
       "pandas.core.series.Series"
      ]
     },
     "execution_count": 70,
     "metadata": {},
     "output_type": "execute_result"
    }
   ],
   "source": [
    "type(target)"
   ]
  },
  {
   "cell_type": "code",
   "execution_count": 71,
   "metadata": {},
   "outputs": [],
   "source": [
    "predictors = df_1.drop(columns=['accepted'])"
   ]
  },
  {
   "cell_type": "code",
   "execution_count": 72,
   "metadata": {},
   "outputs": [
    {
     "data": {
      "text/html": [
       "<div>\n",
       "<style scoped>\n",
       "    .dataframe tbody tr th:only-of-type {\n",
       "        vertical-align: middle;\n",
       "    }\n",
       "\n",
       "    .dataframe tbody tr th {\n",
       "        vertical-align: top;\n",
       "    }\n",
       "\n",
       "    .dataframe thead th {\n",
       "        text-align: right;\n",
       "    }\n",
       "</style>\n",
       "<table border=\"1\" class=\"dataframe\">\n",
       "  <thead>\n",
       "    <tr style=\"text-align: right;\">\n",
       "      <th></th>\n",
       "      <th>offer_class</th>\n",
       "      <th>name</th>\n",
       "      <th>age</th>\n",
       "      <th>phone_calls</th>\n",
       "      <th>emails</th>\n",
       "      <th>customer_code</th>\n",
       "      <th>salary</th>\n",
       "      <th>offer_code</th>\n",
       "      <th>customer_type</th>\n",
       "      <th>number</th>\n",
       "      <th>offer_value</th>\n",
       "      <th>estimated_expenses</th>\n",
       "      <th>center</th>\n",
       "      <th>is_male</th>\n",
       "    </tr>\n",
       "  </thead>\n",
       "  <tbody>\n",
       "    <tr>\n",
       "      <th>0</th>\n",
       "      <td>Medium</td>\n",
       "      <td>C7CBB5C5613449B</td>\n",
       "      <td>29.000000</td>\n",
       "      <td>0.0</td>\n",
       "      <td>0.0</td>\n",
       "      <td>24160</td>\n",
       "      <td>8.521537</td>\n",
       "      <td>4AB</td>\n",
       "      <td>S</td>\n",
       "      <td>9E9FA</td>\n",
       "      <td>57.426571</td>\n",
       "      <td>4692.0</td>\n",
       "      <td>A</td>\n",
       "      <td>False</td>\n",
       "    </tr>\n",
       "    <tr>\n",
       "      <th>1</th>\n",
       "      <td>Medium</td>\n",
       "      <td>CFD09C0248BB417</td>\n",
       "      <td>33.458625</td>\n",
       "      <td>1.0</td>\n",
       "      <td>2.0</td>\n",
       "      <td>113781</td>\n",
       "      <td>5.933804</td>\n",
       "      <td>61A</td>\n",
       "      <td>S</td>\n",
       "      <td>1E53D</td>\n",
       "      <td>141.639912</td>\n",
       "      <td>3164.0</td>\n",
       "      <td>A</td>\n",
       "      <td>True</td>\n",
       "    </tr>\n",
       "    <tr>\n",
       "      <th>2</th>\n",
       "      <td>Medium</td>\n",
       "      <td>A2A0DC541977473</td>\n",
       "      <td>33.458625</td>\n",
       "      <td>1.0</td>\n",
       "      <td>3.0</td>\n",
       "      <td>113781</td>\n",
       "      <td>5.933804</td>\n",
       "      <td>DB4</td>\n",
       "      <td>S</td>\n",
       "      <td>1.36E+06</td>\n",
       "      <td>154.821130</td>\n",
       "      <td>1852.0</td>\n",
       "      <td>A</td>\n",
       "      <td>False</td>\n",
       "    </tr>\n",
       "    <tr>\n",
       "      <th>3</th>\n",
       "      <td>Medium</td>\n",
       "      <td>9068458EB70D427</td>\n",
       "      <td>30.000000</td>\n",
       "      <td>1.0</td>\n",
       "      <td>2.0</td>\n",
       "      <td>113781</td>\n",
       "      <td>5.933804</td>\n",
       "      <td>9B6</td>\n",
       "      <td>S</td>\n",
       "      <td>F6529</td>\n",
       "      <td>106.256196</td>\n",
       "      <td>3753.0</td>\n",
       "      <td>B</td>\n",
       "      <td>True</td>\n",
       "    </tr>\n",
       "    <tr>\n",
       "      <th>4</th>\n",
       "      <td>Medium</td>\n",
       "      <td>46F0CD19CF71429</td>\n",
       "      <td>25.000000</td>\n",
       "      <td>1.0</td>\n",
       "      <td>2.0</td>\n",
       "      <td>113781</td>\n",
       "      <td>5.933804</td>\n",
       "      <td>191</td>\n",
       "      <td>S</td>\n",
       "      <td>E2FDF</td>\n",
       "      <td>139.237147</td>\n",
       "      <td>2410.0</td>\n",
       "      <td>A</td>\n",
       "      <td>False</td>\n",
       "    </tr>\n",
       "  </tbody>\n",
       "</table>\n",
       "</div>"
      ],
      "text/plain": [
       "  offer_class             name        age  phone_calls  emails customer_code  \\\n",
       "0      Medium  C7CBB5C5613449B  29.000000          0.0     0.0         24160   \n",
       "1      Medium  CFD09C0248BB417  33.458625          1.0     2.0        113781   \n",
       "2      Medium  A2A0DC541977473  33.458625          1.0     3.0        113781   \n",
       "3      Medium  9068458EB70D427  30.000000          1.0     2.0        113781   \n",
       "4      Medium  46F0CD19CF71429  25.000000          1.0     2.0        113781   \n",
       "\n",
       "     salary offer_code customer_type    number  offer_value  \\\n",
       "0  8.521537        4AB             S     9E9FA    57.426571   \n",
       "1  5.933804        61A             S     1E53D   141.639912   \n",
       "2  5.933804        DB4             S  1.36E+06   154.821130   \n",
       "3  5.933804        9B6             S     F6529   106.256196   \n",
       "4  5.933804        191             S     E2FDF   139.237147   \n",
       "\n",
       "   estimated_expenses center  is_male  \n",
       "0              4692.0      A    False  \n",
       "1              3164.0      A     True  \n",
       "2              1852.0      A    False  \n",
       "3              3753.0      B     True  \n",
       "4              2410.0      A    False  "
      ]
     },
     "execution_count": 72,
     "metadata": {},
     "output_type": "execute_result"
    }
   ],
   "source": [
    "predictors.head()"
   ]
  },
  {
   "cell_type": "code",
   "execution_count": 73,
   "metadata": {},
   "outputs": [
    {
     "data": {
      "text/plain": [
       "0    1\n",
       "1    1\n",
       "2    0\n",
       "3    0\n",
       "4    0\n",
       "Name: accepted, dtype: int64"
      ]
     },
     "execution_count": 73,
     "metadata": {},
     "output_type": "execute_result"
    }
   ],
   "source": [
    "target.head()"
   ]
  },
  {
   "cell_type": "code",
   "execution_count": null,
   "metadata": {},
   "outputs": [],
   "source": []
  },
  {
   "cell_type": "code",
   "execution_count": 74,
   "metadata": {},
   "outputs": [],
   "source": [
    "from sklearn.linear_model import LogisticRegression"
   ]
  },
  {
   "cell_type": "code",
   "execution_count": 75,
   "metadata": {},
   "outputs": [],
   "source": [
    "from sklearn.neighbors import KNeighborsClassifier"
   ]
  },
  {
   "cell_type": "code",
   "execution_count": 76,
   "metadata": {},
   "outputs": [],
   "source": [
    "from sklearn.model_selection import train_test_split"
   ]
  },
  {
   "cell_type": "code",
   "execution_count": 77,
   "metadata": {},
   "outputs": [],
   "source": [
    "# from sklearn.preprocessing import "
   ]
  },
  {
   "cell_type": "code",
   "execution_count": 78,
   "metadata": {},
   "outputs": [],
   "source": [
    "from sklearn.model_selection import GridSearchCV"
   ]
  },
  {
   "cell_type": "code",
   "execution_count": 79,
   "metadata": {},
   "outputs": [],
   "source": [
    "from sklearn.metrics import accuracy_score, confusion_matrix # we want to maximize recall <- because i want to maximize amount of people who accepted my offer"
   ]
  },
  {
   "cell_type": "code",
   "execution_count": 80,
   "metadata": {},
   "outputs": [],
   "source": [
    "predictors_train, predictors_test, target_train, target_test = train_test_split(predictors, target, test_size=0.3, random_state=42)"
   ]
  },
  {
   "cell_type": "code",
   "execution_count": 81,
   "metadata": {},
   "outputs": [
    {
     "data": {
      "text/plain": [
       "0.37730870712401055"
      ]
     },
     "execution_count": 81,
     "metadata": {},
     "output_type": "execute_result"
    }
   ],
   "source": [
    "np.sum(target_test[target_test == 1])/target_test.shape[0]"
   ]
  },
  {
   "cell_type": "code",
   "execution_count": 82,
   "metadata": {},
   "outputs": [
    {
     "data": {
      "text/plain": [
       "0.3786848072562358"
      ]
     },
     "execution_count": 82,
     "metadata": {},
     "output_type": "execute_result"
    }
   ],
   "source": [
    "np.sum(target_train[target_train == 1])/target_train.shape[0]"
   ]
  },
  {
   "cell_type": "code",
   "execution_count": 83,
   "metadata": {},
   "outputs": [],
   "source": [
    "from sklearn.pipeline import Pipeline, make_pipeline, make_union # check "
   ]
  },
  {
   "cell_type": "code",
   "execution_count": 84,
   "metadata": {},
   "outputs": [],
   "source": [
    "logistic_regression_clf = LogisticRegression(penalty='l1', class_weight={\n",
    "    0:0.63, 1:0.37}) #grid search on class weight"
   ]
  },
  {
   "cell_type": "code",
   "execution_count": 85,
   "metadata": {},
   "outputs": [
    {
     "ename": "ValueError",
     "evalue": "could not convert string to float: 'A'",
     "output_type": "error",
     "traceback": [
      "\u001b[0;31m---------------------------------------------------------------------------\u001b[0m",
      "\u001b[0;31mValueError\u001b[0m                                Traceback (most recent call last)",
      "\u001b[0;32m<ipython-input-85-d5a72646eb17>\u001b[0m in \u001b[0;36m<module>\u001b[0;34m\u001b[0m\n\u001b[0;32m----> 1\u001b[0;31m \u001b[0mlogistic_regression_clf\u001b[0m\u001b[0;34m.\u001b[0m\u001b[0mfit\u001b[0m\u001b[0;34m(\u001b[0m\u001b[0mpredictors_train\u001b[0m\u001b[0;34m,\u001b[0m \u001b[0mtarget_train\u001b[0m\u001b[0;34m)\u001b[0m\u001b[0;34m\u001b[0m\u001b[0;34m\u001b[0m\u001b[0m\n\u001b[0m",
      "\u001b[0;32m~/anaconda3/envs/new_offer_predictor/lib/python3.6/site-packages/sklearn/linear_model/logistic.py\u001b[0m in \u001b[0;36mfit\u001b[0;34m(self, X, y, sample_weight)\u001b[0m\n\u001b[1;32m   1530\u001b[0m \u001b[0;34m\u001b[0m\u001b[0m\n\u001b[1;32m   1531\u001b[0m         X, y = check_X_y(X, y, accept_sparse='csr', dtype=_dtype, order=\"C\",\n\u001b[0;32m-> 1532\u001b[0;31m                          accept_large_sparse=solver != 'liblinear')\n\u001b[0m\u001b[1;32m   1533\u001b[0m         \u001b[0mcheck_classification_targets\u001b[0m\u001b[0;34m(\u001b[0m\u001b[0my\u001b[0m\u001b[0;34m)\u001b[0m\u001b[0;34m\u001b[0m\u001b[0;34m\u001b[0m\u001b[0m\n\u001b[1;32m   1534\u001b[0m         \u001b[0mself\u001b[0m\u001b[0;34m.\u001b[0m\u001b[0mclasses_\u001b[0m \u001b[0;34m=\u001b[0m \u001b[0mnp\u001b[0m\u001b[0;34m.\u001b[0m\u001b[0munique\u001b[0m\u001b[0;34m(\u001b[0m\u001b[0my\u001b[0m\u001b[0;34m)\u001b[0m\u001b[0;34m\u001b[0m\u001b[0;34m\u001b[0m\u001b[0m\n",
      "\u001b[0;32m~/anaconda3/envs/new_offer_predictor/lib/python3.6/site-packages/sklearn/utils/validation.py\u001b[0m in \u001b[0;36mcheck_X_y\u001b[0;34m(X, y, accept_sparse, accept_large_sparse, dtype, order, copy, force_all_finite, ensure_2d, allow_nd, multi_output, ensure_min_samples, ensure_min_features, y_numeric, warn_on_dtype, estimator)\u001b[0m\n\u001b[1;32m    717\u001b[0m                     \u001b[0mensure_min_features\u001b[0m\u001b[0;34m=\u001b[0m\u001b[0mensure_min_features\u001b[0m\u001b[0;34m,\u001b[0m\u001b[0;34m\u001b[0m\u001b[0;34m\u001b[0m\u001b[0m\n\u001b[1;32m    718\u001b[0m                     \u001b[0mwarn_on_dtype\u001b[0m\u001b[0;34m=\u001b[0m\u001b[0mwarn_on_dtype\u001b[0m\u001b[0;34m,\u001b[0m\u001b[0;34m\u001b[0m\u001b[0;34m\u001b[0m\u001b[0m\n\u001b[0;32m--> 719\u001b[0;31m                     estimator=estimator)\n\u001b[0m\u001b[1;32m    720\u001b[0m     \u001b[0;32mif\u001b[0m \u001b[0mmulti_output\u001b[0m\u001b[0;34m:\u001b[0m\u001b[0;34m\u001b[0m\u001b[0;34m\u001b[0m\u001b[0m\n\u001b[1;32m    721\u001b[0m         y = check_array(y, 'csr', force_all_finite=True, ensure_2d=False,\n",
      "\u001b[0;32m~/anaconda3/envs/new_offer_predictor/lib/python3.6/site-packages/sklearn/utils/validation.py\u001b[0m in \u001b[0;36mcheck_array\u001b[0;34m(array, accept_sparse, accept_large_sparse, dtype, order, copy, force_all_finite, ensure_2d, allow_nd, ensure_min_samples, ensure_min_features, warn_on_dtype, estimator)\u001b[0m\n\u001b[1;32m    494\u001b[0m             \u001b[0;32mtry\u001b[0m\u001b[0;34m:\u001b[0m\u001b[0;34m\u001b[0m\u001b[0;34m\u001b[0m\u001b[0m\n\u001b[1;32m    495\u001b[0m                 \u001b[0mwarnings\u001b[0m\u001b[0;34m.\u001b[0m\u001b[0msimplefilter\u001b[0m\u001b[0;34m(\u001b[0m\u001b[0;34m'error'\u001b[0m\u001b[0;34m,\u001b[0m \u001b[0mComplexWarning\u001b[0m\u001b[0;34m)\u001b[0m\u001b[0;34m\u001b[0m\u001b[0;34m\u001b[0m\u001b[0m\n\u001b[0;32m--> 496\u001b[0;31m                 \u001b[0marray\u001b[0m \u001b[0;34m=\u001b[0m \u001b[0mnp\u001b[0m\u001b[0;34m.\u001b[0m\u001b[0masarray\u001b[0m\u001b[0;34m(\u001b[0m\u001b[0marray\u001b[0m\u001b[0;34m,\u001b[0m \u001b[0mdtype\u001b[0m\u001b[0;34m=\u001b[0m\u001b[0mdtype\u001b[0m\u001b[0;34m,\u001b[0m \u001b[0morder\u001b[0m\u001b[0;34m=\u001b[0m\u001b[0morder\u001b[0m\u001b[0;34m)\u001b[0m\u001b[0;34m\u001b[0m\u001b[0;34m\u001b[0m\u001b[0m\n\u001b[0m\u001b[1;32m    497\u001b[0m             \u001b[0;32mexcept\u001b[0m \u001b[0mComplexWarning\u001b[0m\u001b[0;34m:\u001b[0m\u001b[0;34m\u001b[0m\u001b[0;34m\u001b[0m\u001b[0m\n\u001b[1;32m    498\u001b[0m                 raise ValueError(\"Complex data not supported\\n\"\n",
      "\u001b[0;32m~/anaconda3/envs/new_offer_predictor/lib/python3.6/site-packages/numpy/core/_asarray.py\u001b[0m in \u001b[0;36masarray\u001b[0;34m(a, dtype, order)\u001b[0m\n\u001b[1;32m     83\u001b[0m \u001b[0;34m\u001b[0m\u001b[0m\n\u001b[1;32m     84\u001b[0m     \"\"\"\n\u001b[0;32m---> 85\u001b[0;31m     \u001b[0;32mreturn\u001b[0m \u001b[0marray\u001b[0m\u001b[0;34m(\u001b[0m\u001b[0ma\u001b[0m\u001b[0;34m,\u001b[0m \u001b[0mdtype\u001b[0m\u001b[0;34m,\u001b[0m \u001b[0mcopy\u001b[0m\u001b[0;34m=\u001b[0m\u001b[0;32mFalse\u001b[0m\u001b[0;34m,\u001b[0m \u001b[0morder\u001b[0m\u001b[0;34m=\u001b[0m\u001b[0morder\u001b[0m\u001b[0;34m)\u001b[0m\u001b[0;34m\u001b[0m\u001b[0;34m\u001b[0m\u001b[0m\n\u001b[0m\u001b[1;32m     86\u001b[0m \u001b[0;34m\u001b[0m\u001b[0m\n\u001b[1;32m     87\u001b[0m \u001b[0;34m\u001b[0m\u001b[0m\n",
      "\u001b[0;31mValueError\u001b[0m: could not convert string to float: 'A'"
     ]
    }
   ],
   "source": [
    "logistic_regression_clf.fit(predictors_train, target_train)"
   ]
  },
  {
   "cell_type": "code",
   "execution_count": null,
   "metadata": {},
   "outputs": [],
   "source": [
    "target_predicted = logistic_regression_clf.predict(predictors_test)"
   ]
  },
  {
   "cell_type": "code",
   "execution_count": null,
   "metadata": {},
   "outputs": [],
   "source": [
    "accuracy = accuracy_score(target_test, target_predicted)"
   ]
  },
  {
   "cell_type": "code",
   "execution_count": null,
   "metadata": {},
   "outputs": [],
   "source": [
    "print(accuracy)"
   ]
  },
  {
   "cell_type": "code",
   "execution_count": null,
   "metadata": {},
   "outputs": [],
   "source": [
    "confusion_logr = confusion_matrix(target_test, target_predicted)"
   ]
  },
  {
   "cell_type": "code",
   "execution_count": null,
   "metadata": {},
   "outputs": [],
   "source": [
    "print(confusion_logr)"
   ]
  },
  {
   "cell_type": "code",
   "execution_count": null,
   "metadata": {},
   "outputs": [],
   "source": [
    "recall = confusion_logr[1,1]/(confusion_logr[1,0]+confusion_logr[1,1])"
   ]
  },
  {
   "cell_type": "code",
   "execution_count": null,
   "metadata": {},
   "outputs": [],
   "source": [
    "print(recall)"
   ]
  },
  {
   "cell_type": "code",
   "execution_count": null,
   "metadata": {},
   "outputs": [],
   "source": [
    "from sklearn.ensemble import RandomForestClassifier"
   ]
  },
  {
   "cell_type": "code",
   "execution_count": null,
   "metadata": {},
   "outputs": [],
   "source": [
    "random_forest_clf = RandomForestClassifier()"
   ]
  },
  {
   "cell_type": "code",
   "execution_count": null,
   "metadata": {},
   "outputs": [],
   "source": [
    "random_forest_clf.fit(predictors_train, target_train)"
   ]
  },
  {
   "cell_type": "code",
   "execution_count": null,
   "metadata": {},
   "outputs": [],
   "source": [
    "target_predicted = random_forest_clf.predict(predictors_test)"
   ]
  },
  {
   "cell_type": "code",
   "execution_count": null,
   "metadata": {},
   "outputs": [],
   "source": [
    "accuracy = accuracy_score(target_test, target_predicted)"
   ]
  },
  {
   "cell_type": "code",
   "execution_count": null,
   "metadata": {},
   "outputs": [],
   "source": [
    "print(accuracy)"
   ]
  },
  {
   "cell_type": "code",
   "execution_count": null,
   "metadata": {},
   "outputs": [],
   "source": [
    "confusion_rf = confusion_matrix(target_test, target_predicted)"
   ]
  },
  {
   "cell_type": "code",
   "execution_count": null,
   "metadata": {},
   "outputs": [],
   "source": [
    "print(confusion_rf)"
   ]
  },
  {
   "cell_type": "code",
   "execution_count": null,
   "metadata": {},
   "outputs": [],
   "source": [
    "nearest_neighbors_clf = KNeighborsClassifier(n_neighbors=18)"
   ]
  },
  {
   "cell_type": "code",
   "execution_count": null,
   "metadata": {},
   "outputs": [],
   "source": [
    "nearest_neighbors_clf.fit(predictors_train, target_train)"
   ]
  },
  {
   "cell_type": "code",
   "execution_count": null,
   "metadata": {},
   "outputs": [],
   "source": [
    "target_predicted = nearest_neighbors_clf.predict(predictors_test)"
   ]
  },
  {
   "cell_type": "code",
   "execution_count": null,
   "metadata": {},
   "outputs": [],
   "source": [
    "print(confusion_matrix(target_test, target_predicted))"
   ]
  },
  {
   "cell_type": "code",
   "execution_count": null,
   "metadata": {},
   "outputs": [],
   "source": [
    "print(accuracy_score(target_test, target_predicted))"
   ]
  },
  {
   "cell_type": "code",
   "execution_count": null,
   "metadata": {},
   "outputs": [],
   "source": []
  }
 ],
 "metadata": {
  "kernelspec": {
   "display_name": "Python 3",
   "language": "python",
   "name": "python3"
  },
  "language_info": {
   "codemirror_mode": {
    "name": "ipython",
    "version": 3
   },
   "file_extension": ".py",
   "mimetype": "text/x-python",
   "name": "python",
   "nbconvert_exporter": "python",
   "pygments_lexer": "ipython3",
   "version": "3.6.9"
  }
 },
 "nbformat": 4,
 "nbformat_minor": 4
}
